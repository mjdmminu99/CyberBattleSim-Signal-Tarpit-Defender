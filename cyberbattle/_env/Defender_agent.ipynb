{
 "cells": [
  {
   "cell_type": "markdown",
   "id": "c610ccf5-471a-40fe-b7c0-3ee69e5a6d06",
   "metadata": {
    "jp-MarkdownHeadingCollapsed": true
   },
   "source": [
    "# Imports"
   ]
  },
  {
   "cell_type": "code",
   "execution_count": 1,
   "id": "82c22eb5-2477-4766-8de0-7de61edd2058",
   "metadata": {},
   "outputs": [],
   "source": [
    "%load_ext autoreload\n",
    "%autoreload 2\n",
    "%matplotlib inline\n",
    "    \n",
    "import sys\n",
    "sys.path.append('/home/minu/CyberBattleSim')\n",
    "import os\n",
    "import logging\n",
    "import gymnasium as gym\n",
    "from typing import cast, Any, Tuple, NamedTuple\n",
    "import matplotlib.pyplot as plt\n",
    "import numpy\n",
    "import random\n",
    "\n",
    "\n",
    "#Defender Agent\n",
    "from cyberbattle._env.defender import DefenderAgent, ExternalRandomEvents\n",
    "from cyberbattle.simulation.actions import DefenderAgentActions\n",
    "\n",
    "#Environments\n",
    "from cyberbattle.simulation.model import Environment\n",
    "from cyberbattle._env.cyberbattle_toyctf import CyberBattleToyCtf\n",
    "from cyberbattle._env.cyberbattle_chain import CyberBattleChain\n",
    "from cyberbattle.simulation import model\n",
    "from cyberbattle._env.cyberbattle_env import CyberBattleEnv\n",
    "\n",
    "#DQL-Algorithm\n",
    "import cyberbattle.agents.baseline.learner as learner\n",
    "import cyberbattle.agents.baseline.plotting as p\n",
    "import cyberbattle.agents.baseline.agent_wrapper as w\n",
    "import cyberbattle.agents.baseline.agent_randomcredlookup as rca\n",
    "import cyberbattle.agents.baseline.agent_tabularqlearning as tqa\n",
    "import cyberbattle.agents.baseline.agent_dql as dqla\n",
    "from cyberbattle.agents.baseline.agent_wrapper import Verbosity\n",
    "\n",
    "\n",
    "logging.basicConfig(stream=sys.stdout, level=logging.INFO, format=\"%(levelname)s: %(message)s\")\n",
    "\n",
    "ADMINTAG = model.AdminEscalation().tag\n",
    "SYSTEMTAG = model.SystemEscalation().tag"
   ]
  },
  {
   "cell_type": "markdown",
   "id": "f5c01254-af75-4bab-9ed2-7cd0f6fdf855",
   "metadata": {},
   "source": [
    "# Tarpit Defender Agent"
   ]
  },
  {
   "cell_type": "code",
   "execution_count": 2,
   "id": "c09754be-05ad-4bf2-8082-519d082762b0",
   "metadata": {},
   "outputs": [],
   "source": [
    "class TarpitAgent(DefenderAgent):\n",
    "     \n",
    "    def __init__(self,limit):\n",
    "        self.deployed_tarpits = 0\n",
    "        self.limit = limit\n",
    "        self.deployed_tarpits_history = []\n",
    "\n",
    "    #Defender step function : turn of the defender\n",
    "    def step(self, environment: Environment, actions: DefenderAgentActions, t: int):\n",
    "        compromised_nodes = [node_id for node_id, node_info in environment.nodes() if node_info.agent_installed]\n",
    "        if self.deployed_tarpits < self.limit:\n",
    "            for node in compromised_nodes:\n",
    "                self.deploy_tarpit(environment, node)\n",
    "\n",
    "    def deploy_tarpit(self, environment: Environment, node: str):\n",
    "        tarpit_node = f\"Tarpit_{node}\"\n",
    "\n",
    "        if tarpit_node not in environment.network.nodes:\n",
    "            vuln_id = f\"FAKE_TARPIT_{random.randint(1000, 9999)}\"\n",
    "\n",
    "            fake_vuln = model.VulnerabilityInfo(\n",
    "                description=\"fake local vuln\",\n",
    "                type=model.VulnerabilityType.LOCAL,\n",
    "                outcome=model.VulnerabilityOutcome(),\n",
    "                reward_string=\"You triggered a trap!\",\n",
    "                cost=1.0\n",
    "            )\n",
    "            \n",
    "            environment.network.add_node(tarpit_node, data=model.NodeInfo(\n",
    "                services=[\n",
    "                    model.ListeningService(name=\"SSH\", allowedCredentials=[])\n",
    "                ],\n",
    "                value=50.0,  # Medium value to attract attacker\n",
    "                properties=[\"Windows\", \"HoneyService\"],\n",
    "                firewall=model.FirewallConfiguration(\n",
    "                    incoming=[model.FirewallRule(\"SSH\", model.RulePermission.ALLOW)],\n",
    "                    outgoing=[]\n",
    "                ),\n",
    "                vulnerabilities={\n",
    "                    vuln_id: fake_vuln \n",
    "                }\n",
    "            ))\n",
    "            for node_id, node_info in environment.nodes():\n",
    "                if node_info.agent_installed:\n",
    "                    environment.network.add_edge(node_id, tarpit_node)\n",
    "                    #print(f\"Tarpit '{tarpit_node}' edges:\", list(environment.network.edges(tarpit_node)))\n",
    "                    #print(f\"[AgentNode] {node_id} connects to:\", list(environment.network.edges(node_id)))\n",
    "\n",
    "            self.deployed_tarpits += 1\n",
    "            self.deployed_tarpits_history.append(tarpit_node)\n",
    "            print(f\"[TarpitAgent] Deployed tarpit '{tarpit_node}' connected to '{node}'\")\n",
    "\n",
    "class TarpitPenaltyWrapper(gym.Wrapper):\n",
    "    def __init__(self, env, defender_agent, penalty=-10,):\n",
    "        super().__init__(env)\n",
    "        self.defender_agent = defender_agent\n",
    "        self.penalty = penalty\n",
    "        self.total_penalties =0\n",
    "        self.penalized_nodes={}\n",
    "\n",
    "    def get_target_node_name_from_action(self,action, env):\n",
    "        # Build node index-to-name mapping\n",
    "        node_list = list(env.network.nodes)\n",
    "        \n",
    "        # Check known action types that involve a target node\n",
    "        if 'remote_vulnerability' in action:\n",
    "            target_index = action['remote_vulnerability'][1]\n",
    "        elif 'local_vulnerability' in action:\n",
    "            target_index = action['local_vulnerability'][0]\n",
    "        elif 'connect' in action:\n",
    "            target_index = action['connect'][1]\n",
    "        elif 'probe' in action:\n",
    "            target_index = action['probe'][0]\n",
    "        elif 'privilege_escalation' in action:\n",
    "            target_index = action['privilege_escalation'][0]\n",
    "        else:\n",
    "            return None  # Unknown or unsupported action type\n",
    "    \n",
    "        # Handle out-of-range safely\n",
    "        if target_index >= len(node_list):\n",
    "            return None\n",
    "\n",
    "        return node_list[target_index]\n",
    "    def reset(self, **kwargs) -> Any:\n",
    "        \n",
    "        print(\"Total Applied Penalties:\",self.total_penalties)\n",
    "        self.total_penalties = 0\n",
    "        self.defender_agent.deployed_tarpits = 0\n",
    "        self.prev_discoveries=set()\n",
    "        self.penalized_nodes={}\n",
    "        \n",
    "        observation = self.env.reset(**kwargs)\n",
    "        return observation\n",
    "\n",
    "    def step(self, action):\n",
    "        obs, reward, done, truncated, info = self.env.step(action)\n",
    "\n",
    "        # Make node visible for the attacker\n",
    "        while self.defender_agent.deployed_tarpits_history:\n",
    "            item = self.defender_agent.deployed_tarpits_history.pop(0) \n",
    "            success = self.env.set_node_discovered(node_id = item)\n",
    "\n",
    "        # Check if the attacker interacted with a tarpit\n",
    "        attacked_node = self.get_target_node_name_from_action(action,self.env.environment)\n",
    "        if attacked_node and attacked_node.startswith(\"Tarpit\"):\n",
    "            if attacked_node in self.penalized_nodes:\n",
    "                self.penalized_nodes[attacked_node] += 1\n",
    "            else:\n",
    "                self.penalized_nodes[attacked_node] = 1\n",
    "            if self.penalized_nodes[attacked_node] <= 5:\n",
    "                print(\"________________________________________\")\n",
    "                print(f\"!!!Interacted with Node: {attacked_node}\")\n",
    "                print(\"________________________________________\")\n",
    "                reward += self.penalty\n",
    "                self.total_penalties +=1\n",
    "\n",
    "        return obs, reward, done, truncated, info"
   ]
  },
  {
   "cell_type": "markdown",
   "id": "e956ab7c-7199-4971-a61e-572c5a4c2f22",
   "metadata": {},
   "source": [
    "# Signaling Defender Agent"
   ]
  },
  {
   "cell_type": "code",
   "execution_count": 3,
   "id": "cac5c5e2-4e37-4f4d-b9ea-db14818a6bf2",
   "metadata": {},
   "outputs": [],
   "source": [
    "fake_vulnerabilities= {\n",
    "    \"fake1\": model.VulnerabilityInfo(\n",
    "        description=\"Fake Signaled Vulnerability #1\",\n",
    "        type=model.VulnerabilityType.REMOTE,\n",
    "        outcome=model.ExploitFailed(),\n",
    "        reward_string=\"Penalty Applied: Exploited fake vulnerability #1\",\n",
    "        cost=1.0,\n",
    "        rates=model.Rates(0, 1.0, 1.0),\n",
    "    ),\n",
    "        \"fake2\": model.VulnerabilityInfo(\n",
    "        description=\"Fake Signaled Vulnerability #2.\",\n",
    "        type=model.VulnerabilityType.REMOTE,\n",
    "        outcome=model.ExploitFailed(),\n",
    "        reward_string=\"Penalty Applied: Exploited fake vulnerability #2\",\n",
    "        cost=1.0,\n",
    "        rates=model.Rates(0, 1.0, 1.0),\n",
    "    ),\n",
    "    \"fake3\": model.VulnerabilityInfo(\n",
    "        description=\"Fake Signaled Vulnerability #3\",\n",
    "        type=model.VulnerabilityType.REMOTE,\n",
    "        outcome=model.ExploitFailed(),\n",
    "        reward_string=\"Penalty Applied: Exploited fake vulnerability #3\",\n",
    "        cost=1.0,\n",
    "        rates=model.Rates(0, 0.6, 1.0),\n",
    "    ),\n",
    "    \"fake4\": model.VulnerabilityInfo(\n",
    "        description=\"Fake Signaled Vulnerability #4\",\n",
    "        type=model.VulnerabilityType.REMOTE,\n",
    "        outcome=model.ExploitFailed(),\n",
    "        reward_string=\"Penalty Applied: Exploited fake vulnerability #4\",\n",
    "        cost=1.0,\n",
    "        rates=model.Rates(0, 0.2, 1.0),\n",
    "    ),\n",
    "    \"fake5\": model.VulnerabilityInfo(\n",
    "        description=\"Fake Signaled Vulnerability #5\",\n",
    "        type=model.VulnerabilityType.REMOTE,\n",
    "        outcome=model.ExploitFailed(),\n",
    "        reward_string=\"Penalty Applied: Exploited fake vulnerability #5\",\n",
    "        cost=1.0,\n",
    "        rates=model.Rates(0, 0.2, 1.0),\n",
    "    ),\n",
    "    \"fake6\": model.VulnerabilityInfo(\n",
    "        description=\"Fake Signaled Vulnerability #6\",\n",
    "        type=model.VulnerabilityType.REMOTE,\n",
    "        outcome=model.ExploitFailed(),\n",
    "        reward_string=\"Penalty Applied: Exploited fake vulnerability #6\",\n",
    "        cost=1.0,\n",
    "        rates=model.Rates(0, 0.2, 1.0),\n",
    "    ),\n",
    "    \"fake7\": model.VulnerabilityInfo(\n",
    "        description=\"Fake Signaled Vulnerability #7\",\n",
    "        type=model.VulnerabilityType.REMOTE,\n",
    "        outcome=model.ExploitFailed(),\n",
    "        reward_string=\"Penalty Applied: Exploited fake vulnerability #7\",\n",
    "        cost=1.0,\n",
    "        rates=model.Rates(0, 0.2, 1.0),\n",
    "    ),\n",
    "    \"fake8\": model.VulnerabilityInfo(\n",
    "        description=\"Fake Signaled Vulnerability #8\",\n",
    "        type=model.VulnerabilityType.REMOTE,\n",
    "        outcome=model.ExploitFailed(),\n",
    "        reward_string=\"Penalty Applied: Exploited fake vulnerability #8\",\n",
    "        cost=1.0,\n",
    "        rates=model.Rates(0, 0.2, 1.0),\n",
    "    ),\n",
    "    \"fake9\": model.VulnerabilityInfo(\n",
    "        description=\"Fake Signaled Vulnerability #9\",\n",
    "        type=model.VulnerabilityType.REMOTE,\n",
    "        outcome=model.ExploitFailed(),\n",
    "        reward_string=\"Penalty Applied: Exploited fake vulnerability #9\",\n",
    "        cost=1.0,\n",
    "        rates=model.Rates(0, 0.2, 1.0),\n",
    "    )\n",
    "}\n",
    "class SignalingAgent(DefenderAgent):\n",
    "    def __init__(self,fake_signals = 0):\n",
    "        self.fake_signals = fake_signals\n",
    "        self.deployed_signals = 0\n",
    "\n",
    "    #Defender step function : turn of the defender move\n",
    "    def step(self, environment: Environment, actions: DefenderAgentActions, discovered_node):\n",
    "         if not discovered_node:\n",
    "             return\n",
    "         self.deploy_fake_vulnerabilities(environment,discovered_node)\n",
    "\n",
    "    #Deploy fake vulnerabilites that cant be exploited to confuse the attacker\n",
    "    def deploy_fake_vulnerabilities(self, environment: Environment, discovered_node) -> None:\n",
    "        if self.fake_signals == self.deployed_signals:\n",
    "            return\n",
    "        for node_id, node_data in environment.nodes():\n",
    "            if node_id in discovered_node and node_id != \"client\":\n",
    "                key, value = list(fake_vulnerabilities.items())[self.deployed_signals]\n",
    "                node_data.vulnerabilities[key]=value\n",
    "                \n",
    "                second_signal = self.deployed_signals+1\n",
    "                if second_signal > 5:\n",
    "                    second_signal = 0\n",
    "                key, value = list(fake_vulnerabilities.items())[second_signal]\n",
    "                node_data.vulnerabilities[key]=value\n",
    "                \n",
    "                self.deployed_signals += 1\n",
    "                print(\"Fake Signal Deployed:\",node_id)\n",
    "                \n",
    "\n",
    "    def is_fake_vuln_action(self, action, state) -> bool:\n",
    "        used_action = action.get('remote_vulnerability', [])\n",
    "        if len(used_action) != 0:\n",
    "            vuln_name = state.identifiers.remote_vulnerabilities[used_action[2]]\n",
    "            if(vuln_name.startswith(\"fake\")):\n",
    "                return True\n",
    "        return False\n",
    "\n",
    "class SignalingWrapper(gym.Wrapper):\n",
    "    def __init__(self, env: gym.Env, defender_agent):\n",
    "        super().__init__(env)\n",
    "        self.defender_agent = defender_agent\n",
    "        self.total_penalties = 0\n",
    "\n",
    "        self.prev_discoveries=set()\n",
    "        \n",
    "\n",
    "        \n",
    "    def reset(self, **kwargs) -> Any:\n",
    "        print(\"Total Applied Penalties:\",self.total_penalties)\n",
    "        self.total_penalties = 0\n",
    "        self.defender_agent.deployed_signals = 0\n",
    "        self.prev_discoveries=set()\n",
    "        \n",
    "        observation = self.env.reset(**kwargs)\n",
    "        return observation\n",
    "\n",
    "    def step(self, action):\n",
    "        \n",
    "        obs, reward, done, truncated, info = self.env.step(action)\n",
    "\n",
    "        current_discoveries = set(obs['_discovered_nodes'])\n",
    "        newly_found = current_discoveries - self.prev_discoveries\n",
    "        self.prev_discoveries = current_discoveries\n",
    "\n",
    "        # Defender reacts to state change\n",
    "        self.defender_agent.step(self.env.environment,action,newly_found)\n",
    "\n",
    "        # Check for attacker triggering fake vulnerabilities\n",
    "        if self.defender_agent.is_fake_vuln_action(action,self.env.environment):\n",
    "            if reward != 0:\n",
    "                reward += -50  # Apply penalty\n",
    "                self.total_penalties += 1\n",
    "\n",
    "        return obs, reward, done, truncated, info"
   ]
  },
  {
   "cell_type": "markdown",
   "id": "b6d46cc9-99d3-4157-a4c2-907f24c079a9",
   "metadata": {},
   "source": [
    "# Signaling Environment Definitions"
   ]
  },
  {
   "cell_type": "code",
   "execution_count": 4,
   "id": "4d399eb2-2c9f-4e2c-89b0-3b50ad661b39",
   "metadata": {},
   "outputs": [],
   "source": [
    "env_ctf_baseline = CyberBattleToyCtf()\n",
    "env_chain_baseline = CyberBattleChain(10)\n",
    "\n",
    "\n",
    "signaling_ctf_agent_20=SignalingAgent(2)\n",
    "env_ctf_signaling_20 = CyberBattleToyCtf()\n",
    "env_ctf_signaling_20 = SignalingWrapper(env_ctf_signaling_20, signaling_ctf_agent_20)\n",
    "\n",
    "signaling_ctf_agent_40=SignalingAgent(4)\n",
    "env_ctf_signaling_40 = CyberBattleToyCtf()\n",
    "env_ctf_signaling_40 = SignalingWrapper(env_ctf_signaling_40, signaling_ctf_agent_40)\n",
    "\n",
    "signaling_ctf_agent_60=SignalingAgent(6)\n",
    "env_ctf_signaling_60 = CyberBattleToyCtf()\n",
    "env_ctf_signaling_60 = SignalingWrapper(env_ctf_signaling_60, signaling_ctf_agent_60)\n",
    "\n",
    "\n",
    "\n",
    "signaling_chain_agent_20=SignalingAgent(2)\n",
    "env_chain_signaling_20 = CyberBattleChain(10)\n",
    "env_chain_signaling_20 = SignalingWrapper(env_chain_signaling_20, signaling_chain_agent_20)\n",
    "\n",
    "signaling_chain_agent_40=SignalingAgent(4)\n",
    "env_chain_signaling_40 = CyberBattleChain(10)\n",
    "env_chain_signaling_40 = SignalingWrapper(env_chain_signaling_40, signaling_chain_agent_40)\n",
    "\n",
    "signaling_chain_agent_60=SignalingAgent(6)\n",
    "env_chain_signaling_60 = CyberBattleChain(10)\n",
    "env_chain_signaling_60 = SignalingWrapper(env_chain_signaling_60, signaling_chain_agent_60)"
   ]
  },
  {
   "cell_type": "markdown",
   "id": "d846d78f-600b-4555-9afb-c0bfafa9e9e5",
   "metadata": {},
   "source": [
    "# Tarpit Environment Definitions"
   ]
  },
  {
   "cell_type": "code",
   "execution_count": 5,
   "id": "89f7caf1-26f5-4ec4-b9d5-b0ebfce50834",
   "metadata": {},
   "outputs": [],
   "source": [
    "tarpit_ctf_agent_20=TarpitAgent(2)\n",
    "env_ctf_tarpitting_20 = CyberBattleToyCtf(tarpit_ctf_agent_20)\n",
    "env_ctf_tarpitting_20 = TarpitPenaltyWrapper(env_ctf_tarpitting_20,tarpit_ctf_agent_20)\n",
    "\n",
    "tarpit_ctf_agent_40=TarpitAgent(5)\n",
    "env_ctf_tarpitting_40 = CyberBattleToyCtf(tarpit_ctf_agent_40)\n",
    "env_ctf_tarpitting_40 = TarpitPenaltyWrapper(env_ctf_tarpitting_40,tarpit_ctf_agent_40)\n",
    "\n",
    "tarpit_ctf_agent_60=TarpitAgent(7)\n",
    "env_ctf_tarpitting_60 = CyberBattleToyCtf(tarpit_ctf_agent_60)\n",
    "env_ctf_tarpitting_60 = TarpitPenaltyWrapper(env_ctf_tarpitting_60,tarpit_ctf_agent_60)\n",
    "\n",
    "\n",
    "tarpit_chain_agent_20=TarpitAgent(2)\n",
    "env_chain_tarpitting_20 = CyberBattleChain(10,tarpit_chain_agent_20)\n",
    "env_chain_tarpitting_20 = TarpitPenaltyWrapper(env_chain_tarpitting_20,tarpit_chain_agent_20)\n",
    "\n",
    "tarpit_chain_agent_40=TarpitAgent(5)\n",
    "env_chain_tarpitting_40 = CyberBattleChain(10,tarpit_chain_agent_40)\n",
    "env_chain_tarpitting_40 = TarpitPenaltyWrapper(env_chain_tarpitting_40,tarpit_chain_agent_40)\n",
    "\n",
    "tarpit_chain_agent_60=TarpitAgent(7)\n",
    "env_chain_tarpitting_60 = CyberBattleChain(10,tarpit_chain_agent_60)\n",
    "env_chain_tarpitting_60 = TarpitPenaltyWrapper(env_chain_tarpitting_60,tarpit_chain_agent_60)\n"
   ]
  },
  {
   "cell_type": "markdown",
   "id": "de677aca-21f5-4e98-9ed2-aaa59ed4ad17",
   "metadata": {},
   "source": [
    "# Parameter"
   ]
  },
  {
   "cell_type": "code",
   "execution_count": 6,
   "id": "fbe04ca3-6062-494b-adc4-09101394544b",
   "metadata": {},
   "outputs": [],
   "source": [
    "#Parameter\n",
    "#Showcase Parameter:\n",
    "iteration_count = 200\n",
    "training_episode_count = 5\n",
    "\n",
    "eval_episode_count = 3\n",
    "maximum_node_count = 20\n",
    "maximum_total_credentials = 20\n",
    "env_size = 10\n",
    "\n",
    "\n",
    "#iteration_count = 750\n",
    "#training_episode_count = 10"
   ]
  },
  {
   "cell_type": "markdown",
   "id": "348ace33-f539-49bd-91cc-8965ec3d4606",
   "metadata": {},
   "source": [
    "# Baseline"
   ]
  },
  {
   "cell_type": "code",
   "execution_count": 7,
   "id": "ed15d7cb-5d6a-4d3f-8331-ee1a7f24d03a",
   "metadata": {
    "scrolled": true
   },
   "outputs": [
    {
     "name": "stdout",
     "output_type": "stream",
     "text": [
      "###### Baseline\n",
      "Learning with: episode_count=5,iteration_count=200,ϵ=0.9,ϵ_min=0.1, ϵ_expdecay=5000,γ=0.015, lr=0.01, replaymemory=10000,\n",
      "batch=512, target_update=10\n",
      "INFO: Resetting the CyberBattle environment\n",
      "  ## Episode: 1/5 'Baseline' ϵ=0.9000, γ=0.015, lr=0.01, replaymemory=10000,\n",
      "batch=512, target_update=10\n",
      "INFO: Resetting the CyberBattle environment\n"
     ]
    },
    {
     "name": "stderr",
     "output_type": "stream",
     "text": [
      "Episode 1|Iteration 0|reward: ------|last_reward_at: ----|Elapsed Time: 0:00:00||"
     ]
    },
    {
     "name": "stdout",
     "output_type": "stream",
     "text": [
      "INFO: Vulnerability 'AccessDataWithSASToken' not supported by node 'client'\n"
     ]
    },
    {
     "name": "stderr",
     "output_type": "stream",
     "text": [
      "Episode 1|Iteration 1|reward:    0.0|last_reward_at: ----|Elapsed Time: 0:00:00||"
     ]
    },
    {
     "name": "stdout",
     "output_type": "stream",
     "text": [
      "INFO: Vulnerability 'ScanSharepointParentDirectory' not supported by node 'client'\n",
      "INFO: discovered node: Website\n",
      "INFO: GOT REWARD: Web browser history revealed website URL of interest\n"
     ]
    },
    {
     "name": "stderr",
     "output_type": "stream",
     "text": [
      "Episode 1|Iteration 3|reward:   11.0|last_reward_at:    3|Elapsed Time: 0:00:00||"
     ]
    },
    {
     "name": "stdout",
     "output_type": "stream",
     "text": [
      "INFO: discovered node: Website\n",
      "INFO: GOT REWARD: Web browser history revealed website URL of interest\n",
      "INFO: Vulnerability 'NavigateWebDirectory' not supported by node 'Website'\n",
      "INFO: Vulnerability 'ListAzureResources' not supported by node 'client'\n",
      "INFO: discovered node: Website\n",
      "INFO: GOT REWARD: Web browser history revealed website URL of interest\n"
     ]
    },
    {
     "name": "stderr",
     "output_type": "stream",
     "text": [
      "Episode 1|Iteration 7|reward:   11.0|last_reward_at:    3|Elapsed Time: 0:00:00||/home/minu/CyberBattleSim/cyberbattle/agents/baseline/agent_dql.py:408: UserWarning: Creating a tensor from a list of numpy.ndarrays is extremely slow. Please consider converting the list to a single numpy.ndarray with numpy.array() before converting to a tensor. (Triggered internally at ../torch/csrc/utils/tensor_new.cpp:275.)\n",
      "  state_batch = torch.tensor(states_to_consider).to(device)\n"
     ]
    },
    {
     "name": "stdout",
     "output_type": "stream",
     "text": [
      "INFO: Vulnerability 'NavigateWebDirectoryFurther' not supported by node 'client'\n"
     ]
    },
    {
     "name": "stderr",
     "output_type": "stream",
     "text": [
      "Episode 1|Iteration 8|reward:   11.0|last_reward_at:    3|Elapsed Time: 0:00:00||"
     ]
    },
    {
     "name": "stdout",
     "output_type": "stream",
     "text": [
      "INFO: discovered node: GitHubProject\n",
      "INFO: GOT REWARD: WEBSITE page content has a link to github -> Github project discovered!\n"
     ]
    },
    {
     "name": "stderr",
     "output_type": "stream",
     "text": [
      "Episode 1|Iteration 9|reward:   22.0|last_reward_at:    9|Elapsed Time: 0:00:00||"
     ]
    },
    {
     "name": "stdout",
     "output_type": "stream",
     "text": [
      "INFO: discovered node: Website\n",
      "INFO: GOT REWARD: Web browser history revealed website URL of interest\n",
      "INFO: Vulnerability 'ScanPageSource' not supported by node 'GitHubProject'\n",
      "INFO: Vulnerability 'NavigateWebDirectory' not supported by node 'client'\n"
     ]
    },
    {
     "name": "stderr",
     "output_type": "stream",
     "text": [
      "Episode 1|Iteration 13|reward:   22.0|last_reward_at:    9|Elapsed Time: 0:00:00||"
     ]
    },
    {
     "name": "stdout",
     "output_type": "stream",
     "text": [
      "INFO: Vulnerability 'ListAzureResources' not supported by node 'client'\n",
      "INFO: discovered node: Website\n",
      "INFO: GOT REWARD: Web browser history revealed website URL of interest\n",
      "INFO: Vulnerability 'ScanPageContent' not supported by node 'GitHubProject'\n"
     ]
    },
    {
     "name": "stderr",
     "output_type": "stream",
     "text": [
      "Episode 1|Iteration 16|reward:   22.0|last_reward_at:    9|Elapsed Time: 0:00:00||"
     ]
    },
    {
     "name": "stdout",
     "output_type": "stream",
     "text": [
      "INFO: Vulnerability 'CredScanGitHistory' not supported by node 'Website'\n",
      "INFO: Vulnerability 'CredScanGitHistory' not supported by node 'client'\n"
     ]
    },
    {
     "name": "stderr",
     "output_type": "stream",
     "text": [
      "Episode 1|Iteration 17|reward:   22.0|last_reward_at:    9|Elapsed Time: 0:00:00||"
     ]
    },
    {
     "name": "stdout",
     "output_type": "stream",
     "text": [
      "INFO: discovered node: GitHubProject\n",
      "INFO: GOT REWARD: WEBSITE page content has a link to github -> Github project discovered!\n",
      "INFO: Vulnerability 'NavigateWebDirectory' not supported by node 'GitHubProject'\n",
      "INFO: discovered node: Website\n",
      "INFO: GOT REWARD: Web browser history revealed website URL of interest\n"
     ]
    },
    {
     "name": "stderr",
     "output_type": "stream",
     "text": [
      "Episode 1|Iteration 21|reward:   22.0|last_reward_at:    9|Elapsed Time: 0:00:00||"
     ]
    },
    {
     "name": "stdout",
     "output_type": "stream",
     "text": [
      "INFO: Vulnerability 'AccessDataWithSASToken' not supported by node 'Website'\n",
      "INFO: discovered node: Website\n",
      "INFO: GOT REWARD: Web browser history revealed website URL of interest\n",
      "INFO: Vulnerability 'AccessDataWithSASToken' not supported by node 'client'\n",
      "INFO: Vulnerability 'ScanPageContent' not supported by node 'client'\n",
      "INFO: Vulnerability 'NavigateWebDirectoryFurther' not supported by node 'Website'\n"
     ]
    },
    {
     "name": "stderr",
     "output_type": "stream",
     "text": [
      "Episode 1|Iteration 25|reward:   22.0|last_reward_at:    9|Elapsed Time: 0:00:00||"
     ]
    },
    {
     "name": "stdout",
     "output_type": "stream",
     "text": [
      "INFO: Vulnerability 'ScanSharepointParentDirectory' not supported by node 'GitHubProject'\n",
      "INFO: discovered node: Website\n",
      "INFO: GOT REWARD: Web browser history revealed website URL of interest\n"
     ]
    },
    {
     "name": "stderr",
     "output_type": "stream",
     "text": [
      "Episode 1|Iteration 28|reward:   22.0|last_reward_at:    9|Elapsed Time: 0:00:01||"
     ]
    },
    {
     "name": "stdout",
     "output_type": "stream",
     "text": [
      "INFO: Vulnerability 'NavigateWebDirectory' not supported by node 'GitHubProject'\n",
      "INFO: discovered node: Website\n",
      "INFO: GOT REWARD: Web browser history revealed website URL of interest\n",
      "INFO: Vulnerability 'ScanSharepointParentDirectory' not supported by node 'client'\n"
     ]
    },
    {
     "name": "stderr",
     "output_type": "stream",
     "text": [
      "Episode 1|Iteration 30|reward:   22.0|last_reward_at:    9|Elapsed Time: 0:00:01||"
     ]
    },
    {
     "name": "stdout",
     "output_type": "stream",
     "text": [
      "INFO: Vulnerability 'NavigateWebDirectory' not supported by node 'Website'\n",
      "INFO: discovered node: Website\n",
      "INFO: GOT REWARD: Web browser history revealed website URL of interest\n"
     ]
    },
    {
     "name": "stderr",
     "output_type": "stream",
     "text": [
      "Episode 1|Iteration 33|reward:   22.0|last_reward_at:    9|Elapsed Time: 0:00:01||"
     ]
    },
    {
     "name": "stdout",
     "output_type": "stream",
     "text": [
      "INFO: Vulnerability 'AccessDataWithSASToken' not supported by node 'client'\n",
      "INFO: Vulnerability 'ListAzureResources' not supported by node 'Website'\n",
      "INFO: Vulnerability 'ListAzureResources' not supported by node 'GitHubProject'\n"
     ]
    },
    {
     "name": "stderr",
     "output_type": "stream",
     "text": [
      "Episode 1|Iteration 35|reward:   22.0|last_reward_at:    9|Elapsed Time: 0:00:01||"
     ]
    },
    {
     "name": "stdout",
     "output_type": "stream",
     "text": [
      "INFO: Vulnerability 'ScanPageContent' not supported by node 'client'\n",
      "INFO: Vulnerability 'NavigateWebDirectoryFurther' not supported by node 'client'\n",
      "INFO: Vulnerability 'NavigateWebDirectory' not supported by node 'client'\n",
      "INFO: discovered node: GitHubProject\n",
      "INFO: GOT REWARD: WEBSITE page content has a link to github -> Github project discovered!\n",
      "INFO: Vulnerability 'ScanSharepointParentDirectory' not supported by node 'GitHubProject'\n"
     ]
    },
    {
     "name": "stderr",
     "output_type": "stream",
     "text": [
      "Episode 1|Iteration 41|reward:   22.0|last_reward_at:    9|Elapsed Time: 0:00:01||"
     ]
    },
    {
     "name": "stdout",
     "output_type": "stream",
     "text": [
      "INFO: Vulnerability 'NavigateWebDirectory' not supported by node 'client'\n",
      "INFO: discovered node: Website\n",
      "INFO: GOT REWARD: Web browser history revealed website URL of interest\n",
      "INFO: discovered node: Website\n",
      "INFO: GOT REWARD: Web browser history revealed website URL of interest\n"
     ]
    },
    {
     "name": "stderr",
     "output_type": "stream",
     "text": [
      "Episode 1|Iteration 44|reward:   22.0|last_reward_at:    9|Elapsed Time: 0:00:01||"
     ]
    },
    {
     "name": "stdout",
     "output_type": "stream",
     "text": [
      "INFO: Vulnerability 'ScanPageContent' not supported by node 'client'\n",
      "INFO: Vulnerability 'NavigateWebDirectoryFurther' not supported by node 'Website'\n",
      "INFO: discovered node: Tarpit-AzureStorage\n",
      "INFO: discovered credential: CachedCredential(node='Tarpit-AzureStorage', port='HTTPS', credential='SASTOKEN1')\n",
      "INFO: GOT REWARD: CredScan success: Some secure access token (SAS) was leaked in a reverted git commit\n"
     ]
    },
    {
     "name": "stderr",
     "output_type": "stream",
     "text": [
      "Episode 1|Iteration 46|reward:   36.0|last_reward_at:   46|Elapsed Time: 0:00:01||"
     ]
    },
    {
     "name": "stdout",
     "output_type": "stream",
     "text": [
      "INFO: Vulnerability 'AccessDataWithSASToken' not supported by node 'GitHubProject'\n",
      "INFO: BLOCKED TRAFFIC: source node 'client' is blocking outgoing traffic on port 'MySQL'\n",
      "INFO: BLOCKED TRAFFIC: source node 'client' is blocking outgoing traffic on port 'GIT'\n",
      "INFO: BLOCKED TRAFFIC: source node 'client' is blocking outgoing traffic on port 'su'\n"
     ]
    },
    {
     "name": "stderr",
     "output_type": "stream",
     "text": [
      "Episode 1|Iteration 51|reward:   36.0|last_reward_at:   46|Elapsed Time: 0:00:01||"
     ]
    },
    {
     "name": "stdout",
     "output_type": "stream",
     "text": [
      "INFO: BLOCKED TRAFFIC: source node 'client' is blocking outgoing traffic on port 'PING'\n",
      "INFO: BLOCKED TRAFFIC: source node 'client' is blocking outgoing traffic on port 'GIT'\n",
      "INFO: Vulnerability 'NavigateWebDirectoryFurther' not supported by node 'GitHubProject'\n"
     ]
    },
    {
     "name": "stderr",
     "output_type": "stream",
     "text": [
      "Episode 1|Iteration 54|reward:   36.0|last_reward_at:   46|Elapsed Time: 0:00:01||"
     ]
    },
    {
     "name": "stdout",
     "output_type": "stream",
     "text": [
      "INFO: Vulnerability 'NavigateWebDirectory' not supported by node 'Website'\n",
      "INFO: target node 'GitHubProject' not listening on port 'SSH'\n",
      "INFO: Vulnerability 'ScanPageContent' not supported by node 'GitHubProject'\n",
      "INFO: discovered node: Website\n",
      "INFO: GOT REWARD: Web browser history revealed website URL of interest\n",
      "INFO: discovered node: Website\n",
      "INFO: GOT REWARD: Web browser history revealed website URL of interest\n"
     ]
    },
    {
     "name": "stderr",
     "output_type": "stream",
     "text": [
      "Episode 1|Iteration 59|reward:   36.0|last_reward_at:   46|Elapsed Time: 0:00:01||"
     ]
    },
    {
     "name": "stdout",
     "output_type": "stream",
     "text": [
      "INFO: Vulnerability 'ScanPageSource' not supported by node 'Tarpit-AzureStorage'\n",
      "INFO: discovered node: Website\n",
      "INFO: GOT REWARD: Web browser history revealed website URL of interest\n"
     ]
    },
    {
     "name": "stderr",
     "output_type": "stream",
     "text": [
      "Episode 1|Iteration 61|reward:   36.0|last_reward_at:   46|Elapsed Time: 0:00:01||"
     ]
    },
    {
     "name": "stdout",
     "output_type": "stream",
     "text": [
      "INFO: Vulnerability 'ListAzureResources' not supported by node 'GitHubProject'\n",
      "INFO: Vulnerability 'NavigateWebDirectory' not supported by node 'client'\n",
      "INFO: discovered node: Website\n",
      "INFO: GOT REWARD: Web browser history revealed website URL of interest\n"
     ]
    },
    {
     "name": "stderr",
     "output_type": "stream",
     "text": [
      "Episode 1|Iteration 63|reward:   36.0|last_reward_at:   46|Elapsed Time: 0:00:01||"
     ]
    },
    {
     "name": "stdout",
     "output_type": "stream",
     "text": [
      "INFO: Vulnerability 'CredScanGitHistory' not supported by node 'Website'\n",
      "INFO: BLOCKED TRAFFIC: source node 'client' is blocking outgoing traffic on port 'SSH-key'\n"
     ]
    },
    {
     "name": "stderr",
     "output_type": "stream",
     "text": [
      "Episode 1|Iteration 66|reward:   36.0|last_reward_at:   46|Elapsed Time: 0:00:02||"
     ]
    },
    {
     "name": "stdout",
     "output_type": "stream",
     "text": [
      "INFO: BLOCKED TRAFFIC: source node 'client' is blocking outgoing traffic on port 'PING'\n",
      "INFO: Vulnerability 'ListAzureResources' not supported by node 'Tarpit-AzureStorage'\n",
      "INFO: Infected node 'Tarpit-AzureStorage' from 'client' via HTTPS with credential 'SASTOKEN1'\n"
     ]
    },
    {
     "name": "stderr",
     "output_type": "stream",
     "text": [
      "Episode 1|Iteration 68|reward:   86.0|last_reward_at:   68|Elapsed Time: 0:00:02||"
     ]
    },
    {
     "name": "stdout",
     "output_type": "stream",
     "text": [
      "INFO: GOT REWARD: Stole data using a publicly shared SAS token\n"
     ]
    },
    {
     "name": "stderr",
     "output_type": "stream",
     "text": [
      "Episode 1|Iteration 69|reward:   92.0|last_reward_at:   69|Elapsed Time: 0:00:02||"
     ]
    },
    {
     "name": "stdout",
     "output_type": "stream",
     "text": [
      "INFO: BLOCKED TRAFFIC: source node 'client' is blocking outgoing traffic on port 'SSH-key'\n",
      "INFO: Vulnerability 'ListAzureResources' not supported by node 'Tarpit-AzureStorage'\n",
      "INFO: Vulnerability 'ListAzureResources' not supported by node 'client'\n",
      "INFO: target node 'Tarpit-AzureStorage' not listening on port 'SSH'\n"
     ]
    },
    {
     "name": "stderr",
     "output_type": "stream",
     "text": [
      "Episode 1|Iteration 73|reward:   92.0|last_reward_at:   69|Elapsed Time: 0:00:02||"
     ]
    },
    {
     "name": "stdout",
     "output_type": "stream",
     "text": [
      "INFO: Vulnerability 'ListAzureResources' not supported by node 'client'\n",
      "INFO: Vulnerability 'AccessDataWithSASToken' not supported by node 'client'\n"
     ]
    },
    {
     "name": "stderr",
     "output_type": "stream",
     "text": [
      "Episode 1|Iteration 76|reward:   92.0|last_reward_at:   69|Elapsed Time: 0:00:02||"
     ]
    },
    {
     "name": "stdout",
     "output_type": "stream",
     "text": [
      "INFO: Vulnerability 'AccessDataWithSASToken' not supported by node 'Website'\n",
      "INFO: Vulnerability 'ScanSharepointParentDirectory' not supported by node 'Tarpit-AzureStorage'\n",
      "INFO: Vulnerability 'CredScanGitHistory' not supported by node 'Tarpit-AzureStorage'\n"
     ]
    },
    {
     "name": "stderr",
     "output_type": "stream",
     "text": [
      "Episode 1|Iteration 79|reward:   92.0|last_reward_at:   69|Elapsed Time: 0:00:02||"
     ]
    },
    {
     "name": "stdout",
     "output_type": "stream",
     "text": [
      "INFO: BLOCKED TRAFFIC: source node 'Tarpit-AzureStorage' is blocking outgoing traffic on port 'GIT'\n",
      "INFO: Vulnerability 'NavigateWebDirectoryFurther' not supported by node 'Website'\n",
      "INFO: Vulnerability 'NavigateWebDirectoryFurther' not supported by node 'Website'\n"
     ]
    },
    {
     "name": "stderr",
     "output_type": "stream",
     "text": [
      "Episode 1|Iteration 82|reward:   92.0|last_reward_at:   69|Elapsed Time: 0:00:02||"
     ]
    },
    {
     "name": "stdout",
     "output_type": "stream",
     "text": [
      "INFO: BLOCKED TRAFFIC: source node 'client' is blocking outgoing traffic on port 'GIT'\n",
      "INFO: BLOCKED TRAFFIC: source node 'client' is blocking outgoing traffic on port 'GIT'\n",
      "INFO: BLOCKED TRAFFIC: source node 'client' is blocking outgoing traffic on port 'MySQL'\n",
      "INFO: discovered node: Website\n",
      "INFO: GOT REWARD: Web browser history revealed website URL of interest\n",
      "INFO: BLOCKED TRAFFIC: source node 'Tarpit-AzureStorage' is blocking outgoing traffic on port 'SSH-key'\n"
     ]
    },
    {
     "name": "stderr",
     "output_type": "stream",
     "text": [
      "Episode 1|Iteration 87|reward:   92.0|last_reward_at:   69|Elapsed Time: 0:00:02||"
     ]
    },
    {
     "name": "stdout",
     "output_type": "stream",
     "text": [
      "INFO: BLOCKED TRAFFIC: source node 'client' is blocking outgoing traffic on port 'PING'\n",
      "INFO: target node 'client' not listening on port 'HTTPS'\n",
      "INFO: discovered node: Tarpit-AzureStorage\n",
      "INFO: discovered credential: CachedCredential(node='Tarpit-AzureStorage', port='HTTPS', credential='SASTOKEN1')\n",
      "INFO: GOT REWARD: CredScan success: Some secure access token (SAS) was leaked in a reverted git commit\n",
      "INFO: Vulnerability 'ScanPageContent' not supported by node 'client'\n",
      "INFO: target node 'Tarpit-AzureStorage' not listening on port 'SSH'\n"
     ]
    },
    {
     "name": "stderr",
     "output_type": "stream",
     "text": [
      "Episode 1|Iteration 92|reward:   92.0|last_reward_at:   69|Elapsed Time: 0:00:02||"
     ]
    },
    {
     "name": "stdout",
     "output_type": "stream",
     "text": [
      "INFO: Vulnerability 'NavigateWebDirectory' not supported by node 'GitHubProject'\n",
      "INFO: Vulnerability 'ScanSharepointParentDirectory' not supported by node 'GitHubProject'\n",
      "INFO: BLOCKED TRAFFIC: source node 'Tarpit-AzureStorage' is blocking outgoing traffic on port 'MySQL'\n",
      "INFO: Vulnerability 'ListAzureResources' not supported by node 'GitHubProject'\n",
      "INFO: Vulnerability 'NavigateWebDirectoryFurther' not supported by node 'client'\n"
     ]
    },
    {
     "name": "stderr",
     "output_type": "stream",
     "text": [
      "Episode 1|Iteration 97|reward:   92.0|last_reward_at:   69|Elapsed Time: 0:00:02||"
     ]
    },
    {
     "name": "stdout",
     "output_type": "stream",
     "text": [
      "INFO: Vulnerability 'NavigateWebDirectoryFurther' not supported by node 'Tarpit-AzureStorage'\n",
      "INFO: BLOCKED TRAFFIC: source node 'Tarpit-AzureStorage' is blocking outgoing traffic on port 'su'\n",
      "INFO: BLOCKED TRAFFIC: source node 'Tarpit-AzureStorage' is blocking outgoing traffic on port 'MySQL'\n",
      "INFO: BLOCKED TRAFFIC: source node 'Tarpit-AzureStorage' is blocking outgoing traffic on port 'GIT'\n",
      "INFO: discovered node: Tarpit-AzureStorage\n",
      "INFO: discovered credential: CachedCredential(node='Tarpit-AzureStorage', port='HTTPS', credential='SASTOKEN1')\n",
      "INFO: GOT REWARD: CredScan success: Some secure access token (SAS) was leaked in a reverted git commit\n"
     ]
    },
    {
     "name": "stderr",
     "output_type": "stream",
     "text": [
      "Episode 1|Iteration 101|reward:   92.0|last_reward_at:   69|Elapsed Time: 0:00:02||"
     ]
    },
    {
     "name": "stdout",
     "output_type": "stream",
     "text": [
      "INFO: invalid credentials supplied\n",
      "INFO: Vulnerability 'CredScanGitHistory' not supported by node 'client'\n"
     ]
    },
    {
     "name": "stderr",
     "output_type": "stream",
     "text": [
      "Episode 1|Iteration 104|reward:   92.0|last_reward_at:   69|Elapsed Time: 0:00:02||"
     ]
    },
    {
     "name": "stdout",
     "output_type": "stream",
     "text": [
      "INFO: Vulnerability 'NavigateWebDirectoryFurther' not supported by node 'GitHubProject'\n",
      "INFO: target node 'GitHubProject' not listening on port 'HTTPS'\n",
      "INFO: discovered node: Website\n",
      "INFO: GOT REWARD: Web browser history revealed website URL of interest\n"
     ]
    },
    {
     "name": "stderr",
     "output_type": "stream",
     "text": [
      "Episode 1|Iteration 107|reward:   92.0|last_reward_at:   69|Elapsed Time: 0:00:02||"
     ]
    },
    {
     "name": "stdout",
     "output_type": "stream",
     "text": [
      "INFO: discovered node: GitHubProject\n",
      "INFO: GOT REWARD: WEBSITE page content has a link to github -> Github project discovered!\n",
      "INFO: BLOCKED TRAFFIC: source node 'client' is blocking outgoing traffic on port 'MySQL'\n"
     ]
    },
    {
     "name": "stderr",
     "output_type": "stream",
     "text": [
      "Episode 1|Iteration 108|reward:   92.0|last_reward_at:   69|Elapsed Time: 0:00:03||"
     ]
    },
    {
     "name": "stdout",
     "output_type": "stream",
     "text": [
      "INFO: discovered node: Tarpit-AzureStorage\n",
      "INFO: discovered credential: CachedCredential(node='Tarpit-AzureStorage', port='HTTPS', credential='SASTOKEN1')\n",
      "INFO: GOT REWARD: CredScan success: Some secure access token (SAS) was leaked in a reverted git commit\n",
      "INFO: BLOCKED TRAFFIC: source node 'client' is blocking outgoing traffic on port 'GIT'\n",
      "INFO: Vulnerability 'NavigateWebDirectory' not supported by node 'GitHubProject'\n"
     ]
    },
    {
     "name": "stderr",
     "output_type": "stream",
     "text": [
      "Episode 1|Iteration 112|reward:   92.0|last_reward_at:   69|Elapsed Time: 0:00:03||"
     ]
    },
    {
     "name": "stdout",
     "output_type": "stream",
     "text": [
      "INFO: Vulnerability 'NavigateWebDirectory' not supported by node 'client'\n",
      "INFO: discovered node: Website\n",
      "INFO: GOT REWARD: Web browser history revealed website URL of interest\n",
      "INFO: BLOCKED TRAFFIC: source node 'client' is blocking outgoing traffic on port 'MySQL'\n",
      "INFO: BLOCKED TRAFFIC: source node 'Tarpit-AzureStorage' is blocking outgoing traffic on port 'MySQL'\n",
      "INFO: BLOCKED TRAFFIC: source node 'client' is blocking outgoing traffic on port 'PING'\n"
     ]
    },
    {
     "name": "stderr",
     "output_type": "stream",
     "text": [
      "Episode 1|Iteration 117|reward:   92.0|last_reward_at:   69|Elapsed Time: 0:00:03||"
     ]
    },
    {
     "name": "stdout",
     "output_type": "stream",
     "text": [
      "INFO: BLOCKED TRAFFIC: source node 'Tarpit-AzureStorage' is blocking outgoing traffic on port 'MySQL'\n",
      "INFO: BLOCKED TRAFFIC: source node 'client' is blocking outgoing traffic on port 'GIT'\n",
      "INFO: Vulnerability 'ListAzureResources' not supported by node 'Website'\n",
      "INFO: discovered node: GitHubProject\n",
      "INFO: GOT REWARD: WEBSITE page content has a link to github -> Github project discovered!\n"
     ]
    },
    {
     "name": "stderr",
     "output_type": "stream",
     "text": [
      "Episode 1|Iteration 120|reward:   92.0|last_reward_at:   69|Elapsed Time: 0:00:03||"
     ]
    },
    {
     "name": "stdout",
     "output_type": "stream",
     "text": [
      "INFO: discovered node: GitHubProject\n",
      "INFO: GOT REWARD: WEBSITE page content has a link to github -> Github project discovered!\n"
     ]
    },
    {
     "name": "stderr",
     "output_type": "stream",
     "text": [
      "Episode 1|Iteration 122|reward:   92.0|last_reward_at:   69|Elapsed Time: 0:00:03||"
     ]
    },
    {
     "name": "stdout",
     "output_type": "stream",
     "text": [
      "INFO: BLOCKED TRAFFIC: source node 'Tarpit-AzureStorage' is blocking outgoing traffic on port 'su'\n",
      "INFO: Vulnerability 'ScanPageContent' not supported by node 'client'\n",
      "INFO: target node 'client' not listening on port 'SSH'\n"
     ]
    },
    {
     "name": "stderr",
     "output_type": "stream",
     "text": [
      "Episode 1|Iteration 124|reward:   92.0|last_reward_at:   69|Elapsed Time: 0:00:03||"
     ]
    },
    {
     "name": "stdout",
     "output_type": "stream",
     "text": [
      "INFO: discovered node: Website.Directory\n",
      "INFO: GOT REWARD: Viewing the web page source reveals a URL to a .txt file and directory on the website\n"
     ]
    },
    {
     "name": "stderr",
     "output_type": "stream",
     "text": [
      "Episode 1|Iteration 125|reward:  103.0|last_reward_at:  125|Elapsed Time: 0:00:03||"
     ]
    },
    {
     "name": "stdout",
     "output_type": "stream",
     "text": [
      "INFO: discovered node: Website\n",
      "INFO: GOT REWARD: Web browser history revealed website URL of interest\n"
     ]
    },
    {
     "name": "stderr",
     "output_type": "stream",
     "text": [
      "Episode 1|Iteration 127|reward:  103.0|last_reward_at:  125|Elapsed Time: 0:00:03||"
     ]
    },
    {
     "name": "stdout",
     "output_type": "stream",
     "text": [
      "INFO: Vulnerability 'AccessDataWithSASToken' not supported by node 'Website'\n",
      "INFO: BLOCKED TRAFFIC: source node 'Tarpit-AzureStorage' is blocking outgoing traffic on port 'MySQL'\n",
      "INFO: BLOCKED TRAFFIC: source node 'client' is blocking outgoing traffic on port 'MySQL'\n"
     ]
    },
    {
     "name": "stderr",
     "output_type": "stream",
     "text": [
      "Episode 1|Iteration 130|reward:  103.0|last_reward_at:  125|Elapsed Time: 0:00:03||"
     ]
    },
    {
     "name": "stdout",
     "output_type": "stream",
     "text": [
      "INFO: discovered node: Website\n",
      "INFO: GOT REWARD: Web browser history revealed website URL of interest\n",
      "INFO: BLOCKED TRAFFIC: source node 'client' is blocking outgoing traffic on port 'SSH-key'\n",
      "INFO: Vulnerability 'NavigateWebDirectory' not supported by node 'GitHubProject'\n",
      "INFO: BLOCKED TRAFFIC: source node 'Tarpit-AzureStorage' is blocking outgoing traffic on port 'MySQL'\n",
      "INFO: Vulnerability 'ScanPageContent' not supported by node 'GitHubProject'\n"
     ]
    },
    {
     "name": "stderr",
     "output_type": "stream",
     "text": [
      "Episode 1|Iteration 134|reward:  103.0|last_reward_at:  125|Elapsed Time: 0:00:03||"
     ]
    },
    {
     "name": "stdout",
     "output_type": "stream",
     "text": [
      "INFO: Vulnerability 'AccessDataWithSASToken' not supported by node 'Website'\n",
      "INFO: BLOCKED TRAFFIC: source node 'Tarpit-AzureStorage' is blocking outgoing traffic on port 'SSH-key'\n",
      "INFO: Vulnerability 'AccessDataWithSASToken' not supported by node 'GitHubProject'\n",
      "INFO: invalid credentials supplied\n",
      "INFO: BLOCKED TRAFFIC: source node 'Tarpit-AzureStorage' is blocking outgoing traffic on port 'su'\n"
     ]
    },
    {
     "name": "stderr",
     "output_type": "stream",
     "text": [
      "Episode 1|Iteration 140|reward:  103.0|last_reward_at:  125|Elapsed Time: 0:00:03||"
     ]
    },
    {
     "name": "stdout",
     "output_type": "stream",
     "text": [
      "INFO: Vulnerability 'NavigateWebDirectory' not supported by node 'Website'\n",
      "INFO: BLOCKED TRAFFIC: source node 'Tarpit-AzureStorage' is blocking outgoing traffic on port 'MySQL'\n"
     ]
    },
    {
     "name": "stderr",
     "output_type": "stream",
     "text": [
      "Episode 1|Iteration 141|reward:  103.0|last_reward_at:  125|Elapsed Time: 0:00:04||"
     ]
    },
    {
     "name": "stdout",
     "output_type": "stream",
     "text": [
      "INFO: Vulnerability 'ScanPageSource' not supported by node 'Tarpit-AzureStorage'\n",
      "INFO: BLOCKED TRAFFIC: source node 'client' is blocking outgoing traffic on port 'SSH-key'\n",
      "INFO: discovered node: Website\n",
      "INFO: discovered credential: CachedCredential(node='Website', port='MySQL', credential='ReusedMySqlCred-web')\n",
      "INFO: GOT REWARD: Discover browseable web directory: Navigating to parent URL revealed file `readme.txt`with secret data (aflag); and `getting-started.txt` with MYSQL credentials\n"
     ]
    },
    {
     "name": "stderr",
     "output_type": "stream",
     "text": [
      "Episode 1|Iteration 144|reward:  112.0|last_reward_at:  144|Elapsed Time: 0:00:04||"
     ]
    },
    {
     "name": "stdout",
     "output_type": "stream",
     "text": [
      "INFO: BLOCKED TRAFFIC: source node 'Tarpit-AzureStorage' is blocking outgoing traffic on port 'MySQL'\n",
      "INFO: discovered node: Website\n",
      "INFO: GOT REWARD: Web browser history revealed website URL of interest\n"
     ]
    },
    {
     "name": "stderr",
     "output_type": "stream",
     "text": [
      "Episode 1|Iteration 147|reward:  112.0|last_reward_at:  144|Elapsed Time: 0:00:04||"
     ]
    },
    {
     "name": "stdout",
     "output_type": "stream",
     "text": [
      "INFO: Vulnerability 'NavigateWebDirectory' not supported by node 'client'\n",
      "INFO: invalid credentials supplied\n",
      "INFO: invalid credentials supplied\n"
     ]
    },
    {
     "name": "stderr",
     "output_type": "stream",
     "text": [
      "Episode 1|Iteration 150|reward:  112.0|last_reward_at:  144|Elapsed Time: 0:00:04||"
     ]
    },
    {
     "name": "stdout",
     "output_type": "stream",
     "text": [
      "INFO: Vulnerability 'ScanPageContent' not supported by node 'Tarpit-AzureStorage'\n",
      "INFO: Vulnerability 'AccessDataWithSASToken' not supported by node 'Website.Directory'\n",
      "INFO: BLOCKED TRAFFIC: source node 'client' is blocking outgoing traffic on port 'su'\n",
      "INFO: Vulnerability 'ListAzureResources' not supported by node 'Tarpit-AzureStorage'\n",
      "INFO: BLOCKED TRAFFIC: source node 'client' is blocking outgoing traffic on port 'su'\n"
     ]
    },
    {
     "name": "stderr",
     "output_type": "stream",
     "text": [
      "Episode 1|Iteration 155|reward:  112.0|last_reward_at:  144|Elapsed Time: 0:00:04||"
     ]
    },
    {
     "name": "stdout",
     "output_type": "stream",
     "text": [
      "INFO: Vulnerability 'ScanPageSource' not supported by node 'GitHubProject'\n",
      "INFO: BLOCKED TRAFFIC: source node 'client' is blocking outgoing traffic on port 'MySQL'\n",
      "INFO: BLOCKED TRAFFIC: source node 'client' is blocking outgoing traffic on port 'GIT'\n",
      "INFO: BLOCKED TRAFFIC: source node 'client' is blocking outgoing traffic on port 'PING'\n"
     ]
    },
    {
     "name": "stderr",
     "output_type": "stream",
     "text": [
      "Episode 1|Iteration 160|reward:  112.0|last_reward_at:  144|Elapsed Time: 0:00:04||"
     ]
    },
    {
     "name": "stdout",
     "output_type": "stream",
     "text": [
      "INFO: BLOCKED TRAFFIC: source node 'client' is blocking outgoing traffic on port 'GIT'\n",
      "INFO: Vulnerability 'ListAzureResources' not supported by node 'Website'\n",
      "INFO: BLOCKED TRAFFIC: source node 'client' is blocking outgoing traffic on port 'su'\n"
     ]
    },
    {
     "name": "stderr",
     "output_type": "stream",
     "text": [
      "Episode 1|Iteration 163|reward:  112.0|last_reward_at:  144|Elapsed Time: 0:00:04||"
     ]
    },
    {
     "name": "stdout",
     "output_type": "stream",
     "text": [
      "INFO: invalid credentials supplied\n",
      "INFO: Vulnerability 'ScanPageContent' not supported by node 'GitHubProject'\n",
      "INFO: Vulnerability 'NavigateWebDirectoryFurther' not supported by node 'client'\n",
      "INFO: target node 'Website.Directory' not listening on port 'SSH'\n",
      "INFO: invalid credentials supplied\n"
     ]
    },
    {
     "name": "stderr",
     "output_type": "stream",
     "text": [
      "Episode 1|Iteration 168|reward:  112.0|last_reward_at:  144|Elapsed Time: 0:00:04||"
     ]
    },
    {
     "name": "stdout",
     "output_type": "stream",
     "text": [
      "INFO: BLOCKED TRAFFIC: source node 'client' is blocking outgoing traffic on port 'GIT'\n",
      "INFO: Vulnerability 'ScanPageContent' not supported by node 'Website.Directory'\n",
      "INFO: target node 'client' not listening on port 'SSH'\n",
      "INFO: BLOCKED TRAFFIC: source node 'Tarpit-AzureStorage' is blocking outgoing traffic on port 'SSH-key'\n",
      "INFO: target node 'Tarpit-AzureStorage' not listening on port 'SSH'\n"
     ]
    },
    {
     "name": "stderr",
     "output_type": "stream",
     "text": [
      "Episode 1|Iteration 173|reward:  112.0|last_reward_at:  144|Elapsed Time: 0:00:04||"
     ]
    },
    {
     "name": "stdout",
     "output_type": "stream",
     "text": [
      "INFO: Vulnerability 'CredScanGitHistory' not supported by node 'Tarpit-AzureStorage'\n",
      "INFO: BLOCKED TRAFFIC: source node 'Tarpit-AzureStorage' is blocking outgoing traffic on port 'MySQL'\n",
      "INFO: Vulnerability 'AccessDataWithSASToken' not supported by node 'Website.Directory'\n",
      "INFO: Vulnerability 'ScanPageSource' not supported by node 'GitHubProject'\n",
      "INFO: BLOCKED TRAFFIC: source node 'Tarpit-AzureStorage' is blocking outgoing traffic on port 'su'\n"
     ]
    },
    {
     "name": "stderr",
     "output_type": "stream",
     "text": [
      "Episode 1|Iteration 178|reward:  112.0|last_reward_at:  144|Elapsed Time: 0:00:04||"
     ]
    },
    {
     "name": "stdout",
     "output_type": "stream",
     "text": [
      "INFO: target node 'Website.Directory' not listening on port 'SSH'\n",
      "INFO: Vulnerability 'ListAzureResources' not supported by node 'GitHubProject'\n",
      "INFO: Vulnerability 'ScanPageSource' not supported by node 'Website.Directory'\n",
      "INFO: discovered node: Tarpit-AzureStorage\n",
      "INFO: discovered credential: CachedCredential(node='Tarpit-AzureStorage', port='HTTPS', credential='SASTOKEN1')\n",
      "INFO: GOT REWARD: CredScan success: Some secure access token (SAS) was leaked in a reverted git commit\n",
      "INFO: Vulnerability 'NavigateWebDirectoryFurther' not supported by node 'Website'\n"
     ]
    },
    {
     "name": "stderr",
     "output_type": "stream",
     "text": [
      "Episode 1|Iteration 183|reward:  112.0|last_reward_at:  144|Elapsed Time: 0:00:04||"
     ]
    },
    {
     "name": "stdout",
     "output_type": "stream",
     "text": [
      "INFO: BLOCKED TRAFFIC: source node 'client' is blocking outgoing traffic on port 'PING'\n",
      "INFO: discovered node: Website\n",
      "INFO: GOT REWARD: Web browser history revealed website URL of interest\n",
      "INFO: Vulnerability 'ScanPageSource' not supported by node 'client'\n",
      "INFO: invalid credentials supplied\n",
      "INFO: Vulnerability 'ListAzureResources' not supported by node 'Website'\n"
     ]
    },
    {
     "name": "stderr",
     "output_type": "stream",
     "text": [
      "Episode 1|Iteration 188|reward:  112.0|last_reward_at:  144|Elapsed Time: 0:00:04||"
     ]
    },
    {
     "name": "stdout",
     "output_type": "stream",
     "text": [
      "INFO: Vulnerability 'AccessDataWithSASToken' not supported by node 'client'\n",
      "INFO: Vulnerability 'AccessDataWithSASToken' not supported by node 'client'\n",
      "INFO: BLOCKED TRAFFIC: source node 'Tarpit-AzureStorage' is blocking outgoing traffic on port 'su'\n",
      "INFO: BLOCKED TRAFFIC: source node 'Tarpit-AzureStorage' is blocking outgoing traffic on port 'su'\n",
      "INFO: Vulnerability 'NavigateWebDirectory' not supported by node 'client'\n"
     ]
    },
    {
     "name": "stderr",
     "output_type": "stream",
     "text": [
      "Episode 1|Iteration 193|reward:  112.0|last_reward_at:  144|Elapsed Time: 0:00:04||"
     ]
    },
    {
     "name": "stdout",
     "output_type": "stream",
     "text": [
      "INFO: discovered node: Website\n",
      "INFO: GOT REWARD: Web browser history revealed website URL of interest\n",
      "INFO: invalid credentials supplied\n",
      "INFO: Vulnerability 'CredScanGitHistory' not supported by node 'Tarpit-AzureStorage'\n",
      "INFO: Vulnerability 'ScanPageSource' not supported by node 'Tarpit-AzureStorage'\n",
      "INFO: invalid credentials supplied\n"
     ]
    },
    {
     "name": "stderr",
     "output_type": "stream",
     "text": [
      "Episode 1|Iteration 198|reward:  112.0|last_reward_at:  144|Elapsed Time: 0:00:04||"
     ]
    },
    {
     "name": "stdout",
     "output_type": "stream",
     "text": [
      "INFO: BLOCKED TRAFFIC: source node 'client' is blocking outgoing traffic on port 'SSH-key'\n",
      "INFO: Vulnerability 'NavigateWebDirectoryFurther' not supported by node 'GitHubProject'\n",
      "INFO: target node 'client' not listening on port 'HTTPS'\n"
     ]
    },
    {
     "name": "stderr",
     "output_type": "stream",
     "text": [
      "Episode 1|Iteration 200|reward:  112.0|last_reward_at:  144|Elapsed Time: 0:00:05||\n"
     ]
    },
    {
     "name": "stdout",
     "output_type": "stream",
     "text": [
      "  Episode 1 stopped at t=200 \n",
      "  Breakdown [Reward/NoReward (Success rate)]\n",
      "    explore-local: 1/23 (0.04)\n",
      "    explore-remote: 5/99 (0.05)\n",
      "    explore-connect: 1/68 (0.01)\n",
      "    exploit-local: 0/0 (NaN)\n",
      "    exploit-remote: 0/0 (NaN)\n",
      "    exploit-connect: 0/3 (0.00)\n",
      "  exploit deflected to exploration: 23\n",
      "  ## Episode: 2/5 'Baseline' ϵ=0.8688, γ=0.015, lr=0.01, replaymemory=10000,\n",
      "batch=512, target_update=10\n",
      "INFO: Resetting the CyberBattle environment\n"
     ]
    },
    {
     "name": "stderr",
     "output_type": "stream",
     "text": [
      "Episode 2|Iteration 0|reward: ------|last_reward_at: ----|Elapsed Time: 0:00:00||"
     ]
    },
    {
     "name": "stdout",
     "output_type": "stream",
     "text": [
      "INFO: discovered node: Website\n",
      "INFO: GOT REWARD: Web browser history revealed website URL of interest\n"
     ]
    },
    {
     "name": "stderr",
     "output_type": "stream",
     "text": [
      "Episode 2|Iteration 1|reward:   11.0|last_reward_at:    1|Elapsed Time: 0:00:00||"
     ]
    },
    {
     "name": "stdout",
     "output_type": "stream",
     "text": [
      "INFO: Vulnerability 'CredScanGitHistory' not supported by node 'Website'\n",
      "INFO: discovered node: Website\n",
      "INFO: GOT REWARD: Web browser history revealed website URL of interest\n",
      "INFO: Vulnerability 'ScanPageSource' not supported by node 'client'\n",
      "INFO: Vulnerability 'NavigateWebDirectoryFurther' not supported by node 'client'\n"
     ]
    },
    {
     "name": "stderr",
     "output_type": "stream",
     "text": [
      "Episode 2|Iteration 6|reward:   11.0|last_reward_at:    1|Elapsed Time: 0:00:00||"
     ]
    },
    {
     "name": "stdout",
     "output_type": "stream",
     "text": [
      "INFO: Vulnerability 'ScanPageSource' not supported by node 'client'\n",
      "INFO: Vulnerability 'NavigateWebDirectory' not supported by node 'client'\n",
      "INFO: discovered node: Website\n",
      "INFO: GOT REWARD: Web browser history revealed website URL of interest\n",
      "INFO: discovered node: Website\n",
      "INFO: GOT REWARD: Web browser history revealed website URL of interest\n",
      "INFO: Vulnerability 'NavigateWebDirectoryFurther' not supported by node 'Website'\n"
     ]
    },
    {
     "name": "stderr",
     "output_type": "stream",
     "text": [
      "Episode 2|Iteration 10|reward:   11.0|last_reward_at:    1|Elapsed Time: 0:00:00||"
     ]
    },
    {
     "name": "stdout",
     "output_type": "stream",
     "text": [
      "INFO: discovered node: Website\n",
      "INFO: GOT REWARD: Web browser history revealed website URL of interest\n",
      "INFO: Vulnerability 'CredScanGitHistory' not supported by node 'client'\n",
      "INFO: discovered node: Website\n",
      "INFO: GOT REWARD: Web browser history revealed website URL of interest\n",
      "INFO: Vulnerability 'NavigateWebDirectoryFurther' not supported by node 'client'\n",
      "INFO: discovered node: Website\n",
      "INFO: GOT REWARD: Web browser history revealed website URL of interest\n"
     ]
    },
    {
     "name": "stderr",
     "output_type": "stream",
     "text": [
      "Episode 2|Iteration 16|reward:   11.0|last_reward_at:    1|Elapsed Time: 0:00:00||"
     ]
    },
    {
     "name": "stdout",
     "output_type": "stream",
     "text": [
      "INFO: Vulnerability 'NavigateWebDirectoryFurther' not supported by node 'client'\n",
      "INFO: discovered node: Website\n",
      "INFO: GOT REWARD: Web browser history revealed website URL of interest\n",
      "INFO: Vulnerability 'NavigateWebDirectoryFurther' not supported by node 'Website'\n",
      "INFO: Vulnerability 'NavigateWebDirectory' not supported by node 'Website'\n",
      "INFO: Vulnerability 'NavigateWebDirectory' not supported by node 'Website'\n"
     ]
    },
    {
     "name": "stderr",
     "output_type": "stream",
     "text": [
      "Episode 2|Iteration 21|reward:   11.0|last_reward_at:    1|Elapsed Time: 0:00:00||"
     ]
    },
    {
     "name": "stdout",
     "output_type": "stream",
     "text": [
      "INFO: Vulnerability 'ListAzureResources' not supported by node 'client'\n",
      "INFO: Vulnerability 'CredScanGitHistory' not supported by node 'client'\n",
      "INFO: discovered node: Website\n",
      "INFO: GOT REWARD: Web browser history revealed website URL of interest\n",
      "INFO: Vulnerability 'ScanPageContent' not supported by node 'client'\n",
      "INFO: Vulnerability 'NavigateWebDirectory' not supported by node 'client'\n"
     ]
    },
    {
     "name": "stderr",
     "output_type": "stream",
     "text": [
      "Episode 2|Iteration 26|reward:   11.0|last_reward_at:    1|Elapsed Time: 0:00:00||"
     ]
    },
    {
     "name": "stdout",
     "output_type": "stream",
     "text": [
      "INFO: Vulnerability 'ListAzureResources' not supported by node 'Website'\n",
      "INFO: Vulnerability 'CredScanGitHistory' not supported by node 'Website'\n",
      "INFO: Vulnerability 'ScanPageContent' not supported by node 'client'\n",
      "INFO: Vulnerability 'NavigateWebDirectory' not supported by node 'Website'\n",
      "INFO: Vulnerability 'NavigateWebDirectory' not supported by node 'Website'\n"
     ]
    },
    {
     "name": "stderr",
     "output_type": "stream",
     "text": [
      "Episode 2|Iteration 30|reward:   11.0|last_reward_at:    1|Elapsed Time: 0:00:00||"
     ]
    },
    {
     "name": "stdout",
     "output_type": "stream",
     "text": [
      "INFO: discovered node: Website\n",
      "INFO: GOT REWARD: Web browser history revealed website URL of interest\n",
      "INFO: Vulnerability 'ScanSharepointParentDirectory' not supported by node 'Website'\n"
     ]
    },
    {
     "name": "stderr",
     "output_type": "stream",
     "text": [
      "Episode 2|Iteration 33|reward:   11.0|last_reward_at:    1|Elapsed Time: 0:00:00||"
     ]
    },
    {
     "name": "stdout",
     "output_type": "stream",
     "text": [
      "INFO: discovered node: Website\n",
      "INFO: GOT REWARD: Web browser history revealed website URL of interest\n",
      "INFO: Vulnerability 'NavigateWebDirectory' not supported by node 'client'\n",
      "INFO: Vulnerability 'CredScanGitHistory' not supported by node 'client'\n"
     ]
    },
    {
     "name": "stderr",
     "output_type": "stream",
     "text": [
      "Episode 2|Iteration 36|reward:   11.0|last_reward_at:    1|Elapsed Time: 0:00:00||"
     ]
    },
    {
     "name": "stdout",
     "output_type": "stream",
     "text": [
      "INFO: Vulnerability 'ListAzureResources' not supported by node 'client'\n",
      "INFO: Vulnerability 'ListAzureResources' not supported by node 'client'\n",
      "INFO: Vulnerability 'ScanSharepointParentDirectory' not supported by node 'client'\n",
      "INFO: discovered node: Website\n",
      "INFO: GOT REWARD: Web browser history revealed website URL of interest\n",
      "INFO: Vulnerability 'NavigateWebDirectory' not supported by node 'Website'\n"
     ]
    },
    {
     "name": "stderr",
     "output_type": "stream",
     "text": [
      "Episode 2|Iteration 40|reward:   11.0|last_reward_at:    1|Elapsed Time: 0:00:00||"
     ]
    },
    {
     "name": "stdout",
     "output_type": "stream",
     "text": [
      "INFO: discovered node: Website\n",
      "INFO: GOT REWARD: Web browser history revealed website URL of interest\n",
      "INFO: Vulnerability 'AccessDataWithSASToken' not supported by node 'Website'\n",
      "INFO: Vulnerability 'AccessDataWithSASToken' not supported by node 'client'\n"
     ]
    },
    {
     "name": "stderr",
     "output_type": "stream",
     "text": [
      "Episode 2|Iteration 44|reward:   11.0|last_reward_at:    1|Elapsed Time: 0:00:00||"
     ]
    },
    {
     "name": "stdout",
     "output_type": "stream",
     "text": [
      "INFO: Vulnerability 'NavigateWebDirectory' not supported by node 'Website'\n",
      "INFO: Vulnerability 'ScanPageSource' not supported by node 'client'\n",
      "INFO: Vulnerability 'AccessDataWithSASToken' not supported by node 'client'\n",
      "INFO: Vulnerability 'NavigateWebDirectoryFurther' not supported by node 'client'\n",
      "INFO: Vulnerability 'NavigateWebDirectory' not supported by node 'Website'\n"
     ]
    },
    {
     "name": "stderr",
     "output_type": "stream",
     "text": [
      "Episode 2|Iteration 49|reward:   11.0|last_reward_at:    1|Elapsed Time: 0:00:00||"
     ]
    },
    {
     "name": "stdout",
     "output_type": "stream",
     "text": [
      "INFO: Vulnerability 'NavigateWebDirectory' not supported by node 'client'\n",
      "INFO: Vulnerability 'ScanSharepointParentDirectory' not supported by node 'Website'\n",
      "INFO: Vulnerability 'CredScanGitHistory' not supported by node 'client'\n",
      "INFO: discovered node: Website.Directory\n",
      "INFO: GOT REWARD: Viewing the web page source reveals a URL to a .txt file and directory on the website\n"
     ]
    },
    {
     "name": "stderr",
     "output_type": "stream",
     "text": [
      "Episode 2|Iteration 52|reward:   22.0|last_reward_at:   52|Elapsed Time: 0:00:01||"
     ]
    },
    {
     "name": "stdout",
     "output_type": "stream",
     "text": [
      "INFO: Vulnerability 'ScanPageContent' not supported by node 'Website.Directory'\n",
      "INFO: discovered node: Website\n",
      "INFO: GOT REWARD: Web browser history revealed website URL of interest\n",
      "INFO: discovered node: GitHubProject\n",
      "INFO: GOT REWARD: WEBSITE page content has a link to github -> Github project discovered!\n"
     ]
    },
    {
     "name": "stderr",
     "output_type": "stream",
     "text": [
      "Episode 2|Iteration 55|reward:   33.0|last_reward_at:   55|Elapsed Time: 0:00:01||"
     ]
    },
    {
     "name": "stdout",
     "output_type": "stream",
     "text": [
      "INFO: discovered node: Website\n",
      "INFO: GOT REWARD: Web browser history revealed website URL of interest\n",
      "INFO: Vulnerability 'NavigateWebDirectory' not supported by node 'GitHubProject'\n",
      "INFO: discovered node: Website\n",
      "INFO: GOT REWARD: Web browser history revealed website URL of interest\n"
     ]
    },
    {
     "name": "stderr",
     "output_type": "stream",
     "text": [
      "Episode 2|Iteration 59|reward:   33.0|last_reward_at:   55|Elapsed Time: 0:00:01||"
     ]
    },
    {
     "name": "stdout",
     "output_type": "stream",
     "text": [
      "INFO: discovered node: Sharepoint\n",
      "INFO: GOT REWARD: Navigating to parent URL revealed file `deprecation-checklist.txt` containinga URL to an external sharepoint website\n"
     ]
    },
    {
     "name": "stderr",
     "output_type": "stream",
     "text": [
      "Episode 2|Iteration 59|reward:   44.0|last_reward_at:   59|Elapsed Time: 0:00:01||"
     ]
    },
    {
     "name": "stdout",
     "output_type": "stream",
     "text": [
      "INFO: discovered node: Website.Directory\n",
      "INFO: GOT REWARD: Viewing the web page source reveals a URL to a .txt file and directory on the website\n",
      "INFO: discovered node: Website\n",
      "INFO: GOT REWARD: Web browser history revealed website URL of interest\n",
      "INFO: Vulnerability 'ScanPageContent' not supported by node 'GitHubProject'\n",
      "INFO: discovered node: Website\n",
      "INFO: GOT REWARD: Web browser history revealed website URL of interest\n"
     ]
    },
    {
     "name": "stderr",
     "output_type": "stream",
     "text": [
      "Episode 2|Iteration 64|reward:   44.0|last_reward_at:   59|Elapsed Time: 0:00:01||"
     ]
    },
    {
     "name": "stdout",
     "output_type": "stream",
     "text": [
      "INFO: discovered node: Website.Directory\n",
      "INFO: GOT REWARD: Viewing the web page source reveals a URL to a .txt file and directory on the website\n",
      "INFO: discovered node: Website\n",
      "INFO: GOT REWARD: Web browser history revealed website URL of interest\n",
      "INFO: Vulnerability 'ScanPageContent' not supported by node 'Sharepoint'\n",
      "INFO: Vulnerability 'NavigateWebDirectory' not supported by node 'Sharepoint'\n",
      "INFO: discovered node: Website\n",
      "INFO: GOT REWARD: Web browser history revealed website URL of interest\n"
     ]
    },
    {
     "name": "stderr",
     "output_type": "stream",
     "text": [
      "Episode 2|Iteration 69|reward:   44.0|last_reward_at:   59|Elapsed Time: 0:00:01||"
     ]
    },
    {
     "name": "stdout",
     "output_type": "stream",
     "text": [
      "INFO: discovered node: Website\n",
      "INFO: GOT REWARD: Web browser history revealed website URL of interest\n",
      "INFO: Vulnerability 'AccessDataWithSASToken' not supported by node 'Sharepoint'\n",
      "INFO: Vulnerability 'ListAzureResources' not supported by node 'Sharepoint'\n",
      "INFO: Vulnerability 'NavigateWebDirectoryFurther' not supported by node 'GitHubProject'\n",
      "INFO: discovered node: AzureResourceManager\n",
      "INFO: discovered credential: CachedCredential(node='AzureResourceManager', port='HTTPS', credential='ADPrincipalCreds')\n",
      "INFO: GOT REWARD: Navigating to the Sharepoint site revealed  AD Service Principal Credentials\n"
     ]
    },
    {
     "name": "stderr",
     "output_type": "stream",
     "text": [
      "Episode 2|Iteration 73|reward:   58.0|last_reward_at:   73|Elapsed Time: 0:00:01||"
     ]
    },
    {
     "name": "stdout",
     "output_type": "stream",
     "text": [
      "INFO: Vulnerability 'ScanPageContent' not supported by node 'GitHubProject'\n",
      "INFO: invalid credentials supplied\n",
      "INFO: Vulnerability 'ListAzureResources' not supported by node 'Website.Directory'\n",
      "INFO: Vulnerability 'ScanSharepointParentDirectory' not supported by node 'Website.Directory'\n"
     ]
    },
    {
     "name": "stderr",
     "output_type": "stream",
     "text": [
      "Episode 2|Iteration 77|reward:   58.0|last_reward_at:   73|Elapsed Time: 0:00:01||"
     ]
    },
    {
     "name": "stdout",
     "output_type": "stream",
     "text": [
      "INFO: target node 'client' not listening on port 'HTTPS'\n"
     ]
    },
    {
     "name": "stderr",
     "output_type": "stream",
     "text": [
      "Episode 2|Iteration 79|reward:   58.0|last_reward_at:   73|Elapsed Time: 0:00:01||"
     ]
    },
    {
     "name": "stdout",
     "output_type": "stream",
     "text": [
      "INFO: Vulnerability 'ScanPageSource' not supported by node 'Website.Directory'\n",
      "INFO: invalid credentials supplied\n",
      "INFO: discovered node: Website\n",
      "INFO: GOT REWARD: Web browser history revealed website URL of interest\n"
     ]
    },
    {
     "name": "stderr",
     "output_type": "stream",
     "text": [
      "Episode 2|Iteration 82|reward:   58.0|last_reward_at:   73|Elapsed Time: 0:00:01||"
     ]
    },
    {
     "name": "stdout",
     "output_type": "stream",
     "text": [
      "INFO: target node 'Website.Directory' not listening on port 'SSH'\n",
      "INFO: BLOCKED TRAFFIC: source node 'client' is blocking outgoing traffic on port 'PING'\n",
      "INFO: discovered node: Website\n",
      "INFO: GOT REWARD: Web browser history revealed website URL of interest\n",
      "INFO: discovered node: Website\n",
      "INFO: GOT REWARD: Web browser history revealed website URL of interest\n",
      "INFO: Vulnerability 'ScanPageContent' not supported by node 'AzureResourceManager'\n"
     ]
    },
    {
     "name": "stderr",
     "output_type": "stream",
     "text": [
      "Episode 2|Iteration 87|reward:   58.0|last_reward_at:   73|Elapsed Time: 0:00:01||"
     ]
    },
    {
     "name": "stdout",
     "output_type": "stream",
     "text": [
      "INFO: discovered node: Website\n",
      "INFO: discovered credential: CachedCredential(node='Website', port='MySQL', credential='ReusedMySqlCred-web')\n",
      "INFO: GOT REWARD: Discover browseable web directory: Navigating to parent URL revealed file `readme.txt`with secret data (aflag); and `getting-started.txt` with MYSQL credentials\n"
     ]
    },
    {
     "name": "stderr",
     "output_type": "stream",
     "text": [
      "Episode 2|Iteration 87|reward:   67.0|last_reward_at:   87|Elapsed Time: 0:00:01||"
     ]
    },
    {
     "name": "stdout",
     "output_type": "stream",
     "text": [
      "INFO: BLOCKED TRAFFIC: source node 'client' is blocking outgoing traffic on port 'SSH-key'\n"
     ]
    },
    {
     "name": "stderr",
     "output_type": "stream",
     "text": [
      "Episode 2|Iteration 89|reward:   67.0|last_reward_at:   87|Elapsed Time: 0:00:01||"
     ]
    },
    {
     "name": "stdout",
     "output_type": "stream",
     "text": [
      "INFO: Vulnerability 'NavigateWebDirectory' not supported by node 'Website'\n",
      "INFO: BLOCKED TRAFFIC: source node 'client' is blocking outgoing traffic on port 'su'\n",
      "INFO: Vulnerability 'NavigateWebDirectoryFurther' not supported by node 'GitHubProject'\n"
     ]
    },
    {
     "name": "stderr",
     "output_type": "stream",
     "text": [
      "Episode 2|Iteration 92|reward:   67.0|last_reward_at:   87|Elapsed Time: 0:00:02||"
     ]
    },
    {
     "name": "stdout",
     "output_type": "stream",
     "text": [
      "INFO: Vulnerability 'AccessDataWithSASToken' not supported by node 'Website.Directory'\n",
      "INFO: discovered node: Website\n",
      "INFO: GOT REWARD: Web browser history revealed website URL of interest\n",
      "INFO: discovered node: Website\n",
      "INFO: GOT REWARD: Web browser history revealed website URL of interest\n",
      "INFO: discovered node: Website\n",
      "INFO: GOT REWARD: Web browser history revealed website URL of interest\n",
      "INFO: Vulnerability 'ScanPageContent' not supported by node 'AzureResourceManager'\n"
     ]
    },
    {
     "name": "stderr",
     "output_type": "stream",
     "text": [
      "Episode 2|Iteration 96|reward:   67.0|last_reward_at:   87|Elapsed Time: 0:00:02||"
     ]
    },
    {
     "name": "stdout",
     "output_type": "stream",
     "text": [
      "INFO: target node 'GitHubProject' not listening on port 'HTTPS'\n",
      "INFO: BLOCKED TRAFFIC: source node 'client' is blocking outgoing traffic on port 'GIT'\n",
      "INFO: BLOCKED TRAFFIC: source node 'client' is blocking outgoing traffic on port 'MySQL'\n",
      "INFO: discovered node: Tarpit-AzureVM\n",
      "INFO: GOT REWARD: Obtained Azure VM and public IP information\n"
     ]
    },
    {
     "name": "stderr",
     "output_type": "stream",
     "text": [
      "Episode 2|Iteration 100|reward:   78.0|last_reward_at:  100|Elapsed Time: 0:00:02||"
     ]
    },
    {
     "name": "stdout",
     "output_type": "stream",
     "text": [
      "INFO: Vulnerability 'AccessDataWithSASToken' not supported by node 'Website'\n",
      "INFO: Vulnerability 'ScanPageContent' not supported by node 'AzureResourceManager'\n",
      "INFO: discovered node: Website\n",
      "INFO: GOT REWARD: Web browser history revealed website URL of interest\n"
     ]
    },
    {
     "name": "stderr",
     "output_type": "stream",
     "text": [
      "Episode 2|Iteration 104|reward:   78.0|last_reward_at:  100|Elapsed Time: 0:00:02||"
     ]
    },
    {
     "name": "stdout",
     "output_type": "stream",
     "text": [
      "INFO: discovered node: Website.Directory\n",
      "INFO: GOT REWARD: Viewing the web page source reveals a URL to a .txt file and directory on the website\n",
      "INFO: Vulnerability 'NavigateWebDirectory' not supported by node 'Sharepoint'\n",
      "INFO: Vulnerability 'NavigateWebDirectoryFurther' not supported by node 'Sharepoint'\n"
     ]
    },
    {
     "name": "stderr",
     "output_type": "stream",
     "text": [
      "Episode 2|Iteration 107|reward:   78.0|last_reward_at:  100|Elapsed Time: 0:00:02||"
     ]
    },
    {
     "name": "stdout",
     "output_type": "stream",
     "text": [
      "INFO: BLOCKED TRAFFIC: source node 'client' is blocking outgoing traffic on port 'SSH-key'\n",
      "INFO: discovered node: Website\n",
      "INFO: GOT REWARD: Web browser history revealed website URL of interest\n",
      "INFO: BLOCKED TRAFFIC: source node 'client' is blocking outgoing traffic on port 'SSH-key'\n",
      "INFO: Vulnerability 'NavigateWebDirectoryFurther' not supported by node 'client'\n",
      "INFO: Vulnerability 'AccessDataWithSASToken' not supported by node 'client'\n"
     ]
    },
    {
     "name": "stderr",
     "output_type": "stream",
     "text": [
      "Episode 2|Iteration 112|reward:   78.0|last_reward_at:  100|Elapsed Time: 0:00:02||"
     ]
    },
    {
     "name": "stdout",
     "output_type": "stream",
     "text": [
      "INFO: BLOCKED TRAFFIC: source node 'client' is blocking outgoing traffic on port 'MySQL'\n",
      "INFO: BLOCKED TRAFFIC: source node 'client' is blocking outgoing traffic on port 'GIT'\n",
      "INFO: Vulnerability 'ScanPageSource' not supported by node 'Website.Directory'\n",
      "INFO: discovered node: Website\n",
      "INFO: GOT REWARD: Web browser history revealed website URL of interest\n",
      "INFO: Vulnerability 'CredScanGitHistory' not supported by node 'Sharepoint'\n"
     ]
    },
    {
     "name": "stderr",
     "output_type": "stream",
     "text": [
      "Episode 2|Iteration 117|reward:   78.0|last_reward_at:  100|Elapsed Time: 0:00:02||"
     ]
    },
    {
     "name": "stdout",
     "output_type": "stream",
     "text": [
      "INFO: Vulnerability 'CredScanGitHistory' not supported by node 'client'\n",
      "INFO: BLOCKED TRAFFIC: source node 'client' is blocking outgoing traffic on port 'SSH-key'\n",
      "INFO: discovered node: Website\n",
      "INFO: GOT REWARD: Web browser history revealed website URL of interest\n",
      "INFO: Vulnerability 'NavigateWebDirectory' not supported by node 'Tarpit-AzureVM'\n",
      "INFO: BLOCKED TRAFFIC: source node 'client' is blocking outgoing traffic on port 'MySQL'\n"
     ]
    },
    {
     "name": "stderr",
     "output_type": "stream",
     "text": [
      "Episode 2|Iteration 122|reward:   78.0|last_reward_at:  100|Elapsed Time: 0:00:02||"
     ]
    },
    {
     "name": "stdout",
     "output_type": "stream",
     "text": [
      "INFO: invalid credentials supplied\n",
      "INFO: Vulnerability 'ScanPageSource' not supported by node 'Sharepoint'\n",
      "INFO: BLOCKED TRAFFIC: source node 'client' is blocking outgoing traffic on port 'PING'\n"
     ]
    },
    {
     "name": "stderr",
     "output_type": "stream",
     "text": [
      "Episode 2|Iteration 125|reward:   78.0|last_reward_at:  100|Elapsed Time: 0:00:02||"
     ]
    },
    {
     "name": "stdout",
     "output_type": "stream",
     "text": [
      "INFO: Vulnerability 'NavigateWebDirectory' not supported by node 'Tarpit-AzureVM'\n",
      "INFO: discovered node: Website\n",
      "INFO: GOT REWARD: Web browser history revealed website URL of interest\n",
      "INFO: discovered node: Website\n",
      "INFO: GOT REWARD: Web browser history revealed website URL of interest\n",
      "INFO: Vulnerability 'AccessDataWithSASToken' not supported by node 'Website'\n",
      "INFO: BLOCKED TRAFFIC: source node 'client' is blocking outgoing traffic on port 'MySQL'\n"
     ]
    },
    {
     "name": "stderr",
     "output_type": "stream",
     "text": [
      "Episode 2|Iteration 129|reward:   78.0|last_reward_at:  100|Elapsed Time: 0:00:02||"
     ]
    },
    {
     "name": "stdout",
     "output_type": "stream",
     "text": [
      "INFO: BLOCKED TRAFFIC: source node 'client' is blocking outgoing traffic on port 'su'\n",
      "INFO: Vulnerability 'ScanPageSource' not supported by node 'Website.Directory'\n",
      "INFO: Vulnerability 'AccessDataWithSASToken' not supported by node 'client'\n",
      "INFO: Vulnerability 'NavigateWebDirectoryFurther' not supported by node 'Tarpit-AzureVM'\n",
      "INFO: Vulnerability 'ListAzureResources' not supported by node 'GitHubProject'\n"
     ]
    },
    {
     "name": "stderr",
     "output_type": "stream",
     "text": [
      "Episode 2|Iteration 135|reward:   78.0|last_reward_at:  100|Elapsed Time: 0:00:02||"
     ]
    },
    {
     "name": "stdout",
     "output_type": "stream",
     "text": [
      "INFO: Vulnerability 'ScanPageSource' not supported by node 'Tarpit-AzureVM'\n",
      "INFO: discovered node: Website\n",
      "INFO: GOT REWARD: Web browser history revealed website URL of interest\n",
      "INFO: discovered node: GitHubProject\n",
      "INFO: GOT REWARD: WEBSITE page content has a link to github -> Github project discovered!\n",
      "INFO: Vulnerability 'AccessDataWithSASToken' not supported by node 'Sharepoint'\n",
      "INFO: discovered node: Website\n",
      "INFO: GOT REWARD: Web browser history revealed website URL of interest\n"
     ]
    },
    {
     "name": "stderr",
     "output_type": "stream",
     "text": [
      "Episode 2|Iteration 140|reward:   78.0|last_reward_at:  100|Elapsed Time: 0:00:02||"
     ]
    },
    {
     "name": "stdout",
     "output_type": "stream",
     "text": [
      "INFO: BLOCKED TRAFFIC: source node 'client' is blocking outgoing traffic on port 'MySQL'\n",
      "INFO: Vulnerability 'ScanPageSource' not supported by node 'Tarpit-AzureVM'\n",
      "INFO: target node 'Website.Directory' not listening on port 'SSH'\n",
      "INFO: Vulnerability 'ScanPageSource' not supported by node 'Tarpit-AzureVM'\n",
      "INFO: discovered node: Website\n",
      "INFO: GOT REWARD: Web browser history revealed website URL of interest\n"
     ]
    },
    {
     "name": "stderr",
     "output_type": "stream",
     "text": [
      "Episode 2|Iteration 144|reward:   78.0|last_reward_at:  100|Elapsed Time: 0:00:03||"
     ]
    },
    {
     "name": "stdout",
     "output_type": "stream",
     "text": [
      "INFO: Vulnerability 'AccessDataWithSASToken' not supported by node 'client'\n",
      "INFO: discovered node: Sharepoint\n",
      "INFO: GOT REWARD: Navigating to parent URL revealed file `deprecation-checklist.txt` containinga URL to an external sharepoint website\n",
      "INFO: invalid credentials supplied\n",
      "INFO: BLOCKED TRAFFIC: source node 'client' is blocking outgoing traffic on port 'MySQL'\n",
      "INFO: BLOCKED TRAFFIC: source node 'client' is blocking outgoing traffic on port 'su'\n"
     ]
    },
    {
     "name": "stderr",
     "output_type": "stream",
     "text": [
      "Episode 2|Iteration 150|reward:   78.0|last_reward_at:  100|Elapsed Time: 0:00:03||"
     ]
    },
    {
     "name": "stdout",
     "output_type": "stream",
     "text": [
      "INFO: Vulnerability 'NavigateWebDirectory' not supported by node 'client'\n",
      "INFO: Vulnerability 'NavigateWebDirectory' not supported by node 'client'\n",
      "INFO: Vulnerability 'ScanPageSource' not supported by node 'GitHubProject'\n",
      "INFO: Vulnerability 'NavigateWebDirectoryFurther' not supported by node 'GitHubProject'\n",
      "INFO: BLOCKED TRAFFIC: source node 'client' is blocking outgoing traffic on port 'PING'\n"
     ]
    },
    {
     "name": "stderr",
     "output_type": "stream",
     "text": [
      "Episode 2|Iteration 155|reward:   78.0|last_reward_at:  100|Elapsed Time: 0:00:03||"
     ]
    },
    {
     "name": "stdout",
     "output_type": "stream",
     "text": [
      "INFO: Vulnerability 'ScanPageSource' not supported by node 'GitHubProject'\n",
      "INFO: BLOCKED TRAFFIC: source node 'client' is blocking outgoing traffic on port 'GIT'\n"
     ]
    },
    {
     "name": "stderr",
     "output_type": "stream",
     "text": [
      "Episode 2|Iteration 157|reward:   78.0|last_reward_at:  100|Elapsed Time: 0:00:03||"
     ]
    },
    {
     "name": "stdout",
     "output_type": "stream",
     "text": [
      "INFO: BLOCKED TRAFFIC: source node 'client' is blocking outgoing traffic on port 'GIT'\n",
      "INFO: Vulnerability 'ScanPageSource' not supported by node 'client'\n",
      "INFO: discovered node: Website\n",
      "INFO: GOT REWARD: Web browser history revealed website URL of interest\n"
     ]
    },
    {
     "name": "stderr",
     "output_type": "stream",
     "text": [
      "Episode 2|Iteration 159|reward:   78.0|last_reward_at:  100|Elapsed Time: 0:00:03||"
     ]
    },
    {
     "name": "stdout",
     "output_type": "stream",
     "text": [
      "INFO: BLOCKED TRAFFIC: source node 'client' is blocking outgoing traffic on port 'SSH-key'\n",
      "INFO: BLOCKED TRAFFIC: source node 'client' is blocking outgoing traffic on port 'MySQL'\n",
      "INFO: Vulnerability 'ListAzureResources' not supported by node 'Sharepoint'\n"
     ]
    },
    {
     "name": "stderr",
     "output_type": "stream",
     "text": [
      "Episode 2|Iteration 163|reward:   78.0|last_reward_at:  100|Elapsed Time: 0:00:03||"
     ]
    },
    {
     "name": "stdout",
     "output_type": "stream",
     "text": [
      "INFO: Vulnerability 'ScanPageSource' not supported by node 'Sharepoint'\n",
      "INFO: Vulnerability 'ScanSharepointParentDirectory' not supported by node 'client'\n"
     ]
    },
    {
     "name": "stderr",
     "output_type": "stream",
     "text": [
      "Episode 2|Iteration 165|reward:   78.0|last_reward_at:  100|Elapsed Time: 0:00:03||"
     ]
    },
    {
     "name": "stdout",
     "output_type": "stream",
     "text": [
      "INFO: Vulnerability 'NavigateWebDirectory' not supported by node 'AzureResourceManager'\n",
      "INFO: Vulnerability 'AccessDataWithSASToken' not supported by node 'AzureResourceManager'\n",
      "INFO: Vulnerability 'NavigateWebDirectoryFurther' not supported by node 'client'\n"
     ]
    },
    {
     "name": "stderr",
     "output_type": "stream",
     "text": [
      "Episode 2|Iteration 168|reward:   78.0|last_reward_at:  100|Elapsed Time: 0:00:03||"
     ]
    },
    {
     "name": "stdout",
     "output_type": "stream",
     "text": [
      "INFO: Vulnerability 'NavigateWebDirectory' not supported by node 'Sharepoint'\n",
      "INFO: BLOCKED TRAFFIC: source node 'client' is blocking outgoing traffic on port 'SSH-key'\n",
      "INFO: discovered node: Website\n",
      "INFO: GOT REWARD: Web browser history revealed website URL of interest\n",
      "INFO: BLOCKED TRAFFIC: source node 'client' is blocking outgoing traffic on port 'su'\n",
      "INFO: Vulnerability 'ScanSharepointParentDirectory' not supported by node 'client'\n"
     ]
    },
    {
     "name": "stderr",
     "output_type": "stream",
     "text": [
      "Episode 2|Iteration 173|reward:   78.0|last_reward_at:  100|Elapsed Time: 0:00:03||"
     ]
    },
    {
     "name": "stdout",
     "output_type": "stream",
     "text": [
      "INFO: BLOCKED TRAFFIC: source node 'client' is blocking outgoing traffic on port 'MySQL'\n",
      "INFO: BLOCKED TRAFFIC: source node 'client' is blocking outgoing traffic on port 'MySQL'\n",
      "INFO: Vulnerability 'ScanPageSource' not supported by node 'Tarpit-AzureVM'\n",
      "INFO: Vulnerability 'CredScanGitHistory' not supported by node 'AzureResourceManager'\n",
      "INFO: discovered node: AzureResourceManager\n",
      "INFO: discovered credential: CachedCredential(node='AzureResourceManager', port='HTTPS', credential='ADPrincipalCreds')\n",
      "INFO: GOT REWARD: Navigating to the Sharepoint site revealed  AD Service Principal Credentials\n"
     ]
    },
    {
     "name": "stderr",
     "output_type": "stream",
     "text": [
      "Episode 2|Iteration 178|reward:   78.0|last_reward_at:  100|Elapsed Time: 0:00:03||"
     ]
    },
    {
     "name": "stdout",
     "output_type": "stream",
     "text": [
      "INFO: Vulnerability 'ScanSharepointParentDirectory' not supported by node 'Tarpit-AzureVM'\n",
      "INFO: target node 'client' not listening on port 'HTTPS'\n",
      "INFO: Vulnerability 'ScanPageSource' not supported by node 'Tarpit-AzureVM'\n",
      "INFO: Vulnerability 'AccessDataWithSASToken' not supported by node 'Website'\n",
      "INFO: discovered node: Website\n",
      "INFO: GOT REWARD: Web browser history revealed website URL of interest\n"
     ]
    },
    {
     "name": "stderr",
     "output_type": "stream",
     "text": [
      "Episode 2|Iteration 183|reward:   78.0|last_reward_at:  100|Elapsed Time: 0:00:03||"
     ]
    },
    {
     "name": "stdout",
     "output_type": "stream",
     "text": [
      "INFO: Vulnerability 'ListAzureResources' not supported by node 'Tarpit-AzureVM'\n",
      "INFO: Vulnerability 'NavigateWebDirectory' not supported by node 'client'\n",
      "INFO: Vulnerability 'ScanPageSource' not supported by node 'Sharepoint'\n",
      "INFO: target node 'AzureResourceManager' not listening on port 'SSH'\n",
      "INFO: Vulnerability 'NavigateWebDirectoryFurther' not supported by node 'client'\n"
     ]
    },
    {
     "name": "stderr",
     "output_type": "stream",
     "text": [
      "Episode 2|Iteration 187|reward:   78.0|last_reward_at:  100|Elapsed Time: 0:00:03||"
     ]
    },
    {
     "name": "stdout",
     "output_type": "stream",
     "text": [
      "INFO: discovered node: Website\n",
      "INFO: GOT REWARD: Web browser history revealed website URL of interest\n",
      "INFO: Vulnerability 'ScanPageSource' not supported by node 'GitHubProject'\n",
      "INFO: discovered node: Website\n",
      "INFO: GOT REWARD: Web browser history revealed website URL of interest\n",
      "INFO: Vulnerability 'NavigateWebDirectoryFurther' not supported by node 'client'\n",
      "INFO: Vulnerability 'NavigateWebDirectoryFurther' not supported by node 'AzureResourceManager'\n"
     ]
    },
    {
     "name": "stderr",
     "output_type": "stream",
     "text": [
      "Episode 2|Iteration 193|reward:   78.0|last_reward_at:  100|Elapsed Time: 0:00:04||"
     ]
    },
    {
     "name": "stdout",
     "output_type": "stream",
     "text": [
      "INFO: target node 'Sharepoint' not listening on port 'SSH'\n",
      "INFO: discovered node: Website\n",
      "INFO: GOT REWARD: Web browser history revealed website URL of interest\n",
      "INFO: Vulnerability 'NavigateWebDirectoryFurther' not supported by node 'GitHubProject'\n",
      "INFO: Vulnerability 'NavigateWebDirectoryFurther' not supported by node 'client'\n",
      "INFO: Vulnerability 'ScanPageSource' not supported by node 'Sharepoint'\n"
     ]
    },
    {
     "name": "stderr",
     "output_type": "stream",
     "text": [
      "Episode 2|Iteration 198|reward:   78.0|last_reward_at:  100|Elapsed Time: 0:00:04||"
     ]
    },
    {
     "name": "stdout",
     "output_type": "stream",
     "text": [
      "INFO: BLOCKED TRAFFIC: source node 'client' is blocking outgoing traffic on port 'MySQL'\n",
      "INFO: BLOCKED TRAFFIC: source node 'client' is blocking outgoing traffic on port 'su'\n",
      "INFO: BLOCKED TRAFFIC: source node 'client' is blocking outgoing traffic on port 'PING'\n"
     ]
    },
    {
     "name": "stderr",
     "output_type": "stream",
     "text": [
      "Episode 2|Iteration 200|reward:   78.0|last_reward_at:  100|Elapsed Time: 0:00:04||\n"
     ]
    },
    {
     "name": "stdout",
     "output_type": "stream",
     "text": [
      "  Episode 2 stopped at t=200 \n",
      "  Breakdown [Reward/NoReward (Success rate)]\n",
      "    explore-local: 1/41 (0.02)\n",
      "    explore-remote: 6/100 (0.06)\n",
      "    explore-connect: 0/40 (0.00)\n",
      "    exploit-local: 0/0 (NaN)\n",
      "    exploit-remote: 0/12 (0.00)\n",
      "    exploit-connect: 0/0 (NaN)\n",
      "  exploit deflected to exploration: 21\n",
      "  ## Episode: 3/5 'Baseline' ϵ=0.8386, γ=0.015, lr=0.01, replaymemory=10000,\n",
      "batch=512, target_update=10\n",
      "INFO: Resetting the CyberBattle environment\n"
     ]
    },
    {
     "name": "stderr",
     "output_type": "stream",
     "text": [
      "Episode 3|Iteration 0|reward: ------|last_reward_at: ----|Elapsed Time: 0:00:00||"
     ]
    },
    {
     "name": "stdout",
     "output_type": "stream",
     "text": [
      "INFO: Vulnerability 'NavigateWebDirectoryFurther' not supported by node 'client'\n"
     ]
    },
    {
     "name": "stderr",
     "output_type": "stream",
     "text": [
      "Episode 3|Iteration 1|reward:    0.0|last_reward_at: ----|Elapsed Time: 0:00:00||"
     ]
    },
    {
     "name": "stdout",
     "output_type": "stream",
     "text": [
      "INFO: Vulnerability 'NavigateWebDirectoryFurther' not supported by node 'client'\n",
      "INFO: Vulnerability 'CredScanGitHistory' not supported by node 'client'\n",
      "INFO: discovered node: Website\n",
      "INFO: GOT REWARD: Web browser history revealed website URL of interest\n"
     ]
    },
    {
     "name": "stderr",
     "output_type": "stream",
     "text": [
      "Episode 3|Iteration 4|reward:   11.0|last_reward_at:    4|Elapsed Time: 0:00:00||"
     ]
    },
    {
     "name": "stdout",
     "output_type": "stream",
     "text": [
      "INFO: discovered node: Website\n",
      "INFO: GOT REWARD: Web browser history revealed website URL of interest\n",
      "INFO: Vulnerability 'CredScanGitHistory' not supported by node 'client'\n",
      "INFO: Vulnerability 'AccessDataWithSASToken' not supported by node 'Website'\n",
      "INFO: discovered node: Website\n",
      "INFO: GOT REWARD: Web browser history revealed website URL of interest\n",
      "INFO: Vulnerability 'NavigateWebDirectoryFurther' not supported by node 'client'\n",
      "INFO: discovered node: GitHubProject\n",
      "INFO: GOT REWARD: WEBSITE page content has a link to github -> Github project discovered!\n"
     ]
    },
    {
     "name": "stderr",
     "output_type": "stream",
     "text": [
      "Episode 3|Iteration 10|reward:   22.0|last_reward_at:   10|Elapsed Time: 0:00:00||"
     ]
    },
    {
     "name": "stdout",
     "output_type": "stream",
     "text": [
      "INFO: Vulnerability 'NavigateWebDirectoryFurther' not supported by node 'GitHubProject'\n",
      "INFO: discovered node: Website\n",
      "INFO: GOT REWARD: Web browser history revealed website URL of interest\n",
      "INFO: Vulnerability 'AccessDataWithSASToken' not supported by node 'client'\n",
      "INFO: Vulnerability 'CredScanGitHistory' not supported by node 'client'\n",
      "INFO: Vulnerability 'ListAzureResources' not supported by node 'client'\n",
      "INFO: Vulnerability 'ListAzureResources' not supported by node 'client'\n",
      "INFO: Vulnerability 'NavigateWebDirectory' not supported by node 'GitHubProject'\n"
     ]
    },
    {
     "name": "stderr",
     "output_type": "stream",
     "text": [
      "Episode 3|Iteration 18|reward:   22.0|last_reward_at:   10|Elapsed Time: 0:00:00||"
     ]
    },
    {
     "name": "stdout",
     "output_type": "stream",
     "text": [
      "INFO: Vulnerability 'AccessDataWithSASToken' not supported by node 'client'\n",
      "INFO: Vulnerability 'ScanPageContent' not supported by node 'GitHubProject'\n",
      "INFO: Vulnerability 'CredScanGitHistory' not supported by node 'client'\n",
      "INFO: discovered node: Website\n",
      "INFO: GOT REWARD: Web browser history revealed website URL of interest\n",
      "INFO: discovered node: Website\n",
      "INFO: GOT REWARD: Web browser history revealed website URL of interest\n"
     ]
    },
    {
     "name": "stderr",
     "output_type": "stream",
     "text": [
      "Episode 3|Iteration 23|reward:   22.0|last_reward_at:   10|Elapsed Time: 0:00:00||"
     ]
    },
    {
     "name": "stdout",
     "output_type": "stream",
     "text": [
      "INFO: Vulnerability 'NavigateWebDirectory' not supported by node 'client'\n",
      "INFO: discovered node: Website\n",
      "INFO: GOT REWARD: Web browser history revealed website URL of interest\n",
      "INFO: Vulnerability 'ScanSharepointParentDirectory' not supported by node 'Website'\n",
      "INFO: Vulnerability 'NavigateWebDirectoryFurther' not supported by node 'Website'\n",
      "INFO: discovered node: Website\n",
      "INFO: GOT REWARD: Web browser history revealed website URL of interest\n"
     ]
    },
    {
     "name": "stderr",
     "output_type": "stream",
     "text": [
      "Episode 3|Iteration 28|reward:   22.0|last_reward_at:   10|Elapsed Time: 0:00:00||"
     ]
    },
    {
     "name": "stdout",
     "output_type": "stream",
     "text": [
      "INFO: Vulnerability 'ListAzureResources' not supported by node 'client'\n",
      "INFO: discovered node: Website\n",
      "INFO: GOT REWARD: Web browser history revealed website URL of interest\n",
      "INFO: Vulnerability 'NavigateWebDirectory' not supported by node 'Website'\n",
      "INFO: Vulnerability 'AccessDataWithSASToken' not supported by node 'Website'\n",
      "INFO: Vulnerability 'CredScanGitHistory' not supported by node 'client'\n",
      "INFO: Vulnerability 'AccessDataWithSASToken' not supported by node 'Website'\n",
      "INFO: Vulnerability 'CredScanGitHistory' not supported by node 'client'\n",
      "INFO: discovered node: Website\n",
      "INFO: GOT REWARD: Web browser history revealed website URL of interest\n"
     ]
    },
    {
     "name": "stderr",
     "output_type": "stream",
     "text": [
      "Episode 3|Iteration 36|reward:   22.0|last_reward_at:   10|Elapsed Time: 0:00:00||"
     ]
    },
    {
     "name": "stdout",
     "output_type": "stream",
     "text": [
      "INFO: discovered node: Website\n",
      "INFO: GOT REWARD: Web browser history revealed website URL of interest\n",
      "INFO: Vulnerability 'ListAzureResources' not supported by node 'client'\n",
      "INFO: Vulnerability 'NavigateWebDirectory' not supported by node 'client'\n",
      "INFO: discovered node: Website\n",
      "INFO: GOT REWARD: Web browser history revealed website URL of interest\n",
      "INFO: Vulnerability 'ListAzureResources' not supported by node 'Website'\n",
      "INFO: Vulnerability 'ScanPageSource' not supported by node 'GitHubProject'\n"
     ]
    },
    {
     "name": "stderr",
     "output_type": "stream",
     "text": [
      "Episode 3|Iteration 41|reward:   22.0|last_reward_at:   10|Elapsed Time: 0:00:01||"
     ]
    },
    {
     "name": "stdout",
     "output_type": "stream",
     "text": [
      "INFO: discovered node: Website\n",
      "INFO: GOT REWARD: Web browser history revealed website URL of interest\n",
      "INFO: Vulnerability 'ListAzureResources' not supported by node 'GitHubProject'\n"
     ]
    },
    {
     "name": "stderr",
     "output_type": "stream",
     "text": [
      "Episode 3|Iteration 43|reward:   22.0|last_reward_at:   10|Elapsed Time: 0:00:01||"
     ]
    },
    {
     "name": "stdout",
     "output_type": "stream",
     "text": [
      "INFO: discovered node: Website\n",
      "INFO: GOT REWARD: Web browser history revealed website URL of interest\n",
      "INFO: Vulnerability 'ScanSharepointParentDirectory' not supported by node 'client'\n"
     ]
    },
    {
     "name": "stderr",
     "output_type": "stream",
     "text": [
      "Episode 3|Iteration 46|reward:   22.0|last_reward_at:   10|Elapsed Time: 0:00:01||"
     ]
    },
    {
     "name": "stdout",
     "output_type": "stream",
     "text": [
      "INFO: Vulnerability 'NavigateWebDirectory' not supported by node 'Website'\n",
      "INFO: discovered node: Website\n",
      "INFO: GOT REWARD: Web browser history revealed website URL of interest\n",
      "INFO: Vulnerability 'ScanSharepointParentDirectory' not supported by node 'Website'\n"
     ]
    },
    {
     "name": "stderr",
     "output_type": "stream",
     "text": [
      "Episode 3|Iteration 49|reward:   22.0|last_reward_at:   10|Elapsed Time: 0:00:01||"
     ]
    },
    {
     "name": "stdout",
     "output_type": "stream",
     "text": [
      "INFO: Vulnerability 'NavigateWebDirectoryFurther' not supported by node 'client'\n",
      "INFO: Vulnerability 'ScanPageContent' not supported by node 'GitHubProject'\n",
      "INFO: Vulnerability 'NavigateWebDirectoryFurther' not supported by node 'Website'\n",
      "INFO: Vulnerability 'NavigateWebDirectory' not supported by node 'GitHubProject'\n",
      "INFO: Vulnerability 'ScanSharepointParentDirectory' not supported by node 'GitHubProject'\n"
     ]
    },
    {
     "name": "stderr",
     "output_type": "stream",
     "text": [
      "Episode 3|Iteration 53|reward:   22.0|last_reward_at:   10|Elapsed Time: 0:00:01||"
     ]
    },
    {
     "name": "stdout",
     "output_type": "stream",
     "text": [
      "INFO: Vulnerability 'ScanPageContent' not supported by node 'GitHubProject'\n",
      "INFO: Vulnerability 'ListAzureResources' not supported by node 'GitHubProject'\n"
     ]
    },
    {
     "name": "stderr",
     "output_type": "stream",
     "text": [
      "Episode 3|Iteration 56|reward:   22.0|last_reward_at:   10|Elapsed Time: 0:00:01||"
     ]
    },
    {
     "name": "stdout",
     "output_type": "stream",
     "text": [
      "INFO: Vulnerability 'ScanSharepointParentDirectory' not supported by node 'GitHubProject'\n",
      "INFO: discovered node: Tarpit-AzureStorage\n",
      "INFO: discovered credential: CachedCredential(node='Tarpit-AzureStorage', port='HTTPS', credential='SASTOKEN1')\n",
      "INFO: GOT REWARD: CredScan success: Some secure access token (SAS) was leaked in a reverted git commit\n"
     ]
    },
    {
     "name": "stderr",
     "output_type": "stream",
     "text": [
      "Episode 3|Iteration 57|reward:   36.0|last_reward_at:   57|Elapsed Time: 0:00:01||"
     ]
    },
    {
     "name": "stdout",
     "output_type": "stream",
     "text": [
      "INFO: Infected node 'Tarpit-AzureStorage' from 'client' via HTTPS with credential 'SASTOKEN1'\n"
     ]
    },
    {
     "name": "stderr",
     "output_type": "stream",
     "text": [
      "Episode 3|Iteration 58|reward:   86.0|last_reward_at:   58|Elapsed Time: 0:00:01||"
     ]
    },
    {
     "name": "stdout",
     "output_type": "stream",
     "text": [
      "INFO: BLOCKED TRAFFIC: source node 'Tarpit-AzureStorage' is blocking outgoing traffic on port 'GIT'\n",
      "INFO: discovered node: Website\n",
      "INFO: GOT REWARD: Web browser history revealed website URL of interest\n"
     ]
    },
    {
     "name": "stderr",
     "output_type": "stream",
     "text": [
      "Episode 3|Iteration 61|reward:   86.0|last_reward_at:   58|Elapsed Time: 0:00:01||"
     ]
    },
    {
     "name": "stdout",
     "output_type": "stream",
     "text": [
      "INFO: target node 'client' not listening on port 'SSH'\n",
      "INFO: Vulnerability 'ScanSharepointParentDirectory' not supported by node 'Tarpit-AzureStorage'\n"
     ]
    },
    {
     "name": "stderr",
     "output_type": "stream",
     "text": [
      "Episode 3|Iteration 63|reward:   86.0|last_reward_at:   58|Elapsed Time: 0:00:02||"
     ]
    },
    {
     "name": "stdout",
     "output_type": "stream",
     "text": [
      "INFO: target node 'Tarpit-AzureStorage' not listening on port 'SSH'\n",
      "INFO: BLOCKED TRAFFIC: source node 'Tarpit-AzureStorage' is blocking outgoing traffic on port 'SSH-key'\n"
     ]
    },
    {
     "name": "stderr",
     "output_type": "stream",
     "text": [
      "Episode 3|Iteration 66|reward:   86.0|last_reward_at:   58|Elapsed Time: 0:00:02||"
     ]
    },
    {
     "name": "stdout",
     "output_type": "stream",
     "text": [
      "INFO: Vulnerability 'ScanSharepointParentDirectory' not supported by node 'GitHubProject'\n",
      "INFO: Vulnerability 'ScanSharepointParentDirectory' not supported by node 'Website'\n",
      "INFO: Vulnerability 'ScanPageSource' not supported by node 'client'\n"
     ]
    },
    {
     "name": "stderr",
     "output_type": "stream",
     "text": [
      "Episode 3|Iteration 69|reward:   86.0|last_reward_at:   58|Elapsed Time: 0:00:02||"
     ]
    },
    {
     "name": "stdout",
     "output_type": "stream",
     "text": [
      "INFO: invalid credentials supplied\n",
      "INFO: Vulnerability 'ScanSharepointParentDirectory' not supported by node 'GitHubProject'\n",
      "INFO: Vulnerability 'ScanPageSource' not supported by node 'Tarpit-AzureStorage'\n",
      "INFO: BLOCKED TRAFFIC: source node 'Tarpit-AzureStorage' is blocking outgoing traffic on port 'MySQL'\n",
      "INFO: target node 'client' not listening on port 'SSH'\n"
     ]
    },
    {
     "name": "stderr",
     "output_type": "stream",
     "text": [
      "Episode 3|Iteration 73|reward:   86.0|last_reward_at:   58|Elapsed Time: 0:00:02||"
     ]
    },
    {
     "name": "stdout",
     "output_type": "stream",
     "text": [
      "INFO: discovered node: Tarpit-AzureStorage\n",
      "INFO: discovered credential: CachedCredential(node='Tarpit-AzureStorage', port='HTTPS', credential='SASTOKEN1')\n",
      "INFO: GOT REWARD: CredScan success: Some secure access token (SAS) was leaked in a reverted git commit\n",
      "INFO: discovered node: GitHubProject\n",
      "INFO: GOT REWARD: WEBSITE page content has a link to github -> Github project discovered!\n"
     ]
    },
    {
     "name": "stderr",
     "output_type": "stream",
     "text": [
      "Episode 3|Iteration 76|reward:   86.0|last_reward_at:   58|Elapsed Time: 0:00:02||"
     ]
    },
    {
     "name": "stdout",
     "output_type": "stream",
     "text": [
      "INFO: BLOCKED TRAFFIC: source node 'Tarpit-AzureStorage' is blocking outgoing traffic on port 'SSH-key'\n",
      "INFO: Vulnerability 'ListAzureResources' not supported by node 'Tarpit-AzureStorage'\n",
      "INFO: Vulnerability 'ScanPageSource' not supported by node 'GitHubProject'\n"
     ]
    },
    {
     "name": "stderr",
     "output_type": "stream",
     "text": [
      "Episode 3|Iteration 79|reward:   86.0|last_reward_at:   58|Elapsed Time: 0:00:02||"
     ]
    },
    {
     "name": "stdout",
     "output_type": "stream",
     "text": [
      "INFO: Vulnerability 'ScanPageContent' not supported by node 'GitHubProject'\n",
      "INFO: Vulnerability 'AccessDataWithSASToken' not supported by node 'client'\n",
      "INFO: Vulnerability 'ScanPageSource' not supported by node 'client'\n"
     ]
    },
    {
     "name": "stderr",
     "output_type": "stream",
     "text": [
      "Episode 3|Iteration 81|reward:   86.0|last_reward_at:   58|Elapsed Time: 0:00:02||"
     ]
    },
    {
     "name": "stdout",
     "output_type": "stream",
     "text": [
      "INFO: BLOCKED TRAFFIC: source node 'Tarpit-AzureStorage' is blocking outgoing traffic on port 'su'\n"
     ]
    },
    {
     "name": "stderr",
     "output_type": "stream",
     "text": [
      "Episode 3|Iteration 84|reward:   86.0|last_reward_at:   58|Elapsed Time: 0:00:02||"
     ]
    },
    {
     "name": "stdout",
     "output_type": "stream",
     "text": [
      "INFO: Vulnerability 'ScanSharepointParentDirectory' not supported by node 'client'\n",
      "INFO: Vulnerability 'CredScanGitHistory' not supported by node 'Tarpit-AzureStorage'\n",
      "INFO: BLOCKED TRAFFIC: source node 'Tarpit-AzureStorage' is blocking outgoing traffic on port 'SSH-key'\n"
     ]
    },
    {
     "name": "stderr",
     "output_type": "stream",
     "text": [
      "Episode 3|Iteration 86|reward:   86.0|last_reward_at:   58|Elapsed Time: 0:00:02||"
     ]
    },
    {
     "name": "stdout",
     "output_type": "stream",
     "text": [
      "INFO: Vulnerability 'NavigateWebDirectoryFurther' not supported by node 'Website'\n",
      "INFO: Vulnerability 'ScanSharepointParentDirectory' not supported by node 'Website'\n"
     ]
    },
    {
     "name": "stderr",
     "output_type": "stream",
     "text": [
      "Episode 3|Iteration 89|reward:   86.0|last_reward_at:   58|Elapsed Time: 0:00:02||"
     ]
    },
    {
     "name": "stdout",
     "output_type": "stream",
     "text": [
      "INFO: discovered node: Website\n",
      "INFO: GOT REWARD: Web browser history revealed website URL of interest\n",
      "INFO: invalid credentials supplied\n"
     ]
    },
    {
     "name": "stderr",
     "output_type": "stream",
     "text": [
      "Episode 3|Iteration 90|reward:   86.0|last_reward_at:   58|Elapsed Time: 0:00:03||"
     ]
    },
    {
     "name": "stdout",
     "output_type": "stream",
     "text": [
      "INFO: Vulnerability 'NavigateWebDirectory' not supported by node 'client'\n"
     ]
    },
    {
     "name": "stderr",
     "output_type": "stream",
     "text": [
      "Episode 3|Iteration 92|reward:   86.0|last_reward_at:   58|Elapsed Time: 0:00:03||"
     ]
    },
    {
     "name": "stdout",
     "output_type": "stream",
     "text": [
      "INFO: BLOCKED TRAFFIC: source node 'Tarpit-AzureStorage' is blocking outgoing traffic on port 'su'\n",
      "INFO: Vulnerability 'ListAzureResources' not supported by node 'GitHubProject'\n"
     ]
    },
    {
     "name": "stderr",
     "output_type": "stream",
     "text": [
      "Episode 3|Iteration 93|reward:   86.0|last_reward_at:   58|Elapsed Time: 0:00:03||"
     ]
    },
    {
     "name": "stdout",
     "output_type": "stream",
     "text": [
      "INFO: Vulnerability 'ScanPageSource' not supported by node 'Tarpit-AzureStorage'\n",
      "INFO: Vulnerability 'NavigateWebDirectory' not supported by node 'Website'\n"
     ]
    },
    {
     "name": "stderr",
     "output_type": "stream",
     "text": [
      "Episode 3|Iteration 95|reward:   86.0|last_reward_at:   58|Elapsed Time: 0:00:03||"
     ]
    },
    {
     "name": "stdout",
     "output_type": "stream",
     "text": [
      "INFO: Vulnerability 'CredScanGitHistory' not supported by node 'Website'\n",
      "INFO: BLOCKED TRAFFIC: source node 'client' is blocking outgoing traffic on port 'su'\n",
      "INFO: discovered node: Tarpit-AzureStorage\n",
      "INFO: discovered credential: CachedCredential(node='Tarpit-AzureStorage', port='HTTPS', credential='SASTOKEN1')\n",
      "INFO: GOT REWARD: CredScan success: Some secure access token (SAS) was leaked in a reverted git commit\n"
     ]
    },
    {
     "name": "stderr",
     "output_type": "stream",
     "text": [
      "Episode 3|Iteration 98|reward:   86.0|last_reward_at:   58|Elapsed Time: 0:00:03||"
     ]
    },
    {
     "name": "stdout",
     "output_type": "stream",
     "text": [
      "INFO: GOT REWARD: Stole data using a publicly shared SAS token\n"
     ]
    },
    {
     "name": "stderr",
     "output_type": "stream",
     "text": [
      "Episode 3|Iteration 99|reward:   92.0|last_reward_at:   99|Elapsed Time: 0:00:03||"
     ]
    },
    {
     "name": "stdout",
     "output_type": "stream",
     "text": [
      "INFO: Vulnerability 'ListAzureResources' not supported by node 'Website'\n",
      "INFO: BLOCKED TRAFFIC: source node 'client' is blocking outgoing traffic on port 'MySQL'\n"
     ]
    },
    {
     "name": "stderr",
     "output_type": "stream",
     "text": [
      "Episode 3|Iteration 101|reward:   92.0|last_reward_at:   99|Elapsed Time: 0:00:03||"
     ]
    },
    {
     "name": "stdout",
     "output_type": "stream",
     "text": [
      "INFO: Vulnerability 'AccessDataWithSASToken' not supported by node 'Website'\n",
      "INFO: target node 'GitHubProject' not listening on port 'HTTPS'\n"
     ]
    },
    {
     "name": "stderr",
     "output_type": "stream",
     "text": [
      "Episode 3|Iteration 104|reward:   92.0|last_reward_at:   99|Elapsed Time: 0:00:03||"
     ]
    },
    {
     "name": "stdout",
     "output_type": "stream",
     "text": [
      "INFO: Vulnerability 'ScanSharepointParentDirectory' not supported by node 'GitHubProject'\n",
      "INFO: Vulnerability 'ScanPageContent' not supported by node 'GitHubProject'\n"
     ]
    },
    {
     "name": "stderr",
     "output_type": "stream",
     "text": [
      "Episode 3|Iteration 105|reward:   92.0|last_reward_at:   99|Elapsed Time: 0:00:03||"
     ]
    },
    {
     "name": "stdout",
     "output_type": "stream",
     "text": [
      "INFO: discovered node: Website\n",
      "INFO: GOT REWARD: Web browser history revealed website URL of interest\n"
     ]
    },
    {
     "name": "stderr",
     "output_type": "stream",
     "text": [
      "Episode 3|Iteration 107|reward:   92.0|last_reward_at:   99|Elapsed Time: 0:00:04||"
     ]
    },
    {
     "name": "stdout",
     "output_type": "stream",
     "text": [
      "INFO: BLOCKED TRAFFIC: source node 'Tarpit-AzureStorage' is blocking outgoing traffic on port 'su'\n",
      "INFO: Vulnerability 'NavigateWebDirectory' not supported by node 'client'\n"
     ]
    },
    {
     "name": "stderr",
     "output_type": "stream",
     "text": [
      "Episode 3|Iteration 109|reward:   92.0|last_reward_at:   99|Elapsed Time: 0:00:04||"
     ]
    },
    {
     "name": "stdout",
     "output_type": "stream",
     "text": [
      "INFO: Vulnerability 'NavigateWebDirectory' not supported by node 'Website'\n",
      "INFO: discovered node: Website\n",
      "INFO: GOT REWARD: Web browser history revealed website URL of interest\n",
      "INFO: Vulnerability 'ScanPageSource' not supported by node 'client'\n"
     ]
    },
    {
     "name": "stderr",
     "output_type": "stream",
     "text": [
      "Episode 3|Iteration 111|reward:   92.0|last_reward_at:   99|Elapsed Time: 0:00:04||"
     ]
    },
    {
     "name": "stdout",
     "output_type": "stream",
     "text": [
      "INFO: Vulnerability 'ScanSharepointParentDirectory' not supported by node 'client'\n",
      "INFO: Vulnerability 'ScanSharepointParentDirectory' not supported by node 'client'\n"
     ]
    },
    {
     "name": "stderr",
     "output_type": "stream",
     "text": [
      "Episode 3|Iteration 114|reward:   92.0|last_reward_at:   99|Elapsed Time: 0:00:04||"
     ]
    },
    {
     "name": "stdout",
     "output_type": "stream",
     "text": [
      "INFO: discovered node: Website\n",
      "INFO: GOT REWARD: Web browser history revealed website URL of interest\n",
      "INFO: Vulnerability 'NavigateWebDirectoryFurther' not supported by node 'Tarpit-AzureStorage'\n",
      "INFO: Vulnerability 'AccessDataWithSASToken' not supported by node 'Website'\n"
     ]
    },
    {
     "name": "stderr",
     "output_type": "stream",
     "text": [
      "Episode 3|Iteration 117|reward:   92.0|last_reward_at:   99|Elapsed Time: 0:00:04||"
     ]
    },
    {
     "name": "stdout",
     "output_type": "stream",
     "text": [
      "INFO: Vulnerability 'ScanSharepointParentDirectory' not supported by node 'GitHubProject'\n",
      "INFO: Vulnerability 'CredScanGitHistory' not supported by node 'Tarpit-AzureStorage'\n"
     ]
    },
    {
     "name": "stderr",
     "output_type": "stream",
     "text": [
      "Episode 3|Iteration 119|reward:   92.0|last_reward_at:   99|Elapsed Time: 0:00:04||"
     ]
    },
    {
     "name": "stdout",
     "output_type": "stream",
     "text": [
      "INFO: discovered node: Website\n",
      "INFO: GOT REWARD: Web browser history revealed website URL of interest\n",
      "INFO: discovered node: GitHubProject\n",
      "INFO: GOT REWARD: WEBSITE page content has a link to github -> Github project discovered!\n"
     ]
    },
    {
     "name": "stderr",
     "output_type": "stream",
     "text": [
      "Episode 3|Iteration 121|reward:   92.0|last_reward_at:   99|Elapsed Time: 0:00:04||"
     ]
    },
    {
     "name": "stdout",
     "output_type": "stream",
     "text": [
      "INFO: Vulnerability 'ScanSharepointParentDirectory' not supported by node 'client'\n",
      "INFO: Vulnerability 'CredScanGitHistory' not supported by node 'Tarpit-AzureStorage'\n",
      "INFO: Vulnerability 'ScanPageContent' not supported by node 'Tarpit-AzureStorage'\n"
     ]
    },
    {
     "name": "stderr",
     "output_type": "stream",
     "text": [
      "Episode 3|Iteration 125|reward:   92.0|last_reward_at:   99|Elapsed Time: 0:00:04||"
     ]
    },
    {
     "name": "stdout",
     "output_type": "stream",
     "text": [
      "INFO: BLOCKED TRAFFIC: source node 'client' is blocking outgoing traffic on port 'GIT'\n",
      "INFO: BLOCKED TRAFFIC: source node 'client' is blocking outgoing traffic on port 'PING'\n",
      "INFO: Vulnerability 'NavigateWebDirectory' not supported by node 'Website'\n",
      "INFO: Vulnerability 'NavigateWebDirectory' not supported by node 'GitHubProject'\n",
      "INFO: BLOCKED TRAFFIC: source node 'Tarpit-AzureStorage' is blocking outgoing traffic on port 'GIT'\n"
     ]
    },
    {
     "name": "stderr",
     "output_type": "stream",
     "text": [
      "Episode 3|Iteration 129|reward:   92.0|last_reward_at:   99|Elapsed Time: 0:00:04||"
     ]
    },
    {
     "name": "stdout",
     "output_type": "stream",
     "text": [
      "INFO: target node 'Tarpit-AzureStorage' not listening on port 'SSH'\n",
      "INFO: discovered node: Website\n",
      "INFO: GOT REWARD: Web browser history revealed website URL of interest\n"
     ]
    },
    {
     "name": "stderr",
     "output_type": "stream",
     "text": [
      "Episode 3|Iteration 132|reward:   92.0|last_reward_at:   99|Elapsed Time: 0:00:04||"
     ]
    },
    {
     "name": "stdout",
     "output_type": "stream",
     "text": [
      "INFO: BLOCKED TRAFFIC: source node 'Tarpit-AzureStorage' is blocking outgoing traffic on port 'su'\n",
      "INFO: Vulnerability 'AccessDataWithSASToken' not supported by node 'Website'\n",
      "INFO: BLOCKED TRAFFIC: source node 'Tarpit-AzureStorage' is blocking outgoing traffic on port 'PING'\n"
     ]
    },
    {
     "name": "stderr",
     "output_type": "stream",
     "text": [
      "Episode 3|Iteration 135|reward:   92.0|last_reward_at:   99|Elapsed Time: 0:00:04||"
     ]
    },
    {
     "name": "stdout",
     "output_type": "stream",
     "text": [
      "INFO: Vulnerability 'AccessDataWithSASToken' not supported by node 'GitHubProject'\n",
      "INFO: Vulnerability 'AccessDataWithSASToken' not supported by node 'GitHubProject'\n",
      "INFO: BLOCKED TRAFFIC: source node 'client' is blocking outgoing traffic on port 'SSH-key'\n",
      "INFO: Vulnerability 'AccessDataWithSASToken' not supported by node 'Website'\n",
      "INFO: Vulnerability 'ScanSharepointParentDirectory' not supported by node 'GitHubProject'\n"
     ]
    },
    {
     "name": "stderr",
     "output_type": "stream",
     "text": [
      "Episode 3|Iteration 139|reward:   92.0|last_reward_at:   99|Elapsed Time: 0:00:04||"
     ]
    },
    {
     "name": "stdout",
     "output_type": "stream",
     "text": [
      "INFO: BLOCKED TRAFFIC: source node 'Tarpit-AzureStorage' is blocking outgoing traffic on port 'SSH-key'\n",
      "INFO: discovered node: Website\n",
      "INFO: GOT REWARD: Web browser history revealed website URL of interest\n",
      "INFO: Vulnerability 'CredScanGitHistory' not supported by node 'Tarpit-AzureStorage'\n",
      "INFO: BLOCKED TRAFFIC: source node 'client' is blocking outgoing traffic on port 'GIT'\n",
      "INFO: Vulnerability 'ListAzureResources' not supported by node 'Website'\n"
     ]
    },
    {
     "name": "stderr",
     "output_type": "stream",
     "text": [
      "Episode 3|Iteration 144|reward:   92.0|last_reward_at:   99|Elapsed Time: 0:00:05||"
     ]
    },
    {
     "name": "stdout",
     "output_type": "stream",
     "text": [
      "INFO: Vulnerability 'NavigateWebDirectoryFurther' not supported by node 'Website'\n",
      "INFO: Vulnerability 'AccessDataWithSASToken' not supported by node 'Website'\n",
      "INFO: Vulnerability 'NavigateWebDirectory' not supported by node 'Tarpit-AzureStorage'\n",
      "INFO: Vulnerability 'AccessDataWithSASToken' not supported by node 'GitHubProject'\n",
      "INFO: Vulnerability 'ScanPageContent' not supported by node 'client'\n"
     ]
    },
    {
     "name": "stderr",
     "output_type": "stream",
     "text": [
      "Episode 3|Iteration 149|reward:   92.0|last_reward_at:   99|Elapsed Time: 0:00:05||"
     ]
    },
    {
     "name": "stdout",
     "output_type": "stream",
     "text": [
      "INFO: Vulnerability 'NavigateWebDirectory' not supported by node 'GitHubProject'\n",
      "INFO: Vulnerability 'NavigateWebDirectory' not supported by node 'client'\n",
      "INFO: Vulnerability 'NavigateWebDirectoryFurther' not supported by node 'client'\n",
      "INFO: BLOCKED TRAFFIC: source node 'client' is blocking outgoing traffic on port 'MySQL'\n",
      "INFO: BLOCKED TRAFFIC: source node 'client' is blocking outgoing traffic on port 'GIT'\n"
     ]
    },
    {
     "name": "stderr",
     "output_type": "stream",
     "text": [
      "Episode 3|Iteration 154|reward:   92.0|last_reward_at:   99|Elapsed Time: 0:00:05||"
     ]
    },
    {
     "name": "stdout",
     "output_type": "stream",
     "text": [
      "INFO: discovered node: Website\n",
      "INFO: GOT REWARD: Web browser history revealed website URL of interest\n",
      "INFO: Vulnerability 'CredScanGitHistory' not supported by node 'client'\n"
     ]
    },
    {
     "name": "stderr",
     "output_type": "stream",
     "text": [
      "Episode 3|Iteration 157|reward:   92.0|last_reward_at:   99|Elapsed Time: 0:00:05||"
     ]
    },
    {
     "name": "stdout",
     "output_type": "stream",
     "text": [
      "INFO: Vulnerability 'AccessDataWithSASToken' not supported by node 'GitHubProject'\n",
      "INFO: Vulnerability 'NavigateWebDirectoryFurther' not supported by node 'client'\n",
      "INFO: target node 'client' not listening on port 'SSH'\n"
     ]
    },
    {
     "name": "stderr",
     "output_type": "stream",
     "text": [
      "Episode 3|Iteration 160|reward:   92.0|last_reward_at:   99|Elapsed Time: 0:00:05||"
     ]
    },
    {
     "name": "stdout",
     "output_type": "stream",
     "text": [
      "INFO: Vulnerability 'ScanSharepointParentDirectory' not supported by node 'Website'\n",
      "INFO: Vulnerability 'ScanPageContent' not supported by node 'GitHubProject'\n",
      "INFO: discovered node: GitHubProject\n",
      "INFO: GOT REWARD: WEBSITE page content has a link to github -> Github project discovered!\n"
     ]
    },
    {
     "name": "stderr",
     "output_type": "stream",
     "text": [
      "Episode 3|Iteration 163|reward:   92.0|last_reward_at:   99|Elapsed Time: 0:00:05||"
     ]
    },
    {
     "name": "stdout",
     "output_type": "stream",
     "text": [
      "INFO: invalid credentials supplied\n",
      "INFO: BLOCKED TRAFFIC: source node 'client' is blocking outgoing traffic on port 'MySQL'\n",
      "INFO: target node 'Tarpit-AzureStorage' not listening on port 'SSH'\n",
      "INFO: Vulnerability 'ScanSharepointParentDirectory' not supported by node 'Tarpit-AzureStorage'\n",
      "INFO: Vulnerability 'ScanPageContent' not supported by node 'Tarpit-AzureStorage'\n"
     ]
    },
    {
     "name": "stderr",
     "output_type": "stream",
     "text": [
      "Episode 3|Iteration 167|reward:   92.0|last_reward_at:   99|Elapsed Time: 0:00:05||"
     ]
    },
    {
     "name": "stdout",
     "output_type": "stream",
     "text": [
      "INFO: BLOCKED TRAFFIC: source node 'client' is blocking outgoing traffic on port 'GIT'\n",
      "INFO: Vulnerability 'NavigateWebDirectoryFurther' not supported by node 'Tarpit-AzureStorage'\n",
      "INFO: target node 'GitHubProject' not listening on port 'SSH'\n",
      "INFO: Vulnerability 'ScanPageContent' not supported by node 'GitHubProject'\n",
      "INFO: BLOCKED TRAFFIC: source node 'Tarpit-AzureStorage' is blocking outgoing traffic on port 'PING'\n"
     ]
    },
    {
     "name": "stderr",
     "output_type": "stream",
     "text": [
      "Episode 3|Iteration 173|reward:   92.0|last_reward_at:   99|Elapsed Time: 0:00:05||"
     ]
    },
    {
     "name": "stdout",
     "output_type": "stream",
     "text": [
      "INFO: BLOCKED TRAFFIC: source node 'Tarpit-AzureStorage' is blocking outgoing traffic on port 'GIT'\n",
      "INFO: Vulnerability 'AccessDataWithSASToken' not supported by node 'client'\n",
      "INFO: Vulnerability 'AccessDataWithSASToken' not supported by node 'Website'\n",
      "INFO: target node 'client' not listening on port 'SSH'\n",
      "INFO: BLOCKED TRAFFIC: source node 'Tarpit-AzureStorage' is blocking outgoing traffic on port 'MySQL'\n"
     ]
    },
    {
     "name": "stderr",
     "output_type": "stream",
     "text": [
      "Episode 3|Iteration 178|reward:   92.0|last_reward_at:   99|Elapsed Time: 0:00:05||"
     ]
    },
    {
     "name": "stdout",
     "output_type": "stream",
     "text": [
      "INFO: Vulnerability 'ScanPageSource' not supported by node 'client'\n",
      "INFO: BLOCKED TRAFFIC: source node 'Tarpit-AzureStorage' is blocking outgoing traffic on port 'SSH-key'\n",
      "INFO: target node 'GitHubProject' not listening on port 'HTTPS'\n",
      "INFO: target node 'client' not listening on port 'SSH'\n",
      "INFO: Vulnerability 'NavigateWebDirectoryFurther' not supported by node 'GitHubProject'\n"
     ]
    },
    {
     "name": "stderr",
     "output_type": "stream",
     "text": [
      "Episode 3|Iteration 183|reward:   92.0|last_reward_at:   99|Elapsed Time: 0:00:05||"
     ]
    },
    {
     "name": "stdout",
     "output_type": "stream",
     "text": [
      "INFO: Vulnerability 'ScanPageContent' not supported by node 'client'\n",
      "INFO: BLOCKED TRAFFIC: source node 'Tarpit-AzureStorage' is blocking outgoing traffic on port 'MySQL'\n",
      "INFO: BLOCKED TRAFFIC: source node 'client' is blocking outgoing traffic on port 'SSH-key'\n",
      "INFO: Vulnerability 'ScanPageContent' not supported by node 'Tarpit-AzureStorage'\n",
      "INFO: Vulnerability 'ScanSharepointParentDirectory' not supported by node 'GitHubProject'\n"
     ]
    },
    {
     "name": "stderr",
     "output_type": "stream",
     "text": [
      "Episode 3|Iteration 188|reward:   92.0|last_reward_at:   99|Elapsed Time: 0:00:05||"
     ]
    },
    {
     "name": "stdout",
     "output_type": "stream",
     "text": [
      "INFO: Vulnerability 'ScanSharepointParentDirectory' not supported by node 'GitHubProject'\n",
      "INFO: Vulnerability 'ListAzureResources' not supported by node 'GitHubProject'\n",
      "INFO: BLOCKED TRAFFIC: source node 'Tarpit-AzureStorage' is blocking outgoing traffic on port 'PING'\n",
      "INFO: Vulnerability 'NavigateWebDirectoryFurther' not supported by node 'GitHubProject'\n",
      "INFO: BLOCKED TRAFFIC: source node 'Tarpit-AzureStorage' is blocking outgoing traffic on port 'SSH-key'\n"
     ]
    },
    {
     "name": "stderr",
     "output_type": "stream",
     "text": [
      "Episode 3|Iteration 193|reward:   92.0|last_reward_at:   99|Elapsed Time: 0:00:06||"
     ]
    },
    {
     "name": "stdout",
     "output_type": "stream",
     "text": [
      "INFO: BLOCKED TRAFFIC: source node 'Tarpit-AzureStorage' is blocking outgoing traffic on port 'su'\n",
      "INFO: discovered node: GitHubProject\n",
      "INFO: GOT REWARD: WEBSITE page content has a link to github -> Github project discovered!\n",
      "INFO: discovered node: Website\n",
      "INFO: GOT REWARD: Web browser history revealed website URL of interest\n",
      "INFO: discovered node: Tarpit-AzureStorage\n",
      "INFO: discovered credential: CachedCredential(node='Tarpit-AzureStorage', port='HTTPS', credential='SASTOKEN1')\n",
      "INFO: GOT REWARD: CredScan success: Some secure access token (SAS) was leaked in a reverted git commit\n",
      "INFO: BLOCKED TRAFFIC: source node 'Tarpit-AzureStorage' is blocking outgoing traffic on port 'SSH-key'\n"
     ]
    },
    {
     "name": "stderr",
     "output_type": "stream",
     "text": [
      "Episode 3|Iteration 197|reward:   92.0|last_reward_at:   99|Elapsed Time: 0:00:06||"
     ]
    },
    {
     "name": "stdout",
     "output_type": "stream",
     "text": [
      "INFO: Vulnerability 'AccessDataWithSASToken' not supported by node 'GitHubProject'\n",
      "INFO: target node 'GitHubProject' not listening on port 'SSH'\n",
      "INFO: discovered node: Website\n",
      "INFO: GOT REWARD: Web browser history revealed website URL of interest\n"
     ]
    },
    {
     "name": "stderr",
     "output_type": "stream",
     "text": [
      "Episode 3|Iteration 200|reward:   92.0|last_reward_at:   99|Elapsed Time: 0:00:06||\n"
     ]
    },
    {
     "name": "stdout",
     "output_type": "stream",
     "text": [
      "  Episode 3 stopped at t=200 \n",
      "  Breakdown [Reward/NoReward (Success rate)]\n",
      "    explore-local: 1/23 (0.04)\n",
      "    explore-remote: 3/101 (0.03)\n",
      "    explore-connect: 1/50 (0.02)\n",
      "    exploit-local: 0/2 (0.00)\n",
      "    exploit-remote: 0/19 (0.00)\n",
      "    exploit-connect: 0/0 (NaN)\n",
      "  exploit deflected to exploration: 10\n",
      "  ## Episode: 4/5 'Baseline' ϵ=0.8097, γ=0.015, lr=0.01, replaymemory=10000,\n",
      "batch=512, target_update=10\n",
      "INFO: Resetting the CyberBattle environment\n"
     ]
    },
    {
     "name": "stderr",
     "output_type": "stream",
     "text": [
      "Episode 4|Iteration 0|reward: ------|last_reward_at: ----|Elapsed Time: 0:00:00||"
     ]
    },
    {
     "name": "stdout",
     "output_type": "stream",
     "text": [
      "INFO: Vulnerability 'NavigateWebDirectoryFurther' not supported by node 'client'\n"
     ]
    },
    {
     "name": "stderr",
     "output_type": "stream",
     "text": [
      "Episode 4|Iteration 1|reward:    0.0|last_reward_at: ----|Elapsed Time: 0:00:00||"
     ]
    },
    {
     "name": "stdout",
     "output_type": "stream",
     "text": [
      "INFO: discovered node: Website\n",
      "INFO: GOT REWARD: Web browser history revealed website URL of interest\n"
     ]
    },
    {
     "name": "stderr",
     "output_type": "stream",
     "text": [
      "Episode 4|Iteration 2|reward:   11.0|last_reward_at:    2|Elapsed Time: 0:00:00||"
     ]
    },
    {
     "name": "stdout",
     "output_type": "stream",
     "text": [
      "INFO: Vulnerability 'NavigateWebDirectory' not supported by node 'client'\n",
      "INFO: discovered node: GitHubProject\n",
      "INFO: GOT REWARD: WEBSITE page content has a link to github -> Github project discovered!\n"
     ]
    },
    {
     "name": "stderr",
     "output_type": "stream",
     "text": [
      "Episode 4|Iteration 4|reward:   22.0|last_reward_at:    4|Elapsed Time: 0:00:00||"
     ]
    },
    {
     "name": "stdout",
     "output_type": "stream",
     "text": [
      "INFO: Vulnerability 'ScanPageSource' not supported by node 'GitHubProject'\n",
      "INFO: discovered node: Tarpit-AzureStorage\n",
      "INFO: discovered credential: CachedCredential(node='Tarpit-AzureStorage', port='HTTPS', credential='SASTOKEN1')\n",
      "INFO: GOT REWARD: CredScan success: Some secure access token (SAS) was leaked in a reverted git commit\n"
     ]
    },
    {
     "name": "stderr",
     "output_type": "stream",
     "text": [
      "Episode 4|Iteration 6|reward:   36.0|last_reward_at:    6|Elapsed Time: 0:00:00||"
     ]
    },
    {
     "name": "stdout",
     "output_type": "stream",
     "text": [
      "INFO: Vulnerability 'ScanPageContent' not supported by node 'Tarpit-AzureStorage'\n",
      "INFO: BLOCKED TRAFFIC: source node 'client' is blocking outgoing traffic on port 'MySQL'\n",
      "INFO: Vulnerability 'ScanPageContent' not supported by node 'GitHubProject'\n",
      "INFO: target node 'client' not listening on port 'HTTPS'\n"
     ]
    },
    {
     "name": "stderr",
     "output_type": "stream",
     "text": [
      "Episode 4|Iteration 11|reward:   36.0|last_reward_at:    6|Elapsed Time: 0:00:00||"
     ]
    },
    {
     "name": "stdout",
     "output_type": "stream",
     "text": [
      "INFO: Vulnerability 'NavigateWebDirectoryFurther' not supported by node 'Tarpit-AzureStorage'\n",
      "INFO: Vulnerability 'CredScanGitHistory' not supported by node 'Website'\n",
      "INFO: BLOCKED TRAFFIC: source node 'client' is blocking outgoing traffic on port 'su'\n",
      "INFO: GOT REWARD: Stole data using a publicly shared SAS token\n"
     ]
    },
    {
     "name": "stderr",
     "output_type": "stream",
     "text": [
      "Episode 4|Iteration 14|reward:   42.0|last_reward_at:   14|Elapsed Time: 0:00:00||"
     ]
    },
    {
     "name": "stdout",
     "output_type": "stream",
     "text": [
      "INFO: Vulnerability 'CredScanGitHistory' not supported by node 'Tarpit-AzureStorage'\n",
      "INFO: Vulnerability 'AccessDataWithSASToken' not supported by node 'GitHubProject'\n",
      "INFO: Vulnerability 'AccessDataWithSASToken' not supported by node 'GitHubProject'\n"
     ]
    },
    {
     "name": "stderr",
     "output_type": "stream",
     "text": [
      "Episode 4|Iteration 18|reward:   42.0|last_reward_at:   14|Elapsed Time: 0:00:00||"
     ]
    },
    {
     "name": "stdout",
     "output_type": "stream",
     "text": [
      "INFO: Vulnerability 'ScanSharepointParentDirectory' not supported by node 'Tarpit-AzureStorage'\n",
      "INFO: Vulnerability 'CredScanGitHistory' not supported by node 'Tarpit-AzureStorage'\n",
      "INFO: Vulnerability 'NavigateWebDirectory' not supported by node 'GitHubProject'\n"
     ]
    },
    {
     "name": "stderr",
     "output_type": "stream",
     "text": [
      "Episode 4|Iteration 21|reward:   42.0|last_reward_at:   14|Elapsed Time: 0:00:00||"
     ]
    },
    {
     "name": "stdout",
     "output_type": "stream",
     "text": [
      "INFO: BLOCKED TRAFFIC: source node 'client' is blocking outgoing traffic on port 'SSH-key'\n",
      "INFO: BLOCKED TRAFFIC: source node 'client' is blocking outgoing traffic on port 'PING'\n",
      "INFO: GOT REWARD: Stole data using a publicly shared SAS token\n",
      "INFO: Infected node 'Tarpit-AzureStorage' from 'client' via HTTPS with credential 'SASTOKEN1'\n"
     ]
    },
    {
     "name": "stderr",
     "output_type": "stream",
     "text": [
      "Episode 4|Iteration 24|reward:   92.0|last_reward_at:   24|Elapsed Time: 0:00:00||"
     ]
    },
    {
     "name": "stdout",
     "output_type": "stream",
     "text": [
      "INFO: discovered node: Website.Directory\n",
      "INFO: GOT REWARD: Viewing the web page source reveals a URL to a .txt file and directory on the website\n"
     ]
    },
    {
     "name": "stderr",
     "output_type": "stream",
     "text": [
      "Episode 4|Iteration 25|reward:  103.0|last_reward_at:   25|Elapsed Time: 0:00:00||"
     ]
    },
    {
     "name": "stdout",
     "output_type": "stream",
     "text": [
      "INFO: Vulnerability 'ScanSharepointParentDirectory' not supported by node 'Tarpit-AzureStorage'\n",
      "INFO: BLOCKED TRAFFIC: source node 'client' is blocking outgoing traffic on port 'GIT'\n",
      "INFO: discovered node: Website\n",
      "INFO: GOT REWARD: Web browser history revealed website URL of interest\n",
      "INFO: Vulnerability 'ScanPageContent' not supported by node 'Website.Directory'\n",
      "INFO: Vulnerability 'NavigateWebDirectory' not supported by node 'Tarpit-AzureStorage'\n"
     ]
    },
    {
     "name": "stderr",
     "output_type": "stream",
     "text": [
      "Episode 4|Iteration 31|reward:  103.0|last_reward_at:   25|Elapsed Time: 0:00:00||"
     ]
    },
    {
     "name": "stdout",
     "output_type": "stream",
     "text": [
      "INFO: Vulnerability 'ScanPageContent' not supported by node 'client'\n",
      "INFO: Vulnerability 'AccessDataWithSASToken' not supported by node 'client'\n",
      "INFO: target node 'Website.Directory' not listening on port 'SSH'\n",
      "INFO: Vulnerability 'CredScanGitHistory' not supported by node 'Website'\n",
      "INFO: discovered node: Website\n",
      "INFO: GOT REWARD: Web browser history revealed website URL of interest\n"
     ]
    },
    {
     "name": "stderr",
     "output_type": "stream",
     "text": [
      "Episode 4|Iteration 35|reward:  103.0|last_reward_at:   25|Elapsed Time: 0:00:00||"
     ]
    },
    {
     "name": "stdout",
     "output_type": "stream",
     "text": [
      "INFO: BLOCKED TRAFFIC: source node 'Tarpit-AzureStorage' is blocking outgoing traffic on port 'GIT'\n",
      "INFO: BLOCKED TRAFFIC: source node 'client' is blocking outgoing traffic on port 'MySQL'\n",
      "INFO: target node 'GitHubProject' not listening on port 'SSH'\n",
      "INFO: BLOCKED TRAFFIC: source node 'client' is blocking outgoing traffic on port 'PING'\n",
      "INFO: Vulnerability 'CredScanGitHistory' not supported by node 'Tarpit-AzureStorage'\n"
     ]
    },
    {
     "name": "stderr",
     "output_type": "stream",
     "text": [
      "Episode 4|Iteration 41|reward:  103.0|last_reward_at:   25|Elapsed Time: 0:00:00||"
     ]
    },
    {
     "name": "stdout",
     "output_type": "stream",
     "text": [
      "INFO: Vulnerability 'ScanPageContent' not supported by node 'Tarpit-AzureStorage'\n",
      "INFO: Vulnerability 'AccessDataWithSASToken' not supported by node 'client'\n",
      "INFO: Vulnerability 'ScanPageContent' not supported by node 'client'\n"
     ]
    },
    {
     "name": "stderr",
     "output_type": "stream",
     "text": [
      "Episode 4|Iteration 44|reward:  103.0|last_reward_at:   25|Elapsed Time: 0:00:00||"
     ]
    },
    {
     "name": "stdout",
     "output_type": "stream",
     "text": [
      "INFO: Vulnerability 'ListAzureResources' not supported by node 'client'\n",
      "INFO: Vulnerability 'ScanSharepointParentDirectory' not supported by node 'Website.Directory'\n",
      "INFO: Vulnerability 'AccessDataWithSASToken' not supported by node 'Website.Directory'\n",
      "INFO: target node 'client' not listening on port 'SSH'\n",
      "INFO: Vulnerability 'AccessDataWithSASToken' not supported by node 'GitHubProject'\n"
     ]
    },
    {
     "name": "stderr",
     "output_type": "stream",
     "text": [
      "Episode 4|Iteration 49|reward:  103.0|last_reward_at:   25|Elapsed Time: 0:00:00||"
     ]
    },
    {
     "name": "stdout",
     "output_type": "stream",
     "text": [
      "INFO: BLOCKED TRAFFIC: source node 'client' is blocking outgoing traffic on port 'PING'\n",
      "INFO: BLOCKED TRAFFIC: source node 'Tarpit-AzureStorage' is blocking outgoing traffic on port 'GIT'\n",
      "INFO: Vulnerability 'NavigateWebDirectoryFurther' not supported by node 'GitHubProject'\n",
      "INFO: Vulnerability 'NavigateWebDirectory' not supported by node 'GitHubProject'\n",
      "INFO: Vulnerability 'ScanPageSource' not supported by node 'Tarpit-AzureStorage'\n"
     ]
    },
    {
     "name": "stderr",
     "output_type": "stream",
     "text": [
      "Episode 4|Iteration 54|reward:  103.0|last_reward_at:   25|Elapsed Time: 0:00:01||"
     ]
    },
    {
     "name": "stdout",
     "output_type": "stream",
     "text": [
      "INFO: BLOCKED TRAFFIC: source node 'client' is blocking outgoing traffic on port 'PING'\n",
      "INFO: BLOCKED TRAFFIC: source node 'Tarpit-AzureStorage' is blocking outgoing traffic on port 'MySQL'\n",
      "INFO: discovered node: Website\n",
      "INFO: GOT REWARD: Web browser history revealed website URL of interest\n",
      "INFO: discovered node: Website\n",
      "INFO: GOT REWARD: Web browser history revealed website URL of interest\n",
      "INFO: Vulnerability 'NavigateWebDirectory' not supported by node 'client'\n"
     ]
    },
    {
     "name": "stderr",
     "output_type": "stream",
     "text": [
      "Episode 4|Iteration 58|reward:  103.0|last_reward_at:   25|Elapsed Time: 0:00:01||"
     ]
    },
    {
     "name": "stdout",
     "output_type": "stream",
     "text": [
      "INFO: Vulnerability 'ScanPageSource' not supported by node 'Website.Directory'\n",
      "INFO: Vulnerability 'ScanSharepointParentDirectory' not supported by node 'Website.Directory'\n"
     ]
    },
    {
     "name": "stderr",
     "output_type": "stream",
     "text": [
      "Episode 4|Iteration 61|reward:  103.0|last_reward_at:   25|Elapsed Time: 0:00:01||"
     ]
    },
    {
     "name": "stdout",
     "output_type": "stream",
     "text": [
      "INFO: discovered node: Website\n",
      "INFO: GOT REWARD: Web browser history revealed website URL of interest\n",
      "INFO: discovered node: GitHubProject\n",
      "INFO: GOT REWARD: WEBSITE page content has a link to github -> Github project discovered!\n"
     ]
    },
    {
     "name": "stderr",
     "output_type": "stream",
     "text": [
      "Episode 4|Iteration 64|reward:  103.0|last_reward_at:   25|Elapsed Time: 0:00:01||"
     ]
    },
    {
     "name": "stdout",
     "output_type": "stream",
     "text": [
      "INFO: target node 'Website.Directory' not listening on port 'SSH'\n",
      "INFO: discovered node: Website\n",
      "INFO: GOT REWARD: Web browser history revealed website URL of interest\n"
     ]
    },
    {
     "name": "stderr",
     "output_type": "stream",
     "text": [
      "Episode 4|Iteration 66|reward:  103.0|last_reward_at:   25|Elapsed Time: 0:00:01||"
     ]
    },
    {
     "name": "stdout",
     "output_type": "stream",
     "text": [
      "INFO: Vulnerability 'NavigateWebDirectory' not supported by node 'client'\n",
      "INFO: BLOCKED TRAFFIC: source node 'Tarpit-AzureStorage' is blocking outgoing traffic on port 'su'\n",
      "INFO: target node 'GitHubProject' not listening on port 'HTTPS'\n"
     ]
    },
    {
     "name": "stderr",
     "output_type": "stream",
     "text": [
      "Episode 4|Iteration 69|reward:  103.0|last_reward_at:   25|Elapsed Time: 0:00:01||"
     ]
    },
    {
     "name": "stdout",
     "output_type": "stream",
     "text": [
      "INFO: Vulnerability 'ScanPageContent' not supported by node 'Website.Directory'\n",
      "INFO: BLOCKED TRAFFIC: source node 'client' is blocking outgoing traffic on port 'SSH-key'\n",
      "INFO: Vulnerability 'CredScanGitHistory' not supported by node 'client'\n",
      "INFO: discovered node: Tarpit-AzureStorage\n",
      "INFO: discovered credential: CachedCredential(node='Tarpit-AzureStorage', port='HTTPS', credential='SASTOKEN1')\n",
      "INFO: GOT REWARD: CredScan success: Some secure access token (SAS) was leaked in a reverted git commit\n",
      "INFO: Vulnerability 'AccessDataWithSASToken' not supported by node 'Website.Directory'\n"
     ]
    },
    {
     "name": "stderr",
     "output_type": "stream",
     "text": [
      "Episode 4|Iteration 74|reward:  103.0|last_reward_at:   25|Elapsed Time: 0:00:01||"
     ]
    },
    {
     "name": "stdout",
     "output_type": "stream",
     "text": [
      "INFO: Vulnerability 'AccessDataWithSASToken' not supported by node 'GitHubProject'\n",
      "INFO: Vulnerability 'AccessDataWithSASToken' not supported by node 'client'\n",
      "INFO: Vulnerability 'AccessDataWithSASToken' not supported by node 'client'\n",
      "INFO: discovered node: Website\n",
      "INFO: GOT REWARD: Web browser history revealed website URL of interest\n",
      "INFO: Vulnerability 'ScanSharepointParentDirectory' not supported by node 'GitHubProject'\n"
     ]
    },
    {
     "name": "stderr",
     "output_type": "stream",
     "text": [
      "Episode 4|Iteration 78|reward:  103.0|last_reward_at:   25|Elapsed Time: 0:00:01||"
     ]
    },
    {
     "name": "stdout",
     "output_type": "stream",
     "text": [
      "INFO: Vulnerability 'ScanSharepointParentDirectory' not supported by node 'Website.Directory'\n",
      "INFO: Vulnerability 'CredScanGitHistory' not supported by node 'Website.Directory'\n",
      "INFO: BLOCKED TRAFFIC: source node 'client' is blocking outgoing traffic on port 'SSH-key'\n"
     ]
    },
    {
     "name": "stderr",
     "output_type": "stream",
     "text": [
      "Episode 4|Iteration 82|reward:  103.0|last_reward_at:   25|Elapsed Time: 0:00:01||"
     ]
    },
    {
     "name": "stdout",
     "output_type": "stream",
     "text": [
      "INFO: BLOCKED TRAFFIC: source node 'client' is blocking outgoing traffic on port 'SSH-key'\n"
     ]
    },
    {
     "name": "stderr",
     "output_type": "stream",
     "text": [
      "Episode 4|Iteration 84|reward:  103.0|last_reward_at:   25|Elapsed Time: 0:00:01||"
     ]
    },
    {
     "name": "stdout",
     "output_type": "stream",
     "text": [
      "INFO: discovered node: Website\n",
      "INFO: GOT REWARD: Web browser history revealed website URL of interest\n",
      "INFO: discovered node: Website\n",
      "INFO: GOT REWARD: Web browser history revealed website URL of interest\n",
      "INFO: Vulnerability 'ScanPageContent' not supported by node 'GitHubProject'\n"
     ]
    },
    {
     "name": "stderr",
     "output_type": "stream",
     "text": [
      "Episode 4|Iteration 87|reward:  103.0|last_reward_at:   25|Elapsed Time: 0:00:01||"
     ]
    },
    {
     "name": "stdout",
     "output_type": "stream",
     "text": [
      "INFO: discovered node: Website\n",
      "INFO: GOT REWARD: Web browser history revealed website URL of interest\n",
      "INFO: BLOCKED TRAFFIC: source node 'Tarpit-AzureStorage' is blocking outgoing traffic on port 'GIT'\n",
      "INFO: Vulnerability 'ScanPageSource' not supported by node 'client'\n",
      "INFO: Vulnerability 'ListAzureResources' not supported by node 'Website.Directory'\n",
      "INFO: Vulnerability 'AccessDataWithSASToken' not supported by node 'GitHubProject'\n"
     ]
    },
    {
     "name": "stderr",
     "output_type": "stream",
     "text": [
      "Episode 4|Iteration 92|reward:  103.0|last_reward_at:   25|Elapsed Time: 0:00:01||"
     ]
    },
    {
     "name": "stdout",
     "output_type": "stream",
     "text": [
      "INFO: Vulnerability 'ScanSharepointParentDirectory' not supported by node 'Tarpit-AzureStorage'\n",
      "INFO: Vulnerability 'CredScanGitHistory' not supported by node 'Website'\n"
     ]
    },
    {
     "name": "stderr",
     "output_type": "stream",
     "text": [
      "Episode 4|Iteration 94|reward:  103.0|last_reward_at:   25|Elapsed Time: 0:00:01||"
     ]
    },
    {
     "name": "stdout",
     "output_type": "stream",
     "text": [
      "INFO: GOT REWARD: Stole data using a publicly shared SAS token\n",
      "INFO: BLOCKED TRAFFIC: source node 'client' is blocking outgoing traffic on port 'PING'\n",
      "INFO: Vulnerability 'ScanSharepointParentDirectory' not supported by node 'Tarpit-AzureStorage'\n"
     ]
    },
    {
     "name": "stderr",
     "output_type": "stream",
     "text": [
      "Episode 4|Iteration 97|reward:  103.0|last_reward_at:   25|Elapsed Time: 0:00:02||"
     ]
    },
    {
     "name": "stdout",
     "output_type": "stream",
     "text": [
      "INFO: BLOCKED TRAFFIC: source node 'Tarpit-AzureStorage' is blocking outgoing traffic on port 'su'\n",
      "INFO: Vulnerability 'NavigateWebDirectoryFurther' not supported by node 'GitHubProject'\n",
      "INFO: BLOCKED TRAFFIC: source node 'Tarpit-AzureStorage' is blocking outgoing traffic on port 'SSH-key'\n",
      "INFO: BLOCKED TRAFFIC: source node 'Tarpit-AzureStorage' is blocking outgoing traffic on port 'MySQL'\n"
     ]
    },
    {
     "name": "stderr",
     "output_type": "stream",
     "text": [
      "Episode 4|Iteration 101|reward:  103.0|last_reward_at:   25|Elapsed Time: 0:00:02||"
     ]
    },
    {
     "name": "stdout",
     "output_type": "stream",
     "text": [
      "INFO: discovered node: Website.Directory\n",
      "INFO: GOT REWARD: Viewing the web page source reveals a URL to a .txt file and directory on the website\n",
      "INFO: BLOCKED TRAFFIC: source node 'client' is blocking outgoing traffic on port 'PING'\n",
      "INFO: Vulnerability 'CredScanGitHistory' not supported by node 'client'\n",
      "INFO: BLOCKED TRAFFIC: source node 'client' is blocking outgoing traffic on port 'SSH-key'\n",
      "INFO: Vulnerability 'CredScanGitHistory' not supported by node 'Website.Directory'\n"
     ]
    },
    {
     "name": "stderr",
     "output_type": "stream",
     "text": [
      "Episode 4|Iteration 107|reward:  103.0|last_reward_at:   25|Elapsed Time: 0:00:02||"
     ]
    },
    {
     "name": "stdout",
     "output_type": "stream",
     "text": [
      "INFO: BLOCKED TRAFFIC: source node 'Tarpit-AzureStorage' is blocking outgoing traffic on port 'SSH-key'\n",
      "INFO: Vulnerability 'CredScanGitHistory' not supported by node 'Website'\n",
      "INFO: Vulnerability 'ScanSharepointParentDirectory' not supported by node 'client'\n",
      "INFO: BLOCKED TRAFFIC: source node 'Tarpit-AzureStorage' is blocking outgoing traffic on port 'su'\n",
      "INFO: Vulnerability 'CredScanGitHistory' not supported by node 'Website'\n"
     ]
    },
    {
     "name": "stderr",
     "output_type": "stream",
     "text": [
      "Episode 4|Iteration 112|reward:  103.0|last_reward_at:   25|Elapsed Time: 0:00:02||"
     ]
    },
    {
     "name": "stdout",
     "output_type": "stream",
     "text": [
      "INFO: Vulnerability 'ScanPageSource' not supported by node 'GitHubProject'\n",
      "INFO: Vulnerability 'ScanPageSource' not supported by node 'GitHubProject'\n",
      "INFO: Vulnerability 'ScanSharepointParentDirectory' not supported by node 'Tarpit-AzureStorage'\n",
      "INFO: BLOCKED TRAFFIC: source node 'client' is blocking outgoing traffic on port 'PING'\n",
      "INFO: BLOCKED TRAFFIC: source node 'client' is blocking outgoing traffic on port 'MySQL'\n"
     ]
    },
    {
     "name": "stderr",
     "output_type": "stream",
     "text": [
      "Episode 4|Iteration 117|reward:  103.0|last_reward_at:   25|Elapsed Time: 0:00:02||"
     ]
    },
    {
     "name": "stdout",
     "output_type": "stream",
     "text": [
      "INFO: BLOCKED TRAFFIC: source node 'client' is blocking outgoing traffic on port 'su'\n",
      "INFO: Vulnerability 'NavigateWebDirectoryFurther' not supported by node 'Tarpit-AzureStorage'\n",
      "INFO: discovered node: Tarpit-AzureStorage\n",
      "INFO: discovered credential: CachedCredential(node='Tarpit-AzureStorage', port='HTTPS', credential='SASTOKEN1')\n",
      "INFO: GOT REWARD: CredScan success: Some secure access token (SAS) was leaked in a reverted git commit\n",
      "INFO: Vulnerability 'ScanPageContent' not supported by node 'Website.Directory'\n",
      "INFO: Vulnerability 'NavigateWebDirectoryFurther' not supported by node 'Website'\n"
     ]
    },
    {
     "name": "stderr",
     "output_type": "stream",
     "text": [
      "Episode 4|Iteration 122|reward:  103.0|last_reward_at:   25|Elapsed Time: 0:00:02||"
     ]
    },
    {
     "name": "stdout",
     "output_type": "stream",
     "text": [
      "INFO: Vulnerability 'NavigateWebDirectoryFurther' not supported by node 'Tarpit-AzureStorage'\n",
      "INFO: Vulnerability 'CredScanGitHistory' not supported by node 'Website'\n",
      "INFO: GOT REWARD: Stole data using a publicly shared SAS token\n"
     ]
    },
    {
     "name": "stderr",
     "output_type": "stream",
     "text": [
      "Episode 4|Iteration 125|reward:  103.0|last_reward_at:   25|Elapsed Time: 0:00:02||"
     ]
    },
    {
     "name": "stdout",
     "output_type": "stream",
     "text": [
      "INFO: Vulnerability 'ScanPageContent' not supported by node 'Website.Directory'\n",
      "INFO: Vulnerability 'NavigateWebDirectoryFurther' not supported by node 'Tarpit-AzureStorage'\n",
      "INFO: Vulnerability 'AccessDataWithSASToken' not supported by node 'GitHubProject'\n",
      "INFO: Vulnerability 'NavigateWebDirectoryFurther' not supported by node 'Website'\n",
      "INFO: Vulnerability 'NavigateWebDirectoryFurther' not supported by node 'Website'\n"
     ]
    },
    {
     "name": "stderr",
     "output_type": "stream",
     "text": [
      "Episode 4|Iteration 129|reward:  103.0|last_reward_at:   25|Elapsed Time: 0:00:02||"
     ]
    },
    {
     "name": "stdout",
     "output_type": "stream",
     "text": [
      "INFO: Vulnerability 'ScanSharepointParentDirectory' not supported by node 'client'\n",
      "INFO: Vulnerability 'CredScanGitHistory' not supported by node 'Website.Directory'\n",
      "INFO: Vulnerability 'ScanPageContent' not supported by node 'Tarpit-AzureStorage'\n",
      "INFO: Vulnerability 'ScanPageSource' not supported by node 'GitHubProject'\n",
      "INFO: discovered node: Website\n",
      "INFO: GOT REWARD: Web browser history revealed website URL of interest\n"
     ]
    },
    {
     "name": "stderr",
     "output_type": "stream",
     "text": [
      "Episode 4|Iteration 134|reward:  103.0|last_reward_at:   25|Elapsed Time: 0:00:04||"
     ]
    },
    {
     "name": "stdout",
     "output_type": "stream",
     "text": [
      "INFO: target node 'client' not listening on port 'SSH'\n",
      "INFO: discovered node: Website.Directory\n",
      "INFO: GOT REWARD: Viewing the web page source reveals a URL to a .txt file and directory on the website\n",
      "INFO: Vulnerability 'ScanPageSource' not supported by node 'GitHubProject'\n",
      "INFO: BLOCKED TRAFFIC: source node 'Tarpit-AzureStorage' is blocking outgoing traffic on port 'SSH-key'\n",
      "INFO: BLOCKED TRAFFIC: source node 'client' is blocking outgoing traffic on port 'SSH-key'\n"
     ]
    },
    {
     "name": "stderr",
     "output_type": "stream",
     "text": [
      "Episode 4|Iteration 139|reward:  103.0|last_reward_at:   25|Elapsed Time: 0:00:04||"
     ]
    },
    {
     "name": "stdout",
     "output_type": "stream",
     "text": [
      "INFO: Vulnerability 'ScanPageSource' not supported by node 'Tarpit-AzureStorage'\n",
      "INFO: discovered node: Tarpit-AzureStorage\n",
      "INFO: discovered credential: CachedCredential(node='Tarpit-AzureStorage', port='HTTPS', credential='SASTOKEN1')\n",
      "INFO: GOT REWARD: CredScan success: Some secure access token (SAS) was leaked in a reverted git commit\n",
      "INFO: discovered node: Tarpit-AzureStorage\n",
      "INFO: discovered credential: CachedCredential(node='Tarpit-AzureStorage', port='HTTPS', credential='SASTOKEN1')\n",
      "INFO: GOT REWARD: CredScan success: Some secure access token (SAS) was leaked in a reverted git commit\n",
      "INFO: BLOCKED TRAFFIC: source node 'client' is blocking outgoing traffic on port 'GIT'\n",
      "INFO: Vulnerability 'NavigateWebDirectory' not supported by node 'Website'\n"
     ]
    },
    {
     "name": "stderr",
     "output_type": "stream",
     "text": [
      "Episode 4|Iteration 144|reward:  103.0|last_reward_at:   25|Elapsed Time: 0:00:04||"
     ]
    },
    {
     "name": "stdout",
     "output_type": "stream",
     "text": [
      "INFO: discovered node: Sharepoint\n",
      "INFO: GOT REWARD: Navigating to parent URL revealed file `deprecation-checklist.txt` containinga URL to an external sharepoint website\n"
     ]
    },
    {
     "name": "stderr",
     "output_type": "stream",
     "text": [
      "Episode 4|Iteration 145|reward:  114.0|last_reward_at:  145|Elapsed Time: 0:00:04||"
     ]
    },
    {
     "name": "stdout",
     "output_type": "stream",
     "text": [
      "INFO: target node 'GitHubProject' not listening on port 'HTTPS'\n",
      "INFO: Vulnerability 'NavigateWebDirectory' not supported by node 'Website'\n",
      "INFO: target node 'client' not listening on port 'HTTPS'\n",
      "INFO: BLOCKED TRAFFIC: source node 'client' is blocking outgoing traffic on port 'SSH-key'\n"
     ]
    },
    {
     "name": "stderr",
     "output_type": "stream",
     "text": [
      "Episode 4|Iteration 150|reward:  114.0|last_reward_at:  145|Elapsed Time: 0:00:04||"
     ]
    },
    {
     "name": "stdout",
     "output_type": "stream",
     "text": [
      "INFO: Vulnerability 'ScanPageSource' not supported by node 'Sharepoint'\n",
      "INFO: BLOCKED TRAFFIC: source node 'client' is blocking outgoing traffic on port 'MySQL'\n",
      "INFO: Vulnerability 'NavigateWebDirectory' not supported by node 'Tarpit-AzureStorage'\n",
      "INFO: BLOCKED TRAFFIC: source node 'Tarpit-AzureStorage' is blocking outgoing traffic on port 'MySQL'\n",
      "INFO: discovered node: Tarpit-AzureStorage\n",
      "INFO: discovered credential: CachedCredential(node='Tarpit-AzureStorage', port='HTTPS', credential='SASTOKEN1')\n",
      "INFO: GOT REWARD: CredScan success: Some secure access token (SAS) was leaked in a reverted git commit\n"
     ]
    },
    {
     "name": "stderr",
     "output_type": "stream",
     "text": [
      "Episode 4|Iteration 155|reward:  114.0|last_reward_at:  145|Elapsed Time: 0:00:04||"
     ]
    },
    {
     "name": "stdout",
     "output_type": "stream",
     "text": [
      "INFO: Vulnerability 'CredScanGitHistory' not supported by node 'Website.Directory'\n",
      "INFO: Vulnerability 'CredScanGitHistory' not supported by node 'client'\n",
      "INFO: Vulnerability 'CredScanGitHistory' not supported by node 'Website'\n",
      "INFO: Vulnerability 'AccessDataWithSASToken' not supported by node 'GitHubProject'\n",
      "INFO: Vulnerability 'CredScanGitHistory' not supported by node 'Website'\n"
     ]
    },
    {
     "name": "stderr",
     "output_type": "stream",
     "text": [
      "Episode 4|Iteration 160|reward:  114.0|last_reward_at:  145|Elapsed Time: 0:00:04||"
     ]
    },
    {
     "name": "stdout",
     "output_type": "stream",
     "text": [
      "INFO: BLOCKED TRAFFIC: source node 'client' is blocking outgoing traffic on port 'SSH-key'\n",
      "INFO: Vulnerability 'ScanPageContent' not supported by node 'client'\n",
      "INFO: Vulnerability 'ScanPageSource' not supported by node 'client'\n"
     ]
    },
    {
     "name": "stderr",
     "output_type": "stream",
     "text": [
      "Episode 4|Iteration 163|reward:  114.0|last_reward_at:  145|Elapsed Time: 0:00:04||"
     ]
    },
    {
     "name": "stdout",
     "output_type": "stream",
     "text": [
      "INFO: discovered node: Website\n",
      "INFO: GOT REWARD: Web browser history revealed website URL of interest\n",
      "INFO: Vulnerability 'NavigateWebDirectory' not supported by node 'Tarpit-AzureStorage'\n",
      "INFO: discovered node: Website.Directory\n",
      "INFO: GOT REWARD: Viewing the web page source reveals a URL to a .txt file and directory on the website\n",
      "INFO: discovered node: Sharepoint\n",
      "INFO: GOT REWARD: Navigating to parent URL revealed file `deprecation-checklist.txt` containinga URL to an external sharepoint website\n",
      "INFO: Vulnerability 'NavigateWebDirectoryFurther' not supported by node 'GitHubProject'\n"
     ]
    },
    {
     "name": "stderr",
     "output_type": "stream",
     "text": [
      "Episode 4|Iteration 167|reward:  114.0|last_reward_at:  145|Elapsed Time: 0:00:04||"
     ]
    },
    {
     "name": "stdout",
     "output_type": "stream",
     "text": [
      "INFO: discovered node: Website\n",
      "INFO: GOT REWARD: Web browser history revealed website URL of interest\n",
      "INFO: Vulnerability 'ScanPageContent' not supported by node 'client'\n",
      "INFO: Vulnerability 'ListAzureResources' not supported by node 'GitHubProject'\n",
      "INFO: Vulnerability 'ScanPageSource' not supported by node 'Tarpit-AzureStorage'\n",
      "INFO: GOT REWARD: Stole data using a publicly shared SAS token\n"
     ]
    },
    {
     "name": "stderr",
     "output_type": "stream",
     "text": [
      "Episode 4|Iteration 173|reward:  114.0|last_reward_at:  145|Elapsed Time: 0:00:04||"
     ]
    },
    {
     "name": "stdout",
     "output_type": "stream",
     "text": [
      "INFO: discovered node: Website\n",
      "INFO: GOT REWARD: Web browser history revealed website URL of interest\n",
      "INFO: discovered node: Website\n",
      "INFO: GOT REWARD: Web browser history revealed website URL of interest\n",
      "INFO: Vulnerability 'AccessDataWithSASToken' not supported by node 'Website'\n",
      "INFO: Vulnerability 'ScanPageSource' not supported by node 'Sharepoint'\n",
      "INFO: BLOCKED TRAFFIC: source node 'Tarpit-AzureStorage' is blocking outgoing traffic on port 'GIT'\n"
     ]
    },
    {
     "name": "stderr",
     "output_type": "stream",
     "text": [
      "Episode 4|Iteration 178|reward:  114.0|last_reward_at:  145|Elapsed Time: 0:00:05||"
     ]
    },
    {
     "name": "stdout",
     "output_type": "stream",
     "text": [
      "INFO: BLOCKED TRAFFIC: source node 'Tarpit-AzureStorage' is blocking outgoing traffic on port 'GIT'\n",
      "INFO: Vulnerability 'AccessDataWithSASToken' not supported by node 'client'\n",
      "INFO: Vulnerability 'NavigateWebDirectoryFurther' not supported by node 'Sharepoint'\n",
      "INFO: invalid credentials supplied\n",
      "INFO: target node 'Tarpit-AzureStorage' not listening on port 'SSH'\n"
     ]
    },
    {
     "name": "stderr",
     "output_type": "stream",
     "text": [
      "Episode 4|Iteration 182|reward:  114.0|last_reward_at:  145|Elapsed Time: 0:00:05||"
     ]
    },
    {
     "name": "stdout",
     "output_type": "stream",
     "text": [
      "INFO: Vulnerability 'ScanPageSource' not supported by node 'client'\n",
      "INFO: Vulnerability 'ScanSharepointParentDirectory' not supported by node 'client'\n",
      "INFO: BLOCKED TRAFFIC: source node 'client' is blocking outgoing traffic on port 'PING'\n",
      "INFO: discovered node: Website.Directory\n",
      "INFO: GOT REWARD: Viewing the web page source reveals a URL to a .txt file and directory on the website\n",
      "INFO: Vulnerability 'NavigateWebDirectory' not supported by node 'GitHubProject'\n"
     ]
    },
    {
     "name": "stderr",
     "output_type": "stream",
     "text": [
      "Episode 4|Iteration 188|reward:  114.0|last_reward_at:  145|Elapsed Time: 0:00:05||"
     ]
    },
    {
     "name": "stdout",
     "output_type": "stream",
     "text": [
      "INFO: Vulnerability 'ScanPageSource' not supported by node 'GitHubProject'\n",
      "INFO: Vulnerability 'ScanSharepointParentDirectory' not supported by node 'GitHubProject'\n",
      "INFO: Vulnerability 'ScanSharepointParentDirectory' not supported by node 'Tarpit-AzureStorage'\n",
      "INFO: BLOCKED TRAFFIC: source node 'client' is blocking outgoing traffic on port 'su'\n",
      "INFO: invalid credentials supplied\n"
     ]
    },
    {
     "name": "stderr",
     "output_type": "stream",
     "text": [
      "Episode 4|Iteration 193|reward:  114.0|last_reward_at:  145|Elapsed Time: 0:00:05||"
     ]
    },
    {
     "name": "stdout",
     "output_type": "stream",
     "text": [
      "INFO: Vulnerability 'ScanPageContent' not supported by node 'Website.Directory'\n",
      "INFO: BLOCKED TRAFFIC: source node 'client' is blocking outgoing traffic on port 'su'\n",
      "INFO: discovered node: Website\n",
      "INFO: GOT REWARD: Web browser history revealed website URL of interest\n",
      "INFO: Vulnerability 'AccessDataWithSASToken' not supported by node 'client'\n",
      "INFO: Vulnerability 'AccessDataWithSASToken' not supported by node 'Sharepoint'\n"
     ]
    },
    {
     "name": "stderr",
     "output_type": "stream",
     "text": [
      "Episode 4|Iteration 197|reward:  114.0|last_reward_at:  145|Elapsed Time: 0:00:05||"
     ]
    },
    {
     "name": "stdout",
     "output_type": "stream",
     "text": [
      "INFO: target node 'client' not listening on port 'SSH'\n",
      "INFO: BLOCKED TRAFFIC: source node 'Tarpit-AzureStorage' is blocking outgoing traffic on port 'PING'\n",
      "INFO: BLOCKED TRAFFIC: source node 'Tarpit-AzureStorage' is blocking outgoing traffic on port 'MySQL'\n"
     ]
    },
    {
     "name": "stderr",
     "output_type": "stream",
     "text": [
      "Episode 4|Iteration 200|reward:  114.0|last_reward_at:  145|Elapsed Time: 0:00:05||\n"
     ]
    },
    {
     "name": "stdout",
     "output_type": "stream",
     "text": [
      "  Episode 4 stopped at t=200 \n",
      "  Breakdown [Reward/NoReward (Success rate)]\n",
      "    explore-local: 1/16 (0.06)\n",
      "    explore-remote: 3/88 (0.03)\n",
      "    explore-connect: 0/58 (0.00)\n",
      "    exploit-local: 0/0 (NaN)\n",
      "    exploit-remote: 2/31 (0.06)\n",
      "    exploit-connect: 1/0 (1.00)\n",
      "  exploit deflected to exploration: 6\n",
      "  ## Episode: 5/5 'Baseline' ϵ=0.7819, γ=0.015, lr=0.01, replaymemory=10000,\n",
      "batch=512, target_update=10\n",
      "INFO: Resetting the CyberBattle environment\n"
     ]
    },
    {
     "name": "stderr",
     "output_type": "stream",
     "text": [
      "Episode 5|Iteration 0|reward: ------|last_reward_at: ----|Elapsed Time: 0:00:00||"
     ]
    },
    {
     "name": "stdout",
     "output_type": "stream",
     "text": [
      "INFO: Vulnerability 'ScanPageSource' not supported by node 'client'\n"
     ]
    },
    {
     "name": "stderr",
     "output_type": "stream",
     "text": [
      "Episode 5|Iteration 1|reward:    0.0|last_reward_at: ----|Elapsed Time: 0:00:00||"
     ]
    },
    {
     "name": "stdout",
     "output_type": "stream",
     "text": [
      "INFO: discovered node: Website\n",
      "INFO: GOT REWARD: Web browser history revealed website URL of interest\n"
     ]
    },
    {
     "name": "stderr",
     "output_type": "stream",
     "text": [
      "Episode 5|Iteration 2|reward:   11.0|last_reward_at:    2|Elapsed Time: 0:00:00||"
     ]
    },
    {
     "name": "stdout",
     "output_type": "stream",
     "text": [
      "INFO: discovered node: Website\n",
      "INFO: GOT REWARD: Web browser history revealed website URL of interest\n",
      "INFO: Vulnerability 'NavigateWebDirectory' not supported by node 'client'\n",
      "INFO: discovered node: GitHubProject\n",
      "INFO: GOT REWARD: WEBSITE page content has a link to github -> Github project discovered!\n"
     ]
    },
    {
     "name": "stderr",
     "output_type": "stream",
     "text": [
      "Episode 5|Iteration 5|reward:   22.0|last_reward_at:    5|Elapsed Time: 0:00:00||"
     ]
    },
    {
     "name": "stdout",
     "output_type": "stream",
     "text": [
      "INFO: discovered node: Tarpit-AzureStorage\n",
      "INFO: discovered credential: CachedCredential(node='Tarpit-AzureStorage', port='HTTPS', credential='SASTOKEN1')\n",
      "INFO: GOT REWARD: CredScan success: Some secure access token (SAS) was leaked in a reverted git commit\n"
     ]
    },
    {
     "name": "stderr",
     "output_type": "stream",
     "text": [
      "Episode 5|Iteration 6|reward:   36.0|last_reward_at:    6|Elapsed Time: 0:00:00||"
     ]
    },
    {
     "name": "stdout",
     "output_type": "stream",
     "text": [
      "INFO: Vulnerability 'NavigateWebDirectoryFurther' not supported by node 'Website'\n",
      "INFO: target node 'client' not listening on port 'SSH'\n",
      "INFO: Vulnerability 'AccessDataWithSASToken' not supported by node 'Website'\n",
      "INFO: discovered node: Tarpit-AzureStorage\n",
      "INFO: discovered credential: CachedCredential(node='Tarpit-AzureStorage', port='HTTPS', credential='SASTOKEN1')\n",
      "INFO: GOT REWARD: CredScan success: Some secure access token (SAS) was leaked in a reverted git commit\n"
     ]
    },
    {
     "name": "stderr",
     "output_type": "stream",
     "text": [
      "Episode 5|Iteration 11|reward:   36.0|last_reward_at:    6|Elapsed Time: 0:00:00||"
     ]
    },
    {
     "name": "stdout",
     "output_type": "stream",
     "text": [
      "INFO: discovered node: Website\n",
      "INFO: GOT REWARD: Web browser history revealed website URL of interest\n",
      "INFO: Infected node 'Tarpit-AzureStorage' from 'client' via HTTPS with credential 'SASTOKEN1'\n"
     ]
    },
    {
     "name": "stderr",
     "output_type": "stream",
     "text": [
      "Episode 5|Iteration 12|reward:   86.0|last_reward_at:   12|Elapsed Time: 0:00:00||"
     ]
    },
    {
     "name": "stdout",
     "output_type": "stream",
     "text": [
      "INFO: BLOCKED TRAFFIC: source node 'client' is blocking outgoing traffic on port 'PING'\n",
      "INFO: Vulnerability 'ScanPageContent' not supported by node 'client'\n",
      "INFO: Vulnerability 'ScanPageSource' not supported by node 'GitHubProject'\n"
     ]
    },
    {
     "name": "stderr",
     "output_type": "stream",
     "text": [
      "Episode 5|Iteration 16|reward:   86.0|last_reward_at:   12|Elapsed Time: 0:00:00||"
     ]
    },
    {
     "name": "stdout",
     "output_type": "stream",
     "text": [
      "INFO: Vulnerability 'ScanPageSource' not supported by node 'client'\n",
      "INFO: Vulnerability 'ScanPageContent' not supported by node 'Tarpit-AzureStorage'\n",
      "INFO: Vulnerability 'ScanSharepointParentDirectory' not supported by node 'Website'\n",
      "INFO: Vulnerability 'ScanPageContent' not supported by node 'Tarpit-AzureStorage'\n"
     ]
    },
    {
     "name": "stderr",
     "output_type": "stream",
     "text": [
      "Episode 5|Iteration 21|reward:   86.0|last_reward_at:   12|Elapsed Time: 0:00:00||"
     ]
    },
    {
     "name": "stdout",
     "output_type": "stream",
     "text": [
      "INFO: BLOCKED TRAFFIC: source node 'client' is blocking outgoing traffic on port 'SSH-key'\n",
      "INFO: Vulnerability 'CredScanGitHistory' not supported by node 'Website'\n",
      "INFO: BLOCKED TRAFFIC: source node 'Tarpit-AzureStorage' is blocking outgoing traffic on port 'PING'\n",
      "INFO: target node 'client' not listening on port 'SSH'\n",
      "INFO: Vulnerability 'AccessDataWithSASToken' not supported by node 'Website'\n"
     ]
    },
    {
     "name": "stderr",
     "output_type": "stream",
     "text": [
      "Episode 5|Iteration 26|reward:   86.0|last_reward_at:   12|Elapsed Time: 0:00:00||"
     ]
    },
    {
     "name": "stdout",
     "output_type": "stream",
     "text": [
      "INFO: Vulnerability 'ScanPageContent' not supported by node 'GitHubProject'\n",
      "INFO: Vulnerability 'AccessDataWithSASToken' not supported by node 'GitHubProject'\n",
      "INFO: Vulnerability 'CredScanGitHistory' not supported by node 'Website'\n",
      "INFO: discovered node: Website\n",
      "INFO: GOT REWARD: Web browser history revealed website URL of interest\n",
      "INFO: BLOCKED TRAFFIC: source node 'client' is blocking outgoing traffic on port 'GIT'\n"
     ]
    },
    {
     "name": "stderr",
     "output_type": "stream",
     "text": [
      "Episode 5|Iteration 30|reward:   86.0|last_reward_at:   12|Elapsed Time: 0:00:00||"
     ]
    },
    {
     "name": "stdout",
     "output_type": "stream",
     "text": [
      "INFO: target node 'client' not listening on port 'HTTPS'\n",
      "INFO: discovered node: Website\n",
      "INFO: GOT REWARD: Web browser history revealed website URL of interest\n",
      "INFO: Vulnerability 'NavigateWebDirectory' not supported by node 'Website'\n",
      "INFO: discovered node: GitHubProject\n",
      "INFO: GOT REWARD: WEBSITE page content has a link to github -> Github project discovered!\n",
      "INFO: BLOCKED TRAFFIC: source node 'client' is blocking outgoing traffic on port 'su'\n"
     ]
    },
    {
     "name": "stderr",
     "output_type": "stream",
     "text": [
      "Episode 5|Iteration 35|reward:   86.0|last_reward_at:   12|Elapsed Time: 0:00:00||"
     ]
    },
    {
     "name": "stdout",
     "output_type": "stream",
     "text": [
      "INFO: Vulnerability 'NavigateWebDirectoryFurther' not supported by node 'client'\n",
      "INFO: target node 'client' not listening on port 'SSH'\n",
      "INFO: Vulnerability 'ScanPageContent' not supported by node 'Tarpit-AzureStorage'\n",
      "INFO: target node 'client' not listening on port 'SSH'\n",
      "INFO: Vulnerability 'NavigateWebDirectoryFurther' not supported by node 'Website'\n"
     ]
    },
    {
     "name": "stderr",
     "output_type": "stream",
     "text": [
      "Episode 5|Iteration 41|reward:   86.0|last_reward_at:   12|Elapsed Time: 0:00:00||"
     ]
    },
    {
     "name": "stdout",
     "output_type": "stream",
     "text": [
      "INFO: Vulnerability 'NavigateWebDirectoryFurther' not supported by node 'Website'\n",
      "INFO: discovered node: Tarpit-AzureStorage\n",
      "INFO: discovered credential: CachedCredential(node='Tarpit-AzureStorage', port='HTTPS', credential='SASTOKEN1')\n",
      "INFO: GOT REWARD: CredScan success: Some secure access token (SAS) was leaked in a reverted git commit\n",
      "INFO: BLOCKED TRAFFIC: source node 'Tarpit-AzureStorage' is blocking outgoing traffic on port 'GIT'\n"
     ]
    },
    {
     "name": "stderr",
     "output_type": "stream",
     "text": [
      "Episode 5|Iteration 44|reward:   86.0|last_reward_at:   12|Elapsed Time: 0:00:00||"
     ]
    },
    {
     "name": "stdout",
     "output_type": "stream",
     "text": [
      "INFO: Vulnerability 'ScanSharepointParentDirectory' not supported by node 'client'\n",
      "INFO: discovered node: Website\n",
      "INFO: GOT REWARD: Web browser history revealed website URL of interest\n",
      "INFO: target node 'client' not listening on port 'SSH'\n",
      "INFO: discovered node: GitHubProject\n",
      "INFO: GOT REWARD: WEBSITE page content has a link to github -> Github project discovered!\n"
     ]
    },
    {
     "name": "stderr",
     "output_type": "stream",
     "text": [
      "Episode 5|Iteration 49|reward:   86.0|last_reward_at:   12|Elapsed Time: 0:00:00||"
     ]
    },
    {
     "name": "stdout",
     "output_type": "stream",
     "text": [
      "INFO: Vulnerability 'ListAzureResources' not supported by node 'Website'\n",
      "INFO: Vulnerability 'CredScanGitHistory' not supported by node 'Website'\n",
      "INFO: BLOCKED TRAFFIC: source node 'Tarpit-AzureStorage' is blocking outgoing traffic on port 'GIT'\n",
      "INFO: BLOCKED TRAFFIC: source node 'Tarpit-AzureStorage' is blocking outgoing traffic on port 'GIT'\n",
      "INFO: Vulnerability 'CredScanGitHistory' not supported by node 'Website'\n"
     ]
    },
    {
     "name": "stderr",
     "output_type": "stream",
     "text": [
      "Episode 5|Iteration 54|reward:   86.0|last_reward_at:   12|Elapsed Time: 0:00:01||"
     ]
    },
    {
     "name": "stdout",
     "output_type": "stream",
     "text": [
      "INFO: Vulnerability 'NavigateWebDirectoryFurther' not supported by node 'client'\n",
      "INFO: Vulnerability 'ScanPageContent' not supported by node 'client'\n",
      "INFO: BLOCKED TRAFFIC: source node 'client' is blocking outgoing traffic on port 'su'\n",
      "INFO: invalid credentials supplied\n",
      "INFO: Vulnerability 'CredScanGitHistory' not supported by node 'client'\n"
     ]
    },
    {
     "name": "stderr",
     "output_type": "stream",
     "text": [
      "Episode 5|Iteration 58|reward:   86.0|last_reward_at:   12|Elapsed Time: 0:00:01||"
     ]
    },
    {
     "name": "stdout",
     "output_type": "stream",
     "text": [
      "INFO: Vulnerability 'ListAzureResources' not supported by node 'GitHubProject'\n",
      "INFO: Vulnerability 'ListAzureResources' not supported by node 'Tarpit-AzureStorage'\n",
      "INFO: Vulnerability 'ScanSharepointParentDirectory' not supported by node 'client'\n",
      "INFO: discovered node: Website.Directory\n",
      "INFO: GOT REWARD: Viewing the web page source reveals a URL to a .txt file and directory on the website\n"
     ]
    },
    {
     "name": "stderr",
     "output_type": "stream",
     "text": [
      "Episode 5|Iteration 62|reward:   97.0|last_reward_at:   62|Elapsed Time: 0:00:01||"
     ]
    },
    {
     "name": "stdout",
     "output_type": "stream",
     "text": [
      "INFO: target node 'Tarpit-AzureStorage' not listening on port 'SSH'\n",
      "INFO: Vulnerability 'ListAzureResources' not supported by node 'Website'\n",
      "INFO: Vulnerability 'ScanSharepointParentDirectory' not supported by node 'GitHubProject'\n"
     ]
    },
    {
     "name": "stderr",
     "output_type": "stream",
     "text": [
      "Episode 5|Iteration 66|reward:   97.0|last_reward_at:   62|Elapsed Time: 0:00:01||"
     ]
    },
    {
     "name": "stdout",
     "output_type": "stream",
     "text": [
      "INFO: Vulnerability 'CredScanGitHistory' not supported by node 'Tarpit-AzureStorage'\n",
      "INFO: discovered node: Website.Directory\n",
      "INFO: GOT REWARD: Viewing the web page source reveals a URL to a .txt file and directory on the website\n",
      "INFO: Vulnerability 'CredScanGitHistory' not supported by node 'client'\n"
     ]
    },
    {
     "name": "stderr",
     "output_type": "stream",
     "text": [
      "Episode 5|Iteration 69|reward:   97.0|last_reward_at:   62|Elapsed Time: 0:00:01||"
     ]
    },
    {
     "name": "stdout",
     "output_type": "stream",
     "text": [
      "INFO: Vulnerability 'ScanPageSource' not supported by node 'GitHubProject'\n",
      "INFO: Vulnerability 'ScanPageContent' not supported by node 'client'\n",
      "INFO: BLOCKED TRAFFIC: source node 'Tarpit-AzureStorage' is blocking outgoing traffic on port 'su'\n",
      "INFO: Vulnerability 'AccessDataWithSASToken' not supported by node 'Website.Directory'\n",
      "INFO: GOT REWARD: Stole data using a publicly shared SAS token\n"
     ]
    },
    {
     "name": "stderr",
     "output_type": "stream",
     "text": [
      "Episode 5|Iteration 73|reward:  103.0|last_reward_at:   73|Elapsed Time: 0:00:01||"
     ]
    },
    {
     "name": "stdout",
     "output_type": "stream",
     "text": [
      "INFO: BLOCKED TRAFFIC: source node 'client' is blocking outgoing traffic on port 'PING'\n",
      "INFO: discovered node: Website\n",
      "INFO: GOT REWARD: Web browser history revealed website URL of interest\n",
      "INFO: discovered node: GitHubProject\n",
      "INFO: GOT REWARD: WEBSITE page content has a link to github -> Github project discovered!\n",
      "INFO: BLOCKED TRAFFIC: source node 'Tarpit-AzureStorage' is blocking outgoing traffic on port 'SSH-key'\n",
      "INFO: Vulnerability 'NavigateWebDirectory' not supported by node 'GitHubProject'\n"
     ]
    },
    {
     "name": "stderr",
     "output_type": "stream",
     "text": [
      "Episode 5|Iteration 78|reward:  103.0|last_reward_at:   73|Elapsed Time: 0:00:01||"
     ]
    },
    {
     "name": "stdout",
     "output_type": "stream",
     "text": [
      "INFO: target node 'client' not listening on port 'HTTPS'\n",
      "INFO: Vulnerability 'ScanSharepointParentDirectory' not supported by node 'client'\n",
      "INFO: Vulnerability 'ListAzureResources' not supported by node 'Website.Directory'\n"
     ]
    },
    {
     "name": "stderr",
     "output_type": "stream",
     "text": [
      "Episode 5|Iteration 82|reward:  103.0|last_reward_at:   73|Elapsed Time: 0:00:01||"
     ]
    },
    {
     "name": "stdout",
     "output_type": "stream",
     "text": [
      "INFO: discovered node: Website.Directory\n",
      "INFO: GOT REWARD: Viewing the web page source reveals a URL to a .txt file and directory on the website\n",
      "INFO: Vulnerability 'ScanPageSource' not supported by node 'GitHubProject'\n"
     ]
    },
    {
     "name": "stderr",
     "output_type": "stream",
     "text": [
      "Episode 5|Iteration 84|reward:  103.0|last_reward_at:   73|Elapsed Time: 0:00:01||"
     ]
    },
    {
     "name": "stdout",
     "output_type": "stream",
     "text": [
      "INFO: BLOCKED TRAFFIC: source node 'client' is blocking outgoing traffic on port 'PING'\n",
      "INFO: Vulnerability 'AccessDataWithSASToken' not supported by node 'client'\n",
      "INFO: Vulnerability 'AccessDataWithSASToken' not supported by node 'client'\n"
     ]
    },
    {
     "name": "stderr",
     "output_type": "stream",
     "text": [
      "Episode 5|Iteration 87|reward:  103.0|last_reward_at:   73|Elapsed Time: 0:00:01||"
     ]
    },
    {
     "name": "stdout",
     "output_type": "stream",
     "text": [
      "INFO: BLOCKED TRAFFIC: source node 'Tarpit-AzureStorage' is blocking outgoing traffic on port 'MySQL'\n",
      "INFO: BLOCKED TRAFFIC: source node 'Tarpit-AzureStorage' is blocking outgoing traffic on port 'su'\n",
      "INFO: Vulnerability 'ListAzureResources' not supported by node 'Website'\n",
      "INFO: Vulnerability 'AccessDataWithSASToken' not supported by node 'client'\n",
      "INFO: discovered node: Website.Directory\n",
      "INFO: GOT REWARD: Viewing the web page source reveals a URL to a .txt file and directory on the website\n"
     ]
    },
    {
     "name": "stderr",
     "output_type": "stream",
     "text": [
      "Episode 5|Iteration 91|reward:  103.0|last_reward_at:   73|Elapsed Time: 0:00:01||"
     ]
    },
    {
     "name": "stdout",
     "output_type": "stream",
     "text": [
      "INFO: BLOCKED TRAFFIC: source node 'Tarpit-AzureStorage' is blocking outgoing traffic on port 'GIT'\n",
      "INFO: BLOCKED TRAFFIC: source node 'Tarpit-AzureStorage' is blocking outgoing traffic on port 'PING'\n",
      "INFO: target node 'GitHubProject' not listening on port 'HTTPS'\n",
      "INFO: BLOCKED TRAFFIC: source node 'Tarpit-AzureStorage' is blocking outgoing traffic on port 'GIT'\n"
     ]
    },
    {
     "name": "stderr",
     "output_type": "stream",
     "text": [
      "Episode 5|Iteration 97|reward:  103.0|last_reward_at:   73|Elapsed Time: 0:00:01||"
     ]
    },
    {
     "name": "stdout",
     "output_type": "stream",
     "text": [
      "INFO: discovered node: Sharepoint\n",
      "INFO: GOT REWARD: Navigating to parent URL revealed file `deprecation-checklist.txt` containinga URL to an external sharepoint website\n"
     ]
    },
    {
     "name": "stderr",
     "output_type": "stream",
     "text": [
      "Episode 5|Iteration 97|reward:  114.0|last_reward_at:   97|Elapsed Time: 0:00:01||"
     ]
    },
    {
     "name": "stdout",
     "output_type": "stream",
     "text": [
      "INFO: discovered node: Tarpit-AzureStorage\n",
      "INFO: discovered credential: CachedCredential(node='Tarpit-AzureStorage', port='HTTPS', credential='SASTOKEN1')\n",
      "INFO: GOT REWARD: CredScan success: Some secure access token (SAS) was leaked in a reverted git commit\n",
      "INFO: invalid credentials supplied\n",
      "INFO: Vulnerability 'CredScanGitHistory' not supported by node 'Tarpit-AzureStorage'\n",
      "INFO: discovered node: GitHubProject\n",
      "INFO: GOT REWARD: WEBSITE page content has a link to github -> Github project discovered!\n"
     ]
    },
    {
     "name": "stderr",
     "output_type": "stream",
     "text": [
      "Episode 5|Iteration 102|reward:  114.0|last_reward_at:   97|Elapsed Time: 0:00:02||"
     ]
    },
    {
     "name": "stdout",
     "output_type": "stream",
     "text": [
      "INFO: Vulnerability 'ListAzureResources' not supported by node 'GitHubProject'\n",
      "INFO: BLOCKED TRAFFIC: source node 'Tarpit-AzureStorage' is blocking outgoing traffic on port 'SSH-key'\n",
      "INFO: discovered node: Website\n",
      "INFO: GOT REWARD: Web browser history revealed website URL of interest\n",
      "INFO: BLOCKED TRAFFIC: source node 'Tarpit-AzureStorage' is blocking outgoing traffic on port 'PING'\n",
      "INFO: Vulnerability 'AccessDataWithSASToken' not supported by node 'Website.Directory'\n"
     ]
    },
    {
     "name": "stderr",
     "output_type": "stream",
     "text": [
      "Episode 5|Iteration 107|reward:  114.0|last_reward_at:   97|Elapsed Time: 0:00:02||"
     ]
    },
    {
     "name": "stdout",
     "output_type": "stream",
     "text": [
      "INFO: discovered node: Website.Directory\n",
      "INFO: GOT REWARD: Viewing the web page source reveals a URL to a .txt file and directory on the website\n",
      "INFO: Vulnerability 'AccessDataWithSASToken' not supported by node 'client'\n"
     ]
    },
    {
     "name": "stderr",
     "output_type": "stream",
     "text": [
      "Episode 5|Iteration 109|reward:  114.0|last_reward_at:   97|Elapsed Time: 0:00:02||"
     ]
    },
    {
     "name": "stdout",
     "output_type": "stream",
     "text": [
      "INFO: discovered node: Website\n",
      "INFO: GOT REWARD: Web browser history revealed website URL of interest\n",
      "INFO: BLOCKED TRAFFIC: source node 'Tarpit-AzureStorage' is blocking outgoing traffic on port 'GIT'\n",
      "INFO: Vulnerability 'NavigateWebDirectory' not supported by node 'Tarpit-AzureStorage'\n"
     ]
    },
    {
     "name": "stderr",
     "output_type": "stream",
     "text": [
      "Episode 5|Iteration 112|reward:  114.0|last_reward_at:   97|Elapsed Time: 0:00:02||"
     ]
    },
    {
     "name": "stdout",
     "output_type": "stream",
     "text": [
      "INFO: discovered node: Sharepoint\n",
      "INFO: GOT REWARD: Navigating to parent URL revealed file `deprecation-checklist.txt` containinga URL to an external sharepoint website\n",
      "INFO: discovered node: Sharepoint\n",
      "INFO: GOT REWARD: Navigating to parent URL revealed file `deprecation-checklist.txt` containinga URL to an external sharepoint website\n",
      "INFO: BLOCKED TRAFFIC: source node 'Tarpit-AzureStorage' is blocking outgoing traffic on port 'PING'\n",
      "INFO: discovered node: Website\n",
      "INFO: GOT REWARD: Web browser history revealed website URL of interest\n",
      "INFO: Vulnerability 'ScanPageContent' not supported by node 'Tarpit-AzureStorage'\n"
     ]
    },
    {
     "name": "stderr",
     "output_type": "stream",
     "text": [
      "Episode 5|Iteration 116|reward:  114.0|last_reward_at:   97|Elapsed Time: 0:00:02||"
     ]
    },
    {
     "name": "stdout",
     "output_type": "stream",
     "text": [
      "INFO: Vulnerability 'CredScanGitHistory' not supported by node 'Tarpit-AzureStorage'\n",
      "INFO: Vulnerability 'ScanPageContent' not supported by node 'Website.Directory'\n",
      "INFO: Vulnerability 'ScanSharepointParentDirectory' not supported by node 'Website.Directory'\n",
      "INFO: Vulnerability 'ScanPageSource' not supported by node 'Tarpit-AzureStorage'\n"
     ]
    },
    {
     "name": "stderr",
     "output_type": "stream",
     "text": [
      "Episode 5|Iteration 120|reward:  114.0|last_reward_at:   97|Elapsed Time: 0:00:02||"
     ]
    },
    {
     "name": "stdout",
     "output_type": "stream",
     "text": [
      "INFO: BLOCKED TRAFFIC: source node 'Tarpit-AzureStorage' is blocking outgoing traffic on port 'SSH-key'\n",
      "INFO: invalid credentials supplied\n",
      "INFO: BLOCKED TRAFFIC: source node 'client' is blocking outgoing traffic on port 'su'\n",
      "INFO: Vulnerability 'ScanPageSource' not supported by node 'Sharepoint'\n"
     ]
    },
    {
     "name": "stderr",
     "output_type": "stream",
     "text": [
      "Episode 5|Iteration 125|reward:  114.0|last_reward_at:   97|Elapsed Time: 0:00:02||"
     ]
    },
    {
     "name": "stdout",
     "output_type": "stream",
     "text": [
      "INFO: Vulnerability 'ScanPageSource' not supported by node 'GitHubProject'\n",
      "INFO: discovered node: Website\n",
      "INFO: GOT REWARD: Web browser history revealed website URL of interest\n",
      "INFO: Vulnerability 'ScanPageSource' not supported by node 'GitHubProject'\n",
      "INFO: Vulnerability 'ScanPageContent' not supported by node 'Sharepoint'\n"
     ]
    },
    {
     "name": "stderr",
     "output_type": "stream",
     "text": [
      "Episode 5|Iteration 128|reward:  114.0|last_reward_at:   97|Elapsed Time: 0:00:02||"
     ]
    },
    {
     "name": "stdout",
     "output_type": "stream",
     "text": [
      "INFO: Vulnerability 'ListAzureResources' not supported by node 'Tarpit-AzureStorage'\n",
      "INFO: GOT REWARD: Stole data using a publicly shared SAS token\n",
      "INFO: Vulnerability 'NavigateWebDirectory' not supported by node 'client'\n"
     ]
    },
    {
     "name": "stderr",
     "output_type": "stream",
     "text": [
      "Episode 5|Iteration 132|reward:  114.0|last_reward_at:   97|Elapsed Time: 0:00:02||"
     ]
    },
    {
     "name": "stdout",
     "output_type": "stream",
     "text": [
      "INFO: BLOCKED TRAFFIC: source node 'Tarpit-AzureStorage' is blocking outgoing traffic on port 'SSH-key'\n",
      "INFO: target node 'Sharepoint' not listening on port 'SSH'\n",
      "INFO: Vulnerability 'ScanSharepointParentDirectory' not supported by node 'GitHubProject'\n"
     ]
    },
    {
     "name": "stderr",
     "output_type": "stream",
     "text": [
      "Episode 5|Iteration 135|reward:  114.0|last_reward_at:   97|Elapsed Time: 0:00:02||"
     ]
    },
    {
     "name": "stdout",
     "output_type": "stream",
     "text": [
      "INFO: BLOCKED TRAFFIC: source node 'client' is blocking outgoing traffic on port 'PING'\n",
      "INFO: discovered node: Website\n",
      "INFO: GOT REWARD: Web browser history revealed website URL of interest\n",
      "INFO: Vulnerability 'ScanSharepointParentDirectory' not supported by node 'Website'\n",
      "INFO: Vulnerability 'NavigateWebDirectory' not supported by node 'client'\n"
     ]
    },
    {
     "name": "stderr",
     "output_type": "stream",
     "text": [
      "Episode 5|Iteration 140|reward:  114.0|last_reward_at:   97|Elapsed Time: 0:00:02||"
     ]
    },
    {
     "name": "stdout",
     "output_type": "stream",
     "text": [
      "INFO: Vulnerability 'NavigateWebDirectoryFurther' not supported by node 'GitHubProject'\n",
      "INFO: Vulnerability 'NavigateWebDirectoryFurther' not supported by node 'Tarpit-AzureStorage'\n",
      "INFO: Vulnerability 'AccessDataWithSASToken' not supported by node 'GitHubProject'\n",
      "INFO: Vulnerability 'NavigateWebDirectory' not supported by node 'client'\n",
      "INFO: BLOCKED TRAFFIC: source node 'client' is blocking outgoing traffic on port 'su'\n"
     ]
    },
    {
     "name": "stderr",
     "output_type": "stream",
     "text": [
      "Episode 5|Iteration 145|reward:  114.0|last_reward_at:   97|Elapsed Time: 0:00:03||"
     ]
    },
    {
     "name": "stdout",
     "output_type": "stream",
     "text": [
      "INFO: BLOCKED TRAFFIC: source node 'Tarpit-AzureStorage' is blocking outgoing traffic on port 'MySQL'\n",
      "INFO: discovered node: Sharepoint\n",
      "INFO: GOT REWARD: Navigating to parent URL revealed file `deprecation-checklist.txt` containinga URL to an external sharepoint website\n",
      "INFO: BLOCKED TRAFFIC: source node 'Tarpit-AzureStorage' is blocking outgoing traffic on port 'GIT'\n",
      "INFO: Vulnerability 'ListAzureResources' not supported by node 'Tarpit-AzureStorage'\n",
      "INFO: Vulnerability 'NavigateWebDirectory' not supported by node 'Website'\n"
     ]
    },
    {
     "name": "stderr",
     "output_type": "stream",
     "text": [
      "Episode 5|Iteration 150|reward:  114.0|last_reward_at:   97|Elapsed Time: 0:00:03||"
     ]
    },
    {
     "name": "stdout",
     "output_type": "stream",
     "text": [
      "INFO: Vulnerability 'ScanPageSource' not supported by node 'Website.Directory'\n",
      "INFO: discovered node: Website\n",
      "INFO: GOT REWARD: Web browser history revealed website URL of interest\n",
      "INFO: Vulnerability 'NavigateWebDirectory' not supported by node 'GitHubProject'\n",
      "INFO: Vulnerability 'ScanPageSource' not supported by node 'Website.Directory'\n",
      "INFO: Vulnerability 'ListAzureResources' not supported by node 'client'\n"
     ]
    },
    {
     "name": "stderr",
     "output_type": "stream",
     "text": [
      "Episode 5|Iteration 155|reward:  114.0|last_reward_at:   97|Elapsed Time: 0:00:03||"
     ]
    },
    {
     "name": "stdout",
     "output_type": "stream",
     "text": [
      "INFO: Vulnerability 'NavigateWebDirectoryFurther' not supported by node 'client'\n",
      "INFO: BLOCKED TRAFFIC: source node 'client' is blocking outgoing traffic on port 'GIT'\n",
      "INFO: target node 'GitHubProject' not listening on port 'HTTPS'\n",
      "INFO: BLOCKED TRAFFIC: source node 'client' is blocking outgoing traffic on port 'PING'\n",
      "INFO: discovered node: Website\n",
      "INFO: GOT REWARD: Web browser history revealed website URL of interest\n"
     ]
    },
    {
     "name": "stderr",
     "output_type": "stream",
     "text": [
      "Episode 5|Iteration 160|reward:  114.0|last_reward_at:   97|Elapsed Time: 0:00:03||"
     ]
    },
    {
     "name": "stdout",
     "output_type": "stream",
     "text": [
      "INFO: Vulnerability 'ScanPageSource' not supported by node 'client'\n",
      "INFO: invalid credentials supplied\n",
      "INFO: Vulnerability 'ScanSharepointParentDirectory' not supported by node 'Website'\n"
     ]
    },
    {
     "name": "stderr",
     "output_type": "stream",
     "text": [
      "Episode 5|Iteration 163|reward:  114.0|last_reward_at:   97|Elapsed Time: 0:00:03||"
     ]
    },
    {
     "name": "stdout",
     "output_type": "stream",
     "text": [
      "INFO: Vulnerability 'CredScanGitHistory' not supported by node 'client'\n",
      "INFO: Vulnerability 'ScanPageSource' not supported by node 'Sharepoint'\n",
      "INFO: target node 'client' not listening on port 'HTTPS'\n",
      "INFO: Vulnerability 'ScanSharepointParentDirectory' not supported by node 'Website'\n",
      "INFO: discovered node: Tarpit-AzureStorage\n",
      "INFO: discovered credential: CachedCredential(node='Tarpit-AzureStorage', port='HTTPS', credential='SASTOKEN1')\n",
      "INFO: GOT REWARD: CredScan success: Some secure access token (SAS) was leaked in a reverted git commit\n"
     ]
    },
    {
     "name": "stderr",
     "output_type": "stream",
     "text": [
      "Episode 5|Iteration 167|reward:  114.0|last_reward_at:   97|Elapsed Time: 0:00:03||"
     ]
    },
    {
     "name": "stdout",
     "output_type": "stream",
     "text": [
      "INFO: Vulnerability 'NavigateWebDirectoryFurther' not supported by node 'client'\n",
      "INFO: discovered node: Website\n",
      "INFO: GOT REWARD: Web browser history revealed website URL of interest\n"
     ]
    },
    {
     "name": "stderr",
     "output_type": "stream",
     "text": [
      "Episode 5|Iteration 170|reward:  114.0|last_reward_at:   97|Elapsed Time: 0:00:03||"
     ]
    },
    {
     "name": "stdout",
     "output_type": "stream",
     "text": [
      "INFO: Vulnerability 'NavigateWebDirectoryFurther' not supported by node 'GitHubProject'\n",
      "INFO: target node 'client' not listening on port 'HTTPS'\n",
      "INFO: BLOCKED TRAFFIC: source node 'client' is blocking outgoing traffic on port 'SSH-key'\n"
     ]
    },
    {
     "name": "stderr",
     "output_type": "stream",
     "text": [
      "Episode 5|Iteration 173|reward:  114.0|last_reward_at:   97|Elapsed Time: 0:00:03||"
     ]
    },
    {
     "name": "stdout",
     "output_type": "stream",
     "text": [
      "INFO: discovered node: Website\n",
      "INFO: discovered credential: CachedCredential(node='Website', port='MySQL', credential='ReusedMySqlCred-web')\n",
      "INFO: GOT REWARD: Discover browseable web directory: Navigating to parent URL revealed file `readme.txt`with secret data (aflag); and `getting-started.txt` with MYSQL credentials\n"
     ]
    },
    {
     "name": "stderr",
     "output_type": "stream",
     "text": [
      "Episode 5|Iteration 173|reward:  123.0|last_reward_at:  173|Elapsed Time: 0:00:03||"
     ]
    },
    {
     "name": "stdout",
     "output_type": "stream",
     "text": [
      "INFO: Vulnerability 'ScanPageSource' not supported by node 'GitHubProject'\n",
      "INFO: Vulnerability 'ScanPageContent' not supported by node 'Sharepoint'\n",
      "INFO: BLOCKED TRAFFIC: source node 'Tarpit-AzureStorage' is blocking outgoing traffic on port 'GIT'\n",
      "INFO: Vulnerability 'ScanSharepointParentDirectory' not supported by node 'Website.Directory'\n"
     ]
    },
    {
     "name": "stderr",
     "output_type": "stream",
     "text": [
      "Episode 5|Iteration 178|reward:  123.0|last_reward_at:  173|Elapsed Time: 0:00:03||"
     ]
    },
    {
     "name": "stdout",
     "output_type": "stream",
     "text": [
      "INFO: BLOCKED TRAFFIC: source node 'client' is blocking outgoing traffic on port 'PING'\n",
      "INFO: Vulnerability 'CredScanGitHistory' not supported by node 'Sharepoint'\n",
      "INFO: Vulnerability 'NavigateWebDirectory' not supported by node 'Website'\n",
      "INFO: Vulnerability 'ScanSharepointParentDirectory' not supported by node 'Website'\n",
      "INFO: BLOCKED TRAFFIC: source node 'Tarpit-AzureStorage' is blocking outgoing traffic on port 'su'\n"
     ]
    },
    {
     "name": "stderr",
     "output_type": "stream",
     "text": [
      "Episode 5|Iteration 183|reward:  123.0|last_reward_at:  173|Elapsed Time: 0:00:03||"
     ]
    },
    {
     "name": "stdout",
     "output_type": "stream",
     "text": [
      "INFO: discovered node: Website\n",
      "INFO: GOT REWARD: Web browser history revealed website URL of interest\n",
      "INFO: discovered node: Website\n",
      "INFO: GOT REWARD: Web browser history revealed website URL of interest\n",
      "INFO: Vulnerability 'NavigateWebDirectoryFurther' not supported by node 'GitHubProject'\n",
      "INFO: BLOCKED TRAFFIC: source node 'client' is blocking outgoing traffic on port 'su'\n",
      "INFO: Vulnerability 'NavigateWebDirectoryFurther' not supported by node 'client'\n"
     ]
    },
    {
     "name": "stderr",
     "output_type": "stream",
     "text": [
      "Episode 5|Iteration 188|reward:  123.0|last_reward_at:  173|Elapsed Time: 0:00:03||"
     ]
    },
    {
     "name": "stdout",
     "output_type": "stream",
     "text": [
      "INFO: BLOCKED TRAFFIC: source node 'client' is blocking outgoing traffic on port 'GIT'\n",
      "INFO: BLOCKED TRAFFIC: source node 'client' is blocking outgoing traffic on port 'GIT'\n",
      "INFO: Vulnerability 'AccessDataWithSASToken' not supported by node 'client'\n",
      "INFO: Vulnerability 'NavigateWebDirectoryFurther' not supported by node 'Sharepoint'\n",
      "INFO: Vulnerability 'ScanSharepointParentDirectory' not supported by node 'GitHubProject'\n"
     ]
    },
    {
     "name": "stderr",
     "output_type": "stream",
     "text": [
      "Episode 5|Iteration 193|reward:  123.0|last_reward_at:  173|Elapsed Time: 0:00:04||"
     ]
    },
    {
     "name": "stdout",
     "output_type": "stream",
     "text": [
      "INFO: BLOCKED TRAFFIC: source node 'client' is blocking outgoing traffic on port 'su'\n",
      "INFO: Vulnerability 'CredScanGitHistory' not supported by node 'Tarpit-AzureStorage'\n",
      "INFO: BLOCKED TRAFFIC: source node 'Tarpit-AzureStorage' is blocking outgoing traffic on port 'su'\n",
      "INFO: Vulnerability 'AccessDataWithSASToken' not supported by node 'Sharepoint'\n",
      "INFO: discovered node: Website.Directory\n",
      "INFO: GOT REWARD: Viewing the web page source reveals a URL to a .txt file and directory on the website\n"
     ]
    },
    {
     "name": "stderr",
     "output_type": "stream",
     "text": [
      "Episode 5|Iteration 198|reward:  123.0|last_reward_at:  173|Elapsed Time: 0:00:04||"
     ]
    },
    {
     "name": "stdout",
     "output_type": "stream",
     "text": [
      "INFO: Vulnerability 'CredScanGitHistory' not supported by node 'Tarpit-AzureStorage'\n",
      "INFO: Vulnerability 'CredScanGitHistory' not supported by node 'client'\n",
      "INFO: discovered node: Website.Directory\n",
      "INFO: GOT REWARD: Viewing the web page source reveals a URL to a .txt file and directory on the website\n"
     ]
    },
    {
     "name": "stderr",
     "output_type": "stream",
     "text": [
      "Episode 5|Iteration 200|reward:  123.0|last_reward_at:  173|Elapsed Time: 0:00:04||\n"
     ]
    },
    {
     "name": "stdout",
     "output_type": "stream",
     "text": [
      "  Episode 5 stopped at t=200 \n",
      "  Breakdown [Reward/NoReward (Success rate)]\n",
      "    explore-local: 0/16 (0.00)\n",
      "    explore-remote: 3/82 (0.04)\n",
      "    explore-connect: 0/61 (0.00)\n",
      "    exploit-local: 1/0 (1.00)\n",
      "    exploit-remote: 3/33 (0.08)\n",
      "    exploit-connect: 1/0 (1.00)\n",
      "  exploit deflected to exploration: 6\n",
      "simulation ended\n"
     ]
    }
   ],
   "source": [
    "# Baseline - No Defender\n",
    "# CTF Environment\n",
    "env = env_ctf_baseline\n",
    "ep = w.EnvironmentBounds.of_identifiers(maximum_node_count=maximum_node_count, maximum_total_credentials=maximum_total_credentials, identifiers=env.identifiers)\n",
    "\n",
    "baseline_ctf_dql = learner.epsilon_greedy_search(\n",
    "    cyberbattle_gym_env=env,\n",
    "    environment_properties=ep,\n",
    "    learner=dqla.DeepQLearnerPolicy(\n",
    "        ep=ep,\n",
    "        gamma=0.015,\n",
    "        replay_memory_size=10000,\n",
    "        target_update=10,\n",
    "        batch_size=512,\n",
    "        # torch default learning rate is 1e-2\n",
    "        # a large value helps converge in less episodes\n",
    "        learning_rate=0.01,\n",
    "    ),\n",
    "    episode_count=training_episode_count,\n",
    "    iteration_count=iteration_count,\n",
    "    epsilon=0.90,\n",
    "    epsilon_exponential_decay=5000,\n",
    "    epsilon_minimum=0.10,\n",
    "    verbosity=Verbosity.Quiet,\n",
    "    render=False,\n",
    "    plot_episodes_length=False,\n",
    "    title=\"Baseline\",\n",
    ")"
   ]
  },
  {
   "cell_type": "code",
   "execution_count": null,
   "id": "f8ef9bda-12a5-4b20-9413-e6ad30382113",
   "metadata": {
    "scrolled": true
   },
   "outputs": [],
   "source": [
    "#Baseline\n",
    "# Chain Environment\n",
    "env = env_chain_baseline\n",
    "env.reset()\n",
    "ep = w.EnvironmentBounds.of_identifiers(maximum_node_count=maximum_node_count, maximum_total_credentials=maximum_total_credentials, identifiers=env.identifiers)\n",
    "\n",
    "baseline_chain_dql = learner.epsilon_greedy_search(\n",
    "    cyberbattle_gym_env=env,\n",
    "    environment_properties=ep,\n",
    "    learner=dqla.DeepQLearnerPolicy(\n",
    "        ep=ep,\n",
    "        gamma=0.015,\n",
    "        replay_memory_size=10000,\n",
    "        target_update=10,\n",
    "        batch_size=512,\n",
    "        # torch default learning rate is 1e-2\n",
    "        # a large value helps converge in less episodes\n",
    "        learning_rate=0.01,\n",
    "    ),\n",
    "    episode_count=training_episode_count,\n",
    "    iteration_count=iteration_count,\n",
    "    epsilon=0.90,\n",
    "    epsilon_exponential_decay=5000,\n",
    "    epsilon_minimum=0.10,\n",
    "    verbosity=Verbosity.Quiet,\n",
    "    render=False,\n",
    "    plot_episodes_length=False,\n",
    "    title=\"Baseline\",\n",
    ")"
   ]
  },
  {
   "cell_type": "markdown",
   "id": "b4ece098-62e8-49c1-9483-ecbb89df69de",
   "metadata": {},
   "source": [
    "# 1. Environment - CTF+Signaling"
   ]
  },
  {
   "cell_type": "markdown",
   "id": "49d50ce2-f869-4a17-b451-1ef929e5a0db",
   "metadata": {
    "jp-MarkdownHeadingCollapsed": true
   },
   "source": [
    "## 20%"
   ]
  },
  {
   "cell_type": "code",
   "execution_count": null,
   "id": "ef81970b-f93e-4984-ba4f-0270b3d35e89",
   "metadata": {
    "scrolled": true
   },
   "outputs": [],
   "source": [
    "# Signaling Agent\n",
    "# CTF Environment\n",
    "env = env_ctf_signaling_20\n",
    "ep = w.EnvironmentBounds.of_identifiers(maximum_node_count=maximum_node_count, maximum_total_credentials=maximum_total_credentials, identifiers=env.identifiers)\n",
    "\n",
    "signal20_ctf_dql = learner.epsilon_greedy_search(\n",
    "    cyberbattle_gym_env=env,\n",
    "    environment_properties=ep,\n",
    "    learner=dqla.DeepQLearnerPolicy(\n",
    "        ep=ep,\n",
    "        gamma=0.015,\n",
    "        replay_memory_size=10000,\n",
    "        target_update=10,\n",
    "        batch_size=512,\n",
    "        # torch default learning rate is 1e-2\n",
    "        # a large value helps converge in less episodes\n",
    "        learning_rate=0.01,\n",
    "    ),\n",
    "    episode_count=training_episode_count,\n",
    "    iteration_count=iteration_count,\n",
    "    epsilon=0.90,\n",
    "    epsilon_exponential_decay=5000,\n",
    "    epsilon_minimum=0.10,\n",
    "    verbosity=Verbosity.Quiet,\n",
    "    render=False,\n",
    "    plot_episodes_length=False,\n",
    "    title=\"Signaling-20%\",\n",
    ")"
   ]
  },
  {
   "cell_type": "markdown",
   "id": "fba5ae1e-a0a2-4a45-8201-8dcf2d66b2d7",
   "metadata": {
    "jp-MarkdownHeadingCollapsed": true
   },
   "source": [
    "## 40%"
   ]
  },
  {
   "cell_type": "code",
   "execution_count": null,
   "id": "7f1d9fd8-c731-401e-a3f0-e684b118b4f2",
   "metadata": {
    "scrolled": true
   },
   "outputs": [],
   "source": [
    "env = env_ctf_signaling_40\n",
    "ep = w.EnvironmentBounds.of_identifiers(maximum_node_count=maximum_node_count, maximum_total_credentials=maximum_total_credentials, identifiers=env.identifiers)\n",
    "\n",
    "signal40_ctf_dql = learner.epsilon_greedy_search(\n",
    "    cyberbattle_gym_env=env,\n",
    "    environment_properties=ep,\n",
    "    learner=dqla.DeepQLearnerPolicy(\n",
    "        ep=ep,\n",
    "        gamma=0.015,\n",
    "        replay_memory_size=10000,\n",
    "        target_update=10,\n",
    "        batch_size=512,\n",
    "        # torch default learning rate is 1e-2\n",
    "        # a large value helps converge in less episodes\n",
    "        learning_rate=0.01,\n",
    "    ),\n",
    "    episode_count=training_episode_count,\n",
    "    iteration_count=iteration_count,\n",
    "    epsilon=0.90,\n",
    "    epsilon_exponential_decay=5000,\n",
    "    epsilon_minimum=0.10,\n",
    "    verbosity=Verbosity.Quiet,\n",
    "    render=False,\n",
    "    plot_episodes_length=False,\n",
    "    title=\"Signaling-40%\",\n",
    ")"
   ]
  },
  {
   "cell_type": "markdown",
   "id": "d66af45b-8838-4624-93b1-cecc673f08d6",
   "metadata": {},
   "source": [
    "## 60%"
   ]
  },
  {
   "cell_type": "code",
   "execution_count": 8,
   "id": "7e71ef9e-e8ba-4f81-8a44-aff24afac090",
   "metadata": {
    "scrolled": true
   },
   "outputs": [
    {
     "name": "stdout",
     "output_type": "stream",
     "text": [
      "###### Signaling-60%\n",
      "Learning with: episode_count=5,iteration_count=200,ϵ=0.9,ϵ_min=0.1, ϵ_expdecay=5000,γ=0.015, lr=0.01, replaymemory=10000,\n",
      "batch=512, target_update=10\n",
      "Total Applied Penalties: 0\n",
      "INFO: Resetting the CyberBattle environment\n"
     ]
    },
    {
     "name": "stderr",
     "output_type": "stream",
     "text": [
      "/home/minu/miniconda3/envs/cybersim/lib/python3.9/site-packages/gymnasium/core.py:311: UserWarning: \u001b[33mWARN: env.identifiers to get variables from other wrappers is deprecated and will be removed in v1.0, to get this variable you can do `env.unwrapped.identifiers` for environment variables or `env.get_wrapper_attr('identifiers')` that will search the reminding wrappers.\u001b[0m\n",
      "  logger.warn(\n"
     ]
    },
    {
     "name": "stdout",
     "output_type": "stream",
     "text": [
      "  ## Episode: 1/5 'Signaling-60%' ϵ=0.9000, γ=0.015, lr=0.01, replaymemory=10000,\n",
      "batch=512, target_update=10\n",
      "Total Applied Penalties: 0\n",
      "INFO: Resetting the CyberBattle environment\n"
     ]
    },
    {
     "name": "stderr",
     "output_type": "stream",
     "text": [
      "Episode 1|Iteration 0|reward: ------|last_reward_at: ----|Elapsed Time: 0:00:00||"
     ]
    },
    {
     "name": "stdout",
     "output_type": "stream",
     "text": [
      "INFO: Vulnerability 'NavigateWebDirectory' not supported by node 'client'\n"
     ]
    },
    {
     "name": "stderr",
     "output_type": "stream",
     "text": [
      "/home/minu/miniconda3/envs/cybersim/lib/python3.9/site-packages/gymnasium/core.py:311: UserWarning: \u001b[33mWARN: env.sample_valid_action to get variables from other wrappers is deprecated and will be removed in v1.0, to get this variable you can do `env.unwrapped.sample_valid_action` for environment variables or `env.get_wrapper_attr('sample_valid_action')` that will search the reminding wrappers.\u001b[0m\n",
      "  logger.warn(\n",
      "Episode 1|Iteration 1|reward:    0.0|last_reward_at: ----|Elapsed Time: 0:00:00||"
     ]
    },
    {
     "name": "stdout",
     "output_type": "stream",
     "text": [
      "INFO: discovered node: Website\n",
      "INFO: GOT REWARD: Web browser history revealed website URL of interest\n"
     ]
    },
    {
     "name": "stderr",
     "output_type": "stream",
     "text": [
      "Episode 1|Iteration 2|reward:   11.0|last_reward_at:    2|Elapsed Time: 0:00:00||"
     ]
    },
    {
     "name": "stdout",
     "output_type": "stream",
     "text": [
      "Fake Signal Deployed: Website\n",
      "INFO: Vulnerability 'NavigateWebDirectory' not supported by node 'Website'\n",
      "INFO: Vulnerability 'AccessDataWithSASToken' not supported by node 'client'\n",
      "INFO: Vulnerability 'AccessDataWithSASToken' not supported by node 'Website'\n"
     ]
    },
    {
     "name": "stderr",
     "output_type": "stream",
     "text": [
      "/home/minu/miniconda3/envs/cybersim/lib/python3.9/site-packages/gymnasium/core.py:311: UserWarning: \u001b[33mWARN: env.is_action_valid to get variables from other wrappers is deprecated and will be removed in v1.0, to get this variable you can do `env.unwrapped.is_action_valid` for environment variables or `env.get_wrapper_attr('is_action_valid')` that will search the reminding wrappers.\u001b[0m\n",
      "  logger.warn(\n",
      "Episode 1|Iteration 6|reward:   11.0|last_reward_at:    2|Elapsed Time: 0:00:00||"
     ]
    },
    {
     "name": "stdout",
     "output_type": "stream",
     "text": [
      "INFO: Vulnerability 'AccessDataWithSASToken' not supported by node 'Website'\n",
      "INFO: Vulnerability 'CredScanGitHistory' not supported by node 'client'\n",
      "INFO: Vulnerability 'AccessDataWithSASToken' not supported by node 'client'\n",
      "INFO: discovered node: Website\n",
      "INFO: GOT REWARD: Web browser history revealed website URL of interest\n",
      "INFO: Vulnerability 'NavigateWebDirectoryFurther' not supported by node 'Website'\n"
     ]
    },
    {
     "name": "stderr",
     "output_type": "stream",
     "text": [
      "Episode 1|Iteration 11|reward:   11.0|last_reward_at:    2|Elapsed Time: 0:00:00||"
     ]
    },
    {
     "name": "stdout",
     "output_type": "stream",
     "text": [
      "INFO: discovered node: GitHubProject\n",
      "INFO: GOT REWARD: WEBSITE page content has a link to github -> Github project discovered!\n",
      "Fake Signal Deployed: GitHubProject\n"
     ]
    },
    {
     "name": "stderr",
     "output_type": "stream",
     "text": [
      "Episode 1|Iteration 11|reward:   22.0|last_reward_at:   11|Elapsed Time: 0:00:00||"
     ]
    },
    {
     "name": "stdout",
     "output_type": "stream",
     "text": [
      "INFO: discovered node: Website\n",
      "INFO: GOT REWARD: Web browser history revealed website URL of interest\n",
      "INFO: Vulnerability 'NavigateWebDirectory' not supported by node 'client'\n",
      "INFO: discovered node: Website\n",
      "INFO: GOT REWARD: Web browser history revealed website URL of interest\n",
      "INFO: discovered node: Website\n",
      "INFO: GOT REWARD: Web browser history revealed website URL of interest\n"
     ]
    },
    {
     "name": "stderr",
     "output_type": "stream",
     "text": [
      "Episode 1|Iteration 16|reward:   22.0|last_reward_at:   11|Elapsed Time: 0:00:00||"
     ]
    },
    {
     "name": "stdout",
     "output_type": "stream",
     "text": [
      "INFO: discovered node: Tarpit-AzureStorage\n",
      "INFO: discovered credential: CachedCredential(node='Tarpit-AzureStorage', port='HTTPS', credential='SASTOKEN1')\n",
      "INFO: GOT REWARD: CredScan success: Some secure access token (SAS) was leaked in a reverted git commit\n",
      "Fake Signal Deployed: Tarpit-AzureStorage\n"
     ]
    },
    {
     "name": "stderr",
     "output_type": "stream",
     "text": [
      "Episode 1|Iteration 16|reward:   36.0|last_reward_at:   16|Elapsed Time: 0:00:00||"
     ]
    },
    {
     "name": "stdout",
     "output_type": "stream",
     "text": [
      "INFO: BLOCKED TRAFFIC: source node 'client' is blocking outgoing traffic on port 'PING'\n",
      "INFO: Vulnerability 'ListAzureResources' not supported by node 'client'\n",
      "INFO: Vulnerability 'AccessDataWithSASToken' not supported by node 'GitHubProject'\n",
      "INFO: BLOCKED TRAFFIC: source node 'client' is blocking outgoing traffic on port 'SSH-key'\n"
     ]
    },
    {
     "name": "stderr",
     "output_type": "stream",
     "text": [
      "Episode 1|Iteration 21|reward:   36.0|last_reward_at:   16|Elapsed Time: 0:00:00||"
     ]
    },
    {
     "name": "stdout",
     "output_type": "stream",
     "text": [
      "INFO: Vulnerability 'ListAzureResources' not supported by node 'Tarpit-AzureStorage'\n",
      "INFO: Vulnerability 'ListAzureResources' not supported by node 'GitHubProject'\n",
      "INFO: Vulnerability 'ScanPageContent' not supported by node 'GitHubProject'\n",
      "INFO: BLOCKED TRAFFIC: source node 'client' is blocking outgoing traffic on port 'SSH-key'\n",
      "INFO: Vulnerability 'ScanSharepointParentDirectory' not supported by node 'GitHubProject'\n"
     ]
    },
    {
     "name": "stderr",
     "output_type": "stream",
     "text": [
      "Episode 1|Iteration 26|reward:   36.0|last_reward_at:   16|Elapsed Time: 0:00:00||"
     ]
    },
    {
     "name": "stdout",
     "output_type": "stream",
     "text": [
      "INFO: discovered node: Website\n",
      "INFO: GOT REWARD: Web browser history revealed website URL of interest\n",
      "INFO: Vulnerability 'ScanPageSource' not supported by node 'client'\n",
      "INFO: discovered node: Website.Directory\n",
      "INFO: GOT REWARD: Viewing the web page source reveals a URL to a .txt file and directory on the website\n"
     ]
    },
    {
     "name": "stderr",
     "output_type": "stream",
     "text": [
      "Episode 1|Iteration 28|reward:   47.0|last_reward_at:   28|Elapsed Time: 0:00:00||"
     ]
    },
    {
     "name": "stdout",
     "output_type": "stream",
     "text": [
      "Fake Signal Deployed: Website.Directory\n",
      "INFO: Vulnerability 'ScanSharepointParentDirectory' not supported by node 'Website.Directory'\n",
      "INFO: discovered node: Website\n",
      "INFO: GOT REWARD: Web browser history revealed website URL of interest\n",
      "INFO: Vulnerability 'ScanSharepointParentDirectory' not supported by node 'Website.Directory'\n",
      "INFO: Vulnerability 'ScanPageContent' not supported by node 'Tarpit-AzureStorage'\n"
     ]
    },
    {
     "name": "stderr",
     "output_type": "stream",
     "text": [
      "Episode 1|Iteration 33|reward:   47.0|last_reward_at:   28|Elapsed Time: 0:00:00||"
     ]
    },
    {
     "name": "stdout",
     "output_type": "stream",
     "text": [
      "INFO: Vulnerability 'NavigateWebDirectory' not supported by node 'GitHubProject'\n",
      "INFO: Vulnerability 'CredScanGitHistory' not supported by node 'Website.Directory'\n",
      "INFO: BLOCKED TRAFFIC: source node 'client' is blocking outgoing traffic on port 'PING'\n"
     ]
    },
    {
     "name": "stderr",
     "output_type": "stream",
     "text": [
      "Episode 1|Iteration 36|reward:   47.0|last_reward_at:   28|Elapsed Time: 0:00:00||"
     ]
    },
    {
     "name": "stdout",
     "output_type": "stream",
     "text": [
      "INFO: discovered node: Website\n",
      "INFO: GOT REWARD: Web browser history revealed website URL of interest\n",
      "INFO: target node 'client' not listening on port 'SSH'\n",
      "INFO: discovered node: Website\n",
      "INFO: GOT REWARD: Web browser history revealed website URL of interest\n",
      "INFO: BLOCKED TRAFFIC: source node 'client' is blocking outgoing traffic on port 'SSH-key'\n",
      "INFO: Vulnerability 'CredScanGitHistory' not supported by node 'Website'\n"
     ]
    },
    {
     "name": "stderr",
     "output_type": "stream",
     "text": [
      "Episode 1|Iteration 41|reward:   47.0|last_reward_at:   28|Elapsed Time: 0:00:00||"
     ]
    },
    {
     "name": "stdout",
     "output_type": "stream",
     "text": [
      "INFO: Vulnerability 'ListAzureResources' not supported by node 'client'\n",
      "INFO: Vulnerability 'ListAzureResources' not supported by node 'Website.Directory'\n",
      "INFO: BLOCKED TRAFFIC: source node 'client' is blocking outgoing traffic on port 'SSH-key'\n"
     ]
    },
    {
     "name": "stderr",
     "output_type": "stream",
     "text": [
      "Episode 1|Iteration 44|reward:   47.0|last_reward_at:   28|Elapsed Time: 0:00:00||"
     ]
    },
    {
     "name": "stdout",
     "output_type": "stream",
     "text": [
      "INFO: BLOCKED TRAFFIC: source node 'client' is blocking outgoing traffic on port 'SSH-key'\n",
      "INFO: BLOCKED TRAFFIC: source node 'client' is blocking outgoing traffic on port 'PING'\n",
      "INFO: Vulnerability 'AccessDataWithSASToken' not supported by node 'Website.Directory'\n",
      "INFO: Vulnerability 'ScanPageContent' not supported by node 'Website.Directory'\n",
      "INFO: BLOCKED TRAFFIC: source node 'client' is blocking outgoing traffic on port 'PING'\n"
     ]
    },
    {
     "name": "stderr",
     "output_type": "stream",
     "text": [
      "Episode 1|Iteration 49|reward:   47.0|last_reward_at:   28|Elapsed Time: 0:00:00||"
     ]
    },
    {
     "name": "stdout",
     "output_type": "stream",
     "text": [
      "INFO: discovered node: Sharepoint\n",
      "INFO: GOT REWARD: Navigating to parent URL revealed file `deprecation-checklist.txt` containinga URL to an external sharepoint website\n",
      "Fake Signal Deployed: Sharepoint\n"
     ]
    },
    {
     "name": "stderr",
     "output_type": "stream",
     "text": [
      "Episode 1|Iteration 49|reward:   58.0|last_reward_at:   49|Elapsed Time: 0:00:00||"
     ]
    },
    {
     "name": "stdout",
     "output_type": "stream",
     "text": [
      "INFO: discovered node: Sharepoint\n",
      "INFO: GOT REWARD: Navigating to parent URL revealed file `deprecation-checklist.txt` containinga URL to an external sharepoint website\n",
      "INFO: discovered node: Website.Directory\n",
      "INFO: GOT REWARD: Viewing the web page source reveals a URL to a .txt file and directory on the website\n",
      "INFO: BLOCKED TRAFFIC: source node 'client' is blocking outgoing traffic on port 'GIT'\n",
      "INFO: Vulnerability 'ScanSharepointParentDirectory' not supported by node 'Tarpit-AzureStorage'\n"
     ]
    },
    {
     "name": "stderr",
     "output_type": "stream",
     "text": [
      "Episode 1|Iteration 54|reward:   58.0|last_reward_at:   49|Elapsed Time: 0:00:01||"
     ]
    },
    {
     "name": "stdout",
     "output_type": "stream",
     "text": [
      "INFO: BLOCKED TRAFFIC: source node 'client' is blocking outgoing traffic on port 'MySQL'\n",
      "INFO: discovered node: Website\n",
      "INFO: GOT REWARD: Web browser history revealed website URL of interest\n",
      "INFO: discovered node: GitHubProject\n",
      "INFO: GOT REWARD: WEBSITE page content has a link to github -> Github project discovered!\n",
      "INFO: BLOCKED TRAFFIC: source node 'client' is blocking outgoing traffic on port 'SSH-key'\n",
      "INFO: Vulnerability 'ListAzureResources' not supported by node 'client'\n"
     ]
    },
    {
     "name": "stderr",
     "output_type": "stream",
     "text": [
      "Episode 1|Iteration 58|reward:   58.0|last_reward_at:   49|Elapsed Time: 0:00:01||"
     ]
    },
    {
     "name": "stdout",
     "output_type": "stream",
     "text": [
      "INFO: discovered node: Website\n",
      "INFO: GOT REWARD: Web browser history revealed website URL of interest\n",
      "INFO: Infected node 'Tarpit-AzureStorage' from 'client' via HTTPS with credential 'SASTOKEN1'\n"
     ]
    },
    {
     "name": "stderr",
     "output_type": "stream",
     "text": [
      "Episode 1|Iteration 60|reward:  108.0|last_reward_at:   60|Elapsed Time: 0:00:01||"
     ]
    },
    {
     "name": "stdout",
     "output_type": "stream",
     "text": [
      "INFO: BLOCKED TRAFFIC: source node 'client' is blocking outgoing traffic on port 'PING'\n",
      "INFO: BLOCKED TRAFFIC: source node 'client' is blocking outgoing traffic on port 'PING'\n",
      "INFO: Vulnerability 'CredScanGitHistory' not supported by node 'Website.Directory'\n"
     ]
    },
    {
     "name": "stderr",
     "output_type": "stream",
     "text": [
      "Episode 1|Iteration 64|reward:  108.0|last_reward_at:   60|Elapsed Time: 0:00:01||"
     ]
    },
    {
     "name": "stdout",
     "output_type": "stream",
     "text": [
      "INFO: BLOCKED TRAFFIC: source node 'Tarpit-AzureStorage' is blocking outgoing traffic on port 'SSH-key'\n",
      "INFO: Vulnerability 'ScanPageContent' not supported by node 'Website.Directory'\n"
     ]
    },
    {
     "name": "stderr",
     "output_type": "stream",
     "text": [
      "Episode 1|Iteration 66|reward:  108.0|last_reward_at:   60|Elapsed Time: 0:00:01||"
     ]
    },
    {
     "name": "stdout",
     "output_type": "stream",
     "text": [
      "INFO: BLOCKED TRAFFIC: source node 'client' is blocking outgoing traffic on port 'MySQL'\n",
      "INFO: BLOCKED TRAFFIC: source node 'client' is blocking outgoing traffic on port 'su'\n",
      "INFO: target node 'Sharepoint' not listening on port 'SSH'\n"
     ]
    },
    {
     "name": "stderr",
     "output_type": "stream",
     "text": [
      "Episode 1|Iteration 69|reward:  108.0|last_reward_at:   60|Elapsed Time: 0:00:01||"
     ]
    },
    {
     "name": "stdout",
     "output_type": "stream",
     "text": [
      "INFO: target node 'GitHubProject' not listening on port 'HTTPS'\n",
      "INFO: BLOCKED TRAFFIC: source node 'client' is blocking outgoing traffic on port 'PING'\n"
     ]
    },
    {
     "name": "stderr",
     "output_type": "stream",
     "text": [
      "Episode 1|Iteration 71|reward:  108.0|last_reward_at:   60|Elapsed Time: 0:00:01||"
     ]
    },
    {
     "name": "stdout",
     "output_type": "stream",
     "text": [
      "INFO: target node 'Website.Directory' not listening on port 'SSH'\n",
      "INFO: BLOCKED TRAFFIC: source node 'client' is blocking outgoing traffic on port 'su'\n"
     ]
    },
    {
     "name": "stderr",
     "output_type": "stream",
     "text": [
      "Episode 1|Iteration 74|reward:  108.0|last_reward_at:   60|Elapsed Time: 0:00:01||"
     ]
    },
    {
     "name": "stdout",
     "output_type": "stream",
     "text": [
      "INFO: BLOCKED TRAFFIC: source node 'client' is blocking outgoing traffic on port 'MySQL'\n",
      "INFO: Vulnerability 'ScanPageContent' not supported by node 'client'\n",
      "INFO: Vulnerability 'CredScanGitHistory' not supported by node 'Website.Directory'\n",
      "INFO: BLOCKED TRAFFIC: source node 'Tarpit-AzureStorage' is blocking outgoing traffic on port 'SSH-key'\n",
      "INFO: BLOCKED TRAFFIC: source node 'Tarpit-AzureStorage' is blocking outgoing traffic on port 'GIT'\n"
     ]
    },
    {
     "name": "stderr",
     "output_type": "stream",
     "text": [
      "Episode 1|Iteration 78|reward:  108.0|last_reward_at:   60|Elapsed Time: 0:00:01||"
     ]
    },
    {
     "name": "stdout",
     "output_type": "stream",
     "text": [
      "INFO: Vulnerability 'ScanPageContent' not supported by node 'Sharepoint'\n",
      "INFO: Vulnerability 'ListAzureResources' not supported by node 'Sharepoint'\n",
      "INFO: Vulnerability 'ListAzureResources' not supported by node 'client'\n"
     ]
    },
    {
     "name": "stderr",
     "output_type": "stream",
     "text": [
      "Episode 1|Iteration 82|reward:  108.0|last_reward_at:   60|Elapsed Time: 0:00:01||"
     ]
    },
    {
     "name": "stdout",
     "output_type": "stream",
     "text": [
      "INFO: discovered node: Website\n",
      "INFO: GOT REWARD: Web browser history revealed website URL of interest\n",
      "INFO: Vulnerability 'CredScanGitHistory' not supported by node 'Tarpit-AzureStorage'\n",
      "INFO: BLOCKED TRAFFIC: source node 'client' is blocking outgoing traffic on port 'GIT'\n",
      "INFO: Vulnerability 'CredScanGitHistory' not supported by node 'Sharepoint'\n",
      "INFO: target node 'Sharepoint' not listening on port 'SSH'\n"
     ]
    },
    {
     "name": "stderr",
     "output_type": "stream",
     "text": [
      "Episode 1|Iteration 87|reward:  108.0|last_reward_at:   60|Elapsed Time: 0:00:01||"
     ]
    },
    {
     "name": "stdout",
     "output_type": "stream",
     "text": [
      "INFO: BLOCKED TRAFFIC: source node 'client' is blocking outgoing traffic on port 'GIT'\n",
      "INFO: Vulnerability 'NavigateWebDirectoryFurther' not supported by node 'Tarpit-AzureStorage'\n",
      "INFO: BLOCKED TRAFFIC: source node 'client' is blocking outgoing traffic on port 'GIT'\n",
      "INFO: target node 'GitHubProject' not listening on port 'HTTPS'\n",
      "INFO: Vulnerability 'ListAzureResources' not supported by node 'Sharepoint'\n"
     ]
    },
    {
     "name": "stderr",
     "output_type": "stream",
     "text": [
      "Episode 1|Iteration 92|reward:  108.0|last_reward_at:   60|Elapsed Time: 0:00:01||"
     ]
    },
    {
     "name": "stdout",
     "output_type": "stream",
     "text": [
      "INFO: target node 'Website.Directory' not listening on port 'SSH'\n",
      "INFO: BLOCKED TRAFFIC: source node 'Tarpit-AzureStorage' is blocking outgoing traffic on port 'su'\n",
      "INFO: Vulnerability 'CredScanGitHistory' not supported by node 'Sharepoint'\n",
      "INFO: discovered node: Website\n",
      "INFO: discovered credential: CachedCredential(node='Website', port='MySQL', credential='ReusedMySqlCred-web')\n",
      "INFO: GOT REWARD: Discover browseable web directory: Navigating to parent URL revealed file `readme.txt`with secret data (aflag); and `getting-started.txt` with MYSQL credentials\n"
     ]
    },
    {
     "name": "stderr",
     "output_type": "stream",
     "text": [
      "Episode 1|Iteration 95|reward:  117.0|last_reward_at:   95|Elapsed Time: 0:00:01||"
     ]
    },
    {
     "name": "stdout",
     "output_type": "stream",
     "text": [
      "INFO: invalid credentials supplied\n",
      "INFO: Vulnerability 'ScanPageContent' not supported by node 'Tarpit-AzureStorage'\n",
      "INFO: invalid credentials supplied\n"
     ]
    },
    {
     "name": "stderr",
     "output_type": "stream",
     "text": [
      "Episode 1|Iteration 99|reward:  117.0|last_reward_at:   95|Elapsed Time: 0:00:01||"
     ]
    },
    {
     "name": "stdout",
     "output_type": "stream",
     "text": [
      "INFO: BLOCKED TRAFFIC: source node 'Tarpit-AzureStorage' is blocking outgoing traffic on port 'PING'\n",
      "INFO: Vulnerability 'AccessDataWithSASToken' not supported by node 'Sharepoint'\n",
      "INFO: discovered node: AzureResourceManager\n",
      "INFO: discovered credential: CachedCredential(node='AzureResourceManager', port='HTTPS', credential='ADPrincipalCreds')\n",
      "INFO: GOT REWARD: Navigating to the Sharepoint site revealed  AD Service Principal Credentials\n",
      "Fake Signal Deployed: AzureResourceManager\n"
     ]
    },
    {
     "name": "stderr",
     "output_type": "stream",
     "text": [
      "Episode 1|Iteration 101|reward:  131.0|last_reward_at:  101|Elapsed Time: 0:00:02||"
     ]
    },
    {
     "name": "stdout",
     "output_type": "stream",
     "text": [
      "INFO: target node 'Tarpit-AzureStorage' not listening on port 'SSH'\n",
      "INFO: discovered node: Website\n",
      "INFO: GOT REWARD: Web browser history revealed website URL of interest\n"
     ]
    },
    {
     "name": "stderr",
     "output_type": "stream",
     "text": [
      "Episode 1|Iteration 104|reward:  131.0|last_reward_at:  101|Elapsed Time: 0:00:02||"
     ]
    },
    {
     "name": "stdout",
     "output_type": "stream",
     "text": [
      "INFO: Vulnerability 'ScanPageSource' not supported by node 'Website.Directory'\n",
      "INFO: target node 'Tarpit-AzureStorage' not listening on port 'SSH'\n",
      "INFO: invalid credentials supplied\n"
     ]
    },
    {
     "name": "stderr",
     "output_type": "stream",
     "text": [
      "Episode 1|Iteration 106|reward:  131.0|last_reward_at:  101|Elapsed Time: 0:00:02||"
     ]
    },
    {
     "name": "stdout",
     "output_type": "stream",
     "text": [
      "INFO: discovered node: Website\n",
      "INFO: GOT REWARD: Web browser history revealed website URL of interest\n",
      "INFO: Vulnerability 'ListAzureResources' not supported by node 'GitHubProject'\n"
     ]
    },
    {
     "name": "stderr",
     "output_type": "stream",
     "text": [
      "Episode 1|Iteration 109|reward:  131.0|last_reward_at:  101|Elapsed Time: 0:00:02||"
     ]
    },
    {
     "name": "stdout",
     "output_type": "stream",
     "text": [
      "INFO: BLOCKED TRAFFIC: source node 'client' is blocking outgoing traffic on port 'SSH-key'\n",
      "INFO: Vulnerability 'AccessDataWithSASToken' not supported by node 'Sharepoint'\n",
      "INFO: BLOCKED TRAFFIC: source node 'client' is blocking outgoing traffic on port 'SSH-key'\n"
     ]
    },
    {
     "name": "stderr",
     "output_type": "stream",
     "text": [
      "Episode 1|Iteration 112|reward:  131.0|last_reward_at:  101|Elapsed Time: 0:00:02||"
     ]
    },
    {
     "name": "stdout",
     "output_type": "stream",
     "text": [
      "INFO: Infected node 'AzureResourceManager' from 'client' via HTTPS with credential 'ADPrincipalCreds'\n",
      "INFO: Owned message: FLAG: Shared credentials with database user - Obtained secrets hidden in Azure Managed Resources\n"
     ]
    },
    {
     "name": "stderr",
     "output_type": "stream",
     "text": [
      "Episode 1|Iteration 112|reward:  181.0|last_reward_at:  112|Elapsed Time: 0:00:02||"
     ]
    },
    {
     "name": "stdout",
     "output_type": "stream",
     "text": [
      "INFO: discovered node: Website.Directory\n",
      "INFO: GOT REWARD: Viewing the web page source reveals a URL to a .txt file and directory on the website\n",
      "INFO: Vulnerability 'NavigateWebDirectory' not supported by node 'Sharepoint'\n",
      "INFO: invalid credentials supplied\n",
      "INFO: invalid credentials supplied\n"
     ]
    },
    {
     "name": "stderr",
     "output_type": "stream",
     "text": [
      "Episode 1|Iteration 117|reward:  181.0|last_reward_at:  112|Elapsed Time: 0:00:02||"
     ]
    },
    {
     "name": "stdout",
     "output_type": "stream",
     "text": [
      "INFO: target node 'Website.Directory' not listening on port 'SSH'\n",
      "INFO: BLOCKED TRAFFIC: source node 'Tarpit-AzureStorage' is blocking outgoing traffic on port 'su'\n",
      "INFO: Vulnerability 'ScanSharepointParentDirectory' not supported by node 'Website.Directory'\n",
      "INFO: Vulnerability 'AccessDataWithSASToken' not supported by node 'client'\n",
      "INFO: Vulnerability 'CredScanGitHistory' not supported by node 'Website.Directory'\n"
     ]
    },
    {
     "name": "stderr",
     "output_type": "stream",
     "text": [
      "Episode 1|Iteration 122|reward:  181.0|last_reward_at:  112|Elapsed Time: 0:00:02||"
     ]
    },
    {
     "name": "stdout",
     "output_type": "stream",
     "text": [
      "INFO: Vulnerability 'CredScanGitHistory' not supported by node 'Website'\n",
      "INFO: BLOCKED TRAFFIC: source node 'client' is blocking outgoing traffic on port 'MySQL'\n",
      "INFO: BLOCKED TRAFFIC: source node 'AzureResourceManager' is blocking outgoing traffic on port 'PING'\n",
      "INFO: invalid credentials supplied\n",
      "INFO: BLOCKED TRAFFIC: source node 'client' is blocking outgoing traffic on port 'SSH-key'\n"
     ]
    },
    {
     "name": "stderr",
     "output_type": "stream",
     "text": [
      "Episode 1|Iteration 127|reward:  181.0|last_reward_at:  112|Elapsed Time: 0:00:02||"
     ]
    },
    {
     "name": "stdout",
     "output_type": "stream",
     "text": [
      "INFO: BLOCKED TRAFFIC: source node 'AzureResourceManager' is blocking outgoing traffic on port 'MySQL'\n",
      "INFO: target node 'Tarpit-AzureStorage' not listening on port 'SSH'\n",
      "INFO: Vulnerability 'NavigateWebDirectoryFurther' not supported by node 'GitHubProject'\n",
      "INFO: Vulnerability 'AccessDataWithSASToken' not supported by node 'GitHubProject'\n",
      "INFO: target node 'Website.Directory' not listening on port 'SSH'\n"
     ]
    },
    {
     "name": "stderr",
     "output_type": "stream",
     "text": [
      "Episode 1|Iteration 132|reward:  181.0|last_reward_at:  112|Elapsed Time: 0:00:02||"
     ]
    },
    {
     "name": "stdout",
     "output_type": "stream",
     "text": [
      "INFO: Vulnerability 'ListAzureResources' not supported by node 'Sharepoint'\n",
      "INFO: discovered node: Website\n",
      "INFO: discovered credential: CachedCredential(node='Website', port='MySQL', credential='ReusedMySqlCred-web')\n",
      "INFO: GOT REWARD: Discover browseable web directory: Navigating to parent URL revealed file `readme.txt`with secret data (aflag); and `getting-started.txt` with MYSQL credentials\n",
      "INFO: Vulnerability 'CredScanGitHistory' not supported by node 'Tarpit-AzureStorage'\n",
      "INFO: target node 'Sharepoint' not listening on port 'SSH'\n",
      "INFO: BLOCKED TRAFFIC: source node 'Tarpit-AzureStorage' is blocking outgoing traffic on port 'MySQL'\n"
     ]
    },
    {
     "name": "stderr",
     "output_type": "stream",
     "text": [
      "Episode 1|Iteration 137|reward:  181.0|last_reward_at:  112|Elapsed Time: 0:00:02||"
     ]
    },
    {
     "name": "stdout",
     "output_type": "stream",
     "text": [
      "INFO: Vulnerability 'NavigateWebDirectory' not supported by node 'AzureResourceManager'\n",
      "INFO: GOT REWARD: Stole data using a publicly shared SAS token\n"
     ]
    },
    {
     "name": "stderr",
     "output_type": "stream",
     "text": [
      "Episode 1|Iteration 138|reward:  187.0|last_reward_at:  138|Elapsed Time: 0:00:02||"
     ]
    },
    {
     "name": "stdout",
     "output_type": "stream",
     "text": [
      "INFO: target node 'client' not listening on port 'SSH'\n",
      "INFO: BLOCKED TRAFFIC: source node 'client' is blocking outgoing traffic on port 'su'\n",
      "INFO: discovered node: Website\n",
      "INFO: GOT REWARD: Web browser history revealed website URL of interest\n"
     ]
    },
    {
     "name": "stderr",
     "output_type": "stream",
     "text": [
      "Episode 1|Iteration 142|reward:  187.0|last_reward_at:  138|Elapsed Time: 0:00:02||"
     ]
    },
    {
     "name": "stdout",
     "output_type": "stream",
     "text": [
      "INFO: BLOCKED TRAFFIC: source node 'Tarpit-AzureStorage' is blocking outgoing traffic on port 'su'\n",
      "INFO: BLOCKED TRAFFIC: source node 'Tarpit-AzureStorage' is blocking outgoing traffic on port 'SSH-key'\n",
      "INFO: Vulnerability 'NavigateWebDirectoryFurther' not supported by node 'Tarpit-AzureStorage'\n"
     ]
    },
    {
     "name": "stderr",
     "output_type": "stream",
     "text": [
      "Episode 1|Iteration 145|reward:  187.0|last_reward_at:  138|Elapsed Time: 0:00:03||"
     ]
    },
    {
     "name": "stdout",
     "output_type": "stream",
     "text": [
      "INFO: BLOCKED TRAFFIC: source node 'AzureResourceManager' is blocking outgoing traffic on port 'GIT'\n",
      "INFO: BLOCKED TRAFFIC: source node 'client' is blocking outgoing traffic on port 'MySQL'\n",
      "INFO: BLOCKED TRAFFIC: source node 'AzureResourceManager' is blocking outgoing traffic on port 'MySQL'\n",
      "INFO: Vulnerability 'AccessDataWithSASToken' not supported by node 'Website'\n",
      "INFO: invalid credentials supplied\n"
     ]
    },
    {
     "name": "stderr",
     "output_type": "stream",
     "text": [
      "Episode 1|Iteration 149|reward:  187.0|last_reward_at:  138|Elapsed Time: 0:00:03||"
     ]
    },
    {
     "name": "stdout",
     "output_type": "stream",
     "text": [
      "INFO: Vulnerability 'NavigateWebDirectory' not supported by node 'Sharepoint'\n",
      "INFO: BLOCKED TRAFFIC: source node 'Tarpit-AzureStorage' is blocking outgoing traffic on port 'GIT'\n"
     ]
    },
    {
     "name": "stderr",
     "output_type": "stream",
     "text": [
      "Episode 1|Iteration 152|reward:  187.0|last_reward_at:  138|Elapsed Time: 0:00:03||"
     ]
    },
    {
     "name": "stdout",
     "output_type": "stream",
     "text": [
      "INFO: BLOCKED TRAFFIC: source node 'client' is blocking outgoing traffic on port 'PING'\n",
      "INFO: BLOCKED TRAFFIC: source node 'client' is blocking outgoing traffic on port 'PING'\n",
      "INFO: Vulnerability 'NavigateWebDirectory' not supported by node 'Website'\n"
     ]
    },
    {
     "name": "stderr",
     "output_type": "stream",
     "text": [
      "Episode 1|Iteration 155|reward:  187.0|last_reward_at:  138|Elapsed Time: 0:00:03||"
     ]
    },
    {
     "name": "stdout",
     "output_type": "stream",
     "text": [
      "INFO: Vulnerability 'NavigateWebDirectory' not supported by node 'AzureResourceManager'\n",
      "INFO: Vulnerability 'ScanPageContent' not supported by node 'AzureResourceManager'\n",
      "INFO: Vulnerability 'ListAzureResources' not supported by node 'Website.Directory'\n",
      "INFO: Vulnerability 'NavigateWebDirectory' not supported by node 'Tarpit-AzureStorage'\n",
      "INFO: target node 'GitHubProject' not listening on port 'HTTPS'\n"
     ]
    },
    {
     "name": "stderr",
     "output_type": "stream",
     "text": [
      "Episode 1|Iteration 160|reward:  187.0|last_reward_at:  138|Elapsed Time: 0:00:03||"
     ]
    },
    {
     "name": "stdout",
     "output_type": "stream",
     "text": [
      "INFO: invalid credentials supplied\n",
      "INFO: discovered node: Website\n",
      "INFO: GOT REWARD: Web browser history revealed website URL of interest\n",
      "INFO: Vulnerability 'NavigateWebDirectoryFurther' not supported by node 'client'\n",
      "INFO: invalid credentials supplied\n",
      "INFO: discovered node: Website\n",
      "INFO: GOT REWARD: Web browser history revealed website URL of interest\n"
     ]
    },
    {
     "name": "stderr",
     "output_type": "stream",
     "text": [
      "Episode 1|Iteration 165|reward:  187.0|last_reward_at:  138|Elapsed Time: 0:00:03||"
     ]
    },
    {
     "name": "stdout",
     "output_type": "stream",
     "text": [
      "INFO: Vulnerability 'ScanPageContent' not supported by node 'Sharepoint'\n",
      "INFO: BLOCKED TRAFFIC: source node 'AzureResourceManager' is blocking outgoing traffic on port 'MySQL'\n",
      "INFO: Vulnerability 'ScanPageSource' not supported by node 'client'\n",
      "INFO: invalid credentials supplied\n",
      "INFO: Vulnerability 'ScanPageSource' not supported by node 'GitHubProject'\n"
     ]
    },
    {
     "name": "stderr",
     "output_type": "stream",
     "text": [
      "Episode 1|Iteration 170|reward:  187.0|last_reward_at:  138|Elapsed Time: 0:00:03||"
     ]
    },
    {
     "name": "stdout",
     "output_type": "stream",
     "text": [
      "INFO: BLOCKED TRAFFIC: source node 'AzureResourceManager' is blocking outgoing traffic on port 'MySQL'\n",
      "INFO: target node 'Tarpit-AzureStorage' not listening on port 'SSH'\n",
      "INFO: discovered node: Website\n",
      "INFO: GOT REWARD: Web browser history revealed website URL of interest\n",
      "INFO: BLOCKED TRAFFIC: source node 'client' is blocking outgoing traffic on port 'GIT'\n",
      "INFO: Vulnerability 'CredScanGitHistory' not supported by node 'Sharepoint'\n"
     ]
    },
    {
     "name": "stderr",
     "output_type": "stream",
     "text": [
      "Episode 1|Iteration 175|reward:  187.0|last_reward_at:  138|Elapsed Time: 0:00:03||"
     ]
    },
    {
     "name": "stdout",
     "output_type": "stream",
     "text": [
      "INFO: BLOCKED TRAFFIC: source node 'client' is blocking outgoing traffic on port 'GIT'\n",
      "INFO: BLOCKED TRAFFIC: source node 'client' is blocking outgoing traffic on port 'PING'\n",
      "INFO: Vulnerability 'ListAzureResources' not supported by node 'client'\n"
     ]
    },
    {
     "name": "stderr",
     "output_type": "stream",
     "text": [
      "Episode 1|Iteration 178|reward:  187.0|last_reward_at:  138|Elapsed Time: 0:00:03||"
     ]
    },
    {
     "name": "stdout",
     "output_type": "stream",
     "text": [
      "INFO: BLOCKED TRAFFIC: source node 'client' is blocking outgoing traffic on port 'SSH-key'\n",
      "INFO: BLOCKED TRAFFIC: source node 'Tarpit-AzureStorage' is blocking outgoing traffic on port 'su'\n"
     ]
    },
    {
     "name": "stderr",
     "output_type": "stream",
     "text": [
      "Episode 1|Iteration 180|reward:  187.0|last_reward_at:  138|Elapsed Time: 0:00:03||"
     ]
    },
    {
     "name": "stdout",
     "output_type": "stream",
     "text": [
      "INFO: Vulnerability 'ListAzureResources' not supported by node 'Tarpit-AzureStorage'\n",
      "INFO: invalid credentials supplied\n",
      "INFO: BLOCKED TRAFFIC: source node 'Tarpit-AzureStorage' is blocking outgoing traffic on port 'PING'\n"
     ]
    },
    {
     "name": "stderr",
     "output_type": "stream",
     "text": [
      "Episode 1|Iteration 183|reward:  187.0|last_reward_at:  138|Elapsed Time: 0:00:03||"
     ]
    },
    {
     "name": "stdout",
     "output_type": "stream",
     "text": [
      "INFO: Vulnerability 'AccessDataWithSASToken' not supported by node 'Sharepoint'\n",
      "INFO: Vulnerability 'ScanSharepointParentDirectory' not supported by node 'Website.Directory'\n"
     ]
    },
    {
     "name": "stderr",
     "output_type": "stream",
     "text": [
      "Episode 1|Iteration 185|reward:  187.0|last_reward_at:  138|Elapsed Time: 0:00:03||"
     ]
    },
    {
     "name": "stdout",
     "output_type": "stream",
     "text": [
      "INFO: Vulnerability 'ListAzureResources' not supported by node 'client'\n",
      "INFO: invalid credentials supplied\n",
      "INFO: Vulnerability 'NavigateWebDirectoryFurther' not supported by node 'AzureResourceManager'\n"
     ]
    },
    {
     "name": "stderr",
     "output_type": "stream",
     "text": [
      "Episode 1|Iteration 187|reward:  187.0|last_reward_at:  138|Elapsed Time: 0:00:04||"
     ]
    },
    {
     "name": "stdout",
     "output_type": "stream",
     "text": [
      "INFO: BLOCKED TRAFFIC: source node 'AzureResourceManager' is blocking outgoing traffic on port 'SSH-key'\n",
      "INFO: Vulnerability 'ScanSharepointParentDirectory' not supported by node 'client'\n",
      "INFO: Vulnerability 'NavigateWebDirectory' not supported by node 'Tarpit-AzureStorage'\n",
      "INFO: discovered node: Tarpit-AzureStorage\n",
      "INFO: discovered credential: CachedCredential(node='Tarpit-AzureStorage', port='HTTPS', credential='SASTOKEN1')\n",
      "INFO: GOT REWARD: CredScan success: Some secure access token (SAS) was leaked in a reverted git commit\n",
      "INFO: BLOCKED TRAFFIC: source node 'AzureResourceManager' is blocking outgoing traffic on port 'su'\n"
     ]
    },
    {
     "name": "stderr",
     "output_type": "stream",
     "text": [
      "Episode 1|Iteration 192|reward:  187.0|last_reward_at:  138|Elapsed Time: 0:00:04||"
     ]
    },
    {
     "name": "stdout",
     "output_type": "stream",
     "text": [
      "INFO: BLOCKED TRAFFIC: source node 'AzureResourceManager' is blocking outgoing traffic on port 'PING'\n",
      "INFO: invalid credentials supplied\n",
      "INFO: target node 'client' not listening on port 'SSH'\n",
      "INFO: BLOCKED TRAFFIC: source node 'client' is blocking outgoing traffic on port 'GIT'\n",
      "INFO: Vulnerability 'NavigateWebDirectoryFurther' not supported by node 'Sharepoint'\n"
     ]
    },
    {
     "name": "stderr",
     "output_type": "stream",
     "text": [
      "Episode 1|Iteration 198|reward:  187.0|last_reward_at:  138|Elapsed Time: 0:00:04||"
     ]
    },
    {
     "name": "stdout",
     "output_type": "stream",
     "text": [
      "INFO: BLOCKED TRAFFIC: source node 'Tarpit-AzureStorage' is blocking outgoing traffic on port 'SSH-key'\n",
      "INFO: Vulnerability 'ScanPageContent' not supported by node 'client'\n",
      "INFO: invalid credentials supplied\n"
     ]
    },
    {
     "name": "stderr",
     "output_type": "stream",
     "text": [
      "Episode 1|Iteration 200|reward:  187.0|last_reward_at:  138|Elapsed Time: 0:00:04||\n"
     ]
    },
    {
     "name": "stdout",
     "output_type": "stream",
     "text": [
      "  Episode 1 stopped at t=200 \n",
      "  Breakdown [Reward/NoReward (Success rate)]\n",
      "    explore-local: 1/17 (0.06)\n",
      "    explore-remote: 7/77 (0.08)\n",
      "    explore-connect: 1/82 (0.01)\n",
      "    exploit-local: 0/0 (NaN)\n",
      "    exploit-remote: 0/7 (0.00)\n",
      "    exploit-connect: 1/7 (0.12)\n",
      "  exploit deflected to exploration: 1\n",
      "  ## Episode: 2/5 'Signaling-60%' ϵ=0.8688, γ=0.015, lr=0.01, replaymemory=10000,\n",
      "batch=512, target_update=10\n",
      "Total Applied Penalties: 0\n",
      "INFO: Resetting the CyberBattle environment\n"
     ]
    },
    {
     "name": "stderr",
     "output_type": "stream",
     "text": [
      "Episode 2|Iteration 0|reward: ------|last_reward_at: ----|Elapsed Time: 0:00:00||"
     ]
    },
    {
     "name": "stdout",
     "output_type": "stream",
     "text": [
      "INFO: discovered node: Website\n",
      "INFO: GOT REWARD: Web browser history revealed website URL of interest\n",
      "Fake Signal Deployed: Website\n"
     ]
    },
    {
     "name": "stderr",
     "output_type": "stream",
     "text": [
      "Episode 2|Iteration 1|reward:   11.0|last_reward_at:    1|Elapsed Time: 0:00:00||"
     ]
    },
    {
     "name": "stdout",
     "output_type": "stream",
     "text": [
      "INFO: discovered node: GitHubProject\n",
      "INFO: GOT REWARD: WEBSITE page content has a link to github -> Github project discovered!\n",
      "Fake Signal Deployed: GitHubProject\n"
     ]
    },
    {
     "name": "stderr",
     "output_type": "stream",
     "text": [
      "Episode 2|Iteration 2|reward:   22.0|last_reward_at:    2|Elapsed Time: 0:00:00||"
     ]
    },
    {
     "name": "stdout",
     "output_type": "stream",
     "text": [
      "INFO: Vulnerability 'ScanSharepointParentDirectory' not supported by node 'Website'\n",
      "INFO: discovered node: Website\n",
      "INFO: GOT REWARD: Web browser history revealed website URL of interest\n",
      "INFO: discovered node: Website\n",
      "INFO: GOT REWARD: Web browser history revealed website URL of interest\n",
      "INFO: Vulnerability 'NavigateWebDirectory' not supported by node 'Website'\n",
      "INFO: discovered node: GitHubProject\n",
      "INFO: GOT REWARD: WEBSITE page content has a link to github -> Github project discovered!\n",
      "INFO: discovered node: GitHubProject\n",
      "INFO: GOT REWARD: WEBSITE page content has a link to github -> Github project discovered!\n",
      "INFO: discovered node: Website\n",
      "INFO: GOT REWARD: Web browser history revealed website URL of interest\n",
      "INFO: Vulnerability 'NavigateWebDirectoryFurther' not supported by node 'Website'\n"
     ]
    },
    {
     "name": "stderr",
     "output_type": "stream",
     "text": [
      "Episode 2|Iteration 11|reward:   22.0|last_reward_at:    2|Elapsed Time: 0:00:00||"
     ]
    },
    {
     "name": "stdout",
     "output_type": "stream",
     "text": [
      "INFO: Vulnerability 'ListAzureResources' not supported by node 'Website'\n",
      "INFO: Vulnerability 'NavigateWebDirectoryFurther' not supported by node 'client'\n",
      "INFO: discovered node: Website\n",
      "INFO: GOT REWARD: Web browser history revealed website URL of interest\n",
      "INFO: Vulnerability 'NavigateWebDirectory' not supported by node 'Website'\n",
      "INFO: Vulnerability 'CredScanGitHistory' not supported by node 'client'\n",
      "INFO: Vulnerability 'ScanSharepointParentDirectory' not supported by node 'client'\n",
      "INFO: Vulnerability 'ScanSharepointParentDirectory' not supported by node 'GitHubProject'\n"
     ]
    },
    {
     "name": "stderr",
     "output_type": "stream",
     "text": [
      "Episode 2|Iteration 18|reward:   22.0|last_reward_at:    2|Elapsed Time: 0:00:00||"
     ]
    },
    {
     "name": "stdout",
     "output_type": "stream",
     "text": [
      "INFO: Vulnerability 'NavigateWebDirectory' not supported by node 'Website'\n",
      "INFO: Vulnerability 'NavigateWebDirectory' not supported by node 'Website'\n",
      "INFO: discovered node: Website\n",
      "INFO: GOT REWARD: Web browser history revealed website URL of interest\n",
      "INFO: Vulnerability 'CredScanGitHistory' not supported by node 'Website'\n",
      "INFO: Vulnerability 'ScanPageContent' not supported by node 'GitHubProject'\n",
      "INFO: discovered node: Website\n",
      "INFO: GOT REWARD: Web browser history revealed website URL of interest\n",
      "INFO: Vulnerability 'NavigateWebDirectory' not supported by node 'GitHubProject'\n",
      "INFO: Vulnerability 'ScanPageContent' not supported by node 'GitHubProject'\n"
     ]
    },
    {
     "name": "stderr",
     "output_type": "stream",
     "text": [
      "Episode 2|Iteration 26|reward:   22.0|last_reward_at:    2|Elapsed Time: 0:00:00||"
     ]
    },
    {
     "name": "stdout",
     "output_type": "stream",
     "text": [
      "INFO: discovered node: Website.Directory\n",
      "INFO: GOT REWARD: Viewing the web page source reveals a URL to a .txt file and directory on the website\n"
     ]
    },
    {
     "name": "stderr",
     "output_type": "stream",
     "text": [
      "Episode 2|Iteration 26|reward:   33.0|last_reward_at:    2|Elapsed Time: 0:00:00||"
     ]
    },
    {
     "name": "stdout",
     "output_type": "stream",
     "text": [
      "Fake Signal Deployed: Website.Directory\n"
     ]
    },
    {
     "name": "stderr",
     "output_type": "stream",
     "text": [
      "Episode 2|Iteration 26|reward:   33.0|last_reward_at:   26|Elapsed Time: 0:00:00||"
     ]
    },
    {
     "name": "stdout",
     "output_type": "stream",
     "text": [
      "INFO: Vulnerability 'AccessDataWithSASToken' not supported by node 'client'\n",
      "INFO: Vulnerability 'NavigateWebDirectory' not supported by node 'client'\n",
      "INFO: discovered node: Website\n",
      "INFO: GOT REWARD: Web browser history revealed website URL of interest\n",
      "INFO: Vulnerability 'ScanSharepointParentDirectory' not supported by node 'Website'\n",
      "INFO: discovered node: Website\n",
      "INFO: GOT REWARD: Web browser history revealed website URL of interest\n",
      "INFO: Vulnerability 'ListAzureResources' not supported by node 'client'\n"
     ]
    },
    {
     "name": "stderr",
     "output_type": "stream",
     "text": [
      "Episode 2|Iteration 33|reward:   33.0|last_reward_at:   26|Elapsed Time: 0:00:00||"
     ]
    },
    {
     "name": "stdout",
     "output_type": "stream",
     "text": [
      "INFO: Vulnerability 'CredScanGitHistory' not supported by node 'Website'\n",
      "INFO: discovered node: Website\n",
      "INFO: GOT REWARD: Web browser history revealed website URL of interest\n",
      "INFO: Vulnerability 'CredScanGitHistory' not supported by node 'client'\n",
      "INFO: Vulnerability 'ScanPageContent' not supported by node 'GitHubProject'\n",
      "INFO: Vulnerability 'CredScanGitHistory' not supported by node 'client'\n",
      "INFO: Vulnerability 'ScanPageContent' not supported by node 'client'\n",
      "INFO: discovered node: Website\n",
      "INFO: GOT REWARD: Web browser history revealed website URL of interest\n",
      "INFO: Vulnerability 'CredScanGitHistory' not supported by node 'Website'\n"
     ]
    },
    {
     "name": "stderr",
     "output_type": "stream",
     "text": [
      "Episode 2|Iteration 41|reward:   33.0|last_reward_at:   26|Elapsed Time: 0:00:00||"
     ]
    },
    {
     "name": "stdout",
     "output_type": "stream",
     "text": [
      "INFO: Vulnerability 'ListAzureResources' not supported by node 'client'\n",
      "INFO: Vulnerability 'CredScanGitHistory' not supported by node 'Website'\n",
      "INFO: Vulnerability 'NavigateWebDirectoryFurther' not supported by node 'GitHubProject'\n",
      "INFO: Vulnerability 'ScanPageContent' not supported by node 'GitHubProject'\n",
      "INFO: discovered node: Website\n",
      "INFO: GOT REWARD: Web browser history revealed website URL of interest\n"
     ]
    },
    {
     "name": "stderr",
     "output_type": "stream",
     "text": [
      "Episode 2|Iteration 46|reward:   33.0|last_reward_at:   26|Elapsed Time: 0:00:00||"
     ]
    },
    {
     "name": "stdout",
     "output_type": "stream",
     "text": [
      "INFO: discovered node: GitHubProject\n",
      "INFO: GOT REWARD: WEBSITE page content has a link to github -> Github project discovered!\n",
      "INFO: discovered node: Website.Directory\n",
      "INFO: GOT REWARD: Viewing the web page source reveals a URL to a .txt file and directory on the website\n",
      "INFO: discovered node: Website\n",
      "INFO: GOT REWARD: Web browser history revealed website URL of interest\n",
      "INFO: Vulnerability 'CredScanGitHistory' not supported by node 'Website'\n",
      "INFO: Vulnerability 'AccessDataWithSASToken' not supported by node 'Website'\n"
     ]
    },
    {
     "name": "stderr",
     "output_type": "stream",
     "text": [
      "Episode 2|Iteration 51|reward:   33.0|last_reward_at:   26|Elapsed Time: 0:00:00||"
     ]
    },
    {
     "name": "stdout",
     "output_type": "stream",
     "text": [
      "INFO: Vulnerability 'NavigateWebDirectoryFurther' not supported by node 'GitHubProject'\n",
      "INFO: Vulnerability 'NavigateWebDirectoryFurther' not supported by node 'Website'\n",
      "INFO: Vulnerability 'AccessDataWithSASToken' not supported by node 'client'\n",
      "INFO: discovered node: Website\n",
      "INFO: GOT REWARD: Web browser history revealed website URL of interest\n",
      "INFO: Vulnerability 'CredScanGitHistory' not supported by node 'Website'\n",
      "INFO: Vulnerability 'NavigateWebDirectory' not supported by node 'client'\n",
      "INFO: Vulnerability 'ScanPageContent' not supported by node 'client'\n",
      "INFO: Vulnerability 'ListAzureResources' not supported by node 'Website'\n"
     ]
    },
    {
     "name": "stderr",
     "output_type": "stream",
     "text": [
      "Episode 2|Iteration 59|reward:   33.0|last_reward_at:   26|Elapsed Time: 0:00:00||"
     ]
    },
    {
     "name": "stdout",
     "output_type": "stream",
     "text": [
      "INFO: Vulnerability 'ListAzureResources' not supported by node 'client'\n",
      "INFO: Vulnerability 'ScanPageContent' not supported by node 'client'\n",
      "INFO: Vulnerability 'ScanPageContent' not supported by node 'Website.Directory'\n",
      "INFO: Vulnerability 'ListAzureResources' not supported by node 'GitHubProject'\n",
      "INFO: discovered node: Website\n",
      "INFO: GOT REWARD: Web browser history revealed website URL of interest\n",
      "INFO: discovered node: Website\n",
      "INFO: GOT REWARD: Web browser history revealed website URL of interest\n",
      "INFO: discovered node: Website\n",
      "INFO: GOT REWARD: Web browser history revealed website URL of interest\n"
     ]
    },
    {
     "name": "stderr",
     "output_type": "stream",
     "text": [
      "Episode 2|Iteration 66|reward:   33.0|last_reward_at:   26|Elapsed Time: 0:00:00||"
     ]
    },
    {
     "name": "stdout",
     "output_type": "stream",
     "text": [
      "INFO: discovered node: Website\n",
      "INFO: GOT REWARD: Web browser history revealed website URL of interest\n",
      "INFO: Vulnerability 'ListAzureResources' not supported by node 'GitHubProject'\n",
      "INFO: discovered node: GitHubProject\n",
      "INFO: GOT REWARD: WEBSITE page content has a link to github -> Github project discovered!\n",
      "INFO: Vulnerability 'NavigateWebDirectory' not supported by node 'Website'\n",
      "INFO: Vulnerability 'ListAzureResources' not supported by node 'GitHubProject'\n",
      "INFO: discovered node: Website\n",
      "INFO: GOT REWARD: Web browser history revealed website URL of interest\n",
      "INFO: discovered node: Tarpit-AzureStorage\n",
      "INFO: discovered credential: CachedCredential(node='Tarpit-AzureStorage', port='HTTPS', credential='SASTOKEN1')\n",
      "INFO: GOT REWARD: CredScan success: Some secure access token (SAS) was leaked in a reverted git commit\n"
     ]
    },
    {
     "name": "stderr",
     "output_type": "stream",
     "text": [
      "Episode 2|Iteration 72|reward:   47.0|last_reward_at:   72|Elapsed Time: 0:00:00||"
     ]
    },
    {
     "name": "stdout",
     "output_type": "stream",
     "text": [
      "Fake Signal Deployed: Tarpit-AzureStorage\n",
      "INFO: discovered node: Website\n",
      "INFO: GOT REWARD: Web browser history revealed website URL of interest\n",
      "INFO: BLOCKED TRAFFIC: source node 'client' is blocking outgoing traffic on port 'PING'\n",
      "INFO: Vulnerability 'AccessDataWithSASToken' not supported by node 'Website'\n",
      "INFO: BLOCKED TRAFFIC: source node 'client' is blocking outgoing traffic on port 'su'\n",
      "INFO: BLOCKED TRAFFIC: source node 'client' is blocking outgoing traffic on port 'GIT'\n",
      "INFO: discovered node: Website\n",
      "INFO: GOT REWARD: Web browser history revealed website URL of interest\n"
     ]
    },
    {
     "name": "stderr",
     "output_type": "stream",
     "text": [
      "Episode 2|Iteration 79|reward:   47.0|last_reward_at:   72|Elapsed Time: 0:00:00||"
     ]
    },
    {
     "name": "stdout",
     "output_type": "stream",
     "text": [
      "INFO: target node 'GitHubProject' not listening on port 'HTTPS'\n",
      "INFO: Vulnerability 'ListAzureResources' not supported by node 'GitHubProject'\n",
      "INFO: Infected node 'Tarpit-AzureStorage' from 'client' via HTTPS with credential 'SASTOKEN1'\n"
     ]
    },
    {
     "name": "stderr",
     "output_type": "stream",
     "text": [
      "Episode 2|Iteration 81|reward:   97.0|last_reward_at:   81|Elapsed Time: 0:00:00||"
     ]
    },
    {
     "name": "stdout",
     "output_type": "stream",
     "text": [
      "INFO: target node 'client' not listening on port 'SSH'\n",
      "INFO: Vulnerability 'NavigateWebDirectoryFurther' not supported by node 'Tarpit-AzureStorage'\n",
      "INFO: BLOCKED TRAFFIC: source node 'client' is blocking outgoing traffic on port 'su'\n",
      "INFO: Vulnerability 'ListAzureResources' not supported by node 'Website'\n",
      "INFO: BLOCKED TRAFFIC: source node 'Tarpit-AzureStorage' is blocking outgoing traffic on port 'su'\n"
     ]
    },
    {
     "name": "stderr",
     "output_type": "stream",
     "text": [
      "Episode 2|Iteration 87|reward:   97.0|last_reward_at:   81|Elapsed Time: 0:00:00||"
     ]
    },
    {
     "name": "stdout",
     "output_type": "stream",
     "text": [
      "INFO: Vulnerability 'NavigateWebDirectory' not supported by node 'Tarpit-AzureStorage'\n",
      "INFO: Vulnerability 'NavigateWebDirectory' not supported by node 'GitHubProject'\n",
      "INFO: BLOCKED TRAFFIC: source node 'client' is blocking outgoing traffic on port 'PING'\n",
      "INFO: Vulnerability 'NavigateWebDirectoryFurther' not supported by node 'GitHubProject'\n",
      "INFO: BLOCKED TRAFFIC: source node 'Tarpit-AzureStorage' is blocking outgoing traffic on port 'su'\n"
     ]
    },
    {
     "name": "stderr",
     "output_type": "stream",
     "text": [
      "Episode 2|Iteration 92|reward:   97.0|last_reward_at:   81|Elapsed Time: 0:00:00||"
     ]
    },
    {
     "name": "stdout",
     "output_type": "stream",
     "text": [
      "INFO: Vulnerability 'NavigateWebDirectoryFurther' not supported by node 'Website'\n",
      "INFO: Vulnerability 'AccessDataWithSASToken' not supported by node 'GitHubProject'\n",
      "INFO: Vulnerability 'ListAzureResources' not supported by node 'Website'\n",
      "INFO: GOT REWARD: Stole data using a publicly shared SAS token\n"
     ]
    },
    {
     "name": "stderr",
     "output_type": "stream",
     "text": [
      "Episode 2|Iteration 95|reward:  103.0|last_reward_at:   95|Elapsed Time: 0:00:01||"
     ]
    },
    {
     "name": "stdout",
     "output_type": "stream",
     "text": [
      "INFO: Vulnerability 'ListAzureResources' not supported by node 'Tarpit-AzureStorage'\n",
      "INFO: BLOCKED TRAFFIC: source node 'Tarpit-AzureStorage' is blocking outgoing traffic on port 'GIT'\n",
      "INFO: Vulnerability 'NavigateWebDirectoryFurther' not supported by node 'client'\n"
     ]
    },
    {
     "name": "stderr",
     "output_type": "stream",
     "text": [
      "Episode 2|Iteration 99|reward:  103.0|last_reward_at:   95|Elapsed Time: 0:00:01||"
     ]
    },
    {
     "name": "stdout",
     "output_type": "stream",
     "text": [
      "INFO: BLOCKED TRAFFIC: source node 'client' is blocking outgoing traffic on port 'su'\n",
      "INFO: Vulnerability 'ListAzureResources' not supported by node 'Website.Directory'\n",
      "INFO: Vulnerability 'ListAzureResources' not supported by node 'Tarpit-AzureStorage'\n"
     ]
    },
    {
     "name": "stderr",
     "output_type": "stream",
     "text": [
      "Episode 2|Iteration 102|reward:  103.0|last_reward_at:   95|Elapsed Time: 0:00:01||"
     ]
    },
    {
     "name": "stdout",
     "output_type": "stream",
     "text": [
      "INFO: Vulnerability 'AccessDataWithSASToken' not supported by node 'Website'\n",
      "INFO: Vulnerability 'ScanPageContent' not supported by node 'GitHubProject'\n",
      "INFO: BLOCKED TRAFFIC: source node 'Tarpit-AzureStorage' is blocking outgoing traffic on port 'PING'\n",
      "INFO: Vulnerability 'ListAzureResources' not supported by node 'GitHubProject'\n",
      "INFO: invalid credentials supplied\n"
     ]
    },
    {
     "name": "stderr",
     "output_type": "stream",
     "text": [
      "Episode 2|Iteration 107|reward:  103.0|last_reward_at:   95|Elapsed Time: 0:00:01||"
     ]
    },
    {
     "name": "stdout",
     "output_type": "stream",
     "text": [
      "INFO: GOT REWARD: Stole data using a publicly shared SAS token\n",
      "INFO: Vulnerability 'AccessDataWithSASToken' not supported by node 'GitHubProject'\n",
      "INFO: Vulnerability 'ScanSharepointParentDirectory' not supported by node 'client'\n",
      "INFO: BLOCKED TRAFFIC: source node 'Tarpit-AzureStorage' is blocking outgoing traffic on port 'PING'\n",
      "INFO: discovered node: Website\n",
      "INFO: GOT REWARD: Web browser history revealed website URL of interest\n",
      "INFO: Vulnerability 'ScanSharepointParentDirectory' not supported by node 'Tarpit-AzureStorage'\n"
     ]
    },
    {
     "name": "stderr",
     "output_type": "stream",
     "text": [
      "Episode 2|Iteration 114|reward:  103.0|last_reward_at:   95|Elapsed Time: 0:00:01||"
     ]
    },
    {
     "name": "stdout",
     "output_type": "stream",
     "text": [
      "INFO: Vulnerability 'NavigateWebDirectory' not supported by node 'client'\n",
      "INFO: Vulnerability 'AccessDataWithSASToken' not supported by node 'Website'\n",
      "INFO: Vulnerability 'NavigateWebDirectoryFurther' not supported by node 'Tarpit-AzureStorage'\n",
      "INFO: Vulnerability 'AccessDataWithSASToken' not supported by node 'Website.Directory'\n",
      "INFO: discovered node: Website\n",
      "INFO: GOT REWARD: Web browser history revealed website URL of interest\n",
      "INFO: Vulnerability 'AccessDataWithSASToken' not supported by node 'Website.Directory'\n",
      "INFO: BLOCKED TRAFFIC: source node 'Tarpit-AzureStorage' is blocking outgoing traffic on port 'su'\n",
      "INFO: Vulnerability 'ListAzureResources' not supported by node 'client'\n"
     ]
    },
    {
     "name": "stderr",
     "output_type": "stream",
     "text": [
      "Episode 2|Iteration 122|reward:  103.0|last_reward_at:   95|Elapsed Time: 0:00:01||"
     ]
    },
    {
     "name": "stdout",
     "output_type": "stream",
     "text": [
      "INFO: Vulnerability 'AccessDataWithSASToken' not supported by node 'client'\n",
      "INFO: Vulnerability 'ScanSharepointParentDirectory' not supported by node 'Website.Directory'\n",
      "INFO: BLOCKED TRAFFIC: source node 'client' is blocking outgoing traffic on port 'su'\n",
      "INFO: Vulnerability 'ListAzureResources' not supported by node 'Tarpit-AzureStorage'\n",
      "INFO: Vulnerability 'CredScanGitHistory' not supported by node 'client'\n"
     ]
    },
    {
     "name": "stderr",
     "output_type": "stream",
     "text": [
      "Episode 2|Iteration 127|reward:  103.0|last_reward_at:   95|Elapsed Time: 0:00:01||"
     ]
    },
    {
     "name": "stdout",
     "output_type": "stream",
     "text": [
      "INFO: Vulnerability 'CredScanGitHistory' not supported by node 'Tarpit-AzureStorage'\n",
      "INFO: BLOCKED TRAFFIC: source node 'client' is blocking outgoing traffic on port 'PING'\n",
      "INFO: BLOCKED TRAFFIC: source node 'client' is blocking outgoing traffic on port 'SSH-key'\n"
     ]
    },
    {
     "name": "stderr",
     "output_type": "stream",
     "text": [
      "Episode 2|Iteration 130|reward:  103.0|last_reward_at:   95|Elapsed Time: 0:00:01||"
     ]
    },
    {
     "name": "stdout",
     "output_type": "stream",
     "text": [
      "INFO: BLOCKED TRAFFIC: source node 'client' is blocking outgoing traffic on port 'GIT'\n",
      "INFO: BLOCKED TRAFFIC: source node 'Tarpit-AzureStorage' is blocking outgoing traffic on port 'SSH-key'\n"
     ]
    },
    {
     "name": "stderr",
     "output_type": "stream",
     "text": [
      "Episode 2|Iteration 132|reward:  103.0|last_reward_at:   95|Elapsed Time: 0:00:01||"
     ]
    },
    {
     "name": "stdout",
     "output_type": "stream",
     "text": [
      "INFO: Vulnerability 'CredScanGitHistory' not supported by node 'Tarpit-AzureStorage'\n",
      "INFO: Vulnerability 'CredScanGitHistory' not supported by node 'Website'\n",
      "INFO: GOT REWARD: Stole data using a publicly shared SAS token\n"
     ]
    },
    {
     "name": "stderr",
     "output_type": "stream",
     "text": [
      "Episode 2|Iteration 135|reward:  103.0|last_reward_at:   95|Elapsed Time: 0:00:01||"
     ]
    },
    {
     "name": "stdout",
     "output_type": "stream",
     "text": [
      "INFO: BLOCKED TRAFFIC: source node 'Tarpit-AzureStorage' is blocking outgoing traffic on port 'SSH-key'\n",
      "INFO: Vulnerability 'CredScanGitHistory' not supported by node 'Tarpit-AzureStorage'\n",
      "INFO: Vulnerability 'NavigateWebDirectory' not supported by node 'Tarpit-AzureStorage'\n",
      "INFO: BLOCKED TRAFFIC: source node 'Tarpit-AzureStorage' is blocking outgoing traffic on port 'su'\n",
      "INFO: discovered node: Website\n",
      "INFO: GOT REWARD: Web browser history revealed website URL of interest\n"
     ]
    },
    {
     "name": "stderr",
     "output_type": "stream",
     "text": [
      "Episode 2|Iteration 140|reward:  103.0|last_reward_at:   95|Elapsed Time: 0:00:01||"
     ]
    },
    {
     "name": "stdout",
     "output_type": "stream",
     "text": [
      "INFO: Vulnerability 'ListAzureResources' not supported by node 'Tarpit-AzureStorage'\n",
      "INFO: Vulnerability 'ScanPageContent' not supported by node 'Website.Directory'\n"
     ]
    },
    {
     "name": "stderr",
     "output_type": "stream",
     "text": [
      "Episode 2|Iteration 142|reward:  103.0|last_reward_at:   95|Elapsed Time: 0:00:01||"
     ]
    },
    {
     "name": "stdout",
     "output_type": "stream",
     "text": [
      "INFO: BLOCKED TRAFFIC: source node 'Tarpit-AzureStorage' is blocking outgoing traffic on port 'PING'\n",
      "INFO: BLOCKED TRAFFIC: source node 'Tarpit-AzureStorage' is blocking outgoing traffic on port 'su'\n",
      "INFO: Vulnerability 'ScanPageSource' not supported by node 'Tarpit-AzureStorage'\n"
     ]
    },
    {
     "name": "stderr",
     "output_type": "stream",
     "text": [
      "Episode 2|Iteration 145|reward:  103.0|last_reward_at:   95|Elapsed Time: 0:00:01||"
     ]
    },
    {
     "name": "stdout",
     "output_type": "stream",
     "text": [
      "INFO: target node 'GitHubProject' not listening on port 'SSH'\n",
      "INFO: Vulnerability 'CredScanGitHistory' not supported by node 'Website.Directory'\n"
     ]
    },
    {
     "name": "stderr",
     "output_type": "stream",
     "text": [
      "Episode 2|Iteration 147|reward:  103.0|last_reward_at:   95|Elapsed Time: 0:00:01||"
     ]
    },
    {
     "name": "stdout",
     "output_type": "stream",
     "text": [
      "INFO: discovered node: Website\n",
      "INFO: GOT REWARD: Web browser history revealed website URL of interest\n",
      "INFO: Vulnerability 'ListAzureResources' not supported by node 'Website'\n",
      "INFO: Vulnerability 'CredScanGitHistory' not supported by node 'Tarpit-AzureStorage'\n"
     ]
    },
    {
     "name": "stderr",
     "output_type": "stream",
     "text": [
      "Episode 2|Iteration 150|reward:  103.0|last_reward_at:   95|Elapsed Time: 0:00:01||"
     ]
    },
    {
     "name": "stdout",
     "output_type": "stream",
     "text": [
      "INFO: Vulnerability 'ScanSharepointParentDirectory' not supported by node 'Tarpit-AzureStorage'\n",
      "INFO: BLOCKED TRAFFIC: source node 'client' is blocking outgoing traffic on port 'MySQL'\n",
      "INFO: Vulnerability 'NavigateWebDirectoryFurther' not supported by node 'Tarpit-AzureStorage'\n",
      "INFO: target node 'GitHubProject' not listening on port 'SSH'\n",
      "INFO: Vulnerability 'NavigateWebDirectoryFurther' not supported by node 'client'\n"
     ]
    },
    {
     "name": "stderr",
     "output_type": "stream",
     "text": [
      "Episode 2|Iteration 155|reward:  103.0|last_reward_at:   95|Elapsed Time: 0:00:02||"
     ]
    },
    {
     "name": "stdout",
     "output_type": "stream",
     "text": [
      "INFO: Vulnerability 'CredScanGitHistory' not supported by node 'Website'\n",
      "INFO: target node 'Tarpit-AzureStorage' not listening on port 'SSH'\n",
      "INFO: Vulnerability 'CredScanGitHistory' not supported by node 'Tarpit-AzureStorage'\n",
      "INFO: discovered node: Tarpit-AzureStorage\n",
      "INFO: discovered credential: CachedCredential(node='Tarpit-AzureStorage', port='HTTPS', credential='SASTOKEN1')\n",
      "INFO: GOT REWARD: CredScan success: Some secure access token (SAS) was leaked in a reverted git commit\n"
     ]
    },
    {
     "name": "stderr",
     "output_type": "stream",
     "text": [
      "Episode 2|Iteration 159|reward:  103.0|last_reward_at:   95|Elapsed Time: 0:00:02||"
     ]
    },
    {
     "name": "stdout",
     "output_type": "stream",
     "text": [
      "INFO: Vulnerability 'ListAzureResources' not supported by node 'client'\n",
      "INFO: Vulnerability 'NavigateWebDirectoryFurther' not supported by node 'GitHubProject'\n",
      "INFO: Vulnerability 'ScanPageSource' not supported by node 'client'\n"
     ]
    },
    {
     "name": "stderr",
     "output_type": "stream",
     "text": [
      "Episode 2|Iteration 163|reward:  103.0|last_reward_at:   95|Elapsed Time: 0:00:02||"
     ]
    },
    {
     "name": "stdout",
     "output_type": "stream",
     "text": [
      "INFO: BLOCKED TRAFFIC: source node 'client' is blocking outgoing traffic on port 'PING'\n",
      "INFO: BLOCKED TRAFFIC: source node 'client' is blocking outgoing traffic on port 'GIT'\n",
      "INFO: Vulnerability 'ScanPageSource' not supported by node 'GitHubProject'\n",
      "INFO: BLOCKED TRAFFIC: source node 'client' is blocking outgoing traffic on port 'PING'\n",
      "INFO: Vulnerability 'NavigateWebDirectory' not supported by node 'client'\n"
     ]
    },
    {
     "name": "stderr",
     "output_type": "stream",
     "text": [
      "Episode 2|Iteration 168|reward:  103.0|last_reward_at:   95|Elapsed Time: 0:00:02||"
     ]
    },
    {
     "name": "stdout",
     "output_type": "stream",
     "text": [
      "INFO: discovered node: Website\n",
      "INFO: GOT REWARD: Web browser history revealed website URL of interest\n",
      "INFO: Vulnerability 'AccessDataWithSASToken' not supported by node 'client'\n",
      "INFO: Vulnerability 'CredScanGitHistory' not supported by node 'Website'\n",
      "INFO: Vulnerability 'AccessDataWithSASToken' not supported by node 'client'\n",
      "INFO: Vulnerability 'ScanPageContent' not supported by node 'GitHubProject'\n"
     ]
    },
    {
     "name": "stderr",
     "output_type": "stream",
     "text": [
      "Episode 2|Iteration 173|reward:  103.0|last_reward_at:   95|Elapsed Time: 0:00:02||"
     ]
    },
    {
     "name": "stdout",
     "output_type": "stream",
     "text": [
      "INFO: BLOCKED TRAFFIC: source node 'Tarpit-AzureStorage' is blocking outgoing traffic on port 'su'\n",
      "INFO: Vulnerability 'ScanSharepointParentDirectory' not supported by node 'Tarpit-AzureStorage'\n",
      "INFO: discovered node: Website\n",
      "INFO: GOT REWARD: Web browser history revealed website URL of interest\n",
      "INFO: target node 'client' not listening on port 'HTTPS'\n",
      "INFO: Vulnerability 'CredScanGitHistory' not supported by node 'Website'\n"
     ]
    },
    {
     "name": "stderr",
     "output_type": "stream",
     "text": [
      "Episode 2|Iteration 178|reward:  103.0|last_reward_at:   95|Elapsed Time: 0:00:02||"
     ]
    },
    {
     "name": "stdout",
     "output_type": "stream",
     "text": [
      "INFO: invalid credentials supplied\n",
      "INFO: BLOCKED TRAFFIC: source node 'client' is blocking outgoing traffic on port 'su'\n",
      "INFO: Vulnerability 'NavigateWebDirectory' not supported by node 'GitHubProject'\n",
      "INFO: BLOCKED TRAFFIC: source node 'Tarpit-AzureStorage' is blocking outgoing traffic on port 'SSH-key'\n",
      "INFO: Vulnerability 'ListAzureResources' not supported by node 'GitHubProject'\n"
     ]
    },
    {
     "name": "stderr",
     "output_type": "stream",
     "text": [
      "Episode 2|Iteration 183|reward:  103.0|last_reward_at:   95|Elapsed Time: 0:00:02||"
     ]
    },
    {
     "name": "stdout",
     "output_type": "stream",
     "text": [
      "INFO: Vulnerability 'CredScanGitHistory' not supported by node 'Tarpit-AzureStorage'\n",
      "INFO: BLOCKED TRAFFIC: source node 'client' is blocking outgoing traffic on port 'SSH-key'\n",
      "INFO: BLOCKED TRAFFIC: source node 'client' is blocking outgoing traffic on port 'MySQL'\n",
      "INFO: Vulnerability 'CredScanGitHistory' not supported by node 'Website.Directory'\n",
      "INFO: Vulnerability 'NavigateWebDirectory' not supported by node 'Tarpit-AzureStorage'\n"
     ]
    },
    {
     "name": "stderr",
     "output_type": "stream",
     "text": [
      "Episode 2|Iteration 188|reward:  103.0|last_reward_at:   95|Elapsed Time: 0:00:02||"
     ]
    },
    {
     "name": "stdout",
     "output_type": "stream",
     "text": [
      "INFO: BLOCKED TRAFFIC: source node 'client' is blocking outgoing traffic on port 'MySQL'\n",
      "INFO: Vulnerability 'NavigateWebDirectoryFurther' not supported by node 'Tarpit-AzureStorage'\n",
      "INFO: BLOCKED TRAFFIC: source node 'Tarpit-AzureStorage' is blocking outgoing traffic on port 'GIT'\n",
      "INFO: BLOCKED TRAFFIC: source node 'Tarpit-AzureStorage' is blocking outgoing traffic on port 'SSH-key'\n",
      "INFO: target node 'client' not listening on port 'HTTPS'\n"
     ]
    },
    {
     "name": "stderr",
     "output_type": "stream",
     "text": [
      "Episode 2|Iteration 193|reward:  103.0|last_reward_at:   95|Elapsed Time: 0:00:02||"
     ]
    },
    {
     "name": "stdout",
     "output_type": "stream",
     "text": [
      "INFO: discovered node: GitHubProject\n",
      "INFO: GOT REWARD: WEBSITE page content has a link to github -> Github project discovered!\n",
      "INFO: Vulnerability 'ListAzureResources' not supported by node 'Website.Directory'\n"
     ]
    },
    {
     "name": "stderr",
     "output_type": "stream",
     "text": [
      "Episode 2|Iteration 195|reward:  103.0|last_reward_at:   95|Elapsed Time: 0:00:02||"
     ]
    },
    {
     "name": "stdout",
     "output_type": "stream",
     "text": [
      "INFO: discovered node: Website\n",
      "INFO: GOT REWARD: Web browser history revealed website URL of interest\n",
      "INFO: Vulnerability 'ScanPageContent' not supported by node 'Website.Directory'\n",
      "INFO: Vulnerability 'NavigateWebDirectory' not supported by node 'Tarpit-AzureStorage'\n"
     ]
    },
    {
     "name": "stderr",
     "output_type": "stream",
     "text": [
      "Episode 2|Iteration 198|reward:  103.0|last_reward_at:   95|Elapsed Time: 0:00:02||"
     ]
    },
    {
     "name": "stdout",
     "output_type": "stream",
     "text": [
      "INFO: BLOCKED TRAFFIC: source node 'Tarpit-AzureStorage' is blocking outgoing traffic on port 'MySQL'\n",
      "INFO: Vulnerability 'CredScanGitHistory' not supported by node 'Website.Directory'\n",
      "INFO: BLOCKED TRAFFIC: source node 'Tarpit-AzureStorage' is blocking outgoing traffic on port 'PING'\n"
     ]
    },
    {
     "name": "stderr",
     "output_type": "stream",
     "text": [
      "Episode 2|Iteration 200|reward:  103.0|last_reward_at:   95|Elapsed Time: 0:00:02||\n"
     ]
    },
    {
     "name": "stdout",
     "output_type": "stream",
     "text": [
      "  Episode 2 stopped at t=200 \n",
      "  Breakdown [Reward/NoReward (Success rate)]\n",
      "    explore-local: 1/27 (0.04)\n",
      "    explore-remote: 4/99 (0.04)\n",
      "    explore-connect: 1/46 (0.02)\n",
      "    exploit-local: 0/0 (NaN)\n",
      "    exploit-remote: 0/22 (0.00)\n",
      "    exploit-connect: 0/0 (NaN)\n",
      "  exploit deflected to exploration: 0\n",
      "  ## Episode: 3/5 'Signaling-60%' ϵ=0.8386, γ=0.015, lr=0.01, replaymemory=10000,\n",
      "batch=512, target_update=10\n",
      "Total Applied Penalties: 0\n",
      "INFO: Resetting the CyberBattle environment\n"
     ]
    },
    {
     "name": "stderr",
     "output_type": "stream",
     "text": [
      "Episode 3|Iteration 0|reward: ------|last_reward_at: ----|Elapsed Time: 0:00:00||"
     ]
    },
    {
     "name": "stdout",
     "output_type": "stream",
     "text": [
      "INFO: Vulnerability 'CredScanGitHistory' not supported by node 'client'\n"
     ]
    },
    {
     "name": "stderr",
     "output_type": "stream",
     "text": [
      "Episode 3|Iteration 1|reward:    0.0|last_reward_at: ----|Elapsed Time: 0:00:00||"
     ]
    },
    {
     "name": "stdout",
     "output_type": "stream",
     "text": [
      "INFO: Vulnerability 'ScanSharepointParentDirectory' not supported by node 'client'\n",
      "INFO: Vulnerability 'ListAzureResources' not supported by node 'client'\n",
      "INFO: discovered node: Website\n",
      "INFO: GOT REWARD: Web browser history revealed website URL of interest\n"
     ]
    },
    {
     "name": "stderr",
     "output_type": "stream",
     "text": [
      "Episode 3|Iteration 4|reward:   11.0|last_reward_at:    4|Elapsed Time: 0:00:00||"
     ]
    },
    {
     "name": "stdout",
     "output_type": "stream",
     "text": [
      "Fake Signal Deployed: Website\n",
      "INFO: Vulnerability 'CredScanGitHistory' not supported by node 'Website'\n",
      "INFO: discovered node: Website\n",
      "INFO: GOT REWARD: Web browser history revealed website URL of interest\n",
      "INFO: Vulnerability 'NavigateWebDirectory' not supported by node 'client'\n",
      "INFO: Vulnerability 'CredScanGitHistory' not supported by node 'Website'\n",
      "INFO: Vulnerability 'CredScanGitHistory' not supported by node 'Website'\n",
      "INFO: Vulnerability 'CredScanGitHistory' not supported by node 'client'\n"
     ]
    },
    {
     "name": "stderr",
     "output_type": "stream",
     "text": [
      "Episode 3|Iteration 11|reward:   11.0|last_reward_at:    4|Elapsed Time: 0:00:00||"
     ]
    },
    {
     "name": "stdout",
     "output_type": "stream",
     "text": [
      "INFO: discovered node: Website\n",
      "INFO: GOT REWARD: Web browser history revealed website URL of interest\n",
      "INFO: Vulnerability 'AccessDataWithSASToken' not supported by node 'Website'\n",
      "INFO: discovered node: Website\n",
      "INFO: GOT REWARD: Web browser history revealed website URL of interest\n",
      "INFO: discovered node: Website\n",
      "INFO: GOT REWARD: Web browser history revealed website URL of interest\n",
      "INFO: discovered node: Website\n",
      "INFO: GOT REWARD: Web browser history revealed website URL of interest\n"
     ]
    },
    {
     "name": "stderr",
     "output_type": "stream",
     "text": [
      "Episode 3|Iteration 16|reward:   11.0|last_reward_at:    4|Elapsed Time: 0:00:00||"
     ]
    },
    {
     "name": "stdout",
     "output_type": "stream",
     "text": [
      "INFO: Vulnerability 'NavigateWebDirectoryFurther' not supported by node 'Website'\n",
      "INFO: discovered node: Website\n",
      "INFO: GOT REWARD: Web browser history revealed website URL of interest\n",
      "INFO: discovered node: Website\n",
      "INFO: GOT REWARD: Web browser history revealed website URL of interest\n",
      "INFO: Vulnerability 'ScanSharepointParentDirectory' not supported by node 'client'\n",
      "INFO: Vulnerability 'ScanSharepointParentDirectory' not supported by node 'Website'\n"
     ]
    },
    {
     "name": "stderr",
     "output_type": "stream",
     "text": [
      "Episode 3|Iteration 21|reward:   11.0|last_reward_at:    4|Elapsed Time: 0:00:00||"
     ]
    },
    {
     "name": "stdout",
     "output_type": "stream",
     "text": [
      "INFO: Vulnerability 'NavigateWebDirectoryFurther' not supported by node 'client'\n",
      "INFO: Vulnerability 'NavigateWebDirectory' not supported by node 'Website'\n",
      "INFO: discovered node: Website\n",
      "INFO: GOT REWARD: Web browser history revealed website URL of interest\n",
      "INFO: Vulnerability 'CredScanGitHistory' not supported by node 'client'\n",
      "INFO: discovered node: Website\n",
      "INFO: GOT REWARD: Web browser history revealed website URL of interest\n",
      "INFO: Vulnerability 'ScanPageSource' not supported by node 'client'\n",
      "INFO: Vulnerability 'CredScanGitHistory' not supported by node 'client'\n"
     ]
    },
    {
     "name": "stderr",
     "output_type": "stream",
     "text": [
      "Episode 3|Iteration 28|reward:   11.0|last_reward_at:    4|Elapsed Time: 0:00:00||"
     ]
    },
    {
     "name": "stdout",
     "output_type": "stream",
     "text": [
      "INFO: discovered node: GitHubProject\n",
      "INFO: GOT REWARD: WEBSITE page content has a link to github -> Github project discovered!\n",
      "Fake Signal Deployed: GitHubProject\n"
     ]
    },
    {
     "name": "stderr",
     "output_type": "stream",
     "text": [
      "Episode 3|Iteration 28|reward:   22.0|last_reward_at:   28|Elapsed Time: 0:00:00||"
     ]
    },
    {
     "name": "stdout",
     "output_type": "stream",
     "text": [
      "INFO: discovered node: Tarpit-AzureStorage\n",
      "INFO: discovered credential: CachedCredential(node='Tarpit-AzureStorage', port='HTTPS', credential='SASTOKEN1')\n",
      "INFO: GOT REWARD: CredScan success: Some secure access token (SAS) was leaked in a reverted git commit\n"
     ]
    },
    {
     "name": "stderr",
     "output_type": "stream",
     "text": [
      "Episode 3|Iteration 29|reward:   36.0|last_reward_at:   29|Elapsed Time: 0:00:00||"
     ]
    },
    {
     "name": "stdout",
     "output_type": "stream",
     "text": [
      "Fake Signal Deployed: Tarpit-AzureStorage\n",
      "INFO: Vulnerability 'NavigateWebDirectory' not supported by node 'Tarpit-AzureStorage'\n",
      "INFO: BLOCKED TRAFFIC: source node 'client' is blocking outgoing traffic on port 'PING'\n",
      "INFO: Vulnerability 'CredScanGitHistory' not supported by node 'Website'\n",
      "INFO: Vulnerability 'CredScanGitHistory' not supported by node 'Website'\n",
      "INFO: Vulnerability 'NavigateWebDirectory' not supported by node 'Website'\n",
      "INFO: discovered node: Website\n",
      "INFO: GOT REWARD: Web browser history revealed website URL of interest\n"
     ]
    },
    {
     "name": "stderr",
     "output_type": "stream",
     "text": [
      "Episode 3|Iteration 36|reward:   36.0|last_reward_at:   29|Elapsed Time: 0:00:00||"
     ]
    },
    {
     "name": "stdout",
     "output_type": "stream",
     "text": [
      "INFO: GOT REWARD: Stole data using a publicly shared SAS token\n"
     ]
    },
    {
     "name": "stderr",
     "output_type": "stream",
     "text": [
      "Episode 3|Iteration 36|reward:   42.0|last_reward_at:   36|Elapsed Time: 0:00:00||"
     ]
    },
    {
     "name": "stdout",
     "output_type": "stream",
     "text": [
      "INFO: Vulnerability 'ListAzureResources' not supported by node 'client'\n",
      "INFO: BLOCKED TRAFFIC: source node 'client' is blocking outgoing traffic on port 'GIT'\n",
      "INFO: Vulnerability 'CredScanGitHistory' not supported by node 'Tarpit-AzureStorage'\n",
      "INFO: discovered node: Tarpit-AzureStorage\n",
      "INFO: discovered credential: CachedCredential(node='Tarpit-AzureStorage', port='HTTPS', credential='SASTOKEN1')\n",
      "INFO: GOT REWARD: CredScan success: Some secure access token (SAS) was leaked in a reverted git commit\n",
      "INFO: BLOCKED TRAFFIC: source node 'client' is blocking outgoing traffic on port 'MySQL'\n",
      "INFO: Infected node 'Tarpit-AzureStorage' from 'client' via HTTPS with credential 'SASTOKEN1'\n"
     ]
    },
    {
     "name": "stderr",
     "output_type": "stream",
     "text": [
      "Episode 3|Iteration 42|reward:   92.0|last_reward_at:   42|Elapsed Time: 0:00:00||"
     ]
    },
    {
     "name": "stdout",
     "output_type": "stream",
     "text": [
      "INFO: BLOCKED TRAFFIC: source node 'client' is blocking outgoing traffic on port 'PING'\n",
      "INFO: Vulnerability 'AccessDataWithSASToken' not supported by node 'client'\n",
      "INFO: BLOCKED TRAFFIC: source node 'Tarpit-AzureStorage' is blocking outgoing traffic on port 'MySQL'\n",
      "INFO: BLOCKED TRAFFIC: source node 'client' is blocking outgoing traffic on port 'su'\n",
      "INFO: discovered node: Tarpit-AzureStorage\n",
      "INFO: discovered credential: CachedCredential(node='Tarpit-AzureStorage', port='HTTPS', credential='SASTOKEN1')\n",
      "INFO: GOT REWARD: CredScan success: Some secure access token (SAS) was leaked in a reverted git commit\n",
      "INFO: BLOCKED TRAFFIC: source node 'client' is blocking outgoing traffic on port 'SSH-key'\n"
     ]
    },
    {
     "name": "stderr",
     "output_type": "stream",
     "text": [
      "Episode 3|Iteration 49|reward:   92.0|last_reward_at:   42|Elapsed Time: 0:00:00||"
     ]
    },
    {
     "name": "stdout",
     "output_type": "stream",
     "text": [
      "INFO: discovered node: Website\n",
      "INFO: GOT REWARD: Web browser history revealed website URL of interest\n",
      "INFO: Vulnerability 'AccessDataWithSASToken' not supported by node 'Website'\n",
      "INFO: BLOCKED TRAFFIC: source node 'Tarpit-AzureStorage' is blocking outgoing traffic on port 'PING'\n",
      "INFO: discovered node: Tarpit-AzureStorage\n",
      "INFO: discovered credential: CachedCredential(node='Tarpit-AzureStorage', port='HTTPS', credential='SASTOKEN1')\n",
      "INFO: GOT REWARD: CredScan success: Some secure access token (SAS) was leaked in a reverted git commit\n",
      "INFO: Vulnerability 'ListAzureResources' not supported by node 'Website'\n"
     ]
    },
    {
     "name": "stderr",
     "output_type": "stream",
     "text": [
      "Episode 3|Iteration 54|reward:   92.0|last_reward_at:   42|Elapsed Time: 0:00:00||"
     ]
    },
    {
     "name": "stdout",
     "output_type": "stream",
     "text": [
      "INFO: Vulnerability 'ScanSharepointParentDirectory' not supported by node 'client'\n",
      "INFO: Vulnerability 'AccessDataWithSASToken' not supported by node 'GitHubProject'\n",
      "INFO: BLOCKED TRAFFIC: source node 'Tarpit-AzureStorage' is blocking outgoing traffic on port 'su'\n",
      "INFO: discovered node: Tarpit-AzureStorage\n",
      "INFO: discovered credential: CachedCredential(node='Tarpit-AzureStorage', port='HTTPS', credential='SASTOKEN1')\n",
      "INFO: GOT REWARD: CredScan success: Some secure access token (SAS) was leaked in a reverted git commit\n",
      "INFO: target node 'client' not listening on port 'SSH'\n"
     ]
    },
    {
     "name": "stderr",
     "output_type": "stream",
     "text": [
      "Episode 3|Iteration 59|reward:   92.0|last_reward_at:   42|Elapsed Time: 0:00:00||"
     ]
    },
    {
     "name": "stdout",
     "output_type": "stream",
     "text": [
      "INFO: BLOCKED TRAFFIC: source node 'Tarpit-AzureStorage' is blocking outgoing traffic on port 'GIT'\n",
      "INFO: Vulnerability 'NavigateWebDirectoryFurther' not supported by node 'Tarpit-AzureStorage'\n",
      "INFO: Vulnerability 'ScanSharepointParentDirectory' not supported by node 'GitHubProject'\n",
      "INFO: Vulnerability 'AccessDataWithSASToken' not supported by node 'Website'\n",
      "INFO: BLOCKED TRAFFIC: source node 'Tarpit-AzureStorage' is blocking outgoing traffic on port 'GIT'\n"
     ]
    },
    {
     "name": "stderr",
     "output_type": "stream",
     "text": [
      "Episode 3|Iteration 64|reward:   92.0|last_reward_at:   42|Elapsed Time: 0:00:00||"
     ]
    },
    {
     "name": "stdout",
     "output_type": "stream",
     "text": [
      "INFO: Vulnerability 'ScanPageContent' not supported by node 'GitHubProject'\n",
      "INFO: target node 'Tarpit-AzureStorage' not listening on port 'SSH'\n",
      "INFO: Vulnerability 'NavigateWebDirectory' not supported by node 'client'\n",
      "INFO: target node 'GitHubProject' not listening on port 'HTTPS'\n",
      "INFO: Vulnerability 'CredScanGitHistory' not supported by node 'Tarpit-AzureStorage'\n"
     ]
    },
    {
     "name": "stderr",
     "output_type": "stream",
     "text": [
      "Episode 3|Iteration 69|reward:   92.0|last_reward_at:   42|Elapsed Time: 0:00:00||"
     ]
    },
    {
     "name": "stdout",
     "output_type": "stream",
     "text": [
      "INFO: discovered node: Tarpit-AzureStorage\n",
      "INFO: discovered credential: CachedCredential(node='Tarpit-AzureStorage', port='HTTPS', credential='SASTOKEN1')\n",
      "INFO: GOT REWARD: CredScan success: Some secure access token (SAS) was leaked in a reverted git commit\n",
      "INFO: Vulnerability 'ScanPageContent' not supported by node 'client'\n"
     ]
    },
    {
     "name": "stderr",
     "output_type": "stream",
     "text": [
      "Episode 3|Iteration 71|reward:   92.0|last_reward_at:   42|Elapsed Time: 0:00:00||"
     ]
    },
    {
     "name": "stdout",
     "output_type": "stream",
     "text": [
      "INFO: BLOCKED TRAFFIC: source node 'client' is blocking outgoing traffic on port 'SSH-key'\n",
      "INFO: Vulnerability 'CredScanGitHistory' not supported by node 'Website'\n",
      "INFO: Vulnerability 'NavigateWebDirectoryFurther' not supported by node 'Tarpit-AzureStorage'\n"
     ]
    },
    {
     "name": "stderr",
     "output_type": "stream",
     "text": [
      "Episode 3|Iteration 74|reward:   92.0|last_reward_at:   42|Elapsed Time: 0:00:00||"
     ]
    },
    {
     "name": "stdout",
     "output_type": "stream",
     "text": [
      "INFO: Vulnerability 'CredScanGitHistory' not supported by node 'Tarpit-AzureStorage'\n",
      "INFO: Vulnerability 'AccessDataWithSASToken' not supported by node 'Website'\n",
      "INFO: BLOCKED TRAFFIC: source node 'Tarpit-AzureStorage' is blocking outgoing traffic on port 'PING'\n",
      "INFO: BLOCKED TRAFFIC: source node 'Tarpit-AzureStorage' is blocking outgoing traffic on port 'GIT'\n",
      "INFO: BLOCKED TRAFFIC: source node 'Tarpit-AzureStorage' is blocking outgoing traffic on port 'SSH-key'\n",
      "INFO: Vulnerability 'CredScanGitHistory' not supported by node 'Tarpit-AzureStorage'\n",
      "INFO: Vulnerability 'NavigateWebDirectoryFurther' not supported by node 'GitHubProject'\n",
      "INFO: Vulnerability 'ScanPageSource' not supported by node 'Tarpit-AzureStorage'\n"
     ]
    },
    {
     "name": "stderr",
     "output_type": "stream",
     "text": [
      "Episode 3|Iteration 82|reward:   92.0|last_reward_at:   42|Elapsed Time: 0:00:01||"
     ]
    },
    {
     "name": "stdout",
     "output_type": "stream",
     "text": [
      "INFO: target node 'GitHubProject' not listening on port 'HTTPS'\n",
      "INFO: BLOCKED TRAFFIC: source node 'client' is blocking outgoing traffic on port 'PING'\n",
      "INFO: Vulnerability 'ScanPageContent' not supported by node 'client'\n",
      "INFO: Vulnerability 'NavigateWebDirectory' not supported by node 'Website'\n",
      "INFO: discovered node: Tarpit-AzureStorage\n",
      "INFO: discovered credential: CachedCredential(node='Tarpit-AzureStorage', port='HTTPS', credential='SASTOKEN1')\n",
      "INFO: GOT REWARD: CredScan success: Some secure access token (SAS) was leaked in a reverted git commit\n"
     ]
    },
    {
     "name": "stderr",
     "output_type": "stream",
     "text": [
      "Episode 3|Iteration 87|reward:   92.0|last_reward_at:   42|Elapsed Time: 0:00:01||"
     ]
    },
    {
     "name": "stdout",
     "output_type": "stream",
     "text": [
      "INFO: Vulnerability 'ScanSharepointParentDirectory' not supported by node 'Tarpit-AzureStorage'\n",
      "INFO: target node 'client' not listening on port 'HTTPS'\n",
      "INFO: BLOCKED TRAFFIC: source node 'client' is blocking outgoing traffic on port 'GIT'\n",
      "INFO: Vulnerability 'NavigateWebDirectoryFurther' not supported by node 'Website'\n",
      "INFO: BLOCKED TRAFFIC: source node 'Tarpit-AzureStorage' is blocking outgoing traffic on port 'SSH-key'\n",
      "INFO: discovered node: GitHubProject\n",
      "INFO: GOT REWARD: WEBSITE page content has a link to github -> Github project discovered!\n",
      "INFO: GOT REWARD: Stole data using a publicly shared SAS token\n"
     ]
    },
    {
     "name": "stderr",
     "output_type": "stream",
     "text": [
      "Episode 3|Iteration 94|reward:   92.0|last_reward_at:   42|Elapsed Time: 0:00:01||"
     ]
    },
    {
     "name": "stdout",
     "output_type": "stream",
     "text": [
      "INFO: Vulnerability 'ScanSharepointParentDirectory' not supported by node 'client'\n",
      "INFO: Vulnerability 'CredScanGitHistory' not supported by node 'Website'\n",
      "INFO: BLOCKED TRAFFIC: source node 'client' is blocking outgoing traffic on port 'MySQL'\n"
     ]
    },
    {
     "name": "stderr",
     "output_type": "stream",
     "text": [
      "Episode 3|Iteration 97|reward:   92.0|last_reward_at:   42|Elapsed Time: 0:00:01||"
     ]
    },
    {
     "name": "stdout",
     "output_type": "stream",
     "text": [
      "INFO: Vulnerability 'NavigateWebDirectoryFurther' not supported by node 'client'\n",
      "INFO: BLOCKED TRAFFIC: source node 'client' is blocking outgoing traffic on port 'PING'\n"
     ]
    },
    {
     "name": "stderr",
     "output_type": "stream",
     "text": [
      "Episode 3|Iteration 99|reward:   92.0|last_reward_at:   42|Elapsed Time: 0:00:01||"
     ]
    },
    {
     "name": "stdout",
     "output_type": "stream",
     "text": [
      "INFO: Vulnerability 'CredScanGitHistory' not supported by node 'Tarpit-AzureStorage'\n",
      "INFO: Vulnerability 'ScanSharepointParentDirectory' not supported by node 'Website'\n"
     ]
    },
    {
     "name": "stderr",
     "output_type": "stream",
     "text": [
      "Episode 3|Iteration 100|reward:   92.0|last_reward_at:   42|Elapsed Time: 0:00:01||"
     ]
    },
    {
     "name": "stdout",
     "output_type": "stream",
     "text": [
      "INFO: Vulnerability 'CredScanGitHistory' not supported by node 'Website'\n"
     ]
    },
    {
     "name": "stderr",
     "output_type": "stream",
     "text": [
      "Episode 3|Iteration 102|reward:   92.0|last_reward_at:   42|Elapsed Time: 0:00:01||"
     ]
    },
    {
     "name": "stdout",
     "output_type": "stream",
     "text": [
      "INFO: BLOCKED TRAFFIC: source node 'Tarpit-AzureStorage' is blocking outgoing traffic on port 'GIT'\n",
      "INFO: target node 'client' not listening on port 'HTTPS'\n"
     ]
    },
    {
     "name": "stderr",
     "output_type": "stream",
     "text": [
      "Episode 3|Iteration 104|reward:   92.0|last_reward_at:   42|Elapsed Time: 0:00:01||"
     ]
    },
    {
     "name": "stdout",
     "output_type": "stream",
     "text": [
      "INFO: Vulnerability 'CredScanGitHistory' not supported by node 'Tarpit-AzureStorage'\n",
      "INFO: Vulnerability 'ScanSharepointParentDirectory' not supported by node 'Tarpit-AzureStorage'\n"
     ]
    },
    {
     "name": "stderr",
     "output_type": "stream",
     "text": [
      "Episode 3|Iteration 105|reward:   92.0|last_reward_at:   42|Elapsed Time: 0:00:01||"
     ]
    },
    {
     "name": "stdout",
     "output_type": "stream",
     "text": [
      "INFO: BLOCKED TRAFFIC: source node 'Tarpit-AzureStorage' is blocking outgoing traffic on port 'MySQL'\n"
     ]
    },
    {
     "name": "stderr",
     "output_type": "stream",
     "text": [
      "Episode 3|Iteration 107|reward:   92.0|last_reward_at:   42|Elapsed Time: 0:00:01||"
     ]
    },
    {
     "name": "stdout",
     "output_type": "stream",
     "text": [
      "INFO: Vulnerability 'NavigateWebDirectoryFurther' not supported by node 'Website'\n",
      "INFO: Vulnerability 'CredScanGitHistory' not supported by node 'Tarpit-AzureStorage'\n"
     ]
    },
    {
     "name": "stderr",
     "output_type": "stream",
     "text": [
      "Episode 3|Iteration 109|reward:   92.0|last_reward_at:   42|Elapsed Time: 0:00:01||"
     ]
    },
    {
     "name": "stdout",
     "output_type": "stream",
     "text": [
      "INFO: Vulnerability 'NavigateWebDirectoryFurther' not supported by node 'client'\n",
      "INFO: Vulnerability 'ListAzureResources' not supported by node 'Tarpit-AzureStorage'\n",
      "INFO: target node 'client' not listening on port 'SSH'\n"
     ]
    },
    {
     "name": "stderr",
     "output_type": "stream",
     "text": [
      "Episode 3|Iteration 112|reward:   92.0|last_reward_at:   42|Elapsed Time: 0:00:01||"
     ]
    },
    {
     "name": "stdout",
     "output_type": "stream",
     "text": [
      "INFO: discovered node: Tarpit-AzureStorage\n",
      "INFO: discovered credential: CachedCredential(node='Tarpit-AzureStorage', port='HTTPS', credential='SASTOKEN1')\n",
      "INFO: GOT REWARD: CredScan success: Some secure access token (SAS) was leaked in a reverted git commit\n",
      "INFO: Vulnerability 'ListAzureResources' not supported by node 'Tarpit-AzureStorage'\n"
     ]
    },
    {
     "name": "stderr",
     "output_type": "stream",
     "text": [
      "Episode 3|Iteration 114|reward:   92.0|last_reward_at:   42|Elapsed Time: 0:00:02||"
     ]
    },
    {
     "name": "stdout",
     "output_type": "stream",
     "text": [
      "INFO: Vulnerability 'ListAzureResources' not supported by node 'GitHubProject'\n",
      "INFO: Vulnerability 'ScanPageSource' not supported by node 'client'\n",
      "INFO: BLOCKED TRAFFIC: source node 'client' is blocking outgoing traffic on port 'SSH-key'\n"
     ]
    },
    {
     "name": "stderr",
     "output_type": "stream",
     "text": [
      "Episode 3|Iteration 117|reward:   92.0|last_reward_at:   42|Elapsed Time: 0:00:02||"
     ]
    },
    {
     "name": "stdout",
     "output_type": "stream",
     "text": [
      "INFO: Vulnerability 'NavigateWebDirectoryFurther' not supported by node 'Website'\n",
      "INFO: target node 'Tarpit-AzureStorage' not listening on port 'SSH'\n",
      "INFO: BLOCKED TRAFFIC: source node 'Tarpit-AzureStorage' is blocking outgoing traffic on port 'GIT'\n",
      "INFO: BLOCKED TRAFFIC: source node 'client' is blocking outgoing traffic on port 'SSH-key'\n",
      "INFO: Vulnerability 'AccessDataWithSASToken' not supported by node 'GitHubProject'\n"
     ]
    },
    {
     "name": "stderr",
     "output_type": "stream",
     "text": [
      "Episode 3|Iteration 121|reward:   92.0|last_reward_at:   42|Elapsed Time: 0:00:02||"
     ]
    },
    {
     "name": "stdout",
     "output_type": "stream",
     "text": [
      "INFO: target node 'Tarpit-AzureStorage' not listening on port 'SSH'\n",
      "INFO: discovered node: Website.Directory\n",
      "INFO: GOT REWARD: Viewing the web page source reveals a URL to a .txt file and directory on the website\n",
      "Fake Signal Deployed: Website.Directory\n"
     ]
    },
    {
     "name": "stderr",
     "output_type": "stream",
     "text": [
      "Episode 3|Iteration 123|reward:  103.0|last_reward_at:  123|Elapsed Time: 0:00:02||"
     ]
    },
    {
     "name": "stdout",
     "output_type": "stream",
     "text": [
      "INFO: Vulnerability 'ScanPageContent' not supported by node 'client'\n",
      "INFO: Vulnerability 'ScanPageSource' not supported by node 'Website.Directory'\n",
      "INFO: invalid credentials supplied\n"
     ]
    },
    {
     "name": "stderr",
     "output_type": "stream",
     "text": [
      "Episode 3|Iteration 127|reward:  103.0|last_reward_at:  123|Elapsed Time: 0:00:02||"
     ]
    },
    {
     "name": "stdout",
     "output_type": "stream",
     "text": [
      "INFO: target node 'Website.Directory' not listening on port 'SSH'\n",
      "INFO: BLOCKED TRAFFIC: source node 'Tarpit-AzureStorage' is blocking outgoing traffic on port 'SSH-key'\n",
      "INFO: Vulnerability 'ScanPageSource' not supported by node 'GitHubProject'\n"
     ]
    },
    {
     "name": "stderr",
     "output_type": "stream",
     "text": [
      "Episode 3|Iteration 130|reward:  103.0|last_reward_at:  123|Elapsed Time: 0:00:02||"
     ]
    },
    {
     "name": "stdout",
     "output_type": "stream",
     "text": [
      "INFO: BLOCKED TRAFFIC: source node 'client' is blocking outgoing traffic on port 'GIT'\n",
      "INFO: BLOCKED TRAFFIC: source node 'client' is blocking outgoing traffic on port 'su'\n",
      "INFO: discovered node: Website\n",
      "INFO: GOT REWARD: Web browser history revealed website URL of interest\n",
      "INFO: BLOCKED TRAFFIC: source node 'Tarpit-AzureStorage' is blocking outgoing traffic on port 'PING'\n"
     ]
    },
    {
     "name": "stderr",
     "output_type": "stream",
     "text": [
      "Episode 3|Iteration 133|reward:  103.0|last_reward_at:  123|Elapsed Time: 0:00:02||"
     ]
    },
    {
     "name": "stdout",
     "output_type": "stream",
     "text": [
      "INFO: Vulnerability 'ScanPageSource' not supported by node 'Website.Directory'\n",
      "INFO: BLOCKED TRAFFIC: source node 'Tarpit-AzureStorage' is blocking outgoing traffic on port 'GIT'\n",
      "INFO: BLOCKED TRAFFIC: source node 'Tarpit-AzureStorage' is blocking outgoing traffic on port 'MySQL'\n"
     ]
    },
    {
     "name": "stderr",
     "output_type": "stream",
     "text": [
      "Episode 3|Iteration 137|reward:  103.0|last_reward_at:  123|Elapsed Time: 0:00:02||"
     ]
    },
    {
     "name": "stdout",
     "output_type": "stream",
     "text": [
      "INFO: BLOCKED TRAFFIC: source node 'Tarpit-AzureStorage' is blocking outgoing traffic on port 'su'\n",
      "INFO: target node 'client' not listening on port 'SSH'\n",
      "INFO: BLOCKED TRAFFIC: source node 'Tarpit-AzureStorage' is blocking outgoing traffic on port 'GIT'\n"
     ]
    },
    {
     "name": "stderr",
     "output_type": "stream",
     "text": [
      "Episode 3|Iteration 140|reward:  103.0|last_reward_at:  123|Elapsed Time: 0:00:02||"
     ]
    },
    {
     "name": "stdout",
     "output_type": "stream",
     "text": [
      "INFO: Vulnerability 'NavigateWebDirectory' not supported by node 'Tarpit-AzureStorage'\n",
      "INFO: BLOCKED TRAFFIC: source node 'client' is blocking outgoing traffic on port 'GIT'\n"
     ]
    },
    {
     "name": "stderr",
     "output_type": "stream",
     "text": [
      "Episode 3|Iteration 142|reward:  103.0|last_reward_at:  123|Elapsed Time: 0:00:02||"
     ]
    },
    {
     "name": "stdout",
     "output_type": "stream",
     "text": [
      "INFO: Vulnerability 'NavigateWebDirectoryFurther' not supported by node 'GitHubProject'\n",
      "INFO: Vulnerability 'NavigateWebDirectoryFurther' not supported by node 'Tarpit-AzureStorage'\n",
      "INFO: discovered node: Website\n",
      "INFO: GOT REWARD: Web browser history revealed website URL of interest\n"
     ]
    },
    {
     "name": "stderr",
     "output_type": "stream",
     "text": [
      "Episode 3|Iteration 145|reward:  103.0|last_reward_at:  123|Elapsed Time: 0:00:02||"
     ]
    },
    {
     "name": "stdout",
     "output_type": "stream",
     "text": [
      "INFO: Vulnerability 'ScanPageContent' not supported by node 'Tarpit-AzureStorage'\n",
      "INFO: Vulnerability 'NavigateWebDirectory' not supported by node 'Website'\n",
      "INFO: Vulnerability 'ScanPageContent' not supported by node 'GitHubProject'\n",
      "INFO: target node 'GitHubProject' not listening on port 'SSH'\n"
     ]
    },
    {
     "name": "stderr",
     "output_type": "stream",
     "text": [
      "Episode 3|Iteration 149|reward:  103.0|last_reward_at:  123|Elapsed Time: 0:00:02||"
     ]
    },
    {
     "name": "stdout",
     "output_type": "stream",
     "text": [
      "INFO: discovered node: Website\n",
      "INFO: GOT REWARD: Web browser history revealed website URL of interest\n",
      "INFO: BLOCKED TRAFFIC: source node 'Tarpit-AzureStorage' is blocking outgoing traffic on port 'PING'\n"
     ]
    },
    {
     "name": "stderr",
     "output_type": "stream",
     "text": [
      "Episode 3|Iteration 152|reward:  103.0|last_reward_at:  123|Elapsed Time: 0:00:03||"
     ]
    },
    {
     "name": "stdout",
     "output_type": "stream",
     "text": [
      "INFO: Vulnerability 'NavigateWebDirectory' not supported by node 'client'\n",
      "INFO: discovered node: GitHubProject\n",
      "INFO: GOT REWARD: WEBSITE page content has a link to github -> Github project discovered!\n",
      "INFO: Vulnerability 'ScanPageSource' not supported by node 'GitHubProject'\n"
     ]
    },
    {
     "name": "stderr",
     "output_type": "stream",
     "text": [
      "Episode 3|Iteration 155|reward:  103.0|last_reward_at:  123|Elapsed Time: 0:00:03||"
     ]
    },
    {
     "name": "stdout",
     "output_type": "stream",
     "text": [
      "INFO: Vulnerability 'AccessDataWithSASToken' not supported by node 'Website'\n",
      "INFO: BLOCKED TRAFFIC: source node 'client' is blocking outgoing traffic on port 'PING'\n",
      "INFO: Vulnerability 'ScanPageContent' not supported by node 'client'\n",
      "INFO: discovered node: Website\n",
      "INFO: discovered credential: CachedCredential(node='Website', port='MySQL', credential='ReusedMySqlCred-web')\n",
      "INFO: GOT REWARD: Discover browseable web directory: Navigating to parent URL revealed file `readme.txt`with secret data (aflag); and `getting-started.txt` with MYSQL credentials\n"
     ]
    },
    {
     "name": "stderr",
     "output_type": "stream",
     "text": [
      "Episode 3|Iteration 158|reward:  112.0|last_reward_at:  158|Elapsed Time: 0:00:03||"
     ]
    },
    {
     "name": "stdout",
     "output_type": "stream",
     "text": [
      "INFO: Vulnerability 'ScanPageSource' not supported by node 'Tarpit-AzureStorage'\n",
      "INFO: Vulnerability 'ScanPageContent' not supported by node 'Website.Directory'\n",
      "INFO: BLOCKED TRAFFIC: source node 'client' is blocking outgoing traffic on port 'MySQL'\n",
      "INFO: BLOCKED TRAFFIC: source node 'Tarpit-AzureStorage' is blocking outgoing traffic on port 'su'\n"
     ]
    },
    {
     "name": "stderr",
     "output_type": "stream",
     "text": [
      "Episode 3|Iteration 163|reward:  112.0|last_reward_at:  158|Elapsed Time: 0:00:03||"
     ]
    },
    {
     "name": "stdout",
     "output_type": "stream",
     "text": [
      "INFO: Vulnerability 'ScanPageContent' not supported by node 'Website.Directory'\n",
      "INFO: discovered node: Tarpit-AzureStorage\n",
      "INFO: discovered credential: CachedCredential(node='Tarpit-AzureStorage', port='HTTPS', credential='SASTOKEN1')\n",
      "INFO: GOT REWARD: CredScan success: Some secure access token (SAS) was leaked in a reverted git commit\n"
     ]
    },
    {
     "name": "stderr",
     "output_type": "stream",
     "text": [
      "Episode 3|Iteration 165|reward:  112.0|last_reward_at:  158|Elapsed Time: 0:00:03||"
     ]
    },
    {
     "name": "stdout",
     "output_type": "stream",
     "text": [
      "INFO: Vulnerability 'AccessDataWithSASToken' not supported by node 'Website.Directory'\n",
      "INFO: discovered node: Website\n",
      "INFO: GOT REWARD: Web browser history revealed website URL of interest\n"
     ]
    },
    {
     "name": "stderr",
     "output_type": "stream",
     "text": [
      "Episode 3|Iteration 166|reward:  112.0|last_reward_at:  158|Elapsed Time: 0:00:03||"
     ]
    },
    {
     "name": "stdout",
     "output_type": "stream",
     "text": [
      "INFO: Vulnerability 'AccessDataWithSASToken' not supported by node 'client'\n",
      "INFO: Vulnerability 'CredScanGitHistory' not supported by node 'Website.Directory'\n",
      "INFO: invalid credentials supplied\n"
     ]
    },
    {
     "name": "stderr",
     "output_type": "stream",
     "text": [
      "Episode 3|Iteration 169|reward:  112.0|last_reward_at:  158|Elapsed Time: 0:00:03||"
     ]
    },
    {
     "name": "stdout",
     "output_type": "stream",
     "text": [
      "INFO: discovered node: Tarpit-AzureStorage\n",
      "INFO: discovered credential: CachedCredential(node='Tarpit-AzureStorage', port='HTTPS', credential='SASTOKEN1')\n",
      "INFO: GOT REWARD: CredScan success: Some secure access token (SAS) was leaked in a reverted git commit\n",
      "INFO: BLOCKED TRAFFIC: source node 'Tarpit-AzureStorage' is blocking outgoing traffic on port 'GIT'\n",
      "INFO: discovered node: Website\n",
      "INFO: GOT REWARD: Web browser history revealed website URL of interest\n"
     ]
    },
    {
     "name": "stderr",
     "output_type": "stream",
     "text": [
      "Episode 3|Iteration 172|reward:  112.0|last_reward_at:  158|Elapsed Time: 0:00:03||"
     ]
    },
    {
     "name": "stdout",
     "output_type": "stream",
     "text": [
      "INFO: BLOCKED TRAFFIC: source node 'client' is blocking outgoing traffic on port 'GIT'\n",
      "INFO: Vulnerability 'CredScanGitHistory' not supported by node 'Website'\n",
      "INFO: Vulnerability 'ScanPageContent' not supported by node 'GitHubProject'\n",
      "INFO: Vulnerability 'ScanSharepointParentDirectory' not supported by node 'client'\n"
     ]
    },
    {
     "name": "stderr",
     "output_type": "stream",
     "text": [
      "Episode 3|Iteration 177|reward:  112.0|last_reward_at:  158|Elapsed Time: 0:00:03||"
     ]
    },
    {
     "name": "stdout",
     "output_type": "stream",
     "text": [
      "INFO: Vulnerability 'ListAzureResources' not supported by node 'Tarpit-AzureStorage'\n",
      "INFO: BLOCKED TRAFFIC: source node 'Tarpit-AzureStorage' is blocking outgoing traffic on port 'GIT'\n",
      "INFO: target node 'client' not listening on port 'SSH'\n",
      "INFO: Vulnerability 'CredScanGitHistory' not supported by node 'client'\n",
      "INFO: discovered node: GitHubProject\n",
      "INFO: GOT REWARD: WEBSITE page content has a link to github -> Github project discovered!\n"
     ]
    },
    {
     "name": "stderr",
     "output_type": "stream",
     "text": [
      "Episode 3|Iteration 182|reward:  112.0|last_reward_at:  158|Elapsed Time: 0:00:03||"
     ]
    },
    {
     "name": "stdout",
     "output_type": "stream",
     "text": [
      "INFO: BLOCKED TRAFFIC: source node 'client' is blocking outgoing traffic on port 'MySQL'\n",
      "INFO: BLOCKED TRAFFIC: source node 'client' is blocking outgoing traffic on port 'MySQL'\n",
      "INFO: BLOCKED TRAFFIC: source node 'Tarpit-AzureStorage' is blocking outgoing traffic on port 'MySQL'\n",
      "INFO: Vulnerability 'NavigateWebDirectory' not supported by node 'GitHubProject'\n",
      "INFO: BLOCKED TRAFFIC: source node 'client' is blocking outgoing traffic on port 'su'\n"
     ]
    },
    {
     "name": "stderr",
     "output_type": "stream",
     "text": [
      "Episode 3|Iteration 187|reward:  112.0|last_reward_at:  158|Elapsed Time: 0:00:03||"
     ]
    },
    {
     "name": "stdout",
     "output_type": "stream",
     "text": [
      "INFO: BLOCKED TRAFFIC: source node 'Tarpit-AzureStorage' is blocking outgoing traffic on port 'PING'\n",
      "INFO: BLOCKED TRAFFIC: source node 'client' is blocking outgoing traffic on port 'GIT'\n"
     ]
    },
    {
     "name": "stderr",
     "output_type": "stream",
     "text": [
      "Episode 3|Iteration 190|reward:  112.0|last_reward_at:  158|Elapsed Time: 0:00:04||"
     ]
    },
    {
     "name": "stdout",
     "output_type": "stream",
     "text": [
      "INFO: BLOCKED TRAFFIC: source node 'Tarpit-AzureStorage' is blocking outgoing traffic on port 'GIT'\n",
      "INFO: Vulnerability 'NavigateWebDirectory' not supported by node 'Website'\n",
      "INFO: Vulnerability 'ListAzureResources' not supported by node 'Website.Directory'\n"
     ]
    },
    {
     "name": "stderr",
     "output_type": "stream",
     "text": [
      "Episode 3|Iteration 193|reward:  112.0|last_reward_at:  158|Elapsed Time: 0:00:04||"
     ]
    },
    {
     "name": "stdout",
     "output_type": "stream",
     "text": [
      "INFO: Vulnerability 'AccessDataWithSASToken' not supported by node 'Website.Directory'\n",
      "INFO: target node 'client' not listening on port 'SSH'\n",
      "INFO: target node 'Website.Directory' not listening on port 'SSH'\n",
      "INFO: Vulnerability 'NavigateWebDirectory' not supported by node 'Website'\n",
      "INFO: discovered node: Website\n",
      "INFO: GOT REWARD: Web browser history revealed website URL of interest\n"
     ]
    },
    {
     "name": "stderr",
     "output_type": "stream",
     "text": [
      "Episode 3|Iteration 198|reward:  112.0|last_reward_at:  158|Elapsed Time: 0:00:04||"
     ]
    },
    {
     "name": "stdout",
     "output_type": "stream",
     "text": [
      "INFO: BLOCKED TRAFFIC: source node 'Tarpit-AzureStorage' is blocking outgoing traffic on port 'MySQL'\n",
      "INFO: BLOCKED TRAFFIC: source node 'client' is blocking outgoing traffic on port 'su'\n",
      "INFO: discovered node: Website\n",
      "INFO: GOT REWARD: Web browser history revealed website URL of interest\n"
     ]
    },
    {
     "name": "stderr",
     "output_type": "stream",
     "text": [
      "Episode 3|Iteration 200|reward:  112.0|last_reward_at:  158|Elapsed Time: 0:00:04||\n"
     ]
    },
    {
     "name": "stdout",
     "output_type": "stream",
     "text": [
      "  Episode 3 stopped at t=200 \n",
      "  Breakdown [Reward/NoReward (Success rate)]\n",
      "    explore-local: 1/18 (0.05)\n",
      "    explore-remote: 3/78 (0.04)\n",
      "    explore-connect: 0/69 (0.00)\n",
      "    exploit-local: 0/0 (NaN)\n",
      "    exploit-remote: 2/28 (0.07)\n",
      "    exploit-connect: 1/0 (1.00)\n",
      "  exploit deflected to exploration: 4\n",
      "  ## Episode: 4/5 'Signaling-60%' ϵ=0.8097, γ=0.015, lr=0.01, replaymemory=10000,\n",
      "batch=512, target_update=10\n",
      "Total Applied Penalties: 0\n",
      "INFO: Resetting the CyberBattle environment\n"
     ]
    },
    {
     "name": "stderr",
     "output_type": "stream",
     "text": [
      "Episode 4|Iteration 0|reward: ------|last_reward_at: ----|Elapsed Time: 0:00:00||"
     ]
    },
    {
     "name": "stdout",
     "output_type": "stream",
     "text": [
      "INFO: Vulnerability 'NavigateWebDirectory' not supported by node 'client'\n"
     ]
    },
    {
     "name": "stderr",
     "output_type": "stream",
     "text": [
      "Episode 4|Iteration 1|reward:    0.0|last_reward_at: ----|Elapsed Time: 0:00:00||"
     ]
    },
    {
     "name": "stdout",
     "output_type": "stream",
     "text": [
      "INFO: Vulnerability 'ScanPageSource' not supported by node 'client'\n",
      "INFO: Vulnerability 'CredScanGitHistory' not supported by node 'client'\n",
      "INFO: discovered node: Website\n",
      "INFO: GOT REWARD: Web browser history revealed website URL of interest\n",
      "Fake Signal Deployed: Website\n"
     ]
    },
    {
     "name": "stderr",
     "output_type": "stream",
     "text": [
      "Episode 4|Iteration 4|reward:   11.0|last_reward_at:    4|Elapsed Time: 0:00:00||"
     ]
    },
    {
     "name": "stdout",
     "output_type": "stream",
     "text": [
      "INFO: discovered node: GitHubProject\n",
      "INFO: GOT REWARD: WEBSITE page content has a link to github -> Github project discovered!\n",
      "Fake Signal Deployed: GitHubProject\n"
     ]
    },
    {
     "name": "stderr",
     "output_type": "stream",
     "text": [
      "Episode 4|Iteration 5|reward:   22.0|last_reward_at:    5|Elapsed Time: 0:00:00||"
     ]
    },
    {
     "name": "stdout",
     "output_type": "stream",
     "text": [
      "INFO: Vulnerability 'ScanSharepointParentDirectory' not supported by node 'GitHubProject'\n",
      "INFO: Vulnerability 'NavigateWebDirectoryFurther' not supported by node 'Website'\n",
      "INFO: Vulnerability 'NavigateWebDirectoryFurther' not supported by node 'client'\n",
      "INFO: Vulnerability 'ListAzureResources' not supported by node 'GitHubProject'\n",
      "INFO: discovered node: GitHubProject\n",
      "INFO: GOT REWARD: WEBSITE page content has a link to github -> Github project discovered!\n"
     ]
    },
    {
     "name": "stderr",
     "output_type": "stream",
     "text": [
      "Episode 4|Iteration 11|reward:   22.0|last_reward_at:    5|Elapsed Time: 0:00:00||"
     ]
    },
    {
     "name": "stdout",
     "output_type": "stream",
     "text": [
      "INFO: Vulnerability 'NavigateWebDirectoryFurther' not supported by node 'client'\n",
      "INFO: Vulnerability 'NavigateWebDirectoryFurther' not supported by node 'Website'\n",
      "INFO: discovered node: GitHubProject\n",
      "INFO: GOT REWARD: WEBSITE page content has a link to github -> Github project discovered!\n",
      "INFO: discovered node: GitHubProject\n",
      "INFO: GOT REWARD: WEBSITE page content has a link to github -> Github project discovered!\n",
      "INFO: Vulnerability 'ListAzureResources' not supported by node 'GitHubProject'\n"
     ]
    },
    {
     "name": "stderr",
     "output_type": "stream",
     "text": [
      "Episode 4|Iteration 15|reward:   22.0|last_reward_at:    5|Elapsed Time: 0:00:00||"
     ]
    },
    {
     "name": "stdout",
     "output_type": "stream",
     "text": [
      "INFO: Vulnerability 'AccessDataWithSASToken' not supported by node 'client'\n",
      "INFO: discovered node: GitHubProject\n",
      "INFO: GOT REWARD: WEBSITE page content has a link to github -> Github project discovered!\n"
     ]
    },
    {
     "name": "stderr",
     "output_type": "stream",
     "text": [
      "Episode 4|Iteration 18|reward:   22.0|last_reward_at:    5|Elapsed Time: 0:00:00||"
     ]
    },
    {
     "name": "stdout",
     "output_type": "stream",
     "text": [
      "INFO: Vulnerability 'NavigateWebDirectory' not supported by node 'GitHubProject'\n",
      "INFO: Vulnerability 'ScanPageContent' not supported by node 'GitHubProject'\n",
      "INFO: Vulnerability 'ListAzureResources' not supported by node 'Website'\n"
     ]
    },
    {
     "name": "stderr",
     "output_type": "stream",
     "text": [
      "Episode 4|Iteration 21|reward:   22.0|last_reward_at:    5|Elapsed Time: 0:00:00||"
     ]
    },
    {
     "name": "stdout",
     "output_type": "stream",
     "text": [
      "INFO: discovered node: Website\n",
      "INFO: GOT REWARD: Web browser history revealed website URL of interest\n",
      "INFO: Vulnerability 'AccessDataWithSASToken' not supported by node 'client'\n"
     ]
    },
    {
     "name": "stderr",
     "output_type": "stream",
     "text": [
      "Episode 4|Iteration 23|reward:   22.0|last_reward_at:    5|Elapsed Time: 0:00:00||"
     ]
    },
    {
     "name": "stdout",
     "output_type": "stream",
     "text": [
      "INFO: discovered node: GitHubProject\n",
      "INFO: GOT REWARD: WEBSITE page content has a link to github -> Github project discovered!\n",
      "INFO: Vulnerability 'NavigateWebDirectory' not supported by node 'Website'\n",
      "INFO: Vulnerability 'NavigateWebDirectoryFurther' not supported by node 'GitHubProject'\n"
     ]
    },
    {
     "name": "stderr",
     "output_type": "stream",
     "text": [
      "Episode 4|Iteration 26|reward:   22.0|last_reward_at:    5|Elapsed Time: 0:00:00||"
     ]
    },
    {
     "name": "stdout",
     "output_type": "stream",
     "text": [
      "INFO: discovered node: GitHubProject\n",
      "INFO: GOT REWARD: WEBSITE page content has a link to github -> Github project discovered!\n",
      "INFO: discovered node: GitHubProject\n",
      "INFO: GOT REWARD: WEBSITE page content has a link to github -> Github project discovered!\n"
     ]
    },
    {
     "name": "stderr",
     "output_type": "stream",
     "text": [
      "Episode 4|Iteration 28|reward:   22.0|last_reward_at:    5|Elapsed Time: 0:00:00||"
     ]
    },
    {
     "name": "stdout",
     "output_type": "stream",
     "text": [
      "INFO: Vulnerability 'NavigateWebDirectory' not supported by node 'GitHubProject'\n",
      "INFO: Vulnerability 'ScanSharepointParentDirectory' not supported by node 'Website'\n",
      "INFO: Vulnerability 'ListAzureResources' not supported by node 'GitHubProject'\n"
     ]
    },
    {
     "name": "stderr",
     "output_type": "stream",
     "text": [
      "Episode 4|Iteration 31|reward:   22.0|last_reward_at:    5|Elapsed Time: 0:00:00||"
     ]
    },
    {
     "name": "stdout",
     "output_type": "stream",
     "text": [
      "INFO: Vulnerability 'ListAzureResources' not supported by node 'GitHubProject'\n",
      "INFO: discovered node: Website\n",
      "INFO: GOT REWARD: Web browser history revealed website URL of interest\n",
      "INFO: discovered node: Website\n",
      "INFO: GOT REWARD: Web browser history revealed website URL of interest\n",
      "INFO: discovered node: Tarpit-AzureStorage\n",
      "INFO: discovered credential: CachedCredential(node='Tarpit-AzureStorage', port='HTTPS', credential='SASTOKEN1')\n",
      "INFO: GOT REWARD: CredScan success: Some secure access token (SAS) was leaked in a reverted git commit\n",
      "Fake Signal Deployed: Tarpit-AzureStorage\n"
     ]
    },
    {
     "name": "stderr",
     "output_type": "stream",
     "text": [
      "Episode 4|Iteration 34|reward:   36.0|last_reward_at:   34|Elapsed Time: 0:00:00||"
     ]
    },
    {
     "name": "stdout",
     "output_type": "stream",
     "text": [
      "INFO: Vulnerability 'CredScanGitHistory' not supported by node 'Tarpit-AzureStorage'\n",
      "INFO: Vulnerability 'NavigateWebDirectory' not supported by node 'GitHubProject'\n",
      "INFO: discovered node: Website\n",
      "INFO: GOT REWARD: Web browser history revealed website URL of interest\n"
     ]
    },
    {
     "name": "stderr",
     "output_type": "stream",
     "text": [
      "Episode 4|Iteration 38|reward:   36.0|last_reward_at:   34|Elapsed Time: 0:00:00||"
     ]
    },
    {
     "name": "stdout",
     "output_type": "stream",
     "text": [
      "INFO: discovered node: Website\n",
      "INFO: GOT REWARD: Web browser history revealed website URL of interest\n",
      "INFO: invalid credentials supplied\n",
      "INFO: Vulnerability 'ListAzureResources' not supported by node 'GitHubProject'\n"
     ]
    },
    {
     "name": "stderr",
     "output_type": "stream",
     "text": [
      "Episode 4|Iteration 41|reward:   36.0|last_reward_at:   34|Elapsed Time: 0:00:01||"
     ]
    },
    {
     "name": "stdout",
     "output_type": "stream",
     "text": [
      "INFO: Vulnerability 'NavigateWebDirectoryFurther' not supported by node 'GitHubProject'\n",
      "INFO: discovered node: Tarpit-AzureStorage\n",
      "INFO: discovered credential: CachedCredential(node='Tarpit-AzureStorage', port='HTTPS', credential='SASTOKEN1')\n",
      "INFO: GOT REWARD: CredScan success: Some secure access token (SAS) was leaked in a reverted git commit\n",
      "INFO: Vulnerability 'NavigateWebDirectoryFurther' not supported by node 'GitHubProject'\n"
     ]
    },
    {
     "name": "stderr",
     "output_type": "stream",
     "text": [
      "Episode 4|Iteration 44|reward:   36.0|last_reward_at:   34|Elapsed Time: 0:00:01||"
     ]
    },
    {
     "name": "stdout",
     "output_type": "stream",
     "text": [
      "INFO: target node 'GitHubProject' not listening on port 'SSH'\n",
      "INFO: target node 'client' not listening on port 'SSH'\n",
      "INFO: Vulnerability 'CredScanGitHistory' not supported by node 'Tarpit-AzureStorage'\n",
      "INFO: BLOCKED TRAFFIC: source node 'client' is blocking outgoing traffic on port 'MySQL'\n",
      "INFO: BLOCKED TRAFFIC: source node 'client' is blocking outgoing traffic on port 'SSH-key'\n"
     ]
    },
    {
     "name": "stderr",
     "output_type": "stream",
     "text": [
      "Episode 4|Iteration 48|reward:   36.0|last_reward_at:   34|Elapsed Time: 0:00:01||"
     ]
    },
    {
     "name": "stdout",
     "output_type": "stream",
     "text": [
      "INFO: Vulnerability 'NavigateWebDirectory' not supported by node 'GitHubProject'\n",
      "INFO: discovered node: Website.Directory\n",
      "INFO: GOT REWARD: Viewing the web page source reveals a URL to a .txt file and directory on the website\n"
     ]
    },
    {
     "name": "stderr",
     "output_type": "stream",
     "text": [
      "Episode 4|Iteration 50|reward:   47.0|last_reward_at:   50|Elapsed Time: 0:00:01||"
     ]
    },
    {
     "name": "stdout",
     "output_type": "stream",
     "text": [
      "Fake Signal Deployed: Website.Directory\n",
      "INFO: discovered node: Website\n",
      "INFO: discovered credential: CachedCredential(node='Website', port='MySQL', credential='ReusedMySqlCred-web')\n",
      "INFO: GOT REWARD: Discover browseable web directory: Navigating to parent URL revealed file `readme.txt`with secret data (aflag); and `getting-started.txt` with MYSQL credentials\n"
     ]
    },
    {
     "name": "stderr",
     "output_type": "stream",
     "text": [
      "Episode 4|Iteration 51|reward:   56.0|last_reward_at:   51|Elapsed Time: 0:00:01||"
     ]
    },
    {
     "name": "stdout",
     "output_type": "stream",
     "text": [
      "INFO: discovered node: Website\n",
      "INFO: GOT REWARD: Web browser history revealed website URL of interest\n",
      "INFO: Vulnerability 'ListAzureResources' not supported by node 'Website'\n",
      "INFO: GOT REWARD: Stole data using a publicly shared SAS token\n"
     ]
    },
    {
     "name": "stderr",
     "output_type": "stream",
     "text": [
      "Episode 4|Iteration 54|reward:   62.0|last_reward_at:   54|Elapsed Time: 0:00:01||"
     ]
    },
    {
     "name": "stdout",
     "output_type": "stream",
     "text": [
      "INFO: Vulnerability 'ScanPageSource' not supported by node 'Tarpit-AzureStorage'\n",
      "INFO: Vulnerability 'ScanPageSource' not supported by node 'GitHubProject'\n",
      "INFO: Vulnerability 'ScanPageSource' not supported by node 'Website.Directory'\n",
      "INFO: Vulnerability 'ScanPageSource' not supported by node 'Tarpit-AzureStorage'\n"
     ]
    },
    {
     "name": "stderr",
     "output_type": "stream",
     "text": [
      "Episode 4|Iteration 58|reward:   62.0|last_reward_at:   54|Elapsed Time: 0:00:01||"
     ]
    },
    {
     "name": "stdout",
     "output_type": "stream",
     "text": [
      "INFO: target node 'GitHubProject' not listening on port 'HTTPS'\n",
      "INFO: Vulnerability 'AccessDataWithSASToken' not supported by node 'GitHubProject'\n"
     ]
    },
    {
     "name": "stderr",
     "output_type": "stream",
     "text": [
      "Episode 4|Iteration 61|reward:   62.0|last_reward_at:   54|Elapsed Time: 0:00:01||"
     ]
    },
    {
     "name": "stdout",
     "output_type": "stream",
     "text": [
      "INFO: invalid credentials supplied\n",
      "INFO: BLOCKED TRAFFIC: source node 'client' is blocking outgoing traffic on port 'PING'\n",
      "INFO: Vulnerability 'ScanPageSource' not supported by node 'Tarpit-AzureStorage'\n"
     ]
    },
    {
     "name": "stderr",
     "output_type": "stream",
     "text": [
      "Episode 4|Iteration 64|reward:   62.0|last_reward_at:   54|Elapsed Time: 0:00:01||"
     ]
    },
    {
     "name": "stdout",
     "output_type": "stream",
     "text": [
      "INFO: Vulnerability 'ScanSharepointParentDirectory' not supported by node 'Website'\n",
      "INFO: discovered node: Website\n",
      "INFO: GOT REWARD: Web browser history revealed website URL of interest\n"
     ]
    },
    {
     "name": "stderr",
     "output_type": "stream",
     "text": [
      "Episode 4|Iteration 66|reward:   62.0|last_reward_at:   54|Elapsed Time: 0:00:01||"
     ]
    },
    {
     "name": "stdout",
     "output_type": "stream",
     "text": [
      "INFO: BLOCKED TRAFFIC: source node 'client' is blocking outgoing traffic on port 'MySQL'\n",
      "INFO: discovered node: Website\n",
      "INFO: GOT REWARD: Web browser history revealed website URL of interest\n",
      "INFO: Vulnerability 'ListAzureResources' not supported by node 'Tarpit-AzureStorage'\n"
     ]
    },
    {
     "name": "stderr",
     "output_type": "stream",
     "text": [
      "Episode 4|Iteration 69|reward:   62.0|last_reward_at:   54|Elapsed Time: 0:00:01||"
     ]
    },
    {
     "name": "stdout",
     "output_type": "stream",
     "text": [
      "INFO: invalid credentials supplied\n",
      "INFO: Infected node 'Website' from 'client' via SSH with credential 'ReusedMySqlCred-web'\n",
      "INFO: Owned message: FLAG: Login using insecure SSH user/password\n"
     ]
    },
    {
     "name": "stderr",
     "output_type": "stream",
     "text": [
      "Episode 4|Iteration 70|reward:  162.0|last_reward_at:   70|Elapsed Time: 0:00:01||"
     ]
    },
    {
     "name": "stdout",
     "output_type": "stream",
     "text": [
      "INFO: discovered node: Website[user=monitor]\n",
      "INFO: discovered credential: CachedCredential(node='Website[user=monitor]', port='SSH', credential='monitorBashCreds')\n",
      "INFO: GOT REWARD: FLAG: SSH history revealed credentials for the monitoring user (monitor)\n",
      "Fake Signal Deployed: Website[user=monitor]\n"
     ]
    },
    {
     "name": "stderr",
     "output_type": "stream",
     "text": [
      "Episode 4|Iteration 71|reward:  176.0|last_reward_at:   71|Elapsed Time: 0:00:01||"
     ]
    },
    {
     "name": "stdout",
     "output_type": "stream",
     "text": [
      "INFO: Vulnerability 'NavigateWebDirectoryFurther' not supported by node 'Website'\n",
      "INFO: discovered node: Website\n",
      "INFO: GOT REWARD: Web browser history revealed website URL of interest\n"
     ]
    },
    {
     "name": "stderr",
     "output_type": "stream",
     "text": [
      "Episode 4|Iteration 74|reward:  176.0|last_reward_at:   71|Elapsed Time: 0:00:02||"
     ]
    },
    {
     "name": "stdout",
     "output_type": "stream",
     "text": [
      "INFO: Vulnerability 'CredScanGitHistory' not supported by node 'Website.Directory'\n",
      "INFO: BLOCKED TRAFFIC: source node 'Website' is blocking outgoing traffic on port 'SSH-key'\n",
      "INFO: discovered node: Website[user=monitor]\n",
      "INFO: discovered credential: CachedCredential(node='Website[user=monitor]', port='SSH', credential='monitorBashCreds')\n",
      "INFO: GOT REWARD: FLAG: SSH history revealed credentials for the monitoring user (monitor)\n",
      "INFO: BLOCKED TRAFFIC: target node 'Website[user=monitor]' is blocking incoming traffic on port 'SSH'\n"
     ]
    },
    {
     "name": "stderr",
     "output_type": "stream",
     "text": [
      "Episode 4|Iteration 77|reward:  176.0|last_reward_at:   71|Elapsed Time: 0:00:02||"
     ]
    },
    {
     "name": "stdout",
     "output_type": "stream",
     "text": [
      "INFO: target node 'client' not listening on port 'SSH'\n",
      "INFO: discovered node: Website[user=monitor]\n",
      "INFO: discovered credential: CachedCredential(node='Website[user=monitor]', port='SSH', credential='monitorBashCreds')\n",
      "INFO: GOT REWARD: FLAG: SSH history revealed credentials for the monitoring user (monitor)\n",
      "INFO: Vulnerability 'ScanSharepointParentDirectory' not supported by node 'client'\n",
      "INFO: target node 'GitHubProject' not listening on port 'HTTPS'\n"
     ]
    },
    {
     "name": "stderr",
     "output_type": "stream",
     "text": [
      "Episode 4|Iteration 81|reward:  176.0|last_reward_at:   71|Elapsed Time: 0:00:02||"
     ]
    },
    {
     "name": "stdout",
     "output_type": "stream",
     "text": [
      "INFO: Vulnerability 'ListAzureResources' not supported by node 'Website[user=monitor]'\n",
      "INFO: Vulnerability 'ScanPageContent' not supported by node 'Tarpit-AzureStorage'\n",
      "INFO: BLOCKED TRAFFIC: source node 'client' is blocking outgoing traffic on port 'PING'\n",
      "INFO: discovered node: Website\n",
      "INFO: discovered credential: CachedCredential(node='Website', port='MySQL', credential='ReusedMySqlCred-web')\n",
      "INFO: GOT REWARD: Discover browseable web directory: Navigating to parent URL revealed file `readme.txt`with secret data (aflag); and `getting-started.txt` with MYSQL credentials\n",
      "INFO: discovered node: Website[user=monitor]\n",
      "INFO: discovered credential: CachedCredential(node='Website[user=monitor]', port='SSH', credential='monitorBashCreds')\n",
      "INFO: GOT REWARD: FLAG: SSH history revealed credentials for the monitoring user (monitor)\n"
     ]
    },
    {
     "name": "stderr",
     "output_type": "stream",
     "text": [
      "Episode 4|Iteration 86|reward:  176.0|last_reward_at:   71|Elapsed Time: 0:00:02||"
     ]
    },
    {
     "name": "stdout",
     "output_type": "stream",
     "text": [
      "INFO: BLOCKED TRAFFIC: source node 'client' is blocking outgoing traffic on port 'PING'\n",
      "INFO: discovered node: Website[user=monitor]\n",
      "INFO: discovered credential: CachedCredential(node='Website[user=monitor]', port='SSH', credential='monitorBashCreds')\n",
      "INFO: GOT REWARD: FLAG: SSH history revealed credentials for the monitoring user (monitor)\n",
      "INFO: discovered node: GitHubProject\n",
      "INFO: GOT REWARD: WEBSITE page content has a link to github -> Github project discovered!\n",
      "INFO: BLOCKED TRAFFIC: target node 'Website' is blocking incoming traffic on port 'su'\n"
     ]
    },
    {
     "name": "stderr",
     "output_type": "stream",
     "text": [
      "Episode 4|Iteration 91|reward:  176.0|last_reward_at:   71|Elapsed Time: 0:00:02||"
     ]
    },
    {
     "name": "stdout",
     "output_type": "stream",
     "text": [
      "INFO: discovered node: Website\n",
      "INFO: GOT REWARD: Web browser history revealed website URL of interest\n",
      "INFO: BLOCKED TRAFFIC: source node 'Website' is blocking outgoing traffic on port 'SSH-key'\n",
      "INFO: BLOCKED TRAFFIC: target node 'Tarpit-AzureStorage' is blocking incoming traffic on port 'su'\n",
      "INFO: Infected node 'Website[user=monitor]' from 'Website' via su with credential 'monitorBashCreds'\n",
      "INFO: Owned message: FLAG User escalation by stealing credentials from bash history\n"
     ]
    },
    {
     "name": "stderr",
     "output_type": "stream",
     "text": [
      "Episode 4|Iteration 95|reward:  276.0|last_reward_at:   95|Elapsed Time: 0:00:02||"
     ]
    },
    {
     "name": "stdout",
     "output_type": "stream",
     "text": [
      "INFO: BLOCKED TRAFFIC: source node 'client' is blocking outgoing traffic on port 'PING'\n",
      "INFO: Vulnerability 'AccessDataWithSASToken' not supported by node 'Website.Directory'\n",
      "INFO: Vulnerability 'NavigateWebDirectory' not supported by node 'GitHubProject'\n"
     ]
    },
    {
     "name": "stderr",
     "output_type": "stream",
     "text": [
      "Episode 4|Iteration 99|reward:  276.0|last_reward_at:   95|Elapsed Time: 0:00:02||"
     ]
    },
    {
     "name": "stdout",
     "output_type": "stream",
     "text": [
      "INFO: discovered node: Website[user=monitor]\n",
      "INFO: discovered credential: CachedCredential(node='Website[user=monitor]', port='SSH', credential='monitorBashCreds')\n",
      "INFO: GOT REWARD: FLAG: SSH history revealed credentials for the monitoring user (monitor)\n",
      "INFO: BLOCKED TRAFFIC: source node 'Website' is blocking outgoing traffic on port 'PING'\n",
      "INFO: discovered node: Website\n",
      "INFO: GOT REWARD: Web browser history revealed website URL of interest\n"
     ]
    },
    {
     "name": "stderr",
     "output_type": "stream",
     "text": [
      "Episode 4|Iteration 102|reward:  276.0|last_reward_at:   95|Elapsed Time: 0:00:02||"
     ]
    },
    {
     "name": "stdout",
     "output_type": "stream",
     "text": [
      "INFO: Vulnerability 'AccessDataWithSASToken' not supported by node 'Website'\n",
      "INFO: discovered node: GitHubProject\n",
      "INFO: GOT REWARD: WEBSITE page content has a link to github -> Github project discovered!\n",
      "INFO: BLOCKED TRAFFIC: source node 'Website' is blocking outgoing traffic on port 'MySQL'\n",
      "INFO: discovered node: Website[user=monitor]\n",
      "INFO: discovered credential: CachedCredential(node='Website[user=monitor]', port='SSH', credential='monitorBashCreds')\n",
      "INFO: GOT REWARD: FLAG: SSH history revealed credentials for the monitoring user (monitor)\n",
      "INFO: Vulnerability 'ScanPageContent' not supported by node 'Website.Directory'\n"
     ]
    },
    {
     "name": "stderr",
     "output_type": "stream",
     "text": [
      "Episode 4|Iteration 106|reward:  276.0|last_reward_at:   95|Elapsed Time: 0:00:02||"
     ]
    },
    {
     "name": "stdout",
     "output_type": "stream",
     "text": [
      "INFO: discovered node: Website\n",
      "INFO: discovered credential: CachedCredential(node='Website', port='MySQL', credential='ReusedMySqlCred-web')\n",
      "INFO: GOT REWARD: Discover browseable web directory: Navigating to parent URL revealed file `readme.txt`with secret data (aflag); and `getting-started.txt` with MYSQL credentials\n",
      "INFO: target node 'Website[user=monitor]' not listening on port 'HTTPS'\n",
      "INFO: Infected node 'Tarpit-AzureStorage' from 'Website' via HTTPS with credential 'SASTOKEN1'\n"
     ]
    },
    {
     "name": "stderr",
     "output_type": "stream",
     "text": [
      "Episode 4|Iteration 109|reward:  326.0|last_reward_at:  109|Elapsed Time: 0:00:02||"
     ]
    },
    {
     "name": "stdout",
     "output_type": "stream",
     "text": [
      "INFO: BLOCKED TRAFFIC: target node 'Tarpit-AzureStorage' is blocking incoming traffic on port 'su'\n",
      "INFO: BLOCKED TRAFFIC: source node 'Website[user=monitor]' is blocking outgoing traffic on port 'su'\n",
      "INFO: Vulnerability 'ScanSharepointParentDirectory' not supported by node 'Website[user=monitor]'\n",
      "INFO: Vulnerability 'ScanPageContent' not supported by node 'Website[user=monitor]'\n"
     ]
    },
    {
     "name": "stderr",
     "output_type": "stream",
     "text": [
      "Episode 4|Iteration 114|reward:  326.0|last_reward_at:  109|Elapsed Time: 0:00:02||"
     ]
    },
    {
     "name": "stdout",
     "output_type": "stream",
     "text": [
      "INFO: BLOCKED TRAFFIC: source node 'Website[user=monitor]' is blocking outgoing traffic on port 'MySQL'\n",
      "INFO: BLOCKED TRAFFIC: source node 'Tarpit-AzureStorage' is blocking outgoing traffic on port 'SSH-key'\n",
      "INFO: Vulnerability 'NavigateWebDirectoryFurther' not supported by node 'GitHubProject'\n"
     ]
    },
    {
     "name": "stderr",
     "output_type": "stream",
     "text": [
      "Episode 4|Iteration 117|reward:  326.0|last_reward_at:  109|Elapsed Time: 0:00:03||"
     ]
    },
    {
     "name": "stdout",
     "output_type": "stream",
     "text": [
      "INFO: Vulnerability 'ScanPageContent' not supported by node 'Website[user=monitor]'\n",
      "INFO: BLOCKED TRAFFIC: source node 'client' is blocking outgoing traffic on port 'su'\n",
      "INFO: BLOCKED TRAFFIC: source node 'Website' is blocking outgoing traffic on port 'PING'\n",
      "INFO: Vulnerability 'CredScanGitHistory' not supported by node 'Tarpit-AzureStorage'\n",
      "INFO: Vulnerability 'ScanPageSource' not supported by node 'GitHubProject'\n"
     ]
    },
    {
     "name": "stderr",
     "output_type": "stream",
     "text": [
      "Episode 4|Iteration 122|reward:  326.0|last_reward_at:  109|Elapsed Time: 0:00:03||"
     ]
    },
    {
     "name": "stdout",
     "output_type": "stream",
     "text": [
      "INFO: Vulnerability 'NavigateWebDirectory' not supported by node 'client'\n",
      "INFO: discovered node: AzureResourceManager[user=monitor]\n",
      "INFO: discovered credential: CachedCredential(node='AzureResourceManager[user=monitor]', port='HTTPS', credential='azuread_user_credentials')\n",
      "INFO: GOT REWARD: SSH: cat ~/azurecreds.txt (running as monitor) revealed Azure user credential!\n"
     ]
    },
    {
     "name": "stderr",
     "output_type": "stream",
     "text": [
      "Episode 4|Iteration 123|reward:  340.0|last_reward_at:  109|Elapsed Time: 0:00:03||"
     ]
    },
    {
     "name": "stdout",
     "output_type": "stream",
     "text": [
      "Fake Signal Deployed: AzureResourceManager[user=monitor]\n"
     ]
    },
    {
     "name": "stderr",
     "output_type": "stream",
     "text": [
      "Episode 4|Iteration 123|reward:  340.0|last_reward_at:  123|Elapsed Time: 0:00:03||"
     ]
    },
    {
     "name": "stdout",
     "output_type": "stream",
     "text": [
      "INFO: BLOCKED TRAFFIC: target node 'client' is blocking incoming traffic on port 'su'\n",
      "INFO: Infected node 'AzureResourceManager[user=monitor]' from 'Website' via HTTPS with credential 'azuread_user_credentials'\n",
      "INFO: Owned message: More secrets stolen when logged as interactive `monitor` user in Azure with `az`\n"
     ]
    },
    {
     "name": "stderr",
     "output_type": "stream",
     "text": [
      "Episode 4|Iteration 125|reward:  390.0|last_reward_at:  125|Elapsed Time: 0:00:03||"
     ]
    },
    {
     "name": "stdout",
     "output_type": "stream",
     "text": [
      "INFO: discovered node: AzureResourceManager[user=monitor]\n",
      "INFO: discovered credential: CachedCredential(node='AzureResourceManager[user=monitor]', port='HTTPS', credential='azuread_user_credentials')\n",
      "INFO: GOT REWARD: SSH: cat ~/azurecreds.txt (running as monitor) revealed Azure user credential!\n",
      "INFO: BLOCKED TRAFFIC: target node 'GitHubProject' is blocking incoming traffic on port 'su'\n",
      "INFO: BLOCKED TRAFFIC: source node 'client' is blocking outgoing traffic on port 'GIT'\n",
      "INFO: Vulnerability 'NavigateWebDirectoryFurther' not supported by node 'Website'\n"
     ]
    },
    {
     "name": "stderr",
     "output_type": "stream",
     "text": [
      "Episode 4|Iteration 130|reward:  390.0|last_reward_at:  125|Elapsed Time: 0:00:03||"
     ]
    },
    {
     "name": "stdout",
     "output_type": "stream",
     "text": [
      "INFO: Vulnerability 'ScanPageContent' not supported by node 'client'\n",
      "INFO: Vulnerability 'ScanPageContent' not supported by node 'client'\n"
     ]
    },
    {
     "name": "stderr",
     "output_type": "stream",
     "text": [
      "Episode 4|Iteration 132|reward:  390.0|last_reward_at:  125|Elapsed Time: 0:00:03||"
     ]
    },
    {
     "name": "stdout",
     "output_type": "stream",
     "text": [
      "INFO: BLOCKED TRAFFIC: source node 'Website[user=monitor]' is blocking outgoing traffic on port 'GIT'\n",
      "INFO: Vulnerability 'ScanPageContent' not supported by node 'GitHubProject'\n",
      "INFO: Vulnerability 'ScanSharepointParentDirectory' not supported by node 'AzureResourceManager[user=monitor]'\n"
     ]
    },
    {
     "name": "stderr",
     "output_type": "stream",
     "text": [
      "Episode 4|Iteration 135|reward:  390.0|last_reward_at:  125|Elapsed Time: 0:00:03||"
     ]
    },
    {
     "name": "stdout",
     "output_type": "stream",
     "text": [
      "INFO: discovered node: AzureResourceManager[user=monitor]\n",
      "INFO: discovered credential: CachedCredential(node='AzureResourceManager[user=monitor]', port='HTTPS', credential='azuread_user_credentials')\n",
      "INFO: GOT REWARD: SSH: cat ~/azurecreds.txt (running as monitor) revealed Azure user credential!\n",
      "INFO: discovered node: Tarpit-AzureStorage\n",
      "INFO: discovered credential: CachedCredential(node='Tarpit-AzureStorage', port='HTTPS', credential='SASTOKEN1')\n",
      "INFO: GOT REWARD: CredScan success: Some secure access token (SAS) was leaked in a reverted git commit\n"
     ]
    },
    {
     "name": "stderr",
     "output_type": "stream",
     "text": [
      "Episode 4|Iteration 137|reward:  390.0|last_reward_at:  125|Elapsed Time: 0:00:03||"
     ]
    },
    {
     "name": "stdout",
     "output_type": "stream",
     "text": [
      "INFO: discovered node: AzureResourceManager[user=monitor]\n",
      "INFO: discovered credential: CachedCredential(node='AzureResourceManager[user=monitor]', port='HTTPS', credential='azuread_user_credentials')\n",
      "INFO: GOT REWARD: SSH: cat ~/azurecreds.txt (running as monitor) revealed Azure user credential!\n",
      "INFO: BLOCKED TRAFFIC: source node 'Website[user=monitor]' is blocking outgoing traffic on port 'su'\n"
     ]
    },
    {
     "name": "stderr",
     "output_type": "stream",
     "text": [
      "Episode 4|Iteration 138|reward:  390.0|last_reward_at:  125|Elapsed Time: 0:00:03||"
     ]
    },
    {
     "name": "stdout",
     "output_type": "stream",
     "text": [
      "INFO: discovered node: Website\n",
      "INFO: discovered credential: CachedCredential(node='Website', port='MySQL', credential='ReusedMySqlCred-web')\n",
      "INFO: GOT REWARD: Discover browseable web directory: Navigating to parent URL revealed file `readme.txt`with secret data (aflag); and `getting-started.txt` with MYSQL credentials\n",
      "INFO: discovered node: Website\n",
      "INFO: GOT REWARD: Web browser history revealed website URL of interest\n",
      "INFO: BLOCKED TRAFFIC: source node 'Tarpit-AzureStorage' is blocking outgoing traffic on port 'PING'\n"
     ]
    },
    {
     "name": "stderr",
     "output_type": "stream",
     "text": [
      "Episode 4|Iteration 142|reward:  390.0|last_reward_at:  125|Elapsed Time: 0:00:03||"
     ]
    },
    {
     "name": "stdout",
     "output_type": "stream",
     "text": [
      "INFO: discovered node: Website\n",
      "INFO: discovered credential: CachedCredential(node='Website', port='MySQL', credential='ReusedMySqlCred-web')\n",
      "INFO: GOT REWARD: Discover browseable web directory: Navigating to parent URL revealed file `readme.txt`with secret data (aflag); and `getting-started.txt` with MYSQL credentials\n",
      "INFO: target node 'GitHubProject' not listening on port 'SSH'\n",
      "INFO: BLOCKED TRAFFIC: target node 'Website' is blocking incoming traffic on port 'su'\n"
     ]
    },
    {
     "name": "stderr",
     "output_type": "stream",
     "text": [
      "Episode 4|Iteration 145|reward:  390.0|last_reward_at:  125|Elapsed Time: 0:00:03||"
     ]
    },
    {
     "name": "stdout",
     "output_type": "stream",
     "text": [
      "INFO: target node 'client' not listening on port 'SSH'\n",
      "INFO: BLOCKED TRAFFIC: source node 'Website' is blocking outgoing traffic on port 'MySQL'\n",
      "INFO: Vulnerability 'ListAzureResources' not supported by node 'Website.Directory'\n",
      "INFO: Vulnerability 'ScanPageSource' not supported by node 'Website.Directory'\n",
      "INFO: invalid credentials supplied\n"
     ]
    },
    {
     "name": "stderr",
     "output_type": "stream",
     "text": [
      "Episode 4|Iteration 150|reward:  390.0|last_reward_at:  125|Elapsed Time: 0:00:03||"
     ]
    },
    {
     "name": "stdout",
     "output_type": "stream",
     "text": [
      "INFO: discovered node: AzureResourceManager[user=monitor]\n",
      "INFO: discovered credential: CachedCredential(node='AzureResourceManager[user=monitor]', port='HTTPS', credential='azuread_user_credentials')\n",
      "INFO: GOT REWARD: SSH: cat ~/azurecreds.txt (running as monitor) revealed Azure user credential!\n",
      "INFO: BLOCKED TRAFFIC: source node 'Website[user=monitor]' is blocking outgoing traffic on port 'su'\n"
     ]
    },
    {
     "name": "stderr",
     "output_type": "stream",
     "text": [
      "Episode 4|Iteration 152|reward:  390.0|last_reward_at:  125|Elapsed Time: 0:00:04||"
     ]
    },
    {
     "name": "stdout",
     "output_type": "stream",
     "text": [
      "INFO: Vulnerability 'ScanPageContent' not supported by node 'client'\n",
      "INFO: BLOCKED TRAFFIC: source node 'AzureResourceManager[user=monitor]' is blocking outgoing traffic on port 'PING'\n",
      "INFO: Vulnerability 'NavigateWebDirectory' not supported by node 'Website[user=monitor]'\n"
     ]
    },
    {
     "name": "stderr",
     "output_type": "stream",
     "text": [
      "Episode 4|Iteration 155|reward:  390.0|last_reward_at:  125|Elapsed Time: 0:00:04||"
     ]
    },
    {
     "name": "stdout",
     "output_type": "stream",
     "text": [
      "INFO: Vulnerability 'ScanSharepointParentDirectory' not supported by node 'GitHubProject'\n",
      "INFO: BLOCKED TRAFFIC: source node 'Tarpit-AzureStorage' is blocking outgoing traffic on port 'SSH-key'\n",
      "INFO: BLOCKED TRAFFIC: source node 'Tarpit-AzureStorage' is blocking outgoing traffic on port 'GIT'\n",
      "INFO: discovered node: AzureResourceManager[user=monitor]\n",
      "INFO: discovered credential: CachedCredential(node='AzureResourceManager[user=monitor]', port='HTTPS', credential='azuread_user_credentials')\n",
      "INFO: GOT REWARD: SSH: cat ~/azurecreds.txt (running as monitor) revealed Azure user credential!\n"
     ]
    },
    {
     "name": "stderr",
     "output_type": "stream",
     "text": [
      "Episode 4|Iteration 158|reward:  390.0|last_reward_at:  125|Elapsed Time: 0:00:04||"
     ]
    },
    {
     "name": "stdout",
     "output_type": "stream",
     "text": [
      "INFO: Vulnerability 'NavigateWebDirectoryFurther' not supported by node 'Tarpit-AzureStorage'\n",
      "INFO: BLOCKED TRAFFIC: source node 'client' is blocking outgoing traffic on port 'MySQL'\n",
      "INFO: Vulnerability 'ScanPageSource' not supported by node 'Website.Directory'\n",
      "INFO: BLOCKED TRAFFIC: source node 'client' is blocking outgoing traffic on port 'su'\n"
     ]
    },
    {
     "name": "stderr",
     "output_type": "stream",
     "text": [
      "Episode 4|Iteration 163|reward:  390.0|last_reward_at:  125|Elapsed Time: 0:00:04||"
     ]
    },
    {
     "name": "stdout",
     "output_type": "stream",
     "text": [
      "INFO: Vulnerability 'ScanPageSource' not supported by node 'Website[user=monitor]'\n",
      "INFO: Vulnerability 'NavigateWebDirectoryFurther' not supported by node 'Website'\n"
     ]
    },
    {
     "name": "stderr",
     "output_type": "stream",
     "text": [
      "Episode 4|Iteration 165|reward:  390.0|last_reward_at:  125|Elapsed Time: 0:00:04||"
     ]
    },
    {
     "name": "stdout",
     "output_type": "stream",
     "text": [
      "INFO: Vulnerability 'CredScanGitHistory' not supported by node 'Tarpit-AzureStorage'\n",
      "INFO: Vulnerability 'AccessDataWithSASToken' not supported by node 'AzureResourceManager[user=monitor]'\n",
      "INFO: BLOCKED TRAFFIC: source node 'Website' is blocking outgoing traffic on port 'MySQL'\n"
     ]
    },
    {
     "name": "stderr",
     "output_type": "stream",
     "text": [
      "Episode 4|Iteration 168|reward:  390.0|last_reward_at:  125|Elapsed Time: 0:00:04||"
     ]
    },
    {
     "name": "stdout",
     "output_type": "stream",
     "text": [
      "INFO: Vulnerability 'ScanPageSource' not supported by node 'Tarpit-AzureStorage'\n",
      "INFO: BLOCKED TRAFFIC: source node 'Tarpit-AzureStorage' is blocking outgoing traffic on port 'GIT'\n",
      "INFO: Vulnerability 'ScanPageSource' not supported by node 'AzureResourceManager[user=monitor]'\n",
      "INFO: Vulnerability 'ScanPageSource' not supported by node 'AzureResourceManager[user=monitor]'\n"
     ]
    },
    {
     "name": "stderr",
     "output_type": "stream",
     "text": [
      "Episode 4|Iteration 171|reward:  390.0|last_reward_at:  125|Elapsed Time: 0:00:04||"
     ]
    },
    {
     "name": "stdout",
     "output_type": "stream",
     "text": [
      "INFO: Vulnerability 'AccessDataWithSASToken' not supported by node 'client'\n",
      "INFO: Vulnerability 'ScanSharepointParentDirectory' not supported by node 'GitHubProject'\n",
      "INFO: Vulnerability 'AccessDataWithSASToken' not supported by node 'GitHubProject'\n"
     ]
    },
    {
     "name": "stderr",
     "output_type": "stream",
     "text": [
      "Episode 4|Iteration 175|reward:  390.0|last_reward_at:  125|Elapsed Time: 0:00:04||"
     ]
    },
    {
     "name": "stdout",
     "output_type": "stream",
     "text": [
      "INFO: Vulnerability 'ScanPageSource' not supported by node 'AzureResourceManager[user=monitor]'\n",
      "INFO: Vulnerability 'AccessDataWithSASToken' not supported by node 'Website.Directory'\n",
      "INFO: discovered node: Website\n",
      "INFO: GOT REWARD: Web browser history revealed website URL of interest\n"
     ]
    },
    {
     "name": "stderr",
     "output_type": "stream",
     "text": [
      "Episode 4|Iteration 178|reward:  390.0|last_reward_at:  125|Elapsed Time: 0:00:04||"
     ]
    },
    {
     "name": "stdout",
     "output_type": "stream",
     "text": [
      "INFO: Vulnerability 'NavigateWebDirectoryFurther' not supported by node 'Website'\n",
      "INFO: Vulnerability 'AccessDataWithSASToken' not supported by node 'Website[user=monitor]'\n",
      "INFO: BLOCKED TRAFFIC: source node 'AzureResourceManager[user=monitor]' is blocking outgoing traffic on port 'PING'\n",
      "INFO: Vulnerability 'ScanSharepointParentDirectory' not supported by node 'AzureResourceManager[user=monitor]'\n",
      "INFO: BLOCKED TRAFFIC: source node 'AzureResourceManager[user=monitor]' is blocking outgoing traffic on port 'SSH-key'\n"
     ]
    },
    {
     "name": "stderr",
     "output_type": "stream",
     "text": [
      "Episode 4|Iteration 182|reward:  390.0|last_reward_at:  125|Elapsed Time: 0:00:04||"
     ]
    },
    {
     "name": "stdout",
     "output_type": "stream",
     "text": [
      "INFO: Vulnerability 'ScanPageSource' not supported by node 'Website.Directory'\n",
      "INFO: Vulnerability 'ListAzureResources' not supported by node 'Website[user=monitor]'\n",
      "INFO: BLOCKED TRAFFIC: source node 'Website[user=monitor]' is blocking outgoing traffic on port 'su'\n",
      "INFO: Vulnerability 'ListAzureResources' not supported by node 'Website[user=monitor]'\n",
      "INFO: target node 'client' not listening on port 'HTTPS'\n"
     ]
    },
    {
     "name": "stderr",
     "output_type": "stream",
     "text": [
      "Episode 4|Iteration 188|reward:  390.0|last_reward_at:  125|Elapsed Time: 0:00:04||"
     ]
    },
    {
     "name": "stdout",
     "output_type": "stream",
     "text": [
      "INFO: Vulnerability 'ScanPageContent' not supported by node 'client'\n",
      "INFO: BLOCKED TRAFFIC: source node 'Tarpit-AzureStorage' is blocking outgoing traffic on port 'MySQL'\n",
      "INFO: Vulnerability 'NavigateWebDirectoryFurther' not supported by node 'Website'\n",
      "INFO: Vulnerability 'NavigateWebDirectory' not supported by node 'Website[user=monitor]'\n"
     ]
    },
    {
     "name": "stderr",
     "output_type": "stream",
     "text": [
      "Episode 4|Iteration 193|reward:  390.0|last_reward_at:  125|Elapsed Time: 0:00:05||"
     ]
    },
    {
     "name": "stdout",
     "output_type": "stream",
     "text": [
      "INFO: discovered node: Website\n",
      "INFO: GOT REWARD: Web browser history revealed website URL of interest\n",
      "INFO: Vulnerability 'NavigateWebDirectory' not supported by node 'AzureResourceManager[user=monitor]'\n",
      "INFO: BLOCKED TRAFFIC: source node 'Website[user=monitor]' is blocking outgoing traffic on port 'MySQL'\n",
      "INFO: Vulnerability 'CredScanGitHistory' not supported by node 'Tarpit-AzureStorage'\n",
      "INFO: Vulnerability 'CredScanGitHistory' not supported by node 'client'\n"
     ]
    },
    {
     "name": "stderr",
     "output_type": "stream",
     "text": [
      "Episode 4|Iteration 197|reward:  390.0|last_reward_at:  125|Elapsed Time: 0:00:05||"
     ]
    },
    {
     "name": "stdout",
     "output_type": "stream",
     "text": [
      "INFO: Vulnerability 'ScanSharepointParentDirectory' not supported by node 'Website[user=monitor]'\n",
      "INFO: target node 'AzureResourceManager[user=monitor]' not listening on port 'SSH'\n",
      "INFO: BLOCKED TRAFFIC: source node 'Tarpit-AzureStorage' is blocking outgoing traffic on port 'PING'\n"
     ]
    },
    {
     "name": "stderr",
     "output_type": "stream",
     "text": [
      "Episode 4|Iteration 200|reward:  390.0|last_reward_at:  125|Elapsed Time: 0:00:05||\n"
     ]
    },
    {
     "name": "stdout",
     "output_type": "stream",
     "text": [
      "  Episode 4 stopped at t=200 \n",
      "  Breakdown [Reward/NoReward (Success rate)]\n",
      "    explore-local: 2/20 (0.09)\n",
      "    explore-remote: 2/82 (0.02)\n",
      "    explore-connect: 2/58 (0.03)\n",
      "    exploit-local: 1/5 (0.17)\n",
      "    exploit-remote: 3/23 (0.12)\n",
      "    exploit-connect: 2/0 (1.00)\n",
      "  exploit deflected to exploration: 2\n",
      "  ## Episode: 5/5 'Signaling-60%' ϵ=0.7819, γ=0.015, lr=0.01, replaymemory=10000,\n",
      "batch=512, target_update=10\n",
      "Total Applied Penalties: 0\n",
      "INFO: Resetting the CyberBattle environment\n"
     ]
    },
    {
     "name": "stderr",
     "output_type": "stream",
     "text": [
      "Episode 5|Iteration 0|reward: ------|last_reward_at: ----|Elapsed Time: 0:00:00||"
     ]
    },
    {
     "name": "stdout",
     "output_type": "stream",
     "text": [
      "INFO: discovered node: Website\n",
      "INFO: GOT REWARD: Web browser history revealed website URL of interest\n",
      "Fake Signal Deployed: Website\n"
     ]
    },
    {
     "name": "stderr",
     "output_type": "stream",
     "text": [
      "Episode 5|Iteration 1|reward:   11.0|last_reward_at:    1|Elapsed Time: 0:00:00||"
     ]
    },
    {
     "name": "stdout",
     "output_type": "stream",
     "text": [
      "INFO: Vulnerability 'ScanSharepointParentDirectory' not supported by node 'client'\n",
      "INFO: discovered node: Website\n",
      "INFO: GOT REWARD: Web browser history revealed website URL of interest\n",
      "INFO: Vulnerability 'ScanPageContent' not supported by node 'client'\n",
      "INFO: Vulnerability 'ScanPageContent' not supported by node 'client'\n"
     ]
    },
    {
     "name": "stderr",
     "output_type": "stream",
     "text": [
      "Episode 5|Iteration 6|reward:   11.0|last_reward_at:    1|Elapsed Time: 0:00:00||"
     ]
    },
    {
     "name": "stdout",
     "output_type": "stream",
     "text": [
      "INFO: Vulnerability 'ScanPageContent' not supported by node 'client'\n",
      "INFO: discovered node: Website\n",
      "INFO: GOT REWARD: Web browser history revealed website URL of interest\n",
      "INFO: Vulnerability 'ScanSharepointParentDirectory' not supported by node 'Website'\n",
      "INFO: discovered node: GitHubProject\n",
      "INFO: GOT REWARD: WEBSITE page content has a link to github -> Github project discovered!\n",
      "Fake Signal Deployed: GitHubProject\n"
     ]
    },
    {
     "name": "stderr",
     "output_type": "stream",
     "text": [
      "Episode 5|Iteration 9|reward:   22.0|last_reward_at:    9|Elapsed Time: 0:00:00||"
     ]
    },
    {
     "name": "stdout",
     "output_type": "stream",
     "text": [
      "INFO: Vulnerability 'ScanSharepointParentDirectory' not supported by node 'GitHubProject'\n",
      "INFO: discovered node: Website\n",
      "INFO: GOT REWARD: Web browser history revealed website URL of interest\n",
      "INFO: Vulnerability 'ScanPageSource' not supported by node 'client'\n"
     ]
    },
    {
     "name": "stderr",
     "output_type": "stream",
     "text": [
      "Episode 5|Iteration 13|reward:   22.0|last_reward_at:    9|Elapsed Time: 0:00:00||"
     ]
    },
    {
     "name": "stdout",
     "output_type": "stream",
     "text": [
      "INFO: Vulnerability 'CredScanGitHistory' not supported by node 'Website'\n",
      "INFO: discovered node: Tarpit-AzureStorage\n",
      "INFO: discovered credential: CachedCredential(node='Tarpit-AzureStorage', port='HTTPS', credential='SASTOKEN1')\n",
      "INFO: GOT REWARD: CredScan success: Some secure access token (SAS) was leaked in a reverted git commit\n",
      "Fake Signal Deployed: Tarpit-AzureStorage\n"
     ]
    },
    {
     "name": "stderr",
     "output_type": "stream",
     "text": [
      "Episode 5|Iteration 14|reward:   36.0|last_reward_at:   14|Elapsed Time: 0:00:00||"
     ]
    },
    {
     "name": "stdout",
     "output_type": "stream",
     "text": [
      "INFO: Vulnerability 'ScanPageContent' not supported by node 'Tarpit-AzureStorage'\n",
      "INFO: Vulnerability 'ScanSharepointParentDirectory' not supported by node 'client'\n",
      "INFO: BLOCKED TRAFFIC: source node 'client' is blocking outgoing traffic on port 'su'\n"
     ]
    },
    {
     "name": "stderr",
     "output_type": "stream",
     "text": [
      "Episode 5|Iteration 18|reward:   36.0|last_reward_at:   14|Elapsed Time: 0:00:00||"
     ]
    },
    {
     "name": "stdout",
     "output_type": "stream",
     "text": [
      "INFO: Infected node 'Tarpit-AzureStorage' from 'client' via HTTPS with credential 'SASTOKEN1'\n"
     ]
    },
    {
     "name": "stderr",
     "output_type": "stream",
     "text": [
      "Episode 5|Iteration 18|reward:   86.0|last_reward_at:   18|Elapsed Time: 0:00:00||"
     ]
    },
    {
     "name": "stdout",
     "output_type": "stream",
     "text": [
      "INFO: BLOCKED TRAFFIC: source node 'client' is blocking outgoing traffic on port 'PING'\n",
      "INFO: BLOCKED TRAFFIC: source node 'Tarpit-AzureStorage' is blocking outgoing traffic on port 'SSH-key'\n",
      "INFO: Vulnerability 'ScanPageContent' not supported by node 'client'\n",
      "INFO: BLOCKED TRAFFIC: source node 'Tarpit-AzureStorage' is blocking outgoing traffic on port 'GIT'\n"
     ]
    },
    {
     "name": "stderr",
     "output_type": "stream",
     "text": [
      "Episode 5|Iteration 23|reward:   86.0|last_reward_at:   18|Elapsed Time: 0:00:00||"
     ]
    },
    {
     "name": "stdout",
     "output_type": "stream",
     "text": [
      "INFO: Vulnerability 'NavigateWebDirectoryFurther' not supported by node 'Website'\n",
      "INFO: target node 'Tarpit-AzureStorage' not listening on port 'SSH'\n",
      "INFO: Vulnerability 'ScanSharepointParentDirectory' not supported by node 'client'\n"
     ]
    },
    {
     "name": "stderr",
     "output_type": "stream",
     "text": [
      "Episode 5|Iteration 26|reward:   86.0|last_reward_at:   18|Elapsed Time: 0:00:00||"
     ]
    },
    {
     "name": "stdout",
     "output_type": "stream",
     "text": [
      "INFO: BLOCKED TRAFFIC: source node 'client' is blocking outgoing traffic on port 'su'\n",
      "INFO: BLOCKED TRAFFIC: source node 'Tarpit-AzureStorage' is blocking outgoing traffic on port 'PING'\n",
      "INFO: BLOCKED TRAFFIC: source node 'client' is blocking outgoing traffic on port 'SSH-key'\n",
      "INFO: target node 'client' not listening on port 'HTTPS'\n",
      "INFO: Vulnerability 'ScanSharepointParentDirectory' not supported by node 'Tarpit-AzureStorage'\n"
     ]
    },
    {
     "name": "stderr",
     "output_type": "stream",
     "text": [
      "Episode 5|Iteration 31|reward:   86.0|last_reward_at:   18|Elapsed Time: 0:00:00||"
     ]
    },
    {
     "name": "stdout",
     "output_type": "stream",
     "text": [
      "INFO: Vulnerability 'ScanPageSource' not supported by node 'Tarpit-AzureStorage'\n",
      "INFO: target node 'GitHubProject' not listening on port 'HTTPS'\n",
      "INFO: Vulnerability 'ScanPageContent' not supported by node 'Tarpit-AzureStorage'\n",
      "INFO: GOT REWARD: Stole data using a publicly shared SAS token\n"
     ]
    },
    {
     "name": "stderr",
     "output_type": "stream",
     "text": [
      "Episode 5|Iteration 34|reward:   92.0|last_reward_at:   34|Elapsed Time: 0:00:00||"
     ]
    },
    {
     "name": "stdout",
     "output_type": "stream",
     "text": [
      "INFO: target node 'GitHubProject' not listening on port 'HTTPS'\n",
      "INFO: Vulnerability 'ScanPageSource' not supported by node 'GitHubProject'\n",
      "INFO: BLOCKED TRAFFIC: source node 'client' is blocking outgoing traffic on port 'PING'\n"
     ]
    },
    {
     "name": "stderr",
     "output_type": "stream",
     "text": [
      "Episode 5|Iteration 38|reward:   92.0|last_reward_at:   34|Elapsed Time: 0:00:00||"
     ]
    },
    {
     "name": "stdout",
     "output_type": "stream",
     "text": [
      "INFO: BLOCKED TRAFFIC: source node 'client' is blocking outgoing traffic on port 'su'\n",
      "INFO: Vulnerability 'ScanPageSource' not supported by node 'Tarpit-AzureStorage'\n",
      "INFO: BLOCKED TRAFFIC: source node 'client' is blocking outgoing traffic on port 'MySQL'\n"
     ]
    },
    {
     "name": "stderr",
     "output_type": "stream",
     "text": [
      "Episode 5|Iteration 41|reward:   92.0|last_reward_at:   34|Elapsed Time: 0:00:00||"
     ]
    },
    {
     "name": "stdout",
     "output_type": "stream",
     "text": [
      "INFO: Vulnerability 'NavigateWebDirectoryFurther' not supported by node 'GitHubProject'\n",
      "INFO: BLOCKED TRAFFIC: source node 'Tarpit-AzureStorage' is blocking outgoing traffic on port 'su'\n",
      "INFO: target node 'Tarpit-AzureStorage' not listening on port 'SSH'\n"
     ]
    },
    {
     "name": "stderr",
     "output_type": "stream",
     "text": [
      "Episode 5|Iteration 44|reward:   92.0|last_reward_at:   34|Elapsed Time: 0:00:00||"
     ]
    },
    {
     "name": "stdout",
     "output_type": "stream",
     "text": [
      "INFO: Vulnerability 'AccessDataWithSASToken' not supported by node 'GitHubProject'\n",
      "INFO: Vulnerability 'CredScanGitHistory' not supported by node 'client'\n"
     ]
    },
    {
     "name": "stderr",
     "output_type": "stream",
     "text": [
      "Episode 5|Iteration 46|reward:   92.0|last_reward_at:   34|Elapsed Time: 0:00:01||"
     ]
    },
    {
     "name": "stdout",
     "output_type": "stream",
     "text": [
      "INFO: BLOCKED TRAFFIC: source node 'Tarpit-AzureStorage' is blocking outgoing traffic on port 'PING'\n",
      "INFO: BLOCKED TRAFFIC: source node 'Tarpit-AzureStorage' is blocking outgoing traffic on port 'MySQL'\n",
      "INFO: BLOCKED TRAFFIC: source node 'Tarpit-AzureStorage' is blocking outgoing traffic on port 'MySQL'\n"
     ]
    },
    {
     "name": "stderr",
     "output_type": "stream",
     "text": [
      "Episode 5|Iteration 49|reward:   92.0|last_reward_at:   34|Elapsed Time: 0:00:01||"
     ]
    },
    {
     "name": "stdout",
     "output_type": "stream",
     "text": [
      "INFO: BLOCKED TRAFFIC: source node 'client' is blocking outgoing traffic on port 'su'\n",
      "INFO: BLOCKED TRAFFIC: source node 'Tarpit-AzureStorage' is blocking outgoing traffic on port 'PING'\n"
     ]
    },
    {
     "name": "stderr",
     "output_type": "stream",
     "text": [
      "Episode 5|Iteration 51|reward:   92.0|last_reward_at:   34|Elapsed Time: 0:00:01||"
     ]
    },
    {
     "name": "stdout",
     "output_type": "stream",
     "text": [
      "INFO: Vulnerability 'AccessDataWithSASToken' not supported by node 'Website'\n",
      "INFO: discovered node: Website.Directory\n",
      "INFO: GOT REWARD: Viewing the web page source reveals a URL to a .txt file and directory on the website\n",
      "Fake Signal Deployed: Website.Directory\n"
     ]
    },
    {
     "name": "stderr",
     "output_type": "stream",
     "text": [
      "Episode 5|Iteration 52|reward:  103.0|last_reward_at:   52|Elapsed Time: 0:00:01||"
     ]
    },
    {
     "name": "stdout",
     "output_type": "stream",
     "text": [
      "INFO: target node 'Tarpit-AzureStorage' not listening on port 'SSH'\n",
      "INFO: BLOCKED TRAFFIC: source node 'client' is blocking outgoing traffic on port 'su'\n",
      "INFO: Vulnerability 'ScanPageSource' not supported by node 'Website.Directory'\n"
     ]
    },
    {
     "name": "stderr",
     "output_type": "stream",
     "text": [
      "Episode 5|Iteration 55|reward:  103.0|last_reward_at:   52|Elapsed Time: 0:00:01||"
     ]
    },
    {
     "name": "stdout",
     "output_type": "stream",
     "text": [
      "INFO: BLOCKED TRAFFIC: source node 'Tarpit-AzureStorage' is blocking outgoing traffic on port 'PING'\n",
      "INFO: Vulnerability 'ScanPageSource' not supported by node 'Website.Directory'\n",
      "INFO: Vulnerability 'ScanPageSource' not supported by node 'GitHubProject'\n"
     ]
    },
    {
     "name": "stderr",
     "output_type": "stream",
     "text": [
      "Episode 5|Iteration 58|reward:  103.0|last_reward_at:   52|Elapsed Time: 0:00:01||"
     ]
    },
    {
     "name": "stdout",
     "output_type": "stream",
     "text": [
      "INFO: Vulnerability 'NavigateWebDirectoryFurther' not supported by node 'GitHubProject'\n",
      "INFO: target node 'GitHubProject' not listening on port 'HTTPS'\n",
      "INFO: discovered node: Website.Directory\n",
      "INFO: GOT REWARD: Viewing the web page source reveals a URL to a .txt file and directory on the website\n",
      "INFO: discovered node: Sharepoint\n",
      "INFO: GOT REWARD: Navigating to parent URL revealed file `deprecation-checklist.txt` containinga URL to an external sharepoint website\n",
      "Fake Signal Deployed: Sharepoint\n"
     ]
    },
    {
     "name": "stderr",
     "output_type": "stream",
     "text": [
      "Episode 5|Iteration 62|reward:  114.0|last_reward_at:   62|Elapsed Time: 0:00:01||"
     ]
    },
    {
     "name": "stdout",
     "output_type": "stream",
     "text": [
      "INFO: BLOCKED TRAFFIC: source node 'Tarpit-AzureStorage' is blocking outgoing traffic on port 'PING'\n",
      "INFO: discovered node: GitHubProject\n",
      "INFO: GOT REWARD: WEBSITE page content has a link to github -> Github project discovered!\n",
      "INFO: Vulnerability 'ScanPageSource' not supported by node 'Website.Directory'\n"
     ]
    },
    {
     "name": "stderr",
     "output_type": "stream",
     "text": [
      "Episode 5|Iteration 66|reward:  114.0|last_reward_at:   62|Elapsed Time: 0:00:01||"
     ]
    },
    {
     "name": "stdout",
     "output_type": "stream",
     "text": [
      "INFO: BLOCKED TRAFFIC: source node 'client' is blocking outgoing traffic on port 'PING'\n",
      "INFO: Vulnerability 'ScanSharepointParentDirectory' not supported by node 'Tarpit-AzureStorage'\n",
      "INFO: target node 'GitHubProject' not listening on port 'SSH'\n"
     ]
    },
    {
     "name": "stderr",
     "output_type": "stream",
     "text": [
      "Episode 5|Iteration 69|reward:  114.0|last_reward_at:   62|Elapsed Time: 0:00:01||"
     ]
    },
    {
     "name": "stdout",
     "output_type": "stream",
     "text": [
      "INFO: Vulnerability 'ScanPageSource' not supported by node 'Website.Directory'\n",
      "INFO: discovered node: Website.Directory\n",
      "INFO: GOT REWARD: Viewing the web page source reveals a URL to a .txt file and directory on the website\n"
     ]
    },
    {
     "name": "stderr",
     "output_type": "stream",
     "text": [
      "Episode 5|Iteration 71|reward:  114.0|last_reward_at:   62|Elapsed Time: 0:00:01||"
     ]
    },
    {
     "name": "stdout",
     "output_type": "stream",
     "text": [
      "INFO: invalid credentials supplied\n",
      "INFO: discovered node: Website.Directory\n",
      "INFO: GOT REWARD: Viewing the web page source reveals a URL to a .txt file and directory on the website\n",
      "INFO: BLOCKED TRAFFIC: source node 'Tarpit-AzureStorage' is blocking outgoing traffic on port 'PING'\n"
     ]
    },
    {
     "name": "stderr",
     "output_type": "stream",
     "text": [
      "Episode 5|Iteration 74|reward:  114.0|last_reward_at:   62|Elapsed Time: 0:00:01||"
     ]
    },
    {
     "name": "stdout",
     "output_type": "stream",
     "text": [
      "INFO: discovered node: GitHubProject\n",
      "INFO: GOT REWARD: WEBSITE page content has a link to github -> Github project discovered!\n",
      "INFO: discovered node: Sharepoint\n",
      "INFO: GOT REWARD: Navigating to parent URL revealed file `deprecation-checklist.txt` containinga URL to an external sharepoint website\n"
     ]
    },
    {
     "name": "stderr",
     "output_type": "stream",
     "text": [
      "Episode 5|Iteration 76|reward:  114.0|last_reward_at:   62|Elapsed Time: 0:00:01||"
     ]
    },
    {
     "name": "stdout",
     "output_type": "stream",
     "text": [
      "INFO: GOT REWARD: Stole data using a publicly shared SAS token\n",
      "INFO: Vulnerability 'ScanPageSource' not supported by node 'client'\n",
      "INFO: BLOCKED TRAFFIC: source node 'client' is blocking outgoing traffic on port 'SSH-key'\n"
     ]
    },
    {
     "name": "stderr",
     "output_type": "stream",
     "text": [
      "Episode 5|Iteration 79|reward:  114.0|last_reward_at:   62|Elapsed Time: 0:00:01||"
     ]
    },
    {
     "name": "stdout",
     "output_type": "stream",
     "text": [
      "INFO: Vulnerability 'CredScanGitHistory' not supported by node 'Tarpit-AzureStorage'\n",
      "INFO: Vulnerability 'ListAzureResources' not supported by node 'Website.Directory'\n"
     ]
    },
    {
     "name": "stderr",
     "output_type": "stream",
     "text": [
      "Episode 5|Iteration 82|reward:  114.0|last_reward_at:   62|Elapsed Time: 0:00:02||"
     ]
    },
    {
     "name": "stdout",
     "output_type": "stream",
     "text": [
      "INFO: invalid credentials supplied\n",
      "INFO: Vulnerability 'AccessDataWithSASToken' not supported by node 'Website.Directory'\n",
      "INFO: BLOCKED TRAFFIC: source node 'Tarpit-AzureStorage' is blocking outgoing traffic on port 'SSH-key'\n",
      "INFO: Vulnerability 'CredScanGitHistory' not supported by node 'Website'\n",
      "INFO: BLOCKED TRAFFIC: source node 'client' is blocking outgoing traffic on port 'su'\n"
     ]
    },
    {
     "name": "stderr",
     "output_type": "stream",
     "text": [
      "Episode 5|Iteration 86|reward:  114.0|last_reward_at:   62|Elapsed Time: 0:00:02||"
     ]
    },
    {
     "name": "stdout",
     "output_type": "stream",
     "text": [
      "INFO: discovered node: Website.Directory\n",
      "INFO: GOT REWARD: Viewing the web page source reveals a URL to a .txt file and directory on the website\n",
      "INFO: BLOCKED TRAFFIC: source node 'Tarpit-AzureStorage' is blocking outgoing traffic on port 'SSH-key'\n",
      "INFO: Vulnerability 'ScanPageSource' not supported by node 'client'\n",
      "INFO: discovered node: Tarpit-AzureStorage\n",
      "INFO: discovered credential: CachedCredential(node='Tarpit-AzureStorage', port='HTTPS', credential='SASTOKEN1')\n",
      "INFO: GOT REWARD: CredScan success: Some secure access token (SAS) was leaked in a reverted git commit\n",
      "INFO: Vulnerability 'ScanPageSource' not supported by node 'client'\n"
     ]
    },
    {
     "name": "stderr",
     "output_type": "stream",
     "text": [
      "Episode 5|Iteration 91|reward:  114.0|last_reward_at:   62|Elapsed Time: 0:00:02||"
     ]
    },
    {
     "name": "stdout",
     "output_type": "stream",
     "text": [
      "INFO: BLOCKED TRAFFIC: source node 'client' is blocking outgoing traffic on port 'SSH-key'\n",
      "INFO: Vulnerability 'ScanSharepointParentDirectory' not supported by node 'Website.Directory'\n"
     ]
    },
    {
     "name": "stderr",
     "output_type": "stream",
     "text": [
      "Episode 5|Iteration 94|reward:  114.0|last_reward_at:   62|Elapsed Time: 0:00:02||"
     ]
    },
    {
     "name": "stdout",
     "output_type": "stream",
     "text": [
      "INFO: Vulnerability 'AccessDataWithSASToken' not supported by node 'GitHubProject'\n",
      "INFO: BLOCKED TRAFFIC: source node 'Tarpit-AzureStorage' is blocking outgoing traffic on port 'SSH-key'\n",
      "INFO: Vulnerability 'ListAzureResources' not supported by node 'Website.Directory'\n"
     ]
    },
    {
     "name": "stderr",
     "output_type": "stream",
     "text": [
      "Episode 5|Iteration 97|reward:  114.0|last_reward_at:   62|Elapsed Time: 0:00:02||"
     ]
    },
    {
     "name": "stdout",
     "output_type": "stream",
     "text": [
      "INFO: Vulnerability 'ScanPageContent' not supported by node 'client'\n",
      "INFO: BLOCKED TRAFFIC: source node 'Tarpit-AzureStorage' is blocking outgoing traffic on port 'su'\n",
      "INFO: Vulnerability 'AccessDataWithSASToken' not supported by node 'GitHubProject'\n",
      "INFO: BLOCKED TRAFFIC: source node 'client' is blocking outgoing traffic on port 'PING'\n",
      "INFO: Vulnerability 'AccessDataWithSASToken' not supported by node 'Sharepoint'\n"
     ]
    },
    {
     "name": "stderr",
     "output_type": "stream",
     "text": [
      "Episode 5|Iteration 101|reward:  114.0|last_reward_at:   62|Elapsed Time: 0:00:02||"
     ]
    },
    {
     "name": "stdout",
     "output_type": "stream",
     "text": [
      "INFO: target node 'GitHubProject' not listening on port 'HTTPS'\n",
      "INFO: Vulnerability 'AccessDataWithSASToken' not supported by node 'Website'\n",
      "INFO: BLOCKED TRAFFIC: source node 'client' is blocking outgoing traffic on port 'PING'\n",
      "INFO: discovered node: Website\n",
      "INFO: GOT REWARD: Web browser history revealed website URL of interest\n",
      "INFO: target node 'GitHubProject' not listening on port 'HTTPS'\n"
     ]
    },
    {
     "name": "stderr",
     "output_type": "stream",
     "text": [
      "Episode 5|Iteration 106|reward:  114.0|last_reward_at:   62|Elapsed Time: 0:00:02||"
     ]
    },
    {
     "name": "stdout",
     "output_type": "stream",
     "text": [
      "INFO: invalid credentials supplied\n",
      "INFO: Vulnerability 'AccessDataWithSASToken' not supported by node 'client'\n",
      "INFO: Vulnerability 'NavigateWebDirectory' not supported by node 'Sharepoint'\n",
      "INFO: Vulnerability 'NavigateWebDirectory' not supported by node 'Tarpit-AzureStorage'\n",
      "INFO: target node 'GitHubProject' not listening on port 'SSH'\n"
     ]
    },
    {
     "name": "stderr",
     "output_type": "stream",
     "text": [
      "Episode 5|Iteration 111|reward:  114.0|last_reward_at:   62|Elapsed Time: 0:00:02||"
     ]
    },
    {
     "name": "stdout",
     "output_type": "stream",
     "text": [
      "INFO: BLOCKED TRAFFIC: source node 'client' is blocking outgoing traffic on port 'SSH-key'\n",
      "INFO: Vulnerability 'ScanPageSource' not supported by node 'GitHubProject'\n"
     ]
    },
    {
     "name": "stderr",
     "output_type": "stream",
     "text": [
      "Episode 5|Iteration 114|reward:  114.0|last_reward_at:   62|Elapsed Time: 0:00:02||"
     ]
    },
    {
     "name": "stdout",
     "output_type": "stream",
     "text": [
      "INFO: Vulnerability 'ScanPageSource' not supported by node 'client'\n",
      "INFO: GOT REWARD: Stole data using a publicly shared SAS token\n",
      "INFO: Vulnerability 'ScanSharepointParentDirectory' not supported by node 'Tarpit-AzureStorage'\n"
     ]
    },
    {
     "name": "stderr",
     "output_type": "stream",
     "text": [
      "Episode 5|Iteration 117|reward:  114.0|last_reward_at:   62|Elapsed Time: 0:00:02||"
     ]
    },
    {
     "name": "stdout",
     "output_type": "stream",
     "text": [
      "INFO: Vulnerability 'ScanSharepointParentDirectory' not supported by node 'Website'\n",
      "INFO: Vulnerability 'ScanSharepointParentDirectory' not supported by node 'client'\n"
     ]
    },
    {
     "name": "stderr",
     "output_type": "stream",
     "text": [
      "Episode 5|Iteration 119|reward:  114.0|last_reward_at:   62|Elapsed Time: 0:00:02||"
     ]
    },
    {
     "name": "stdout",
     "output_type": "stream",
     "text": [
      "INFO: BLOCKED TRAFFIC: source node 'Tarpit-AzureStorage' is blocking outgoing traffic on port 'su'\n",
      "INFO: Vulnerability 'ScanPageSource' not supported by node 'Website.Directory'\n",
      "INFO: target node 'Tarpit-AzureStorage' not listening on port 'SSH'\n"
     ]
    },
    {
     "name": "stderr",
     "output_type": "stream",
     "text": [
      "Episode 5|Iteration 122|reward:  114.0|last_reward_at:   62|Elapsed Time: 0:00:03||"
     ]
    },
    {
     "name": "stdout",
     "output_type": "stream",
     "text": [
      "INFO: Vulnerability 'NavigateWebDirectoryFurther' not supported by node 'Sharepoint'\n",
      "INFO: Vulnerability 'AccessDataWithSASToken' not supported by node 'Website'\n",
      "INFO: Vulnerability 'NavigateWebDirectory' not supported by node 'client'\n"
     ]
    },
    {
     "name": "stderr",
     "output_type": "stream",
     "text": [
      "Episode 5|Iteration 125|reward:  114.0|last_reward_at:   62|Elapsed Time: 0:00:03||"
     ]
    },
    {
     "name": "stdout",
     "output_type": "stream",
     "text": [
      "INFO: discovered node: Website\n",
      "INFO: GOT REWARD: Web browser history revealed website URL of interest\n",
      "INFO: BLOCKED TRAFFIC: source node 'Tarpit-AzureStorage' is blocking outgoing traffic on port 'PING'\n",
      "INFO: discovered node: Website\n",
      "INFO: discovered credential: CachedCredential(node='Website', port='MySQL', credential='ReusedMySqlCred-web')\n",
      "INFO: GOT REWARD: Discover browseable web directory: Navigating to parent URL revealed file `readme.txt`with secret data (aflag); and `getting-started.txt` with MYSQL credentials\n"
     ]
    },
    {
     "name": "stderr",
     "output_type": "stream",
     "text": [
      "Episode 5|Iteration 127|reward:  123.0|last_reward_at:  127|Elapsed Time: 0:00:03||"
     ]
    },
    {
     "name": "stdout",
     "output_type": "stream",
     "text": [
      "INFO: BLOCKED TRAFFIC: source node 'Tarpit-AzureStorage' is blocking outgoing traffic on port 'GIT'\n",
      "INFO: BLOCKED TRAFFIC: source node 'client' is blocking outgoing traffic on port 'PING'\n"
     ]
    },
    {
     "name": "stderr",
     "output_type": "stream",
     "text": [
      "Episode 5|Iteration 130|reward:  123.0|last_reward_at:  127|Elapsed Time: 0:00:03||"
     ]
    },
    {
     "name": "stdout",
     "output_type": "stream",
     "text": [
      "INFO: target node 'Website.Directory' not listening on port 'SSH'\n",
      "INFO: Vulnerability 'ListAzureResources' not supported by node 'client'\n",
      "INFO: Vulnerability 'AccessDataWithSASToken' not supported by node 'Website.Directory'\n",
      "INFO: BLOCKED TRAFFIC: source node 'client' is blocking outgoing traffic on port 'GIT'\n",
      "INFO: BLOCKED TRAFFIC: source node 'Tarpit-AzureStorage' is blocking outgoing traffic on port 'GIT'\n"
     ]
    },
    {
     "name": "stderr",
     "output_type": "stream",
     "text": [
      "Episode 5|Iteration 134|reward:  123.0|last_reward_at:  127|Elapsed Time: 0:00:03||"
     ]
    },
    {
     "name": "stdout",
     "output_type": "stream",
     "text": [
      "INFO: Vulnerability 'NavigateWebDirectory' not supported by node 'Website'\n",
      "INFO: discovered node: AzureResourceManager\n",
      "INFO: discovered credential: CachedCredential(node='AzureResourceManager', port='HTTPS', credential='ADPrincipalCreds')\n",
      "INFO: GOT REWARD: Navigating to the Sharepoint site revealed  AD Service Principal Credentials\n",
      "Fake Signal Deployed: AzureResourceManager\n"
     ]
    },
    {
     "name": "stderr",
     "output_type": "stream",
     "text": [
      "Episode 5|Iteration 136|reward:  137.0|last_reward_at:  136|Elapsed Time: 0:00:03||"
     ]
    },
    {
     "name": "stdout",
     "output_type": "stream",
     "text": [
      "INFO: Vulnerability 'NavigateWebDirectoryFurther' not supported by node 'AzureResourceManager'\n",
      "INFO: Vulnerability 'AccessDataWithSASToken' not supported by node 'Sharepoint'\n",
      "INFO: GOT REWARD: Stole data using a publicly shared SAS token\n"
     ]
    },
    {
     "name": "stderr",
     "output_type": "stream",
     "text": [
      "Episode 5|Iteration 140|reward:  137.0|last_reward_at:  136|Elapsed Time: 0:00:03||"
     ]
    },
    {
     "name": "stdout",
     "output_type": "stream",
     "text": [
      "INFO: Vulnerability 'NavigateWebDirectoryFurther' not supported by node 'Tarpit-AzureStorage'\n",
      "INFO: BLOCKED TRAFFIC: source node 'client' is blocking outgoing traffic on port 'MySQL'\n",
      "INFO: BLOCKED TRAFFIC: source node 'Tarpit-AzureStorage' is blocking outgoing traffic on port 'GIT'\n",
      "INFO: target node 'Website.Directory' not listening on port 'SSH'\n",
      "INFO: discovered node: Website\n",
      "INFO: discovered credential: CachedCredential(node='Website', port='MySQL', credential='ReusedMySqlCred-web')\n",
      "INFO: GOT REWARD: Discover browseable web directory: Navigating to parent URL revealed file `readme.txt`with secret data (aflag); and `getting-started.txt` with MYSQL credentials\n"
     ]
    },
    {
     "name": "stderr",
     "output_type": "stream",
     "text": [
      "Episode 5|Iteration 145|reward:  137.0|last_reward_at:  136|Elapsed Time: 0:00:03||"
     ]
    },
    {
     "name": "stdout",
     "output_type": "stream",
     "text": [
      "INFO: BLOCKED TRAFFIC: source node 'Tarpit-AzureStorage' is blocking outgoing traffic on port 'GIT'\n",
      "INFO: discovered node: Website\n",
      "INFO: GOT REWARD: Web browser history revealed website URL of interest\n",
      "INFO: target node 'GitHubProject' not listening on port 'SSH'\n",
      "INFO: BLOCKED TRAFFIC: source node 'client' is blocking outgoing traffic on port 'SSH-key'\n",
      "INFO: invalid credentials supplied\n"
     ]
    },
    {
     "name": "stderr",
     "output_type": "stream",
     "text": [
      "Episode 5|Iteration 149|reward:  137.0|last_reward_at:  136|Elapsed Time: 0:00:03||"
     ]
    },
    {
     "name": "stdout",
     "output_type": "stream",
     "text": [
      "INFO: invalid credentials supplied\n",
      "INFO: Vulnerability 'NavigateWebDirectoryFurther' not supported by node 'Sharepoint'\n",
      "INFO: Vulnerability 'NavigateWebDirectoryFurther' not supported by node 'Sharepoint'\n",
      "INFO: BLOCKED TRAFFIC: source node 'Tarpit-AzureStorage' is blocking outgoing traffic on port 'su'\n",
      "INFO: BLOCKED TRAFFIC: source node 'client' is blocking outgoing traffic on port 'PING'\n"
     ]
    },
    {
     "name": "stderr",
     "output_type": "stream",
     "text": [
      "Episode 5|Iteration 154|reward:  137.0|last_reward_at:  136|Elapsed Time: 0:00:03||"
     ]
    },
    {
     "name": "stdout",
     "output_type": "stream",
     "text": [
      "INFO: invalid credentials supplied\n",
      "INFO: Vulnerability 'ScanPageContent' not supported by node 'client'\n"
     ]
    },
    {
     "name": "stderr",
     "output_type": "stream",
     "text": [
      "Episode 5|Iteration 157|reward:  137.0|last_reward_at:  136|Elapsed Time: 0:00:03||"
     ]
    },
    {
     "name": "stdout",
     "output_type": "stream",
     "text": [
      "INFO: Vulnerability 'ListAzureResources' not supported by node 'client'\n",
      "INFO: Vulnerability 'ScanPageSource' not supported by node 'Sharepoint'\n",
      "INFO: BLOCKED TRAFFIC: source node 'Tarpit-AzureStorage' is blocking outgoing traffic on port 'MySQL'\n"
     ]
    },
    {
     "name": "stderr",
     "output_type": "stream",
     "text": [
      "Episode 5|Iteration 160|reward:  137.0|last_reward_at:  136|Elapsed Time: 0:00:03||"
     ]
    },
    {
     "name": "stdout",
     "output_type": "stream",
     "text": [
      "INFO: Vulnerability 'ListAzureResources' not supported by node 'client'\n",
      "INFO: Vulnerability 'ScanPageSource' not supported by node 'Website.Directory'\n",
      "INFO: Vulnerability 'ScanPageSource' not supported by node 'Sharepoint'\n"
     ]
    },
    {
     "name": "stderr",
     "output_type": "stream",
     "text": [
      "Episode 5|Iteration 163|reward:  137.0|last_reward_at:  136|Elapsed Time: 0:00:03||"
     ]
    },
    {
     "name": "stdout",
     "output_type": "stream",
     "text": [
      "INFO: invalid credentials supplied\n",
      "INFO: Infected node 'AzureResourceManager' from 'Tarpit-AzureStorage' via HTTPS with credential 'ADPrincipalCreds'\n",
      "INFO: Owned message: FLAG: Shared credentials with database user - Obtained secrets hidden in Azure Managed Resources\n"
     ]
    },
    {
     "name": "stderr",
     "output_type": "stream",
     "text": [
      "Episode 5|Iteration 164|reward:  187.0|last_reward_at:  164|Elapsed Time: 0:00:04||"
     ]
    },
    {
     "name": "stdout",
     "output_type": "stream",
     "text": [
      "INFO: Vulnerability 'ScanSharepointParentDirectory' not supported by node 'client'\n",
      "INFO: Vulnerability 'ScanPageContent' not supported by node 'GitHubProject'\n",
      "INFO: Vulnerability 'CredScanGitHistory' not supported by node 'Tarpit-AzureStorage'\n"
     ]
    },
    {
     "name": "stderr",
     "output_type": "stream",
     "text": [
      "Episode 5|Iteration 168|reward:  187.0|last_reward_at:  164|Elapsed Time: 0:00:04||"
     ]
    },
    {
     "name": "stdout",
     "output_type": "stream",
     "text": [
      "INFO: Vulnerability 'ScanPageSource' not supported by node 'Website.Directory'\n",
      "INFO: BLOCKED TRAFFIC: source node 'Tarpit-AzureStorage' is blocking outgoing traffic on port 'MySQL'\n"
     ]
    },
    {
     "name": "stderr",
     "output_type": "stream",
     "text": [
      "Episode 5|Iteration 170|reward:  187.0|last_reward_at:  164|Elapsed Time: 0:00:04||"
     ]
    },
    {
     "name": "stdout",
     "output_type": "stream",
     "text": [
      "INFO: invalid credentials supplied\n",
      "INFO: Vulnerability 'NavigateWebDirectory' not supported by node 'GitHubProject'\n",
      "INFO: target node 'Tarpit-AzureStorage' not listening on port 'SSH'\n"
     ]
    },
    {
     "name": "stderr",
     "output_type": "stream",
     "text": [
      "Episode 5|Iteration 173|reward:  187.0|last_reward_at:  164|Elapsed Time: 0:00:04||"
     ]
    },
    {
     "name": "stdout",
     "output_type": "stream",
     "text": [
      "INFO: BLOCKED TRAFFIC: source node 'Tarpit-AzureStorage' is blocking outgoing traffic on port 'GIT'\n",
      "INFO: Vulnerability 'ScanPageContent' not supported by node 'Sharepoint'\n",
      "INFO: BLOCKED TRAFFIC: source node 'Tarpit-AzureStorage' is blocking outgoing traffic on port 'SSH-key'\n",
      "INFO: Vulnerability 'ScanSharepointParentDirectory' not supported by node 'AzureResourceManager'\n",
      "INFO: Vulnerability 'ScanSharepointParentDirectory' not supported by node 'Website.Directory'\n"
     ]
    },
    {
     "name": "stderr",
     "output_type": "stream",
     "text": [
      "Episode 5|Iteration 178|reward:  187.0|last_reward_at:  164|Elapsed Time: 0:00:04||"
     ]
    },
    {
     "name": "stdout",
     "output_type": "stream",
     "text": [
      "INFO: Vulnerability 'ScanSharepointParentDirectory' not supported by node 'client'\n",
      "INFO: Vulnerability 'AccessDataWithSASToken' not supported by node 'Website.Directory'\n",
      "INFO: target node 'GitHubProject' not listening on port 'HTTPS'\n",
      "INFO: Vulnerability 'ScanPageContent' not supported by node 'client'\n",
      "INFO: discovered node: Website.Directory\n",
      "INFO: GOT REWARD: Viewing the web page source reveals a URL to a .txt file and directory on the website\n"
     ]
    },
    {
     "name": "stderr",
     "output_type": "stream",
     "text": [
      "Episode 5|Iteration 182|reward:  187.0|last_reward_at:  164|Elapsed Time: 0:00:04||"
     ]
    },
    {
     "name": "stdout",
     "output_type": "stream",
     "text": [
      "INFO: target node 'AzureResourceManager' not listening on port 'SSH'\n",
      "INFO: invalid credentials supplied\n"
     ]
    },
    {
     "name": "stderr",
     "output_type": "stream",
     "text": [
      "Episode 5|Iteration 185|reward:  187.0|last_reward_at:  164|Elapsed Time: 0:00:04||"
     ]
    },
    {
     "name": "stdout",
     "output_type": "stream",
     "text": [
      "INFO: BLOCKED TRAFFIC: source node 'client' is blocking outgoing traffic on port 'MySQL'\n",
      "INFO: invalid credentials supplied\n",
      "INFO: invalid credentials supplied\n"
     ]
    },
    {
     "name": "stderr",
     "output_type": "stream",
     "text": [
      "Episode 5|Iteration 188|reward:  187.0|last_reward_at:  164|Elapsed Time: 0:00:04||"
     ]
    },
    {
     "name": "stdout",
     "output_type": "stream",
     "text": [
      "INFO: Vulnerability 'AccessDataWithSASToken' not supported by node 'Website.Directory'\n",
      "INFO: Vulnerability 'AccessDataWithSASToken' not supported by node 'Website.Directory'\n",
      "INFO: BLOCKED TRAFFIC: source node 'client' is blocking outgoing traffic on port 'SSH-key'\n",
      "INFO: Vulnerability 'ScanSharepointParentDirectory' not supported by node 'Website'\n",
      "INFO: Vulnerability 'CredScanGitHistory' not supported by node 'Tarpit-AzureStorage'\n"
     ]
    },
    {
     "name": "stderr",
     "output_type": "stream",
     "text": [
      "Episode 5|Iteration 193|reward:  187.0|last_reward_at:  164|Elapsed Time: 0:00:04||"
     ]
    },
    {
     "name": "stdout",
     "output_type": "stream",
     "text": [
      "INFO: Vulnerability 'ScanPageSource' not supported by node 'Sharepoint'\n",
      "INFO: discovered node: Website\n",
      "INFO: discovered credential: CachedCredential(node='Website', port='MySQL', credential='ReusedMySqlCred-web')\n",
      "INFO: GOT REWARD: Discover browseable web directory: Navigating to parent URL revealed file `readme.txt`with secret data (aflag); and `getting-started.txt` with MYSQL credentials\n",
      "INFO: BLOCKED TRAFFIC: source node 'AzureResourceManager' is blocking outgoing traffic on port 'SSH-key'\n",
      "INFO: Vulnerability 'ScanSharepointParentDirectory' not supported by node 'GitHubProject'\n",
      "INFO: discovered node: Website.Directory\n",
      "INFO: GOT REWARD: Viewing the web page source reveals a URL to a .txt file and directory on the website\n"
     ]
    },
    {
     "name": "stderr",
     "output_type": "stream",
     "text": [
      "Episode 5|Iteration 197|reward:  187.0|last_reward_at:  164|Elapsed Time: 0:00:04||"
     ]
    },
    {
     "name": "stdout",
     "output_type": "stream",
     "text": [
      "INFO: discovered node: Website.Directory\n",
      "INFO: GOT REWARD: Viewing the web page source reveals a URL to a .txt file and directory on the website\n",
      "INFO: Vulnerability 'ScanPageSource' not supported by node 'AzureResourceManager'\n",
      "INFO: target node 'GitHubProject' not listening on port 'SSH'\n"
     ]
    },
    {
     "name": "stderr",
     "output_type": "stream",
     "text": [
      "Episode 5|Iteration 200|reward:  187.0|last_reward_at:  164|Elapsed Time: 0:00:04||\n"
     ]
    },
    {
     "name": "stdout",
     "output_type": "stream",
     "text": [
      "  Episode 5 stopped at t=200 \n",
      "  Breakdown [Reward/NoReward (Success rate)]\n",
      "    explore-local: 0/6 (0.00)\n",
      "    explore-remote: 4/68 (0.06)\n",
      "    explore-connect: 1/78 (0.01)\n",
      "    exploit-local: 1/0 (1.00)\n",
      "    exploit-remote: 3/35 (0.08)\n",
      "    exploit-connect: 1/3 (0.25)\n",
      "  exploit deflected to exploration: 6\n",
      "simulation ended\n"
     ]
    },
    {
     "name": "stderr",
     "output_type": "stream",
     "text": [
      "/home/minu/miniconda3/envs/cybersim/lib/python3.9/site-packages/gymnasium/core.py:311: UserWarning: \u001b[33mWARN: env.name to get variables from other wrappers is deprecated and will be removed in v1.0, to get this variable you can do `env.unwrapped.name` for environment variables or `env.get_wrapper_attr('name')` that will search the reminding wrappers.\u001b[0m\n",
      "  logger.warn(\n"
     ]
    }
   ],
   "source": [
    "env = env_ctf_signaling_60\n",
    "ep = w.EnvironmentBounds.of_identifiers(maximum_node_count=maximum_node_count, maximum_total_credentials=maximum_total_credentials, identifiers=env.identifiers)\n",
    "\n",
    "signal60_ctf_dql = learner.epsilon_greedy_search(\n",
    "    cyberbattle_gym_env=env,\n",
    "    environment_properties=ep,\n",
    "    learner=dqla.DeepQLearnerPolicy(\n",
    "        ep=ep,\n",
    "        gamma=0.015,\n",
    "        replay_memory_size=10000,\n",
    "        target_update=10,\n",
    "        batch_size=512,\n",
    "        # torch default learning rate is 1e-2\n",
    "        # a large value helps converge in less episodes\n",
    "        learning_rate=0.01,\n",
    "    ),\n",
    "    episode_count=training_episode_count,\n",
    "    iteration_count=iteration_count,\n",
    "    epsilon=0.90,\n",
    "    epsilon_exponential_decay=5000,\n",
    "    epsilon_minimum=0.10,\n",
    "    verbosity=Verbosity.Quiet,\n",
    "    render=False,\n",
    "    plot_episodes_length=False,\n",
    "    title=\"Signaling-60%\",\n",
    ")\n"
   ]
  },
  {
   "cell_type": "markdown",
   "id": "5bff2e6b-a6d6-4dca-9c80-032d04cc6451",
   "metadata": {},
   "source": [
    "## Evaluation"
   ]
  },
  {
   "cell_type": "code",
   "execution_count": 9,
   "id": "9e70c70c-cf13-49fa-8eef-4ba63c1f0fc7",
   "metadata": {},
   "outputs": [
    {
     "data": {
      "image/png": "[encoded data removed]",
      "text/plain": [
       "<Figure size 1000x800 with 1 Axes>"
      ]
     },
     "metadata": {},
     "output_type": "display_data"
    }
   ],
   "source": [
    "%matplotlib inline\n",
    "\n",
    "#all_runs = [baseline_ctf_dql,signal20_ctf_dql,signal40_ctf_dql,signal60_ctf_dql]\n",
    "all_runs = [baseline_ctf_dql,signal60_ctf_dql]\n",
    "themodel = dqla.CyberBattleStateActionModel(ep)\n",
    "plot = p.plot_averaged_cummulative_rewards(\n",
    "    all_runs=all_runs,\n",
    "    title=f\"ToyCTF-Environment with Signaling Agent\"\n",
    ")\n"
   ]
  },
  {
   "cell_type": "markdown",
   "id": "8c5fa3d0-6e1d-44f2-9c1f-7a6e5f619aa6",
   "metadata": {
    "jp-MarkdownHeadingCollapsed": true
   },
   "source": [
    "# 2. Environment - Chain+Signaling"
   ]
  },
  {
   "cell_type": "code",
   "execution_count": null,
   "id": "cf6c9809-3066-40a0-857a-404941bc296f",
   "metadata": {
    "scrolled": true
   },
   "outputs": [],
   "source": [
    "# Signaling Agent\n",
    "# Chain Environment\n",
    "env = env_chain_signaling_20\n",
    "env.reset()\n",
    "ep = w.EnvironmentBounds.of_identifiers(maximum_node_count=maximum_node_count, maximum_total_credentials=maximum_total_credentials, identifiers=env.identifiers)\n",
    "\n",
    "signal20_chain_dql = learner.epsilon_greedy_search(\n",
    "    cyberbattle_gym_env=env,\n",
    "    environment_properties=ep,\n",
    "    learner=dqla.DeepQLearnerPolicy(\n",
    "        ep=ep,\n",
    "        gamma=0.015,\n",
    "        replay_memory_size=10000,\n",
    "        target_update=10,\n",
    "        batch_size=512,\n",
    "        # torch default learning rate is 1e-2\n",
    "        # a large value helps converge in less episodes\n",
    "        learning_rate=0.01,\n",
    "    ),\n",
    "    episode_count=training_episode_count,\n",
    "    iteration_count=iteration_count,\n",
    "    epsilon=0.90,\n",
    "    epsilon_exponential_decay=5000,\n",
    "    epsilon_minimum=0.10,\n",
    "    verbosity=Verbosity.Quiet,\n",
    "    render=False,\n",
    "    plot_episodes_length=False,\n",
    "    title=\"Signaling-20%\",\n",
    ")"
   ]
  },
  {
   "cell_type": "code",
   "execution_count": null,
   "id": "8ac13a8b-836e-485d-8eab-8b7bb7fd08d1",
   "metadata": {
    "scrolled": true
   },
   "outputs": [],
   "source": [
    "# Signaling Agent\n",
    "# Chain Environment\n",
    "env = env_chain_signaling_40\n",
    "env.reset()\n",
    "ep = w.EnvironmentBounds.of_identifiers(maximum_node_count=maximum_node_count, maximum_total_credentials=maximum_total_credentials, identifiers=env.identifiers)\n",
    "\n",
    "signal40_chain_dql = learner.epsilon_greedy_search(\n",
    "    cyberbattle_gym_env=env,\n",
    "    environment_properties=ep,\n",
    "    learner=dqla.DeepQLearnerPolicy(\n",
    "        ep=ep,\n",
    "        gamma=0.015,\n",
    "        replay_memory_size=10000,\n",
    "        target_update=10,\n",
    "        batch_size=512,\n",
    "        # torch default learning rate is 1e-2\n",
    "        # a large value helps converge in less episodes\n",
    "        learning_rate=0.01,\n",
    "    ),\n",
    "    episode_count=training_episode_count,\n",
    "    iteration_count=iteration_count,\n",
    "    epsilon=0.90,\n",
    "    epsilon_exponential_decay=5000,\n",
    "    epsilon_minimum=0.10,\n",
    "    verbosity=Verbosity.Quiet,\n",
    "    render=False,\n",
    "    plot_episodes_length=False,\n",
    "    title=\"Signaling-40%\",\n",
    ")"
   ]
  },
  {
   "cell_type": "code",
   "execution_count": null,
   "id": "2eb763df-e779-453a-94b9-42db9dad5260",
   "metadata": {
    "scrolled": true
   },
   "outputs": [],
   "source": [
    "# Signaling Agent\n",
    "# Chain Environment\n",
    "env = env_chain_signaling_60\n",
    "env.reset()\n",
    "ep = w.EnvironmentBounds.of_identifiers(maximum_node_count=maximum_node_count, maximum_total_credentials=maximum_total_credentials, identifiers=env.identifiers)\n",
    "\n",
    "signal60_chain_dql = learner.epsilon_greedy_search(\n",
    "    cyberbattle_gym_env=env,\n",
    "    environment_properties=ep,\n",
    "    learner=dqla.DeepQLearnerPolicy(\n",
    "        ep=ep,\n",
    "        gamma=0.015,\n",
    "        replay_memory_size=10000,\n",
    "        target_update=10,\n",
    "        batch_size=512,\n",
    "        # torch default learning rate is 1e-2\n",
    "        # a large value helps converge in less episodes\n",
    "        learning_rate=0.01,\n",
    "    ),\n",
    "    episode_count=training_episode_count,\n",
    "    iteration_count=iteration_count,\n",
    "    epsilon=0.90,\n",
    "    epsilon_exponential_decay=5000,\n",
    "    epsilon_minimum=0.10,\n",
    "    verbosity=Verbosity.Quiet,\n",
    "    render=False,\n",
    "    plot_episodes_length=False,\n",
    "    title=\"Signaling-60%\",\n",
    ")"
   ]
  },
  {
   "cell_type": "code",
   "execution_count": null,
   "id": "95126131-0817-44ec-b095-f49adcd8324d",
   "metadata": {},
   "outputs": [],
   "source": [
    "all_runs = [baseline_chain_dql,signal20_chain_dql, signal40_chain_dql,signal60_chain_dql]\n",
    "# Plot averaged cumulative rewards for DQL vs Random vs DQL-Exploit\n",
    "themodel = dqla.CyberBattleStateActionModel(ep)\n",
    "p.plot_averaged_cummulative_rewards(\n",
    "    all_runs=all_runs,\n",
    "    title=f\"Chain-Environment with Signaling Agent\"\n",
    ")\n"
   ]
  },
  {
   "cell_type": "markdown",
   "id": "376b8b08-f121-4bdf-8d7a-5224621cc45e",
   "metadata": {},
   "source": [
    "# 3. Environment - CTF+Tarpit"
   ]
  },
  {
   "cell_type": "markdown",
   "id": "69b14bd8-7e90-4c48-9515-9fbe75a21df9",
   "metadata": {
    "jp-MarkdownHeadingCollapsed": true
   },
   "source": [
    "## 20%"
   ]
  },
  {
   "cell_type": "code",
   "execution_count": null,
   "id": "6117a482-992d-4c3c-9051-4fcd7a6a34ab",
   "metadata": {
    "scrolled": true
   },
   "outputs": [],
   "source": [
    "# Tarpit Agent\n",
    "# CTF Environment\n",
    "env = env_ctf_tarpitting_20\n",
    "ep = w.EnvironmentBounds.of_identifiers(maximum_node_count=maximum_node_count, maximum_total_credentials=maximum_total_credentials, identifiers=env.identifiers)\n",
    "\n",
    "tarpit20_ctf_dql = learner.epsilon_greedy_search(\n",
    "    cyberbattle_gym_env=env,\n",
    "    environment_properties=ep,\n",
    "    learner=dqla.DeepQLearnerPolicy(\n",
    "        ep=ep,\n",
    "        gamma=0.015,\n",
    "        replay_memory_size=10000,\n",
    "        target_update=10,\n",
    "        batch_size=512,\n",
    "        # torch default learning rate is 1e-2\n",
    "        # a large value helps converge in less episodes\n",
    "        learning_rate=0.01,\n",
    "    ),\n",
    "    episode_count=training_episode_count,\n",
    "    iteration_count=iteration_count,\n",
    "    epsilon=0.90,\n",
    "    epsilon_exponential_decay=5000,\n",
    "    epsilon_minimum=0.10,\n",
    "    verbosity=Verbosity.Quiet,\n",
    "    render=False,\n",
    "    plot_episodes_length=False,\n",
    "    title=\"Tarpit-20%\",\n",
    ")"
   ]
  },
  {
   "cell_type": "markdown",
   "id": "1b2a91e4-8bb6-4e2a-865c-e3ef62a9f177",
   "metadata": {
    "jp-MarkdownHeadingCollapsed": true
   },
   "source": [
    "## 40%"
   ]
  },
  {
   "cell_type": "code",
   "execution_count": null,
   "id": "764bb888-113f-47a0-8a23-5e3e54ca1bd7",
   "metadata": {
    "scrolled": true
   },
   "outputs": [],
   "source": [
    "# Tarpit Agent\n",
    "# CTF Environment\n",
    "env = env_ctf_tarpitting_40\n",
    "ep = w.EnvironmentBounds.of_identifiers(maximum_node_count=maximum_node_count, maximum_total_credentials=maximum_total_credentials, identifiers=env.identifiers)\n",
    "\n",
    "tarpit40_ctf_dql = learner.epsilon_greedy_search(\n",
    "    cyberbattle_gym_env=env,\n",
    "    environment_properties=ep,\n",
    "    learner=dqla.DeepQLearnerPolicy(\n",
    "        ep=ep,\n",
    "        gamma=0.015,\n",
    "        replay_memory_size=10000,\n",
    "        target_update=10,\n",
    "        batch_size=512,\n",
    "        # torch default learning rate is 1e-2\n",
    "        # a large value helps converge in less episodes\n",
    "        learning_rate=0.01,\n",
    "    ),\n",
    "    episode_count=training_episode_count,\n",
    "    iteration_count=iteration_count,\n",
    "    epsilon=0.90,\n",
    "    epsilon_exponential_decay=5000,\n",
    "    epsilon_minimum=0.10,\n",
    "    verbosity=Verbosity.Quiet,\n",
    "    render=False,\n",
    "    plot_episodes_length=False,\n",
    "    title=\"Tarpit-40%\",\n",
    ")"
   ]
  },
  {
   "cell_type": "markdown",
   "id": "06248717-48a1-4cd4-83a3-79c51a0bbe0e",
   "metadata": {},
   "source": [
    "## 60%"
   ]
  },
  {
   "cell_type": "code",
   "execution_count": 10,
   "id": "5371a7c5-6518-4bc7-833f-c704869d125f",
   "metadata": {
    "scrolled": true
   },
   "outputs": [
    {
     "name": "stdout",
     "output_type": "stream",
     "text": [
      "###### Tarpit-60%\n",
      "Learning with: episode_count=5,iteration_count=200,ϵ=0.9,ϵ_min=0.1, ϵ_expdecay=5000,γ=0.015, lr=0.01, replaymemory=10000,\n",
      "batch=512, target_update=10\n",
      "Total Applied Penalties: 0\n",
      "INFO: Resetting the CyberBattle environment\n",
      "  ## Episode: 1/5 'Tarpit-60%' ϵ=0.9000, γ=0.015, lr=0.01, replaymemory=10000,\n",
      "batch=512, target_update=10\n",
      "Total Applied Penalties: 0\n",
      "INFO: Resetting the CyberBattle environment\n"
     ]
    },
    {
     "name": "stderr",
     "output_type": "stream",
     "text": [
      "Episode 1|Iteration 0|reward: ------|last_reward_at: ----|Elapsed Time: 0:00:00||"
     ]
    },
    {
     "name": "stdout",
     "output_type": "stream",
     "text": [
      "INFO: Vulnerability 'NavigateWebDirectory' not supported by node 'client'\n",
      "[TarpitAgent] Deployed tarpit 'Tarpit_client' connected to 'client'\n",
      "INFO: discovered node: Tarpit_client\n"
     ]
    },
    {
     "name": "stderr",
     "output_type": "stream",
     "text": [
      "Episode 1|Iteration 1|reward:    0.0|last_reward_at: ----|Elapsed Time: 0:00:00||"
     ]
    },
    {
     "name": "stdout",
     "output_type": "stream",
     "text": [
      "INFO: Vulnerability 'CredScanGitHistory' not supported by node 'client'\n",
      "INFO: Vulnerability 'ScanPageSource' not supported by node 'client'\n",
      "INFO: Vulnerability 'ScanPageContent' not supported by node 'client'\n",
      "INFO: Vulnerability 'ScanPageContent' not supported by node 'client'\n"
     ]
    },
    {
     "name": "stderr",
     "output_type": "stream",
     "text": [
      "Episode 1|Iteration 6|reward:    0.0|last_reward_at: ----|Elapsed Time: 0:00:00||"
     ]
    },
    {
     "name": "stdout",
     "output_type": "stream",
     "text": [
      "INFO: Vulnerability 'ScanPageSource' not supported by node 'client'\n",
      "INFO: discovered node: Website\n",
      "INFO: GOT REWARD: Web browser history revealed website URL of interest\n"
     ]
    },
    {
     "name": "stderr",
     "output_type": "stream",
     "text": [
      "Episode 1|Iteration 7|reward:   11.0|last_reward_at:    7|Elapsed Time: 0:00:00||"
     ]
    },
    {
     "name": "stdout",
     "output_type": "stream",
     "text": [
      "INFO: Vulnerability 'ScanPageSource' not supported by node 'client'\n",
      "INFO: Vulnerability 'AccessDataWithSASToken' not supported by node 'Website'\n",
      "INFO: Vulnerability 'ScanSharepointParentDirectory' not supported by node 'Website'\n"
     ]
    },
    {
     "name": "stderr",
     "output_type": "stream",
     "text": [
      "Episode 1|Iteration 11|reward:   11.0|last_reward_at:    7|Elapsed Time: 0:00:00||"
     ]
    },
    {
     "name": "stdout",
     "output_type": "stream",
     "text": [
      "INFO: discovered node: Website\n",
      "INFO: GOT REWARD: Web browser history revealed website URL of interest\n",
      "INFO: discovered node: Website\n",
      "INFO: GOT REWARD: Web browser history revealed website URL of interest\n",
      "INFO: Vulnerability 'NavigateWebDirectoryFurther' not supported by node 'Website'\n",
      "INFO: Vulnerability 'AccessDataWithSASToken' not supported by node 'client'\n",
      "INFO: discovered node: Website\n",
      "INFO: GOT REWARD: Web browser history revealed website URL of interest\n"
     ]
    },
    {
     "name": "stderr",
     "output_type": "stream",
     "text": [
      "Episode 1|Iteration 15|reward:   11.0|last_reward_at:    7|Elapsed Time: 0:00:00||"
     ]
    },
    {
     "name": "stdout",
     "output_type": "stream",
     "text": [
      "INFO: Vulnerability 'AccessDataWithSASToken' not supported by node 'client'\n",
      "INFO: Vulnerability 'AccessDataWithSASToken' not supported by node 'Website'\n",
      "INFO: discovered node: Website\n",
      "INFO: GOT REWARD: Web browser history revealed website URL of interest\n",
      "INFO: discovered node: Website\n",
      "INFO: GOT REWARD: Web browser history revealed website URL of interest\n",
      "INFO: Vulnerability 'NavigateWebDirectoryFurther' not supported by node 'client'\n"
     ]
    },
    {
     "name": "stderr",
     "output_type": "stream",
     "text": [
      "Episode 1|Iteration 20|reward:   11.0|last_reward_at:    7|Elapsed Time: 0:00:00||"
     ]
    },
    {
     "name": "stdout",
     "output_type": "stream",
     "text": [
      "INFO: Vulnerability 'ScanPageContent' not supported by node 'client'\n",
      "INFO: discovered node: GitHubProject\n",
      "INFO: GOT REWARD: WEBSITE page content has a link to github -> Github project discovered!\n"
     ]
    },
    {
     "name": "stderr",
     "output_type": "stream",
     "text": [
      "Episode 1|Iteration 22|reward:   22.0|last_reward_at:   22|Elapsed Time: 0:00:00||"
     ]
    },
    {
     "name": "stdout",
     "output_type": "stream",
     "text": [
      "INFO: Vulnerability 'ListAzureResources' not supported by node 'client'\n",
      "INFO: discovered node: Website\n",
      "INFO: GOT REWARD: Web browser history revealed website URL of interest\n",
      "INFO: discovered node: Website\n",
      "INFO: GOT REWARD: Web browser history revealed website URL of interest\n"
     ]
    },
    {
     "name": "stderr",
     "output_type": "stream",
     "text": [
      "Episode 1|Iteration 26|reward:   22.0|last_reward_at:   22|Elapsed Time: 0:00:00||"
     ]
    },
    {
     "name": "stdout",
     "output_type": "stream",
     "text": [
      "INFO: Vulnerability 'ListAzureResources' not supported by node 'client'\n",
      "INFO: Vulnerability 'ListAzureResources' not supported by node 'Website'\n",
      "INFO: Vulnerability 'ScanSharepointParentDirectory' not supported by node 'client'\n",
      "INFO: Vulnerability 'CredScanGitHistory' not supported by node 'client'\n",
      "INFO: Vulnerability 'ScanPageContent' not supported by node 'GitHubProject'\n"
     ]
    },
    {
     "name": "stderr",
     "output_type": "stream",
     "text": [
      "Episode 1|Iteration 31|reward:   22.0|last_reward_at:   22|Elapsed Time: 0:00:00||"
     ]
    },
    {
     "name": "stdout",
     "output_type": "stream",
     "text": [
      "INFO: discovered node: Website\n",
      "INFO: GOT REWARD: Web browser history revealed website URL of interest\n",
      "INFO: Vulnerability 'ScanSharepointParentDirectory' not supported by node 'GitHubProject'\n",
      "INFO: discovered node: Website\n",
      "INFO: GOT REWARD: Web browser history revealed website URL of interest\n",
      "INFO: Vulnerability 'ListAzureResources' not supported by node 'Website'\n",
      "INFO: Vulnerability 'AccessDataWithSASToken' not supported by node 'GitHubProject'\n"
     ]
    },
    {
     "name": "stderr",
     "output_type": "stream",
     "text": [
      "Episode 1|Iteration 36|reward:   22.0|last_reward_at:   22|Elapsed Time: 0:00:00||"
     ]
    },
    {
     "name": "stdout",
     "output_type": "stream",
     "text": [
      "INFO: Vulnerability 'NavigateWebDirectory' not supported by node 'Website'\n",
      "INFO: Vulnerability 'NavigateWebDirectory' not supported by node 'GitHubProject'\n",
      "INFO: Vulnerability 'ScanPageSource' not supported by node 'GitHubProject'\n",
      "INFO: Vulnerability 'ScanSharepointParentDirectory' not supported by node 'client'\n",
      "INFO: discovered node: Website\n",
      "INFO: GOT REWARD: Web browser history revealed website URL of interest\n"
     ]
    },
    {
     "name": "stderr",
     "output_type": "stream",
     "text": [
      "Episode 1|Iteration 40|reward:   22.0|last_reward_at:   22|Elapsed Time: 0:00:00||"
     ]
    },
    {
     "name": "stdout",
     "output_type": "stream",
     "text": [
      "INFO: discovered node: Website\n",
      "INFO: GOT REWARD: Web browser history revealed website URL of interest\n",
      "INFO: Vulnerability 'CredScanGitHistory' not supported by node 'Website'\n"
     ]
    },
    {
     "name": "stderr",
     "output_type": "stream",
     "text": [
      "Episode 1|Iteration 42|reward:   22.0|last_reward_at:   22|Elapsed Time: 0:00:00||"
     ]
    },
    {
     "name": "stdout",
     "output_type": "stream",
     "text": [
      "INFO: discovered node: Website\n",
      "INFO: GOT REWARD: Web browser history revealed website URL of interest\n"
     ]
    },
    {
     "name": "stderr",
     "output_type": "stream",
     "text": [
      "Episode 1|Iteration 44|reward:   22.0|last_reward_at:   22|Elapsed Time: 0:00:01||"
     ]
    },
    {
     "name": "stdout",
     "output_type": "stream",
     "text": [
      "INFO: discovered node: Website\n",
      "INFO: GOT REWARD: Web browser history revealed website URL of interest\n",
      "INFO: Vulnerability 'CredScanGitHistory' not supported by node 'Website'\n"
     ]
    },
    {
     "name": "stderr",
     "output_type": "stream",
     "text": [
      "Episode 1|Iteration 46|reward:   22.0|last_reward_at:   22|Elapsed Time: 0:00:01||"
     ]
    },
    {
     "name": "stdout",
     "output_type": "stream",
     "text": [
      "INFO: discovered node: Website\n",
      "INFO: GOT REWARD: Web browser history revealed website URL of interest\n",
      "INFO: Vulnerability 'ListAzureResources' not supported by node 'GitHubProject'\n",
      "INFO: discovered node: Website\n",
      "INFO: GOT REWARD: Web browser history revealed website URL of interest\n"
     ]
    },
    {
     "name": "stderr",
     "output_type": "stream",
     "text": [
      "Episode 1|Iteration 49|reward:   22.0|last_reward_at:   22|Elapsed Time: 0:00:01||"
     ]
    },
    {
     "name": "stdout",
     "output_type": "stream",
     "text": [
      "INFO: Vulnerability 'NavigateWebDirectoryFurther' not supported by node 'GitHubProject'\n",
      "INFO: discovered node: Website\n",
      "INFO: GOT REWARD: Web browser history revealed website URL of interest\n",
      "INFO: Vulnerability 'AccessDataWithSASToken' not supported by node 'GitHubProject'\n",
      "INFO: Vulnerability 'NavigateWebDirectoryFurther' not supported by node 'Website'\n",
      "INFO: Vulnerability 'NavigateWebDirectory' not supported by node 'GitHubProject'\n"
     ]
    },
    {
     "name": "stderr",
     "output_type": "stream",
     "text": [
      "Episode 1|Iteration 54|reward:   22.0|last_reward_at:   22|Elapsed Time: 0:00:01||"
     ]
    },
    {
     "name": "stdout",
     "output_type": "stream",
     "text": [
      "INFO: Vulnerability 'NavigateWebDirectory' not supported by node 'Website'\n",
      "INFO: Vulnerability 'ScanSharepointParentDirectory' not supported by node 'Website'\n"
     ]
    },
    {
     "name": "stderr",
     "output_type": "stream",
     "text": [
      "Episode 1|Iteration 56|reward:   22.0|last_reward_at:   22|Elapsed Time: 0:00:01||"
     ]
    },
    {
     "name": "stdout",
     "output_type": "stream",
     "text": [
      "INFO: Vulnerability 'NavigateWebDirectory' not supported by node 'GitHubProject'\n",
      "INFO: Vulnerability 'ScanPageContent' not supported by node 'GitHubProject'\n",
      "INFO: discovered node: GitHubProject\n",
      "INFO: GOT REWARD: WEBSITE page content has a link to github -> Github project discovered!\n",
      "INFO: discovered node: Website\n",
      "INFO: GOT REWARD: Web browser history revealed website URL of interest\n",
      "INFO: discovered node: Website\n",
      "INFO: GOT REWARD: Web browser history revealed website URL of interest\n"
     ]
    },
    {
     "name": "stderr",
     "output_type": "stream",
     "text": [
      "Episode 1|Iteration 61|reward:   22.0|last_reward_at:   22|Elapsed Time: 0:00:01||"
     ]
    },
    {
     "name": "stdout",
     "output_type": "stream",
     "text": [
      "INFO: Vulnerability 'ListAzureResources' not supported by node 'client'\n",
      "INFO: discovered node: Website\n",
      "INFO: GOT REWARD: Web browser history revealed website URL of interest\n",
      "INFO: Vulnerability 'ListAzureResources' not supported by node 'client'\n"
     ]
    },
    {
     "name": "stderr",
     "output_type": "stream",
     "text": [
      "Episode 1|Iteration 64|reward:   22.0|last_reward_at:   22|Elapsed Time: 0:00:01||"
     ]
    },
    {
     "name": "stdout",
     "output_type": "stream",
     "text": [
      "INFO: Vulnerability 'ScanSharepointParentDirectory' not supported by node 'Website'\n",
      "INFO: discovered node: Tarpit-AzureStorage\n",
      "INFO: discovered credential: CachedCredential(node='Tarpit-AzureStorage', port='HTTPS', credential='SASTOKEN1')\n",
      "INFO: GOT REWARD: CredScan success: Some secure access token (SAS) was leaked in a reverted git commit\n"
     ]
    },
    {
     "name": "stderr",
     "output_type": "stream",
     "text": [
      "Episode 1|Iteration 65|reward:   36.0|last_reward_at:   65|Elapsed Time: 0:00:01||"
     ]
    },
    {
     "name": "stdout",
     "output_type": "stream",
     "text": [
      "INFO: discovered node: Website\n",
      "INFO: GOT REWARD: Web browser history revealed website URL of interest\n",
      "INFO: Vulnerability 'ScanPageContent' not supported by node 'GitHubProject'\n",
      "INFO: Vulnerability 'ListAzureResources' not supported by node 'client'\n"
     ]
    },
    {
     "name": "stderr",
     "output_type": "stream",
     "text": [
      "Episode 1|Iteration 69|reward:   36.0|last_reward_at:   65|Elapsed Time: 0:00:01||"
     ]
    },
    {
     "name": "stdout",
     "output_type": "stream",
     "text": [
      "INFO: Vulnerability 'ScanPageContent' not supported by node 'Tarpit-AzureStorage'\n",
      "INFO: Vulnerability 'AccessDataWithSASToken' not supported by node 'Website'\n"
     ]
    },
    {
     "name": "stderr",
     "output_type": "stream",
     "text": [
      "Episode 1|Iteration 71|reward:   36.0|last_reward_at:   65|Elapsed Time: 0:00:01||"
     ]
    },
    {
     "name": "stdout",
     "output_type": "stream",
     "text": [
      "INFO: Infected node 'Tarpit-AzureStorage' from 'client' via HTTPS with credential 'SASTOKEN1'\n",
      "[TarpitAgent] Deployed tarpit 'Tarpit_Tarpit-AzureStorage' connected to 'Tarpit-AzureStorage'\n",
      "INFO: discovered node: Tarpit_Tarpit-AzureStorage\n"
     ]
    },
    {
     "name": "stderr",
     "output_type": "stream",
     "text": [
      "Episode 1|Iteration 71|reward:   86.0|last_reward_at:   71|Elapsed Time: 0:00:01||"
     ]
    },
    {
     "name": "stdout",
     "output_type": "stream",
     "text": [
      "INFO: BLOCKED TRAFFIC: source node 'Tarpit-AzureStorage' is blocking outgoing traffic on port 'SSH-key'\n",
      "INFO: BLOCKED TRAFFIC: source node 'client' is blocking outgoing traffic on port 'PING'\n"
     ]
    },
    {
     "name": "stderr",
     "output_type": "stream",
     "text": [
      "Episode 1|Iteration 74|reward:   86.0|last_reward_at:   71|Elapsed Time: 0:00:01||"
     ]
    },
    {
     "name": "stdout",
     "output_type": "stream",
     "text": [
      "INFO: Vulnerability 'ListAzureResources' not supported by node 'Tarpit-AzureStorage'\n",
      "INFO: invalid credentials supplied\n",
      "INFO: Vulnerability 'ScanSharepointParentDirectory' not supported by node 'client'\n",
      "INFO: Vulnerability 'ScanPageContent' not supported by node 'Tarpit-AzureStorage'\n",
      "INFO: Vulnerability 'ScanPageContent' not supported by node 'GitHubProject'\n"
     ]
    },
    {
     "name": "stderr",
     "output_type": "stream",
     "text": [
      "Episode 1|Iteration 78|reward:   86.0|last_reward_at:   71|Elapsed Time: 0:00:02||"
     ]
    },
    {
     "name": "stdout",
     "output_type": "stream",
     "text": [
      "INFO: Vulnerability 'ScanPageContent' not supported by node 'GitHubProject'\n",
      "INFO: target node 'GitHubProject' not listening on port 'HTTPS'\n",
      "INFO: invalid credentials supplied\n"
     ]
    },
    {
     "name": "stderr",
     "output_type": "stream",
     "text": [
      "Episode 1|Iteration 82|reward:   86.0|last_reward_at:   71|Elapsed Time: 0:00:02||"
     ]
    },
    {
     "name": "stdout",
     "output_type": "stream",
     "text": [
      "INFO: discovered node: Website\n",
      "INFO: GOT REWARD: Web browser history revealed website URL of interest\n",
      "INFO: Vulnerability 'NavigateWebDirectory' not supported by node 'GitHubProject'\n"
     ]
    },
    {
     "name": "stderr",
     "output_type": "stream",
     "text": [
      "Episode 1|Iteration 84|reward:   86.0|last_reward_at:   71|Elapsed Time: 0:00:02||"
     ]
    },
    {
     "name": "stdout",
     "output_type": "stream",
     "text": [
      "INFO: Vulnerability 'NavigateWebDirectory' not supported by node 'Website'\n",
      "INFO: Vulnerability 'CredScanGitHistory' not supported by node 'Tarpit-AzureStorage'\n"
     ]
    },
    {
     "name": "stderr",
     "output_type": "stream",
     "text": [
      "Episode 1|Iteration 87|reward:   86.0|last_reward_at:   71|Elapsed Time: 0:00:02||"
     ]
    },
    {
     "name": "stdout",
     "output_type": "stream",
     "text": [
      "INFO: Vulnerability 'AccessDataWithSASToken' not supported by node 'client'\n",
      "INFO: Vulnerability 'ScanSharepointParentDirectory' not supported by node 'Tarpit-AzureStorage'\n"
     ]
    },
    {
     "name": "stderr",
     "output_type": "stream",
     "text": [
      "Episode 1|Iteration 89|reward:   86.0|last_reward_at:   71|Elapsed Time: 0:00:02||"
     ]
    },
    {
     "name": "stdout",
     "output_type": "stream",
     "text": [
      "INFO: target node 'client' not listening on port 'HTTPS'\n",
      "INFO: BLOCKED TRAFFIC: source node 'Tarpit-AzureStorage' is blocking outgoing traffic on port 'PING'\n"
     ]
    },
    {
     "name": "stderr",
     "output_type": "stream",
     "text": [
      "Episode 1|Iteration 92|reward:   86.0|last_reward_at:   71|Elapsed Time: 0:00:02||"
     ]
    },
    {
     "name": "stdout",
     "output_type": "stream",
     "text": [
      "INFO: discovered node: Website\n",
      "INFO: GOT REWARD: Web browser history revealed website URL of interest\n",
      "INFO: BLOCKED TRAFFIC: source node 'Tarpit-AzureStorage' is blocking outgoing traffic on port 'SSH-key'\n"
     ]
    },
    {
     "name": "stderr",
     "output_type": "stream",
     "text": [
      "Episode 1|Iteration 94|reward:   86.0|last_reward_at:   71|Elapsed Time: 0:00:02||"
     ]
    },
    {
     "name": "stdout",
     "output_type": "stream",
     "text": [
      "INFO: BLOCKED TRAFFIC: source node 'Tarpit-AzureStorage' is blocking outgoing traffic on port 'PING'\n",
      "INFO: Vulnerability 'ScanSharepointParentDirectory' not supported by node 'Website'\n",
      "INFO: Vulnerability 'NavigateWebDirectoryFurther' not supported by node 'Website'\n"
     ]
    },
    {
     "name": "stderr",
     "output_type": "stream",
     "text": [
      "Episode 1|Iteration 97|reward:   86.0|last_reward_at:   71|Elapsed Time: 0:00:02||"
     ]
    },
    {
     "name": "stdout",
     "output_type": "stream",
     "text": [
      "INFO: BLOCKED TRAFFIC: source node 'Tarpit-AzureStorage' is blocking outgoing traffic on port 'SSH-key'\n",
      "INFO: Vulnerability 'AccessDataWithSASToken' not supported by node 'client'\n",
      "INFO: Vulnerability 'NavigateWebDirectoryFurther' not supported by node 'client'\n",
      "INFO: Vulnerability 'ListAzureResources' not supported by node 'Website'\n",
      "INFO: BLOCKED TRAFFIC: source node 'Tarpit-AzureStorage' is blocking outgoing traffic on port 'PING'\n"
     ]
    },
    {
     "name": "stderr",
     "output_type": "stream",
     "text": [
      "Episode 1|Iteration 102|reward:   86.0|last_reward_at:   71|Elapsed Time: 0:00:02||"
     ]
    },
    {
     "name": "stdout",
     "output_type": "stream",
     "text": [
      "INFO: Vulnerability 'ScanPageContent' not supported by node 'Tarpit-AzureStorage'\n",
      "INFO: discovered node: GitHubProject\n",
      "INFO: GOT REWARD: WEBSITE page content has a link to github -> Github project discovered!\n",
      "INFO: Vulnerability 'NavigateWebDirectoryFurther' not supported by node 'Website'\n",
      "INFO: GOT REWARD: Stole data using a publicly shared SAS token\n"
     ]
    },
    {
     "name": "stderr",
     "output_type": "stream",
     "text": [
      "Episode 1|Iteration 105|reward:   92.0|last_reward_at:  105|Elapsed Time: 0:00:02||"
     ]
    },
    {
     "name": "stdout",
     "output_type": "stream",
     "text": [
      "INFO: invalid credentials supplied\n",
      "INFO: GOT REWARD: Stole data using a publicly shared SAS token\n",
      "INFO: target node 'client' not listening on port 'HTTPS'\n",
      "INFO: BLOCKED TRAFFIC: source node 'client' is blocking outgoing traffic on port 'PING'\n",
      "INFO: Vulnerability 'ScanPageSource' not supported by node 'Tarpit-AzureStorage'\n",
      "INFO: Vulnerability 'NavigateWebDirectory' not supported by node 'Website'\n"
     ]
    },
    {
     "name": "stderr",
     "output_type": "stream",
     "text": [
      "Episode 1|Iteration 112|reward:   92.0|last_reward_at:  105|Elapsed Time: 0:00:02||"
     ]
    },
    {
     "name": "stdout",
     "output_type": "stream",
     "text": [
      "INFO: BLOCKED TRAFFIC: source node 'client' is blocking outgoing traffic on port 'su'\n",
      "INFO: target node 'GitHubProject' not listening on port 'HTTPS'\n",
      "INFO: BLOCKED TRAFFIC: source node 'Tarpit-AzureStorage' is blocking outgoing traffic on port 'su'\n",
      "INFO: Vulnerability 'ListAzureResources' not supported by node 'Tarpit-AzureStorage'\n",
      "INFO: BLOCKED TRAFFIC: source node 'client' is blocking outgoing traffic on port 'PING'\n"
     ]
    },
    {
     "name": "stderr",
     "output_type": "stream",
     "text": [
      "Episode 1|Iteration 117|reward:   92.0|last_reward_at:  105|Elapsed Time: 0:00:02||"
     ]
    },
    {
     "name": "stdout",
     "output_type": "stream",
     "text": [
      "INFO: Vulnerability 'CredScanGitHistory' not supported by node 'Tarpit-AzureStorage'\n",
      "INFO: target node 'Tarpit-AzureStorage' not listening on port 'SSH'\n",
      "INFO: Vulnerability 'ScanPageSource' not supported by node 'client'\n",
      "INFO: discovered node: Website\n",
      "INFO: GOT REWARD: Web browser history revealed website URL of interest\n",
      "INFO: Vulnerability 'ScanPageContent' not supported by node 'client'\n"
     ]
    },
    {
     "name": "stderr",
     "output_type": "stream",
     "text": [
      "Episode 1|Iteration 122|reward:   92.0|last_reward_at:  105|Elapsed Time: 0:00:02||"
     ]
    },
    {
     "name": "stdout",
     "output_type": "stream",
     "text": [
      "INFO: target node 'client' not listening on port 'SSH'\n",
      "INFO: BLOCKED TRAFFIC: source node 'Tarpit-AzureStorage' is blocking outgoing traffic on port 'GIT'\n",
      "INFO: Vulnerability 'ScanPageContent' not supported by node 'GitHubProject'\n",
      "INFO: BLOCKED TRAFFIC: source node 'client' is blocking outgoing traffic on port 'SSH-key'\n",
      "INFO: Vulnerability 'ListAzureResources' not supported by node 'Tarpit-AzureStorage'\n"
     ]
    },
    {
     "name": "stderr",
     "output_type": "stream",
     "text": [
      "Episode 1|Iteration 127|reward:   92.0|last_reward_at:  105|Elapsed Time: 0:00:02||"
     ]
    },
    {
     "name": "stdout",
     "output_type": "stream",
     "text": [
      "INFO: invalid credentials supplied\n",
      "INFO: BLOCKED TRAFFIC: source node 'Tarpit-AzureStorage' is blocking outgoing traffic on port 'su'\n",
      "INFO: discovered node: Website\n",
      "INFO: GOT REWARD: Web browser history revealed website URL of interest\n",
      "INFO: GOT REWARD: Stole data using a publicly shared SAS token\n",
      "INFO: BLOCKED TRAFFIC: source node 'Tarpit-AzureStorage' is blocking outgoing traffic on port 'su'\n"
     ]
    },
    {
     "name": "stderr",
     "output_type": "stream",
     "text": [
      "Episode 1|Iteration 132|reward:   92.0|last_reward_at:  105|Elapsed Time: 0:00:02||"
     ]
    },
    {
     "name": "stdout",
     "output_type": "stream",
     "text": [
      "INFO: Vulnerability 'NavigateWebDirectoryFurther' not supported by node 'Website'\n",
      "INFO: Vulnerability 'NavigateWebDirectoryFurther' not supported by node 'Website'\n",
      "INFO: BLOCKED TRAFFIC: source node 'Tarpit-AzureStorage' is blocking outgoing traffic on port 'MySQL'\n",
      "INFO: Vulnerability 'CredScanGitHistory' not supported by node 'Tarpit-AzureStorage'\n",
      "INFO: Vulnerability 'CredScanGitHistory' not supported by node 'Tarpit-AzureStorage'\n",
      "INFO: target node 'GitHubProject' not listening on port 'HTTPS'\n",
      "INFO: BLOCKED TRAFFIC: source node 'client' is blocking outgoing traffic on port 'PING'\n",
      "INFO: BLOCKED TRAFFIC: source node 'client' is blocking outgoing traffic on port 'MySQL'\n"
     ]
    },
    {
     "name": "stderr",
     "output_type": "stream",
     "text": [
      "Episode 1|Iteration 140|reward:   92.0|last_reward_at:  105|Elapsed Time: 0:00:03||"
     ]
    },
    {
     "name": "stdout",
     "output_type": "stream",
     "text": [
      "INFO: discovered node: Website\n",
      "INFO: GOT REWARD: Web browser history revealed website URL of interest\n",
      "INFO: BLOCKED TRAFFIC: source node 'client' is blocking outgoing traffic on port 'su'\n",
      "INFO: Vulnerability 'CredScanGitHistory' not supported by node 'Website'\n",
      "INFO: Vulnerability 'ScanPageContent' not supported by node 'GitHubProject'\n"
     ]
    },
    {
     "name": "stderr",
     "output_type": "stream",
     "text": [
      "Episode 1|Iteration 145|reward:   92.0|last_reward_at:  105|Elapsed Time: 0:00:03||"
     ]
    },
    {
     "name": "stdout",
     "output_type": "stream",
     "text": [
      "INFO: invalid credentials supplied\n",
      "INFO: BLOCKED TRAFFIC: source node 'Tarpit-AzureStorage' is blocking outgoing traffic on port 'PING'\n",
      "INFO: Vulnerability 'ScanPageSource' not supported by node 'client'\n",
      "INFO: BLOCKED TRAFFIC: source node 'Tarpit-AzureStorage' is blocking outgoing traffic on port 'PING'\n",
      "INFO: BLOCKED TRAFFIC: source node 'Tarpit-AzureStorage' is blocking outgoing traffic on port 'GIT'\n",
      "INFO: discovered node: Website\n",
      "INFO: GOT REWARD: Web browser history revealed website URL of interest\n",
      "INFO: target node 'client' not listening on port 'HTTPS'\n"
     ]
    },
    {
     "name": "stderr",
     "output_type": "stream",
     "text": [
      "Episode 1|Iteration 152|reward:   92.0|last_reward_at:  105|Elapsed Time: 0:00:03||"
     ]
    },
    {
     "name": "stdout",
     "output_type": "stream",
     "text": [
      "INFO: invalid credentials supplied\n",
      "INFO: Vulnerability 'NavigateWebDirectory' not supported by node 'Tarpit-AzureStorage'\n",
      "INFO: discovered node: Website\n",
      "INFO: GOT REWARD: Web browser history revealed website URL of interest\n",
      "INFO: discovered node: GitHubProject\n",
      "INFO: GOT REWARD: WEBSITE page content has a link to github -> Github project discovered!\n",
      "INFO: BLOCKED TRAFFIC: source node 'client' is blocking outgoing traffic on port 'su'\n"
     ]
    },
    {
     "name": "stderr",
     "output_type": "stream",
     "text": [
      "Episode 1|Iteration 157|reward:   92.0|last_reward_at:  105|Elapsed Time: 0:00:03||"
     ]
    },
    {
     "name": "stdout",
     "output_type": "stream",
     "text": [
      "INFO: BLOCKED TRAFFIC: source node 'client' is blocking outgoing traffic on port 'su'\n",
      "INFO: BLOCKED TRAFFIC: source node 'client' is blocking outgoing traffic on port 'SSH-key'\n",
      "INFO: target node 'GitHubProject' not listening on port 'HTTPS'\n",
      "INFO: BLOCKED TRAFFIC: source node 'Tarpit-AzureStorage' is blocking outgoing traffic on port 'su'\n",
      "INFO: Vulnerability 'CredScanGitHistory' not supported by node 'Website'\n",
      "INFO: Vulnerability 'NavigateWebDirectoryFurther' not supported by node 'client'\n",
      "INFO: BLOCKED TRAFFIC: source node 'Tarpit-AzureStorage' is blocking outgoing traffic on port 'GIT'\n",
      "INFO: BLOCKED TRAFFIC: source node 'Tarpit-AzureStorage' is blocking outgoing traffic on port 'SSH-key'\n"
     ]
    },
    {
     "name": "stderr",
     "output_type": "stream",
     "text": [
      "Episode 1|Iteration 165|reward:   92.0|last_reward_at:  105|Elapsed Time: 0:00:03||"
     ]
    },
    {
     "name": "stdout",
     "output_type": "stream",
     "text": [
      "INFO: Vulnerability 'ScanPageSource' not supported by node 'GitHubProject'\n",
      "INFO: BLOCKED TRAFFIC: source node 'client' is blocking outgoing traffic on port 'MySQL'\n",
      "INFO: BLOCKED TRAFFIC: source node 'client' is blocking outgoing traffic on port 'su'\n",
      "INFO: Vulnerability 'ScanPageContent' not supported by node 'client'\n",
      "INFO: Vulnerability 'ScanPageContent' not supported by node 'Tarpit-AzureStorage'\n",
      "INFO: BLOCKED TRAFFIC: source node 'client' is blocking outgoing traffic on port 'SSH-key'\n",
      "INFO: target node 'GitHubProject' not listening on port 'SSH'\n",
      "INFO: discovered node: Website\n",
      "INFO: GOT REWARD: Web browser history revealed website URL of interest\n"
     ]
    },
    {
     "name": "stderr",
     "output_type": "stream",
     "text": [
      "Episode 1|Iteration 173|reward:   92.0|last_reward_at:  105|Elapsed Time: 0:00:03||"
     ]
    },
    {
     "name": "stdout",
     "output_type": "stream",
     "text": [
      "INFO: discovered node: Website\n",
      "INFO: GOT REWARD: Web browser history revealed website URL of interest\n",
      "INFO: BLOCKED TRAFFIC: source node 'client' is blocking outgoing traffic on port 'SSH-key'\n"
     ]
    },
    {
     "name": "stderr",
     "output_type": "stream",
     "text": [
      "Episode 1|Iteration 175|reward:   92.0|last_reward_at:  105|Elapsed Time: 0:00:03||"
     ]
    },
    {
     "name": "stdout",
     "output_type": "stream",
     "text": [
      "INFO: discovered node: Website\n",
      "INFO: GOT REWARD: Web browser history revealed website URL of interest\n",
      "INFO: Vulnerability 'ScanPageContent' not supported by node 'GitHubProject'\n",
      "INFO: GOT REWARD: Stole data using a publicly shared SAS token\n"
     ]
    },
    {
     "name": "stderr",
     "output_type": "stream",
     "text": [
      "Episode 1|Iteration 178|reward:   92.0|last_reward_at:  105|Elapsed Time: 0:00:03||"
     ]
    },
    {
     "name": "stdout",
     "output_type": "stream",
     "text": [
      "INFO: target node 'client' not listening on port 'SSH'\n",
      "INFO: Vulnerability 'AccessDataWithSASToken' not supported by node 'client'\n",
      "INFO: BLOCKED TRAFFIC: source node 'Tarpit-AzureStorage' is blocking outgoing traffic on port 'SSH-key'\n",
      "INFO: discovered node: Website\n",
      "INFO: GOT REWARD: Web browser history revealed website URL of interest\n",
      "INFO: Vulnerability 'NavigateWebDirectoryFurther' not supported by node 'GitHubProject'\n"
     ]
    },
    {
     "name": "stderr",
     "output_type": "stream",
     "text": [
      "Episode 1|Iteration 182|reward:   92.0|last_reward_at:  105|Elapsed Time: 0:00:03||"
     ]
    },
    {
     "name": "stdout",
     "output_type": "stream",
     "text": [
      "INFO: BLOCKED TRAFFIC: source node 'client' is blocking outgoing traffic on port 'PING'\n",
      "INFO: BLOCKED TRAFFIC: source node 'client' is blocking outgoing traffic on port 'su'\n",
      "INFO: target node 'GitHubProject' not listening on port 'SSH'\n",
      "INFO: target node 'Tarpit-AzureStorage' not listening on port 'SSH'\n",
      "INFO: Vulnerability 'ListAzureResources' not supported by node 'Tarpit-AzureStorage'\n"
     ]
    },
    {
     "name": "stderr",
     "output_type": "stream",
     "text": [
      "Episode 1|Iteration 188|reward:   92.0|last_reward_at:  105|Elapsed Time: 0:00:03||"
     ]
    },
    {
     "name": "stdout",
     "output_type": "stream",
     "text": [
      "INFO: Vulnerability 'ListAzureResources' not supported by node 'Tarpit-AzureStorage'\n",
      "INFO: Vulnerability 'CredScanGitHistory' not supported by node 'Website'\n",
      "INFO: BLOCKED TRAFFIC: source node 'Tarpit-AzureStorage' is blocking outgoing traffic on port 'MySQL'\n",
      "INFO: Vulnerability 'ScanPageContent' not supported by node 'client'\n",
      "INFO: Vulnerability 'CredScanGitHistory' not supported by node 'Tarpit-AzureStorage'\n"
     ]
    },
    {
     "name": "stderr",
     "output_type": "stream",
     "text": [
      "Episode 1|Iteration 193|reward:   92.0|last_reward_at:  105|Elapsed Time: 0:00:03||"
     ]
    },
    {
     "name": "stdout",
     "output_type": "stream",
     "text": [
      "INFO: Vulnerability 'NavigateWebDirectory' not supported by node 'Website'\n",
      "INFO: Vulnerability 'CredScanGitHistory' not supported by node 'client'\n",
      "INFO: discovered node: Website\n",
      "INFO: GOT REWARD: Web browser history revealed website URL of interest\n",
      "INFO: discovered node: GitHubProject\n",
      "INFO: GOT REWARD: WEBSITE page content has a link to github -> Github project discovered!\n",
      "INFO: Vulnerability 'CredScanGitHistory' not supported by node 'client'\n"
     ]
    },
    {
     "name": "stderr",
     "output_type": "stream",
     "text": [
      "Episode 1|Iteration 198|reward:   92.0|last_reward_at:  105|Elapsed Time: 0:00:03||"
     ]
    },
    {
     "name": "stdout",
     "output_type": "stream",
     "text": [
      "INFO: Vulnerability 'CredScanGitHistory' not supported by node 'Website'\n",
      "INFO: target node 'GitHubProject' not listening on port 'SSH'\n",
      "INFO: discovered node: Website\n",
      "INFO: GOT REWARD: Web browser history revealed website URL of interest\n"
     ]
    },
    {
     "name": "stderr",
     "output_type": "stream",
     "text": [
      "Episode 1|Iteration 200|reward:   92.0|last_reward_at:  105|Elapsed Time: 0:00:03||\n"
     ]
    },
    {
     "name": "stdout",
     "output_type": "stream",
     "text": [
      "  Episode 1 stopped at t=200 \n",
      "  Breakdown [Reward/NoReward (Success rate)]\n",
      "    explore-local: 1/33 (0.03)\n",
      "    explore-remote: 3/98 (0.03)\n",
      "    explore-connect: 1/59 (0.02)\n",
      "    exploit-local: 0/0 (NaN)\n",
      "    exploit-remote: 0/5 (0.00)\n",
      "    exploit-connect: 0/0 (NaN)\n",
      "  exploit deflected to exploration: 14\n",
      "  ## Episode: 2/5 'Tarpit-60%' ϵ=0.8688, γ=0.015, lr=0.01, replaymemory=10000,\n",
      "batch=512, target_update=10\n",
      "Total Applied Penalties: 0\n",
      "INFO: Resetting the CyberBattle environment\n"
     ]
    },
    {
     "name": "stderr",
     "output_type": "stream",
     "text": [
      "Episode 2|Iteration 0|reward: ------|last_reward_at: ----|Elapsed Time: 0:00:00||"
     ]
    },
    {
     "name": "stdout",
     "output_type": "stream",
     "text": [
      "INFO: discovered node: Website\n",
      "INFO: GOT REWARD: Web browser history revealed website URL of interest\n",
      "[TarpitAgent] Deployed tarpit 'Tarpit_client' connected to 'client'\n",
      "INFO: discovered node: Tarpit_client\n"
     ]
    },
    {
     "name": "stderr",
     "output_type": "stream",
     "text": [
      "Episode 2|Iteration 1|reward:   11.0|last_reward_at:    1|Elapsed Time: 0:00:00||"
     ]
    },
    {
     "name": "stdout",
     "output_type": "stream",
     "text": [
      "INFO: Vulnerability 'ListAzureResources' not supported by node 'Website'\n",
      "INFO: Vulnerability 'NavigateWebDirectory' not supported by node 'client'\n",
      "INFO: Vulnerability 'NavigateWebDirectory' not supported by node 'Website'\n",
      "INFO: discovered node: Website\n",
      "INFO: GOT REWARD: Web browser history revealed website URL of interest\n",
      "INFO: discovered node: Website\n",
      "INFO: GOT REWARD: Web browser history revealed website URL of interest\n",
      "INFO: Vulnerability 'NavigateWebDirectory' not supported by node 'client'\n"
     ]
    },
    {
     "name": "stderr",
     "output_type": "stream",
     "text": [
      "Episode 2|Iteration 8|reward:   11.0|last_reward_at:    1|Elapsed Time: 0:00:00||"
     ]
    },
    {
     "name": "stdout",
     "output_type": "stream",
     "text": [
      "INFO: discovered node: Website\n",
      "INFO: GOT REWARD: Web browser history revealed website URL of interest\n",
      "INFO: Vulnerability 'NavigateWebDirectoryFurther' not supported by node 'Website'\n",
      "INFO: Vulnerability 'ScanSharepointParentDirectory' not supported by node 'Website'\n",
      "INFO: Vulnerability 'ListAzureResources' not supported by node 'Website'\n",
      "INFO: Vulnerability 'ScanSharepointParentDirectory' not supported by node 'Website'\n"
     ]
    },
    {
     "name": "stderr",
     "output_type": "stream",
     "text": [
      "Episode 2|Iteration 13|reward:   11.0|last_reward_at:    1|Elapsed Time: 0:00:00||"
     ]
    },
    {
     "name": "stdout",
     "output_type": "stream",
     "text": [
      "INFO: Vulnerability 'ScanSharepointParentDirectory' not supported by node 'client'\n",
      "INFO: discovered node: Website\n",
      "INFO: GOT REWARD: Web browser history revealed website URL of interest\n",
      "INFO: discovered node: Website.Directory\n",
      "INFO: GOT REWARD: Viewing the web page source reveals a URL to a .txt file and directory on the website\n"
     ]
    },
    {
     "name": "stderr",
     "output_type": "stream",
     "text": [
      "Episode 2|Iteration 15|reward:   22.0|last_reward_at:   15|Elapsed Time: 0:00:00||"
     ]
    },
    {
     "name": "stdout",
     "output_type": "stream",
     "text": [
      "INFO: Vulnerability 'NavigateWebDirectoryFurther' not supported by node 'client'\n",
      "INFO: Vulnerability 'NavigateWebDirectoryFurther' not supported by node 'client'\n",
      "INFO: Vulnerability 'ListAzureResources' not supported by node 'Website.Directory'\n",
      "INFO: Vulnerability 'NavigateWebDirectoryFurther' not supported by node 'client'\n",
      "INFO: Vulnerability 'AccessDataWithSASToken' not supported by node 'client'\n",
      "INFO: discovered node: Website\n",
      "INFO: GOT REWARD: Web browser history revealed website URL of interest\n",
      "INFO: discovered node: Website\n",
      "INFO: GOT REWARD: Web browser history revealed website URL of interest\n"
     ]
    },
    {
     "name": "stderr",
     "output_type": "stream",
     "text": [
      "Episode 2|Iteration 23|reward:   22.0|last_reward_at:   15|Elapsed Time: 0:00:00||"
     ]
    },
    {
     "name": "stdout",
     "output_type": "stream",
     "text": [
      "INFO: Vulnerability 'ListAzureResources' not supported by node 'Website'\n",
      "INFO: discovered node: Website\n",
      "INFO: discovered credential: CachedCredential(node='Website', port='MySQL', credential='ReusedMySqlCred-web')\n",
      "INFO: GOT REWARD: Discover browseable web directory: Navigating to parent URL revealed file `readme.txt`with secret data (aflag); and `getting-started.txt` with MYSQL credentials\n"
     ]
    },
    {
     "name": "stderr",
     "output_type": "stream",
     "text": [
      "Episode 2|Iteration 24|reward:   31.0|last_reward_at:   24|Elapsed Time: 0:00:00||"
     ]
    },
    {
     "name": "stdout",
     "output_type": "stream",
     "text": [
      "INFO: discovered node: Website\n",
      "INFO: GOT REWARD: Web browser history revealed website URL of interest\n",
      "INFO: Vulnerability 'ScanPageContent' not supported by node 'client'\n",
      "INFO: BLOCKED TRAFFIC: source node 'client' is blocking outgoing traffic on port 'PING'\n",
      "INFO: Vulnerability 'ScanPageContent' not supported by node 'client'\n",
      "INFO: Vulnerability 'NavigateWebDirectory' not supported by node 'Website'\n",
      "INFO: discovered node: Website.Directory\n",
      "INFO: GOT REWARD: Viewing the web page source reveals a URL to a .txt file and directory on the website\n",
      "INFO: BLOCKED TRAFFIC: source node 'client' is blocking outgoing traffic on port 'MySQL'\n",
      "INFO: discovered node: Website\n",
      "INFO: GOT REWARD: Web browser history revealed website URL of interest\n"
     ]
    },
    {
     "name": "stderr",
     "output_type": "stream",
     "text": [
      "Episode 2|Iteration 33|reward:   31.0|last_reward_at:   24|Elapsed Time: 0:00:00||"
     ]
    },
    {
     "name": "stdout",
     "output_type": "stream",
     "text": [
      "INFO: Vulnerability 'CredScanGitHistory' not supported by node 'client'\n",
      "INFO: discovered node: Website\n",
      "INFO: discovered credential: CachedCredential(node='Website', port='MySQL', credential='ReusedMySqlCred-web')\n",
      "INFO: GOT REWARD: Discover browseable web directory: Navigating to parent URL revealed file `readme.txt`with secret data (aflag); and `getting-started.txt` with MYSQL credentials\n",
      "INFO: BLOCKED TRAFFIC: source node 'client' is blocking outgoing traffic on port 'GIT'\n",
      "INFO: BLOCKED TRAFFIC: source node 'client' is blocking outgoing traffic on port 'SSH-key'\n",
      "INFO: discovered node: Website\n",
      "INFO: discovered credential: CachedCredential(node='Website', port='MySQL', credential='ReusedMySqlCred-web')\n",
      "INFO: GOT REWARD: Discover browseable web directory: Navigating to parent URL revealed file `readme.txt`with secret data (aflag); and `getting-started.txt` with MYSQL credentials\n"
     ]
    },
    {
     "name": "stderr",
     "output_type": "stream",
     "text": [
      "Episode 2|Iteration 38|reward:   31.0|last_reward_at:   24|Elapsed Time: 0:00:00||"
     ]
    },
    {
     "name": "stdout",
     "output_type": "stream",
     "text": [
      "INFO: Infected node 'Website' from 'client' via SSH with credential 'ReusedMySqlCred-web'\n",
      "INFO: Owned message: FLAG: Login using insecure SSH user/password\n",
      "[TarpitAgent] Deployed tarpit 'Tarpit_Website' connected to 'Website'\n",
      "INFO: discovered node: Tarpit_Website\n"
     ]
    },
    {
     "name": "stderr",
     "output_type": "stream",
     "text": [
      "Episode 2|Iteration 38|reward:  131.0|last_reward_at:   38|Elapsed Time: 0:00:00||"
     ]
    },
    {
     "name": "stdout",
     "output_type": "stream",
     "text": [
      "INFO: Vulnerability 'ScanPageSource' not supported by node 'client'\n",
      "INFO: discovered node: Website\n",
      "INFO: discovered credential: CachedCredential(node='Website', port='MySQL', credential='ReusedMySqlCred-web')\n",
      "INFO: GOT REWARD: Discover browseable web directory: Navigating to parent URL revealed file `readme.txt`with secret data (aflag); and `getting-started.txt` with MYSQL credentials\n",
      "INFO: BLOCKED TRAFFIC: source node 'Website' is blocking outgoing traffic on port 'GIT'\n",
      "INFO: BLOCKED TRAFFIC: source node 'Website' is blocking outgoing traffic on port 'SSH-key'\n",
      "INFO: BLOCKED TRAFFIC: source node 'client' is blocking outgoing traffic on port 'SSH-key'\n"
     ]
    },
    {
     "name": "stderr",
     "output_type": "stream",
     "text": [
      "Episode 2|Iteration 44|reward:  131.0|last_reward_at:   38|Elapsed Time: 0:00:00||"
     ]
    },
    {
     "name": "stdout",
     "output_type": "stream",
     "text": [
      "INFO: Vulnerability 'ScanPageSource' not supported by node 'Website.Directory'\n",
      "INFO: Vulnerability 'ListAzureResources' not supported by node 'client'\n",
      "INFO: Vulnerability 'CredScanGitHistory' not supported by node 'Website.Directory'\n",
      "INFO: BLOCKED TRAFFIC: source node 'client' is blocking outgoing traffic on port 'PING'\n",
      "INFO: discovered node: Sharepoint\n",
      "INFO: GOT REWARD: Navigating to parent URL revealed file `deprecation-checklist.txt` containinga URL to an external sharepoint website\n"
     ]
    },
    {
     "name": "stderr",
     "output_type": "stream",
     "text": [
      "Episode 2|Iteration 48|reward:  142.0|last_reward_at:   48|Elapsed Time: 0:00:00||"
     ]
    },
    {
     "name": "stdout",
     "output_type": "stream",
     "text": [
      "INFO: BLOCKED TRAFFIC: source node 'Website' is blocking outgoing traffic on port 'SSH-key'\n",
      "INFO: discovered node: Website.Directory\n",
      "INFO: GOT REWARD: Viewing the web page source reveals a URL to a .txt file and directory on the website\n",
      "INFO: BLOCKED TRAFFIC: source node 'Website' is blocking outgoing traffic on port 'SSH-key'\n",
      "INFO: Vulnerability 'ListAzureResources' not supported by node 'Website'\n",
      "INFO: BLOCKED TRAFFIC: target node 'client' is blocking incoming traffic on port 'su'\n",
      "INFO: discovered node: Sharepoint\n",
      "INFO: GOT REWARD: Navigating to parent URL revealed file `deprecation-checklist.txt` containinga URL to an external sharepoint website\n",
      "INFO: Vulnerability 'ScanPageContent' not supported by node 'Sharepoint'\n"
     ]
    },
    {
     "name": "stderr",
     "output_type": "stream",
     "text": [
      "Episode 2|Iteration 56|reward:  142.0|last_reward_at:   48|Elapsed Time: 0:00:00||"
     ]
    },
    {
     "name": "stdout",
     "output_type": "stream",
     "text": [
      "INFO: discovered node: Website\n",
      "INFO: GOT REWARD: Web browser history revealed website URL of interest\n",
      "INFO: Vulnerability 'ScanSharepointParentDirectory' not supported by node 'Website.Directory'\n",
      "INFO: BLOCKED TRAFFIC: source node 'client' is blocking outgoing traffic on port 'PING'\n",
      "INFO: Vulnerability 'CredScanGitHistory' not supported by node 'Sharepoint'\n",
      "INFO: target node 'Website.Directory' not listening on port 'SSH'\n",
      "INFO: discovered node: Website[user=monitor]\n",
      "INFO: discovered credential: CachedCredential(node='Website[user=monitor]', port='SSH', credential='monitorBashCreds')\n",
      "INFO: GOT REWARD: FLAG: SSH history revealed credentials for the monitoring user (monitor)\n"
     ]
    },
    {
     "name": "stderr",
     "output_type": "stream",
     "text": [
      "Episode 2|Iteration 61|reward:  156.0|last_reward_at:   61|Elapsed Time: 0:00:00||"
     ]
    },
    {
     "name": "stdout",
     "output_type": "stream",
     "text": [
      "INFO: BLOCKED TRAFFIC: source node 'client' is blocking outgoing traffic on port 'SSH-key'\n",
      "INFO: discovered node: Website.Directory\n",
      "INFO: GOT REWARD: Viewing the web page source reveals a URL to a .txt file and directory on the website\n",
      "INFO: invalid credentials supplied\n",
      "INFO: Vulnerability 'AccessDataWithSASToken' not supported by node 'Website'\n",
      "INFO: Vulnerability 'AccessDataWithSASToken' not supported by node 'Website.Directory'\n",
      "INFO: Vulnerability 'ScanPageSource' not supported by node 'Sharepoint'\n",
      "INFO: Vulnerability 'ListAzureResources' not supported by node 'Website[user=monitor]'\n"
     ]
    },
    {
     "name": "stderr",
     "output_type": "stream",
     "text": [
      "Episode 2|Iteration 68|reward:  146.0|last_reward_at:   61|Elapsed Time: 0:00:00||"
     ]
    },
    {
     "name": "stdout",
     "output_type": "stream",
     "text": [
      "________________________________________\n",
      "!!!Interacted with Node: Tarpit-AzureStorage\n",
      "________________________________________\n",
      "INFO: BLOCKED TRAFFIC: source node 'client' is blocking outgoing traffic on port 'su'\n",
      "INFO: BLOCKED TRAFFIC: source node 'client' is blocking outgoing traffic on port 'su'\n",
      "INFO: Vulnerability 'ScanPageSource' not supported by node 'Website.Directory'\n",
      "INFO: Vulnerability 'ScanPageSource' not supported by node 'client'\n",
      "INFO: invalid credentials supplied\n"
     ]
    },
    {
     "name": "stderr",
     "output_type": "stream",
     "text": [
      "Episode 2|Iteration 74|reward:  146.0|last_reward_at:   61|Elapsed Time: 0:00:00||"
     ]
    },
    {
     "name": "stdout",
     "output_type": "stream",
     "text": [
      "INFO: BLOCKED TRAFFIC: source node 'client' is blocking outgoing traffic on port 'GIT'\n",
      "INFO: Vulnerability 'ScanPageContent' not supported by node 'client'\n",
      "INFO: BLOCKED TRAFFIC: source node 'Website' is blocking outgoing traffic on port 'MySQL'\n",
      "INFO: discovered node: Website\n",
      "INFO: GOT REWARD: Web browser history revealed website URL of interest\n",
      "INFO: invalid credentials supplied\n"
     ]
    },
    {
     "name": "stderr",
     "output_type": "stream",
     "text": [
      "Episode 2|Iteration 79|reward:  146.0|last_reward_at:   61|Elapsed Time: 0:00:00||"
     ]
    },
    {
     "name": "stdout",
     "output_type": "stream",
     "text": [
      "INFO: Vulnerability 'ScanPageSource' not supported by node 'Sharepoint'\n",
      "INFO: Vulnerability 'ListAzureResources' not supported by node 'Website[user=monitor]'\n",
      "________________________________________\n",
      "!!!Interacted with Node: Tarpit-AzureStorage\n",
      "________________________________________\n"
     ]
    },
    {
     "name": "stderr",
     "output_type": "stream",
     "text": [
      "Episode 2|Iteration 80|reward:  136.0|last_reward_at:   61|Elapsed Time: 0:00:00||"
     ]
    },
    {
     "name": "stdout",
     "output_type": "stream",
     "text": [
      "INFO: invalid credentials supplied\n",
      "INFO: BLOCKED TRAFFIC: source node 'Website' is blocking outgoing traffic on port 'PING'\n",
      "________________________________________\n",
      "!!!Interacted with Node: Tarpit-AzureStorage\n",
      "________________________________________\n"
     ]
    },
    {
     "name": "stderr",
     "output_type": "stream",
     "text": [
      "Episode 2|Iteration 82|reward:  126.0|last_reward_at:   61|Elapsed Time: 0:00:01||"
     ]
    },
    {
     "name": "stdout",
     "output_type": "stream",
     "text": [
      "INFO: discovered node: Website\n",
      "INFO: GOT REWARD: Web browser history revealed website URL of interest\n",
      "INFO: BLOCKED TRAFFIC: source node 'Website' is blocking outgoing traffic on port 'MySQL'\n",
      "________________________________________\n",
      "!!!Interacted with Node: Tarpit-AzureStorage\n",
      "________________________________________\n"
     ]
    },
    {
     "name": "stderr",
     "output_type": "stream",
     "text": [
      "Episode 2|Iteration 84|reward:  116.0|last_reward_at:   61|Elapsed Time: 0:00:01||"
     ]
    },
    {
     "name": "stdout",
     "output_type": "stream",
     "text": [
      "INFO: discovered node: Website\n",
      "INFO: GOT REWARD: Web browser history revealed website URL of interest\n",
      "INFO: Vulnerability 'NavigateWebDirectory' not supported by node 'client'\n",
      "INFO: discovered node: Sharepoint\n",
      "INFO: GOT REWARD: Navigating to parent URL revealed file `deprecation-checklist.txt` containinga URL to an external sharepoint website\n"
     ]
    },
    {
     "name": "stderr",
     "output_type": "stream",
     "text": [
      "Episode 2|Iteration 87|reward:  116.0|last_reward_at:   61|Elapsed Time: 0:00:01||"
     ]
    },
    {
     "name": "stdout",
     "output_type": "stream",
     "text": [
      "INFO: discovered node: Website\n",
      "INFO: GOT REWARD: Web browser history revealed website URL of interest\n",
      "INFO: invalid credentials supplied\n",
      "INFO: Vulnerability 'CredScanGitHistory' not supported by node 'Website'\n",
      "INFO: BLOCKED TRAFFIC: source node 'client' is blocking outgoing traffic on port 'su'\n"
     ]
    },
    {
     "name": "stderr",
     "output_type": "stream",
     "text": [
      "Episode 2|Iteration 91|reward:  116.0|last_reward_at:   61|Elapsed Time: 0:00:01||"
     ]
    },
    {
     "name": "stdout",
     "output_type": "stream",
     "text": [
      "INFO: Vulnerability 'NavigateWebDirectory' not supported by node 'client'\n",
      "INFO: BLOCKED TRAFFIC: source node 'client' is blocking outgoing traffic on port 'PING'\n"
     ]
    },
    {
     "name": "stderr",
     "output_type": "stream",
     "text": [
      "Episode 2|Iteration 94|reward:  116.0|last_reward_at:   61|Elapsed Time: 0:00:01||"
     ]
    },
    {
     "name": "stdout",
     "output_type": "stream",
     "text": [
      "INFO: BLOCKED TRAFFIC: source node 'Website' is blocking outgoing traffic on port 'MySQL'\n",
      "INFO: Vulnerability 'ListAzureResources' not supported by node 'Website'\n",
      "INFO: Vulnerability 'NavigateWebDirectoryFurther' not supported by node 'Website'\n"
     ]
    },
    {
     "name": "stderr",
     "output_type": "stream",
     "text": [
      "Episode 2|Iteration 96|reward:  116.0|last_reward_at:   61|Elapsed Time: 0:00:01||"
     ]
    },
    {
     "name": "stdout",
     "output_type": "stream",
     "text": [
      "INFO: Vulnerability 'NavigateWebDirectoryFurther' not supported by node 'Website[user=monitor]'\n",
      "________________________________________\n",
      "!!!Interacted with Node: Tarpit-AzureStorage\n",
      "________________________________________\n"
     ]
    },
    {
     "name": "stderr",
     "output_type": "stream",
     "text": [
      "Episode 2|Iteration 97|reward:  106.0|last_reward_at:   61|Elapsed Time: 0:00:01||"
     ]
    },
    {
     "name": "stdout",
     "output_type": "stream",
     "text": [
      "INFO: BLOCKED TRAFFIC: source node 'Website' is blocking outgoing traffic on port 'PING'\n",
      "INFO: Vulnerability 'ListAzureResources' not supported by node 'Website.Directory'\n",
      "INFO: BLOCKED TRAFFIC: source node 'client' is blocking outgoing traffic on port 'SSH-key'\n",
      "INFO: discovered node: Website[user=monitor]\n",
      "INFO: discovered credential: CachedCredential(node='Website[user=monitor]', port='SSH', credential='monitorBashCreds')\n",
      "INFO: GOT REWARD: FLAG: SSH history revealed credentials for the monitoring user (monitor)\n"
     ]
    },
    {
     "name": "stderr",
     "output_type": "stream",
     "text": [
      "Episode 2|Iteration 102|reward:  106.0|last_reward_at:   61|Elapsed Time: 0:00:01||"
     ]
    },
    {
     "name": "stdout",
     "output_type": "stream",
     "text": [
      "INFO: Vulnerability 'AccessDataWithSASToken' not supported by node 'Website.Directory'\n",
      "INFO: Vulnerability 'ListAzureResources' not supported by node 'Website[user=monitor]'\n"
     ]
    },
    {
     "name": "stderr",
     "output_type": "stream",
     "text": [
      "Episode 2|Iteration 104|reward:  106.0|last_reward_at:   61|Elapsed Time: 0:00:01||"
     ]
    },
    {
     "name": "stdout",
     "output_type": "stream",
     "text": [
      "INFO: BLOCKED TRAFFIC: source node 'Website' is blocking outgoing traffic on port 'PING'\n",
      "INFO: discovered node: Website[user=monitor]\n",
      "INFO: discovered credential: CachedCredential(node='Website[user=monitor]', port='SSH', credential='monitorBashCreds')\n",
      "INFO: GOT REWARD: FLAG: SSH history revealed credentials for the monitoring user (monitor)\n",
      "INFO: Vulnerability 'ListAzureResources' not supported by node 'Sharepoint'\n",
      "INFO: Vulnerability 'ScanSharepointParentDirectory' not supported by node 'Website'\n",
      "INFO: Infected node 'Website[user=monitor]' from 'Website' via su with credential 'monitorBashCreds'\n",
      "INFO: Owned message: FLAG User escalation by stealing credentials from bash history\n",
      "[TarpitAgent] Deployed tarpit 'Tarpit_Website[user=monitor]' connected to 'Website[user=monitor]'\n",
      "INFO: discovered node: Tarpit_Website[user=monitor]\n"
     ]
    },
    {
     "name": "stderr",
     "output_type": "stream",
     "text": [
      "Episode 2|Iteration 108|reward:  206.0|last_reward_at:  108|Elapsed Time: 0:00:01||"
     ]
    },
    {
     "name": "stdout",
     "output_type": "stream",
     "text": [
      "INFO: Vulnerability 'ScanSharepointParentDirectory' not supported by node 'Website.Directory'\n",
      "INFO: discovered node: AzureResourceManager[user=monitor]\n",
      "INFO: discovered credential: CachedCredential(node='AzureResourceManager[user=monitor]', port='HTTPS', credential='azuread_user_credentials')\n",
      "INFO: GOT REWARD: SSH: cat ~/azurecreds.txt (running as monitor) revealed Azure user credential!\n"
     ]
    },
    {
     "name": "stderr",
     "output_type": "stream",
     "text": [
      "Episode 2|Iteration 110|reward:  220.0|last_reward_at:  110|Elapsed Time: 0:00:01||"
     ]
    },
    {
     "name": "stdout",
     "output_type": "stream",
     "text": [
      "INFO: discovered node: Website[user=monitor]\n",
      "INFO: discovered credential: CachedCredential(node='Website[user=monitor]', port='SSH', credential='monitorBashCreds')\n",
      "INFO: GOT REWARD: FLAG: SSH history revealed credentials for the monitoring user (monitor)\n",
      "INFO: BLOCKED TRAFFIC: source node 'Website' is blocking outgoing traffic on port 'MySQL'\n",
      "INFO: BLOCKED TRAFFIC: target node 'Website[user=monitor]' is blocking incoming traffic on port 'SSH'\n",
      "INFO: Vulnerability 'AccessDataWithSASToken' not supported by node 'AzureResourceManager[user=monitor]'\n",
      "INFO: target node 'Sharepoint' not listening on port 'SSH'\n",
      "INFO: Vulnerability 'ScanSharepointParentDirectory' not supported by node 'AzureResourceManager[user=monitor]'\n"
     ]
    },
    {
     "name": "stderr",
     "output_type": "stream",
     "text": [
      "Episode 2|Iteration 117|reward:  220.0|last_reward_at:  110|Elapsed Time: 0:00:01||"
     ]
    },
    {
     "name": "stdout",
     "output_type": "stream",
     "text": [
      "INFO: discovered node: Website[user=monitor]\n",
      "INFO: discovered credential: CachedCredential(node='Website[user=monitor]', port='SSH', credential='monitorBashCreds')\n",
      "INFO: GOT REWARD: FLAG: SSH history revealed credentials for the monitoring user (monitor)\n",
      "INFO: BLOCKED TRAFFIC: source node 'Website[user=monitor]' is blocking outgoing traffic on port 'su'\n"
     ]
    },
    {
     "name": "stderr",
     "output_type": "stream",
     "text": [
      "Episode 2|Iteration 119|reward:  220.0|last_reward_at:  110|Elapsed Time: 0:00:01||"
     ]
    },
    {
     "name": "stdout",
     "output_type": "stream",
     "text": [
      "INFO: Vulnerability 'ListAzureResources' not supported by node 'Website[user=monitor]'\n",
      "INFO: Vulnerability 'ScanPageContent' not supported by node 'AzureResourceManager[user=monitor]'\n",
      "INFO: Vulnerability 'AccessDataWithSASToken' not supported by node 'Sharepoint'\n"
     ]
    },
    {
     "name": "stderr",
     "output_type": "stream",
     "text": [
      "Episode 2|Iteration 122|reward:  220.0|last_reward_at:  110|Elapsed Time: 0:00:01||"
     ]
    },
    {
     "name": "stdout",
     "output_type": "stream",
     "text": [
      "INFO: discovered node: AzureResourceManager[user=monitor]\n",
      "INFO: discovered credential: CachedCredential(node='AzureResourceManager[user=monitor]', port='HTTPS', credential='azuread_user_credentials')\n",
      "INFO: GOT REWARD: SSH: cat ~/azurecreds.txt (running as monitor) revealed Azure user credential!\n",
      "INFO: Vulnerability 'CredScanGitHistory' not supported by node 'Sharepoint'\n",
      "INFO: BLOCKED TRAFFIC: source node 'Website[user=monitor]' is blocking outgoing traffic on port 'GIT'\n"
     ]
    },
    {
     "name": "stderr",
     "output_type": "stream",
     "text": [
      "Episode 2|Iteration 125|reward:  220.0|last_reward_at:  110|Elapsed Time: 0:00:02||"
     ]
    },
    {
     "name": "stdout",
     "output_type": "stream",
     "text": [
      "INFO: Vulnerability 'CredScanGitHistory' not supported by node 'Sharepoint'\n",
      "INFO: invalid credentials supplied\n",
      "INFO: discovered node: Website\n",
      "INFO: GOT REWARD: Web browser history revealed website URL of interest\n",
      "INFO: BLOCKED TRAFFIC: source node 'Website' is blocking outgoing traffic on port 'GIT'\n",
      "INFO: target node 'client' not listening on port 'HTTPS'\n"
     ]
    },
    {
     "name": "stderr",
     "output_type": "stream",
     "text": [
      "Episode 2|Iteration 130|reward:  220.0|last_reward_at:  110|Elapsed Time: 0:00:02||"
     ]
    },
    {
     "name": "stdout",
     "output_type": "stream",
     "text": [
      "INFO: BLOCKED TRAFFIC: source node 'client' is blocking outgoing traffic on port 'PING'\n",
      "INFO: discovered node: AzureResourceManager[user=monitor]\n",
      "INFO: discovered credential: CachedCredential(node='AzureResourceManager[user=monitor]', port='HTTPS', credential='azuread_user_credentials')\n",
      "INFO: GOT REWARD: SSH: cat ~/azurecreds.txt (running as monitor) revealed Azure user credential!\n",
      "INFO: Vulnerability 'CredScanGitHistory' not supported by node 'Website'\n",
      "INFO: discovered node: Website[user=monitor]\n",
      "INFO: discovered credential: CachedCredential(node='Website[user=monitor]', port='SSH', credential='monitorBashCreds')\n",
      "INFO: GOT REWARD: FLAG: SSH history revealed credentials for the monitoring user (monitor)\n",
      "INFO: BLOCKED TRAFFIC: source node 'Website[user=monitor]' is blocking outgoing traffic on port 'PING'\n"
     ]
    },
    {
     "name": "stderr",
     "output_type": "stream",
     "text": [
      "Episode 2|Iteration 135|reward:  220.0|last_reward_at:  110|Elapsed Time: 0:00:02||"
     ]
    },
    {
     "name": "stdout",
     "output_type": "stream",
     "text": [
      "INFO: discovered node: AzureResourceManager[user=monitor]\n",
      "INFO: discovered credential: CachedCredential(node='AzureResourceManager[user=monitor]', port='HTTPS', credential='azuread_user_credentials')\n",
      "INFO: GOT REWARD: SSH: cat ~/azurecreds.txt (running as monitor) revealed Azure user credential!\n",
      "INFO: Vulnerability 'NavigateWebDirectory' not supported by node 'Sharepoint'\n",
      "INFO: Vulnerability 'ScanSharepointParentDirectory' not supported by node 'Website'\n",
      "INFO: BLOCKED TRAFFIC: source node 'client' is blocking outgoing traffic on port 'PING'\n",
      "INFO: discovered node: AzureResourceManager[user=monitor]\n",
      "INFO: discovered credential: CachedCredential(node='AzureResourceManager[user=monitor]', port='HTTPS', credential='azuread_user_credentials')\n",
      "INFO: GOT REWARD: SSH: cat ~/azurecreds.txt (running as monitor) revealed Azure user credential!\n"
     ]
    },
    {
     "name": "stderr",
     "output_type": "stream",
     "text": [
      "Episode 2|Iteration 140|reward:  220.0|last_reward_at:  110|Elapsed Time: 0:00:02||"
     ]
    },
    {
     "name": "stdout",
     "output_type": "stream",
     "text": [
      "INFO: Vulnerability 'CredScanGitHistory' not supported by node 'Website[user=monitor]'\n",
      "INFO: BLOCKED TRAFFIC: source node 'Website[user=monitor]' is blocking outgoing traffic on port 'SSH-key'\n",
      "INFO: BLOCKED TRAFFIC: source node 'client' is blocking outgoing traffic on port 'MySQL'\n",
      "INFO: Vulnerability 'AccessDataWithSASToken' not supported by node 'Website'\n",
      "INFO: discovered node: AzureResourceManager[user=monitor]\n",
      "INFO: discovered credential: CachedCredential(node='AzureResourceManager[user=monitor]', port='HTTPS', credential='azuread_user_credentials')\n",
      "INFO: GOT REWARD: SSH: cat ~/azurecreds.txt (running as monitor) revealed Azure user credential!\n"
     ]
    },
    {
     "name": "stderr",
     "output_type": "stream",
     "text": [
      "Episode 2|Iteration 147|reward:  220.0|last_reward_at:  110|Elapsed Time: 0:00:02||"
     ]
    },
    {
     "name": "stdout",
     "output_type": "stream",
     "text": [
      "INFO: discovered node: AzureResourceManager[user=monitor]\n",
      "INFO: discovered credential: CachedCredential(node='AzureResourceManager[user=monitor]', port='HTTPS', credential='azuread_user_credentials')\n",
      "INFO: GOT REWARD: SSH: cat ~/azurecreds.txt (running as monitor) revealed Azure user credential!\n",
      "INFO: discovered node: AzureResourceManager[user=monitor]\n",
      "INFO: discovered credential: CachedCredential(node='AzureResourceManager[user=monitor]', port='HTTPS', credential='azuread_user_credentials')\n",
      "INFO: GOT REWARD: SSH: cat ~/azurecreds.txt (running as monitor) revealed Azure user credential!\n",
      "INFO: discovered node: AzureResourceManager[user=monitor]\n",
      "INFO: discovered credential: CachedCredential(node='AzureResourceManager[user=monitor]', port='HTTPS', credential='azuread_user_credentials')\n",
      "INFO: GOT REWARD: SSH: cat ~/azurecreds.txt (running as monitor) revealed Azure user credential!\n"
     ]
    },
    {
     "name": "stderr",
     "output_type": "stream",
     "text": [
      "Episode 2|Iteration 150|reward:  220.0|last_reward_at:  110|Elapsed Time: 0:00:02||"
     ]
    },
    {
     "name": "stdout",
     "output_type": "stream",
     "text": [
      "INFO: Vulnerability 'NavigateWebDirectory' not supported by node 'client'\n",
      "INFO: Vulnerability 'CredScanGitHistory' not supported by node 'Website'\n",
      "INFO: discovered node: AzureResourceManager[user=monitor]\n",
      "INFO: discovered credential: CachedCredential(node='AzureResourceManager[user=monitor]', port='HTTPS', credential='azuread_user_credentials')\n",
      "INFO: GOT REWARD: SSH: cat ~/azurecreds.txt (running as monitor) revealed Azure user credential!\n",
      "INFO: discovered node: Website[user=monitor]\n",
      "INFO: discovered credential: CachedCredential(node='Website[user=monitor]', port='SSH', credential='monitorBashCreds')\n",
      "INFO: GOT REWARD: FLAG: SSH history revealed credentials for the monitoring user (monitor)\n",
      "INFO: discovered node: Website\n",
      "INFO: discovered credential: CachedCredential(node='Website', port='MySQL', credential='ReusedMySqlCred-web')\n",
      "INFO: GOT REWARD: Discover browseable web directory: Navigating to parent URL revealed file `readme.txt`with secret data (aflag); and `getting-started.txt` with MYSQL credentials\n"
     ]
    },
    {
     "name": "stderr",
     "output_type": "stream",
     "text": [
      "Episode 2|Iteration 155|reward:  220.0|last_reward_at:  110|Elapsed Time: 0:00:02||"
     ]
    },
    {
     "name": "stdout",
     "output_type": "stream",
     "text": [
      "INFO: Vulnerability 'ScanPageContent' not supported by node 'Sharepoint'\n",
      "INFO: discovered node: AzureResourceManager\n",
      "INFO: discovered credential: CachedCredential(node='AzureResourceManager', port='HTTPS', credential='ADPrincipalCreds')\n",
      "INFO: GOT REWARD: Navigating to the Sharepoint site revealed  AD Service Principal Credentials\n"
     ]
    },
    {
     "name": "stderr",
     "output_type": "stream",
     "text": [
      "Episode 2|Iteration 156|reward:  234.0|last_reward_at:  156|Elapsed Time: 0:00:02||"
     ]
    },
    {
     "name": "stdout",
     "output_type": "stream",
     "text": [
      "INFO: discovered node: Website[user=monitor]\n",
      "INFO: discovered credential: CachedCredential(node='Website[user=monitor]', port='SSH', credential='monitorBashCreds')\n",
      "INFO: GOT REWARD: FLAG: SSH history revealed credentials for the monitoring user (monitor)\n",
      "INFO: discovered node: GitHubProject\n",
      "INFO: GOT REWARD: WEBSITE page content has a link to github -> Github project discovered!\n"
     ]
    },
    {
     "name": "stderr",
     "output_type": "stream",
     "text": [
      "Episode 2|Iteration 158|reward:  245.0|last_reward_at:  158|Elapsed Time: 0:00:02||"
     ]
    },
    {
     "name": "stdout",
     "output_type": "stream",
     "text": [
      "INFO: BLOCKED TRAFFIC: source node 'Website' is blocking outgoing traffic on port 'GIT'\n",
      "INFO: BLOCKED TRAFFIC: source node 'Website[user=monitor]' is blocking outgoing traffic on port 'GIT'\n",
      "INFO: target node 'AzureResourceManager' not listening on port 'SSH'\n",
      "INFO: Vulnerability 'NavigateWebDirectory' not supported by node 'client'\n",
      "INFO: BLOCKED TRAFFIC: source node 'Website' is blocking outgoing traffic on port 'MySQL'\n",
      "INFO: Vulnerability 'CredScanGitHistory' not supported by node 'AzureResourceManager[user=monitor]'\n"
     ]
    },
    {
     "name": "stderr",
     "output_type": "stream",
     "text": [
      "Episode 2|Iteration 165|reward:  245.0|last_reward_at:  158|Elapsed Time: 0:00:02||"
     ]
    },
    {
     "name": "stdout",
     "output_type": "stream",
     "text": [
      "INFO: Vulnerability 'ListAzureResources' not supported by node 'GitHubProject'\n",
      "INFO: Vulnerability 'NavigateWebDirectoryFurther' not supported by node 'Sharepoint'\n",
      "INFO: discovered node: Website\n",
      "INFO: GOT REWARD: Web browser history revealed website URL of interest\n",
      "INFO: target node 'GitHubProject' not listening on port 'SSH'\n",
      "INFO: invalid credentials supplied\n"
     ]
    },
    {
     "name": "stderr",
     "output_type": "stream",
     "text": [
      "Episode 2|Iteration 170|reward:  245.0|last_reward_at:  158|Elapsed Time: 0:00:02||"
     ]
    },
    {
     "name": "stdout",
     "output_type": "stream",
     "text": [
      "INFO: Vulnerability 'ScanSharepointParentDirectory' not supported by node 'GitHubProject'\n",
      "INFO: BLOCKED TRAFFIC: source node 'Website[user=monitor]' is blocking outgoing traffic on port 'SSH-key'\n",
      "INFO: discovered node: AzureResourceManager[user=monitor]\n",
      "INFO: discovered credential: CachedCredential(node='AzureResourceManager[user=monitor]', port='HTTPS', credential='azuread_user_credentials')\n",
      "INFO: GOT REWARD: SSH: cat ~/azurecreds.txt (running as monitor) revealed Azure user credential!\n",
      "INFO: Vulnerability 'NavigateWebDirectory' not supported by node 'Website[user=monitor]'\n",
      "INFO: BLOCKED TRAFFIC: source node 'Website' is blocking outgoing traffic on port 'PING'\n"
     ]
    },
    {
     "name": "stderr",
     "output_type": "stream",
     "text": [
      "Episode 2|Iteration 175|reward:  245.0|last_reward_at:  158|Elapsed Time: 0:00:02||"
     ]
    },
    {
     "name": "stdout",
     "output_type": "stream",
     "text": [
      "INFO: discovered node: AzureResourceManager[user=monitor]\n",
      "INFO: discovered credential: CachedCredential(node='AzureResourceManager[user=monitor]', port='HTTPS', credential='azuread_user_credentials')\n",
      "INFO: GOT REWARD: SSH: cat ~/azurecreds.txt (running as monitor) revealed Azure user credential!\n",
      "INFO: BLOCKED TRAFFIC: target node 'Website[user=monitor]' is blocking incoming traffic on port 'SSH'\n",
      "INFO: BLOCKED TRAFFIC: source node 'client' is blocking outgoing traffic on port 'su'\n",
      "INFO: discovered node: Website\n",
      "INFO: GOT REWARD: Web browser history revealed website URL of interest\n",
      "INFO: Vulnerability 'AccessDataWithSASToken' not supported by node 'GitHubProject'\n"
     ]
    },
    {
     "name": "stderr",
     "output_type": "stream",
     "text": [
      "Episode 2|Iteration 180|reward:  245.0|last_reward_at:  158|Elapsed Time: 0:00:02||"
     ]
    },
    {
     "name": "stdout",
     "output_type": "stream",
     "text": [
      "INFO: BLOCKED TRAFFIC: source node 'client' is blocking outgoing traffic on port 'su'\n",
      "INFO: BLOCKED TRAFFIC: source node 'client' is blocking outgoing traffic on port 'su'\n",
      "INFO: discovered node: AzureResourceManager[user=monitor]\n",
      "INFO: discovered credential: CachedCredential(node='AzureResourceManager[user=monitor]', port='HTTPS', credential='azuread_user_credentials')\n",
      "INFO: GOT REWARD: SSH: cat ~/azurecreds.txt (running as monitor) revealed Azure user credential!\n",
      "INFO: discovered node: AzureResourceManager[user=monitor]\n",
      "INFO: discovered credential: CachedCredential(node='AzureResourceManager[user=monitor]', port='HTTPS', credential='azuread_user_credentials')\n",
      "INFO: GOT REWARD: SSH: cat ~/azurecreds.txt (running as monitor) revealed Azure user credential!\n",
      "INFO: discovered node: AzureResourceManager[user=monitor]\n",
      "INFO: discovered credential: CachedCredential(node='AzureResourceManager[user=monitor]', port='HTTPS', credential='azuread_user_credentials')\n",
      "INFO: GOT REWARD: SSH: cat ~/azurecreds.txt (running as monitor) revealed Azure user credential!\n"
     ]
    },
    {
     "name": "stderr",
     "output_type": "stream",
     "text": [
      "Episode 2|Iteration 185|reward:  245.0|last_reward_at:  158|Elapsed Time: 0:00:02||"
     ]
    },
    {
     "name": "stdout",
     "output_type": "stream",
     "text": [
      "INFO: BLOCKED TRAFFIC: source node 'client' is blocking outgoing traffic on port 'SSH-key'\n",
      "INFO: Vulnerability 'NavigateWebDirectoryFurther' not supported by node 'GitHubProject'\n",
      "INFO: invalid credentials supplied\n",
      "INFO: BLOCKED TRAFFIC: source node 'Website[user=monitor]' is blocking outgoing traffic on port 'su'\n",
      "INFO: Vulnerability 'AccessDataWithSASToken' not supported by node 'Website[user=monitor]'\n",
      "INFO: BLOCKED TRAFFIC: source node 'Website[user=monitor]' is blocking outgoing traffic on port 'GIT'\n",
      "INFO: BLOCKED TRAFFIC: source node 'Website[user=monitor]' is blocking outgoing traffic on port 'SSH-key'\n",
      "INFO: discovered node: AzureResourceManager[user=monitor]\n",
      "INFO: discovered credential: CachedCredential(node='AzureResourceManager[user=monitor]', port='HTTPS', credential='azuread_user_credentials')\n",
      "INFO: GOT REWARD: SSH: cat ~/azurecreds.txt (running as monitor) revealed Azure user credential!\n"
     ]
    },
    {
     "name": "stderr",
     "output_type": "stream",
     "text": [
      "Episode 2|Iteration 193|reward:  245.0|last_reward_at:  158|Elapsed Time: 0:00:02||"
     ]
    },
    {
     "name": "stdout",
     "output_type": "stream",
     "text": [
      "INFO: BLOCKED TRAFFIC: source node 'Website[user=monitor]' is blocking outgoing traffic on port 'GIT'\n",
      "INFO: target node 'GitHubProject' not listening on port 'HTTPS'\n",
      "INFO: discovered node: AzureResourceManager[user=monitor]\n",
      "INFO: discovered credential: CachedCredential(node='AzureResourceManager[user=monitor]', port='HTTPS', credential='azuread_user_credentials')\n",
      "INFO: GOT REWARD: SSH: cat ~/azurecreds.txt (running as monitor) revealed Azure user credential!\n",
      "INFO: BLOCKED TRAFFIC: target node 'AzureResourceManager' is blocking incoming traffic on port 'su'\n",
      "INFO: Vulnerability 'ScanSharepointParentDirectory' not supported by node 'Website[user=monitor]'\n"
     ]
    },
    {
     "name": "stderr",
     "output_type": "stream",
     "text": [
      "Episode 2|Iteration 198|reward:  245.0|last_reward_at:  158|Elapsed Time: 0:00:03||"
     ]
    },
    {
     "name": "stdout",
     "output_type": "stream",
     "text": [
      "INFO: Vulnerability 'AccessDataWithSASToken' not supported by node 'Website[user=monitor]'\n",
      "INFO: Vulnerability 'ListAzureResources' not supported by node 'client'\n",
      "INFO: BLOCKED TRAFFIC: source node 'Website' is blocking outgoing traffic on port 'MySQL'\n"
     ]
    },
    {
     "name": "stderr",
     "output_type": "stream",
     "text": [
      "Episode 2|Iteration 200|reward:  245.0|last_reward_at:  158|Elapsed Time: 0:00:03||\n"
     ]
    },
    {
     "name": "stdout",
     "output_type": "stream",
     "text": [
      "  Episode 2 stopped at t=200 \n",
      "  Breakdown [Reward/NoReward (Success rate)]\n",
      "    explore-local: 2/25 (0.07)\n",
      "    explore-remote: 5/84 (0.06)\n",
      "    explore-connect: 2/67 (0.03)\n",
      "    exploit-local: 1/14 (0.07)\n",
      "    exploit-remote: 0/0 (NaN)\n",
      "    exploit-connect: 0/0 (NaN)\n",
      "  exploit deflected to exploration: 17\n",
      "  ## Episode: 3/5 'Tarpit-60%' ϵ=0.8386, γ=0.015, lr=0.01, replaymemory=10000,\n",
      "batch=512, target_update=10\n",
      "Total Applied Penalties: 5\n",
      "INFO: Resetting the CyberBattle environment\n"
     ]
    },
    {
     "name": "stderr",
     "output_type": "stream",
     "text": [
      "Episode 3|Iteration 0|reward: ------|last_reward_at: ----|Elapsed Time: 0:00:00||"
     ]
    },
    {
     "name": "stdout",
     "output_type": "stream",
     "text": [
      "INFO: discovered node: Website\n",
      "INFO: GOT REWARD: Web browser history revealed website URL of interest\n",
      "[TarpitAgent] Deployed tarpit 'Tarpit_client' connected to 'client'\n",
      "INFO: discovered node: Tarpit_client\n"
     ]
    },
    {
     "name": "stderr",
     "output_type": "stream",
     "text": [
      "Episode 3|Iteration 1|reward:   11.0|last_reward_at:    1|Elapsed Time: 0:00:00||"
     ]
    },
    {
     "name": "stdout",
     "output_type": "stream",
     "text": [
      "INFO: discovered node: Website\n",
      "INFO: GOT REWARD: Web browser history revealed website URL of interest\n",
      "INFO: Vulnerability 'ListAzureResources' not supported by node 'client'\n",
      "INFO: Vulnerability 'AccessDataWithSASToken' not supported by node 'Website'\n",
      "INFO: Vulnerability 'ScanSharepointParentDirectory' not supported by node 'client'\n",
      "INFO: discovered node: GitHubProject\n",
      "INFO: GOT REWARD: WEBSITE page content has a link to github -> Github project discovered!\n"
     ]
    },
    {
     "name": "stderr",
     "output_type": "stream",
     "text": [
      "Episode 3|Iteration 6|reward:   22.0|last_reward_at:    6|Elapsed Time: 0:00:00||"
     ]
    },
    {
     "name": "stdout",
     "output_type": "stream",
     "text": [
      "INFO: Vulnerability 'NavigateWebDirectory' not supported by node 'client'\n",
      "INFO: Vulnerability 'NavigateWebDirectoryFurther' not supported by node 'client'\n",
      "INFO: discovered node: Tarpit-AzureStorage\n",
      "INFO: discovered credential: CachedCredential(node='Tarpit-AzureStorage', port='HTTPS', credential='SASTOKEN1')\n",
      "INFO: GOT REWARD: CredScan success: Some secure access token (SAS) was leaked in a reverted git commit\n"
     ]
    },
    {
     "name": "stderr",
     "output_type": "stream",
     "text": [
      "Episode 3|Iteration 9|reward:   36.0|last_reward_at:    9|Elapsed Time: 0:00:00||"
     ]
    },
    {
     "name": "stdout",
     "output_type": "stream",
     "text": [
      "INFO: Vulnerability 'NavigateWebDirectory' not supported by node 'GitHubProject'\n",
      "INFO: BLOCKED TRAFFIC: source node 'client' is blocking outgoing traffic on port 'MySQL'\n",
      "INFO: BLOCKED TRAFFIC: source node 'client' is blocking outgoing traffic on port 'GIT'\n",
      "INFO: Vulnerability 'ScanSharepointParentDirectory' not supported by node 'client'\n",
      "INFO: target node 'client' not listening on port 'SSH'\n",
      "INFO: BLOCKED TRAFFIC: source node 'client' is blocking outgoing traffic on port 'MySQL'\n"
     ]
    },
    {
     "name": "stderr",
     "output_type": "stream",
     "text": [
      "Episode 3|Iteration 16|reward:   36.0|last_reward_at:    9|Elapsed Time: 0:00:00||"
     ]
    },
    {
     "name": "stdout",
     "output_type": "stream",
     "text": [
      "INFO: target node 'GitHubProject' not listening on port 'SSH'\n",
      "INFO: Vulnerability 'NavigateWebDirectory' not supported by node 'Website'\n",
      "INFO: Vulnerability 'NavigateWebDirectoryFurther' not supported by node 'client'\n",
      "INFO: Vulnerability 'NavigateWebDirectoryFurther' not supported by node 'GitHubProject'\n",
      "INFO: BLOCKED TRAFFIC: source node 'client' is blocking outgoing traffic on port 'MySQL'\n",
      "INFO: discovered node: Website\n",
      "INFO: GOT REWARD: Web browser history revealed website URL of interest\n",
      "INFO: discovered node: Website\n",
      "INFO: GOT REWARD: Web browser history revealed website URL of interest\n"
     ]
    },
    {
     "name": "stderr",
     "output_type": "stream",
     "text": [
      "Episode 3|Iteration 23|reward:   36.0|last_reward_at:    9|Elapsed Time: 0:00:00||"
     ]
    },
    {
     "name": "stdout",
     "output_type": "stream",
     "text": [
      "INFO: Vulnerability 'NavigateWebDirectory' not supported by node 'GitHubProject'\n",
      "INFO: BLOCKED TRAFFIC: source node 'client' is blocking outgoing traffic on port 'GIT'\n",
      "INFO: discovered node: GitHubProject\n",
      "INFO: GOT REWARD: WEBSITE page content has a link to github -> Github project discovered!\n",
      "INFO: BLOCKED TRAFFIC: source node 'client' is blocking outgoing traffic on port 'su'\n",
      "INFO: Vulnerability 'NavigateWebDirectory' not supported by node 'Website'\n"
     ]
    },
    {
     "name": "stderr",
     "output_type": "stream",
     "text": [
      "Episode 3|Iteration 28|reward:   36.0|last_reward_at:    9|Elapsed Time: 0:00:00||"
     ]
    },
    {
     "name": "stdout",
     "output_type": "stream",
     "text": [
      "INFO: Vulnerability 'CredScanGitHistory' not supported by node 'Tarpit-AzureStorage'\n",
      "INFO: BLOCKED TRAFFIC: source node 'client' is blocking outgoing traffic on port 'MySQL'\n"
     ]
    },
    {
     "name": "stderr",
     "output_type": "stream",
     "text": [
      "Episode 3|Iteration 29|reward:   36.0|last_reward_at:    9|Elapsed Time: 0:00:00||"
     ]
    },
    {
     "name": "stdout",
     "output_type": "stream",
     "text": [
      "INFO: Vulnerability 'ScanPageContent' not supported by node 'GitHubProject'\n",
      "INFO: BLOCKED TRAFFIC: source node 'client' is blocking outgoing traffic on port 'SSH-key'\n",
      "INFO: Vulnerability 'ListAzureResources' not supported by node 'Website'\n"
     ]
    },
    {
     "name": "stderr",
     "output_type": "stream",
     "text": [
      "Episode 3|Iteration 32|reward:   36.0|last_reward_at:    9|Elapsed Time: 0:00:00||"
     ]
    },
    {
     "name": "stdout",
     "output_type": "stream",
     "text": [
      "INFO: discovered node: GitHubProject\n",
      "INFO: GOT REWARD: WEBSITE page content has a link to github -> Github project discovered!\n",
      "INFO: BLOCKED TRAFFIC: source node 'client' is blocking outgoing traffic on port 'PING'\n"
     ]
    },
    {
     "name": "stderr",
     "output_type": "stream",
     "text": [
      "Episode 3|Iteration 34|reward:   36.0|last_reward_at:    9|Elapsed Time: 0:00:00||"
     ]
    },
    {
     "name": "stdout",
     "output_type": "stream",
     "text": [
      "INFO: discovered node: Website.Directory\n",
      "INFO: GOT REWARD: Viewing the web page source reveals a URL to a .txt file and directory on the website\n"
     ]
    },
    {
     "name": "stderr",
     "output_type": "stream",
     "text": [
      "Episode 3|Iteration 35|reward:   47.0|last_reward_at:   35|Elapsed Time: 0:00:00||"
     ]
    },
    {
     "name": "stdout",
     "output_type": "stream",
     "text": [
      "INFO: Vulnerability 'ScanPageSource' not supported by node 'Tarpit-AzureStorage'\n",
      "INFO: BLOCKED TRAFFIC: source node 'client' is blocking outgoing traffic on port 'MySQL'\n"
     ]
    },
    {
     "name": "stderr",
     "output_type": "stream",
     "text": [
      "Episode 3|Iteration 38|reward:   47.0|last_reward_at:   35|Elapsed Time: 0:00:00||"
     ]
    },
    {
     "name": "stdout",
     "output_type": "stream",
     "text": [
      "INFO: Vulnerability 'ScanSharepointParentDirectory' not supported by node 'GitHubProject'\n",
      "INFO: discovered node: Tarpit-AzureStorage\n",
      "INFO: discovered credential: CachedCredential(node='Tarpit-AzureStorage', port='HTTPS', credential='SASTOKEN1')\n",
      "INFO: GOT REWARD: CredScan success: Some secure access token (SAS) was leaked in a reverted git commit\n",
      "INFO: target node 'GitHubProject' not listening on port 'HTTPS'\n"
     ]
    },
    {
     "name": "stderr",
     "output_type": "stream",
     "text": [
      "Episode 3|Iteration 41|reward:   47.0|last_reward_at:   35|Elapsed Time: 0:00:00||"
     ]
    },
    {
     "name": "stdout",
     "output_type": "stream",
     "text": [
      "INFO: discovered node: Website\n",
      "INFO: GOT REWARD: Web browser history revealed website URL of interest\n",
      "INFO: Vulnerability 'AccessDataWithSASToken' not supported by node 'Website'\n",
      "INFO: discovered node: Website\n",
      "INFO: GOT REWARD: Web browser history revealed website URL of interest\n"
     ]
    },
    {
     "name": "stderr",
     "output_type": "stream",
     "text": [
      "Episode 3|Iteration 43|reward:   47.0|last_reward_at:   35|Elapsed Time: 0:00:01||"
     ]
    },
    {
     "name": "stdout",
     "output_type": "stream",
     "text": [
      "INFO: discovered node: Website\n",
      "INFO: GOT REWARD: Web browser history revealed website URL of interest\n",
      "INFO: Vulnerability 'ScanPageSource' not supported by node 'Tarpit-AzureStorage'\n",
      "INFO: Vulnerability 'ScanPageSource' not supported by node 'Website.Directory'\n",
      "________________________________________\n",
      "!!!Interacted with Node: Tarpit-AzureStorage\n",
      "________________________________________\n"
     ]
    },
    {
     "name": "stderr",
     "output_type": "stream",
     "text": [
      "Episode 3|Iteration 46|reward:   37.0|last_reward_at:   35|Elapsed Time: 0:00:01||"
     ]
    },
    {
     "name": "stdout",
     "output_type": "stream",
     "text": [
      "INFO: Vulnerability 'CredScanGitHistory' not supported by node 'Website.Directory'\n",
      "________________________________________\n",
      "!!!Interacted with Node: Tarpit-AzureStorage\n",
      "________________________________________\n"
     ]
    },
    {
     "name": "stderr",
     "output_type": "stream",
     "text": [
      "Episode 3|Iteration 47|reward:   27.0|last_reward_at:   35|Elapsed Time: 0:00:01||"
     ]
    },
    {
     "name": "stdout",
     "output_type": "stream",
     "text": [
      "INFO: BLOCKED TRAFFIC: source node 'client' is blocking outgoing traffic on port 'PING'\n"
     ]
    },
    {
     "name": "stderr",
     "output_type": "stream",
     "text": [
      "Episode 3|Iteration 48|reward:   17.0|last_reward_at:   35|Elapsed Time: 0:00:01||"
     ]
    },
    {
     "name": "stdout",
     "output_type": "stream",
     "text": [
      "________________________________________\n",
      "!!!Interacted with Node: Tarpit-AzureStorage\n",
      "________________________________________\n",
      "INFO: BLOCKED TRAFFIC: source node 'client' is blocking outgoing traffic on port 'GIT'\n",
      "INFO: BLOCKED TRAFFIC: source node 'client' is blocking outgoing traffic on port 'GIT'\n",
      "INFO: BLOCKED TRAFFIC: source node 'client' is blocking outgoing traffic on port 'su'\n",
      "INFO: discovered node: Website\n",
      "INFO: GOT REWARD: Web browser history revealed website URL of interest\n",
      "INFO: discovered node: Website\n",
      "INFO: GOT REWARD: Web browser history revealed website URL of interest\n"
     ]
    },
    {
     "name": "stderr",
     "output_type": "stream",
     "text": [
      "Episode 3|Iteration 53|reward:   17.0|last_reward_at:   35|Elapsed Time: 0:00:01||"
     ]
    },
    {
     "name": "stdout",
     "output_type": "stream",
     "text": [
      "INFO: discovered node: Sharepoint\n",
      "INFO: GOT REWARD: Navigating to parent URL revealed file `deprecation-checklist.txt` containinga URL to an external sharepoint website\n",
      "________________________________________\n",
      "!!!Interacted with Node: Tarpit-AzureStorage\n",
      "________________________________________\n"
     ]
    },
    {
     "name": "stderr",
     "output_type": "stream",
     "text": [
      "Episode 3|Iteration 54|reward:   18.0|last_reward_at:   54|Elapsed Time: 0:00:01||"
     ]
    },
    {
     "name": "stdout",
     "output_type": "stream",
     "text": [
      "INFO: BLOCKED TRAFFIC: source node 'client' is blocking outgoing traffic on port 'GIT'\n",
      "________________________________________\n",
      "!!!Interacted with Node: Tarpit-AzureStorage\n",
      "________________________________________\n"
     ]
    },
    {
     "name": "stderr",
     "output_type": "stream",
     "text": [
      "Episode 3|Iteration 55|reward:    8.0|last_reward_at:   54|Elapsed Time: 0:00:01||"
     ]
    },
    {
     "name": "stdout",
     "output_type": "stream",
     "text": [
      "INFO: Vulnerability 'ScanPageContent' not supported by node 'client'\n",
      "INFO: Vulnerability 'ScanPageContent' not supported by node 'Tarpit-AzureStorage'\n",
      "INFO: Vulnerability 'ScanSharepointParentDirectory' not supported by node 'client'\n"
     ]
    },
    {
     "name": "stderr",
     "output_type": "stream",
     "text": [
      "Episode 3|Iteration 59|reward:    8.0|last_reward_at:   54|Elapsed Time: 0:00:01||"
     ]
    },
    {
     "name": "stdout",
     "output_type": "stream",
     "text": [
      "INFO: BLOCKED TRAFFIC: source node 'client' is blocking outgoing traffic on port 'su'\n",
      "INFO: target node 'Website.Directory' not listening on port 'SSH'\n"
     ]
    },
    {
     "name": "stderr",
     "output_type": "stream",
     "text": [
      "Episode 3|Iteration 61|reward:    8.0|last_reward_at:   54|Elapsed Time: 0:00:01||"
     ]
    },
    {
     "name": "stdout",
     "output_type": "stream",
     "text": [
      "INFO: Vulnerability 'ScanPageSource' not supported by node 'GitHubProject'\n",
      "INFO: BLOCKED TRAFFIC: source node 'client' is blocking outgoing traffic on port 'SSH-key'\n",
      "INFO: Vulnerability 'ScanSharepointParentDirectory' not supported by node 'GitHubProject'\n"
     ]
    },
    {
     "name": "stderr",
     "output_type": "stream",
     "text": [
      "Episode 3|Iteration 64|reward:    8.0|last_reward_at:   54|Elapsed Time: 0:00:01||"
     ]
    },
    {
     "name": "stdout",
     "output_type": "stream",
     "text": [
      "INFO: BLOCKED TRAFFIC: source node 'client' is blocking outgoing traffic on port 'su'\n",
      "INFO: BLOCKED TRAFFIC: source node 'client' is blocking outgoing traffic on port 'su'\n"
     ]
    },
    {
     "name": "stderr",
     "output_type": "stream",
     "text": [
      "Episode 3|Iteration 66|reward:    8.0|last_reward_at:   54|Elapsed Time: 0:00:01||"
     ]
    },
    {
     "name": "stdout",
     "output_type": "stream",
     "text": [
      "INFO: discovered node: Website.Directory\n",
      "INFO: GOT REWARD: Viewing the web page source reveals a URL to a .txt file and directory on the website\n",
      "INFO: BLOCKED TRAFFIC: source node 'client' is blocking outgoing traffic on port 'SSH-key'\n",
      "INFO: target node 'Sharepoint' not listening on port 'SSH'\n"
     ]
    },
    {
     "name": "stderr",
     "output_type": "stream",
     "text": [
      "Episode 3|Iteration 69|reward:    8.0|last_reward_at:   54|Elapsed Time: 0:00:01||"
     ]
    },
    {
     "name": "stdout",
     "output_type": "stream",
     "text": [
      "INFO: target node 'GitHubProject' not listening on port 'SSH'\n",
      "INFO: Vulnerability 'ScanPageContent' not supported by node 'GitHubProject'\n"
     ]
    },
    {
     "name": "stderr",
     "output_type": "stream",
     "text": [
      "Episode 3|Iteration 71|reward:    8.0|last_reward_at:   54|Elapsed Time: 0:00:01||"
     ]
    },
    {
     "name": "stdout",
     "output_type": "stream",
     "text": [
      "INFO: BLOCKED TRAFFIC: source node 'client' is blocking outgoing traffic on port 'GIT'\n",
      "INFO: discovered node: Website\n",
      "INFO: GOT REWARD: Web browser history revealed website URL of interest\n",
      "INFO: Vulnerability 'NavigateWebDirectory' not supported by node 'Website'\n"
     ]
    },
    {
     "name": "stderr",
     "output_type": "stream",
     "text": [
      "Episode 3|Iteration 74|reward:    8.0|last_reward_at:   54|Elapsed Time: 0:00:01||"
     ]
    },
    {
     "name": "stdout",
     "output_type": "stream",
     "text": [
      "INFO: target node 'Website.Directory' not listening on port 'SSH'\n",
      "INFO: target node 'Tarpit-AzureStorage' not listening on port 'SSH'\n",
      "INFO: target node 'client' not listening on port 'HTTPS'\n",
      "INFO: BLOCKED TRAFFIC: source node 'client' is blocking outgoing traffic on port 'MySQL'\n",
      "INFO: Vulnerability 'NavigateWebDirectory' not supported by node 'Website'\n"
     ]
    },
    {
     "name": "stderr",
     "output_type": "stream",
     "text": [
      "Episode 3|Iteration 78|reward:    8.0|last_reward_at:   54|Elapsed Time: 0:00:02||"
     ]
    },
    {
     "name": "stdout",
     "output_type": "stream",
     "text": [
      "INFO: Vulnerability 'ScanPageSource' not supported by node 'GitHubProject'\n",
      "INFO: GOT REWARD: Stole data using a publicly shared SAS token\n"
     ]
    },
    {
     "name": "stderr",
     "output_type": "stream",
     "text": [
      "Episode 3|Iteration 80|reward:   14.0|last_reward_at:   80|Elapsed Time: 0:00:02||"
     ]
    },
    {
     "name": "stdout",
     "output_type": "stream",
     "text": [
      "INFO: BLOCKED TRAFFIC: source node 'client' is blocking outgoing traffic on port 'MySQL'\n",
      "INFO: Vulnerability 'ScanPageContent' not supported by node 'Tarpit-AzureStorage'\n",
      "INFO: Vulnerability 'NavigateWebDirectory' not supported by node 'Sharepoint'\n"
     ]
    },
    {
     "name": "stderr",
     "output_type": "stream",
     "text": [
      "Episode 3|Iteration 84|reward:   14.0|last_reward_at:   80|Elapsed Time: 0:00:02||"
     ]
    },
    {
     "name": "stdout",
     "output_type": "stream",
     "text": [
      "INFO: BLOCKED TRAFFIC: source node 'client' is blocking outgoing traffic on port 'SSH-key'\n",
      "INFO: discovered node: Sharepoint\n",
      "INFO: GOT REWARD: Navigating to parent URL revealed file `deprecation-checklist.txt` containinga URL to an external sharepoint website\n",
      "INFO: BLOCKED TRAFFIC: source node 'client' is blocking outgoing traffic on port 'SSH-key'\n"
     ]
    },
    {
     "name": "stderr",
     "output_type": "stream",
     "text": [
      "Episode 3|Iteration 87|reward:   14.0|last_reward_at:   80|Elapsed Time: 0:00:02||"
     ]
    },
    {
     "name": "stdout",
     "output_type": "stream",
     "text": [
      "INFO: Vulnerability 'NavigateWebDirectory' not supported by node 'Sharepoint'\n",
      "INFO: discovered node: Website\n",
      "INFO: GOT REWARD: Web browser history revealed website URL of interest\n",
      "INFO: Vulnerability 'ScanPageSource' not supported by node 'Sharepoint'\n",
      "INFO: BLOCKED TRAFFIC: source node 'client' is blocking outgoing traffic on port 'su'\n",
      "INFO: discovered node: Website\n",
      "INFO: GOT REWARD: Web browser history revealed website URL of interest\n"
     ]
    },
    {
     "name": "stderr",
     "output_type": "stream",
     "text": [
      "Episode 3|Iteration 91|reward:   14.0|last_reward_at:   80|Elapsed Time: 0:00:02||"
     ]
    },
    {
     "name": "stdout",
     "output_type": "stream",
     "text": [
      "INFO: Vulnerability 'ScanPageSource' not supported by node 'Sharepoint'\n",
      "INFO: Vulnerability 'AccessDataWithSASToken' not supported by node 'Website.Directory'\n"
     ]
    },
    {
     "name": "stderr",
     "output_type": "stream",
     "text": [
      "Episode 3|Iteration 94|reward:   14.0|last_reward_at:   80|Elapsed Time: 0:00:02||"
     ]
    },
    {
     "name": "stdout",
     "output_type": "stream",
     "text": [
      "INFO: BLOCKED TRAFFIC: source node 'client' is blocking outgoing traffic on port 'MySQL'\n",
      "INFO: invalid credentials supplied\n",
      "INFO: discovered node: Tarpit-AzureStorage\n",
      "INFO: discovered credential: CachedCredential(node='Tarpit-AzureStorage', port='HTTPS', credential='SASTOKEN1')\n",
      "INFO: GOT REWARD: CredScan success: Some secure access token (SAS) was leaked in a reverted git commit\n"
     ]
    },
    {
     "name": "stderr",
     "output_type": "stream",
     "text": [
      "Episode 3|Iteration 97|reward:   14.0|last_reward_at:   80|Elapsed Time: 0:00:02||"
     ]
    },
    {
     "name": "stdout",
     "output_type": "stream",
     "text": [
      "INFO: discovered node: Sharepoint\n",
      "INFO: GOT REWARD: Navigating to parent URL revealed file `deprecation-checklist.txt` containinga URL to an external sharepoint website\n",
      "INFO: discovered node: Website\n",
      "INFO: GOT REWARD: Web browser history revealed website URL of interest\n"
     ]
    },
    {
     "name": "stderr",
     "output_type": "stream",
     "text": [
      "Episode 3|Iteration 99|reward:   14.0|last_reward_at:   80|Elapsed Time: 0:00:02||"
     ]
    },
    {
     "name": "stdout",
     "output_type": "stream",
     "text": [
      "INFO: Vulnerability 'ScanPageContent' not supported by node 'GitHubProject'\n",
      "INFO: discovered node: Website\n",
      "INFO: GOT REWARD: Web browser history revealed website URL of interest\n",
      "INFO: discovered node: Website\n",
      "INFO: GOT REWARD: Web browser history revealed website URL of interest\n"
     ]
    },
    {
     "name": "stderr",
     "output_type": "stream",
     "text": [
      "Episode 3|Iteration 102|reward:   14.0|last_reward_at:   80|Elapsed Time: 0:00:02||"
     ]
    },
    {
     "name": "stdout",
     "output_type": "stream",
     "text": [
      "INFO: discovered node: Website\n",
      "INFO: GOT REWARD: Web browser history revealed website URL of interest\n",
      "INFO: discovered node: Website\n",
      "INFO: GOT REWARD: Web browser history revealed website URL of interest\n",
      "INFO: BLOCKED TRAFFIC: source node 'client' is blocking outgoing traffic on port 'MySQL'\n",
      "INFO: discovered node: Website\n",
      "INFO: GOT REWARD: Web browser history revealed website URL of interest\n",
      "INFO: BLOCKED TRAFFIC: source node 'client' is blocking outgoing traffic on port 'SSH-key'\n"
     ]
    },
    {
     "name": "stderr",
     "output_type": "stream",
     "text": [
      "Episode 3|Iteration 106|reward:   14.0|last_reward_at:   80|Elapsed Time: 0:00:02||"
     ]
    },
    {
     "name": "stdout",
     "output_type": "stream",
     "text": [
      "INFO: Vulnerability 'ScanPageContent' not supported by node 'client'\n",
      "INFO: Vulnerability 'ScanPageSource' not supported by node 'client'\n",
      "INFO: discovered node: Website\n",
      "INFO: GOT REWARD: Web browser history revealed website URL of interest\n",
      "INFO: Vulnerability 'CredScanGitHistory' not supported by node 'Tarpit-AzureStorage'\n",
      "INFO: BLOCKED TRAFFIC: source node 'client' is blocking outgoing traffic on port 'su'\n"
     ]
    },
    {
     "name": "stderr",
     "output_type": "stream",
     "text": [
      "Episode 3|Iteration 111|reward:   14.0|last_reward_at:   80|Elapsed Time: 0:00:02||"
     ]
    },
    {
     "name": "stdout",
     "output_type": "stream",
     "text": [
      "INFO: BLOCKED TRAFFIC: source node 'client' is blocking outgoing traffic on port 'PING'\n",
      "INFO: discovered node: Website\n",
      "INFO: GOT REWARD: Web browser history revealed website URL of interest\n",
      "INFO: Vulnerability 'AccessDataWithSASToken' not supported by node 'Website'\n",
      "INFO: Vulnerability 'ScanPageSource' not supported by node 'Sharepoint'\n",
      "INFO: BLOCKED TRAFFIC: source node 'client' is blocking outgoing traffic on port 'PING'\n"
     ]
    },
    {
     "name": "stderr",
     "output_type": "stream",
     "text": [
      "Episode 3|Iteration 117|reward:   14.0|last_reward_at:   80|Elapsed Time: 0:00:02||"
     ]
    },
    {
     "name": "stdout",
     "output_type": "stream",
     "text": [
      "INFO: discovered node: Website\n",
      "INFO: discovered credential: CachedCredential(node='Website', port='MySQL', credential='ReusedMySqlCred-web')\n",
      "INFO: GOT REWARD: Discover browseable web directory: Navigating to parent URL revealed file `readme.txt`with secret data (aflag); and `getting-started.txt` with MYSQL credentials\n"
     ]
    },
    {
     "name": "stderr",
     "output_type": "stream",
     "text": [
      "Episode 3|Iteration 117|reward:   23.0|last_reward_at:  117|Elapsed Time: 0:00:02||"
     ]
    },
    {
     "name": "stdout",
     "output_type": "stream",
     "text": [
      "INFO: target node 'Tarpit-AzureStorage' not listening on port 'SSH'\n",
      "INFO: BLOCKED TRAFFIC: source node 'client' is blocking outgoing traffic on port 'GIT'\n",
      "INFO: Vulnerability 'CredScanGitHistory' not supported by node 'Website'\n"
     ]
    },
    {
     "name": "stderr",
     "output_type": "stream",
     "text": [
      "Episode 3|Iteration 120|reward:   23.0|last_reward_at:  117|Elapsed Time: 0:00:03||"
     ]
    },
    {
     "name": "stdout",
     "output_type": "stream",
     "text": [
      "INFO: BLOCKED TRAFFIC: source node 'client' is blocking outgoing traffic on port 'su'\n"
     ]
    },
    {
     "name": "stderr",
     "output_type": "stream",
     "text": [
      "Episode 3|Iteration 122|reward:   23.0|last_reward_at:  117|Elapsed Time: 0:00:03||"
     ]
    },
    {
     "name": "stdout",
     "output_type": "stream",
     "text": [
      "INFO: Vulnerability 'CredScanGitHistory' not supported by node 'Website.Directory'\n",
      "INFO: invalid credentials supplied\n",
      "INFO: BLOCKED TRAFFIC: source node 'client' is blocking outgoing traffic on port 'MySQL'\n"
     ]
    },
    {
     "name": "stderr",
     "output_type": "stream",
     "text": [
      "Episode 3|Iteration 124|reward:   23.0|last_reward_at:  117|Elapsed Time: 0:00:03||"
     ]
    },
    {
     "name": "stdout",
     "output_type": "stream",
     "text": [
      "INFO: BLOCKED TRAFFIC: source node 'client' is blocking outgoing traffic on port 'MySQL'\n",
      "INFO: BLOCKED TRAFFIC: source node 'client' is blocking outgoing traffic on port 'PING'\n",
      "INFO: Vulnerability 'ListAzureResources' not supported by node 'Tarpit-AzureStorage'\n",
      "INFO: BLOCKED TRAFFIC: source node 'client' is blocking outgoing traffic on port 'su'\n",
      "INFO: Vulnerability 'AccessDataWithSASToken' not supported by node 'Sharepoint'\n"
     ]
    },
    {
     "name": "stderr",
     "output_type": "stream",
     "text": [
      "Episode 3|Iteration 129|reward:   23.0|last_reward_at:  117|Elapsed Time: 0:00:03||"
     ]
    },
    {
     "name": "stdout",
     "output_type": "stream",
     "text": [
      "INFO: discovered node: Website\n",
      "INFO: GOT REWARD: Web browser history revealed website URL of interest\n",
      "INFO: discovered node: Sharepoint\n",
      "INFO: GOT REWARD: Navigating to parent URL revealed file `deprecation-checklist.txt` containinga URL to an external sharepoint website\n"
     ]
    },
    {
     "name": "stderr",
     "output_type": "stream",
     "text": [
      "Episode 3|Iteration 132|reward:   23.0|last_reward_at:  117|Elapsed Time: 0:00:03||"
     ]
    },
    {
     "name": "stdout",
     "output_type": "stream",
     "text": [
      "INFO: target node 'Tarpit-AzureStorage' not listening on port 'SSH'\n",
      "INFO: BLOCKED TRAFFIC: source node 'client' is blocking outgoing traffic on port 'su'\n",
      "INFO: discovered node: Website\n",
      "INFO: GOT REWARD: Web browser history revealed website URL of interest\n"
     ]
    },
    {
     "name": "stderr",
     "output_type": "stream",
     "text": [
      "Episode 3|Iteration 135|reward:   23.0|last_reward_at:  117|Elapsed Time: 0:00:03||"
     ]
    },
    {
     "name": "stdout",
     "output_type": "stream",
     "text": [
      "INFO: target node 'Website.Directory' not listening on port 'SSH'\n",
      "INFO: BLOCKED TRAFFIC: source node 'client' is blocking outgoing traffic on port 'su'\n",
      "INFO: Vulnerability 'ScanSharepointParentDirectory' not supported by node 'GitHubProject'\n",
      "INFO: Vulnerability 'NavigateWebDirectory' not supported by node 'client'\n",
      "INFO: invalid credentials supplied\n"
     ]
    },
    {
     "name": "stderr",
     "output_type": "stream",
     "text": [
      "Episode 3|Iteration 139|reward:   23.0|last_reward_at:  117|Elapsed Time: 0:00:03||"
     ]
    },
    {
     "name": "stdout",
     "output_type": "stream",
     "text": [
      "INFO: BLOCKED TRAFFIC: source node 'client' is blocking outgoing traffic on port 'SSH-key'\n",
      "INFO: Infected node 'Tarpit-AzureStorage' from 'client' via HTTPS with credential 'SASTOKEN1'\n",
      "[TarpitAgent] Deployed tarpit 'Tarpit_Tarpit-AzureStorage' connected to 'Tarpit-AzureStorage'\n",
      "INFO: discovered node: Tarpit_Tarpit-AzureStorage\n"
     ]
    },
    {
     "name": "stderr",
     "output_type": "stream",
     "text": [
      "Episode 3|Iteration 141|reward:   73.0|last_reward_at:  141|Elapsed Time: 0:00:03||"
     ]
    },
    {
     "name": "stdout",
     "output_type": "stream",
     "text": [
      "INFO: Vulnerability 'ScanPageSource' not supported by node 'Sharepoint'\n",
      "INFO: BLOCKED TRAFFIC: source node 'Tarpit-AzureStorage' is blocking outgoing traffic on port 'su'\n",
      "INFO: BLOCKED TRAFFIC: source node 'client' is blocking outgoing traffic on port 'su'\n"
     ]
    },
    {
     "name": "stderr",
     "output_type": "stream",
     "text": [
      "Episode 3|Iteration 144|reward:   73.0|last_reward_at:  141|Elapsed Time: 0:00:03||"
     ]
    },
    {
     "name": "stdout",
     "output_type": "stream",
     "text": [
      "INFO: discovered node: Website\n",
      "INFO: GOT REWARD: Web browser history revealed website URL of interest\n",
      "INFO: BLOCKED TRAFFIC: source node 'Tarpit-AzureStorage' is blocking outgoing traffic on port 'MySQL'\n"
     ]
    },
    {
     "name": "stderr",
     "output_type": "stream",
     "text": [
      "Episode 3|Iteration 146|reward:   73.0|last_reward_at:  141|Elapsed Time: 0:00:04||"
     ]
    },
    {
     "name": "stdout",
     "output_type": "stream",
     "text": [
      "INFO: Vulnerability 'ScanSharepointParentDirectory' not supported by node 'Website.Directory'\n",
      "INFO: BLOCKED TRAFFIC: source node 'Tarpit-AzureStorage' is blocking outgoing traffic on port 'su'\n",
      "INFO: Vulnerability 'AccessDataWithSASToken' not supported by node 'GitHubProject'\n"
     ]
    },
    {
     "name": "stderr",
     "output_type": "stream",
     "text": [
      "Episode 3|Iteration 149|reward:   73.0|last_reward_at:  141|Elapsed Time: 0:00:04||"
     ]
    },
    {
     "name": "stdout",
     "output_type": "stream",
     "text": [
      "INFO: BLOCKED TRAFFIC: source node 'client' is blocking outgoing traffic on port 'PING'\n",
      "INFO: BLOCKED TRAFFIC: source node 'Tarpit-AzureStorage' is blocking outgoing traffic on port 'su'\n"
     ]
    },
    {
     "name": "stderr",
     "output_type": "stream",
     "text": [
      "Episode 3|Iteration 152|reward:   73.0|last_reward_at:  141|Elapsed Time: 0:00:04||"
     ]
    },
    {
     "name": "stdout",
     "output_type": "stream",
     "text": [
      "INFO: discovered node: Website\n",
      "INFO: GOT REWARD: Web browser history revealed website URL of interest\n",
      "INFO: discovered node: Sharepoint\n",
      "INFO: GOT REWARD: Navigating to parent URL revealed file `deprecation-checklist.txt` containinga URL to an external sharepoint website\n",
      "INFO: discovered node: Website\n",
      "INFO: GOT REWARD: Web browser history revealed website URL of interest\n"
     ]
    },
    {
     "name": "stderr",
     "output_type": "stream",
     "text": [
      "Episode 3|Iteration 154|reward:   73.0|last_reward_at:  141|Elapsed Time: 0:00:04||"
     ]
    },
    {
     "name": "stdout",
     "output_type": "stream",
     "text": [
      "INFO: Vulnerability 'ScanPageSource' not supported by node 'client'\n",
      "INFO: Vulnerability 'CredScanGitHistory' not supported by node 'client'\n"
     ]
    },
    {
     "name": "stderr",
     "output_type": "stream",
     "text": [
      "Episode 3|Iteration 157|reward:   73.0|last_reward_at:  141|Elapsed Time: 0:00:04||"
     ]
    },
    {
     "name": "stdout",
     "output_type": "stream",
     "text": [
      "INFO: target node 'GitHubProject' not listening on port 'HTTPS'\n",
      "INFO: target node 'Website.Directory' not listening on port 'SSH'\n"
     ]
    },
    {
     "name": "stderr",
     "output_type": "stream",
     "text": [
      "Episode 3|Iteration 158|reward:   73.0|last_reward_at:  141|Elapsed Time: 0:00:04||"
     ]
    },
    {
     "name": "stdout",
     "output_type": "stream",
     "text": [
      "INFO: target node 'GitHubProject' not listening on port 'SSH'\n"
     ]
    },
    {
     "name": "stderr",
     "output_type": "stream",
     "text": [
      "Episode 3|Iteration 160|reward:   73.0|last_reward_at:  141|Elapsed Time: 0:00:04||"
     ]
    },
    {
     "name": "stdout",
     "output_type": "stream",
     "text": [
      "INFO: discovered node: Website.Directory\n",
      "INFO: GOT REWARD: Viewing the web page source reveals a URL to a .txt file and directory on the website\n",
      "INFO: BLOCKED TRAFFIC: source node 'client' is blocking outgoing traffic on port 'SSH-key'\n",
      "INFO: Vulnerability 'NavigateWebDirectory' not supported by node 'Sharepoint'\n"
     ]
    },
    {
     "name": "stderr",
     "output_type": "stream",
     "text": [
      "Episode 3|Iteration 162|reward:   73.0|last_reward_at:  141|Elapsed Time: 0:00:04||"
     ]
    },
    {
     "name": "stdout",
     "output_type": "stream",
     "text": [
      "INFO: discovered node: AzureResourceManager\n",
      "INFO: discovered credential: CachedCredential(node='AzureResourceManager', port='HTTPS', credential='ADPrincipalCreds')\n",
      "INFO: GOT REWARD: Navigating to the Sharepoint site revealed  AD Service Principal Credentials\n"
     ]
    },
    {
     "name": "stderr",
     "output_type": "stream",
     "text": [
      "Episode 3|Iteration 163|reward:   87.0|last_reward_at:  163|Elapsed Time: 0:00:04||"
     ]
    },
    {
     "name": "stdout",
     "output_type": "stream",
     "text": [
      "INFO: Vulnerability 'NavigateWebDirectory' not supported by node 'GitHubProject'\n",
      "INFO: BLOCKED TRAFFIC: source node 'client' is blocking outgoing traffic on port 'MySQL'\n",
      "INFO: BLOCKED TRAFFIC: source node 'Tarpit-AzureStorage' is blocking outgoing traffic on port 'GIT'\n",
      "INFO: Vulnerability 'NavigateWebDirectory' not supported by node 'Tarpit-AzureStorage'\n"
     ]
    },
    {
     "name": "stderr",
     "output_type": "stream",
     "text": [
      "Episode 3|Iteration 167|reward:   87.0|last_reward_at:  163|Elapsed Time: 0:00:04||"
     ]
    },
    {
     "name": "stdout",
     "output_type": "stream",
     "text": [
      "INFO: Vulnerability 'NavigateWebDirectory' not supported by node 'GitHubProject'\n",
      "INFO: Vulnerability 'NavigateWebDirectory' not supported by node 'Tarpit-AzureStorage'\n"
     ]
    },
    {
     "name": "stderr",
     "output_type": "stream",
     "text": [
      "Episode 3|Iteration 170|reward:   87.0|last_reward_at:  163|Elapsed Time: 0:00:05||"
     ]
    },
    {
     "name": "stdout",
     "output_type": "stream",
     "text": [
      "INFO: Vulnerability 'NavigateWebDirectory' not supported by node 'Sharepoint'\n",
      "INFO: Vulnerability 'ScanSharepointParentDirectory' not supported by node 'Website'\n"
     ]
    },
    {
     "name": "stderr",
     "output_type": "stream",
     "text": [
      "Episode 3|Iteration 171|reward:   87.0|last_reward_at:  163|Elapsed Time: 0:00:05||"
     ]
    },
    {
     "name": "stdout",
     "output_type": "stream",
     "text": [
      "INFO: BLOCKED TRAFFIC: source node 'Tarpit-AzureStorage' is blocking outgoing traffic on port 'PING'\n"
     ]
    },
    {
     "name": "stderr",
     "output_type": "stream",
     "text": [
      "Episode 3|Iteration 173|reward:   87.0|last_reward_at:  163|Elapsed Time: 0:00:05||"
     ]
    },
    {
     "name": "stdout",
     "output_type": "stream",
     "text": [
      "INFO: BLOCKED TRAFFIC: source node 'Tarpit-AzureStorage' is blocking outgoing traffic on port 'SSH-key'\n",
      "INFO: discovered node: Website\n",
      "INFO: GOT REWARD: Web browser history revealed website URL of interest\n"
     ]
    },
    {
     "name": "stderr",
     "output_type": "stream",
     "text": [
      "Episode 3|Iteration 175|reward:   87.0|last_reward_at:  163|Elapsed Time: 0:00:05||"
     ]
    },
    {
     "name": "stdout",
     "output_type": "stream",
     "text": [
      "INFO: Vulnerability 'ScanPageSource' not supported by node 'AzureResourceManager'\n",
      "INFO: discovered node: Website\n",
      "INFO: GOT REWARD: Web browser history revealed website URL of interest\n",
      "INFO: discovered node: Website\n",
      "INFO: GOT REWARD: Web browser history revealed website URL of interest\n"
     ]
    },
    {
     "name": "stderr",
     "output_type": "stream",
     "text": [
      "Episode 3|Iteration 177|reward:   87.0|last_reward_at:  163|Elapsed Time: 0:00:05||"
     ]
    },
    {
     "name": "stdout",
     "output_type": "stream",
     "text": [
      "INFO: Vulnerability 'ScanSharepointParentDirectory' not supported by node 'Website'\n",
      "INFO: Vulnerability 'ScanSharepointParentDirectory' not supported by node 'Website'\n"
     ]
    },
    {
     "name": "stderr",
     "output_type": "stream",
     "text": [
      "Episode 3|Iteration 179|reward:   87.0|last_reward_at:  163|Elapsed Time: 0:00:05||"
     ]
    },
    {
     "name": "stdout",
     "output_type": "stream",
     "text": [
      "INFO: BLOCKED TRAFFIC: source node 'Tarpit-AzureStorage' is blocking outgoing traffic on port 'MySQL'\n",
      "INFO: Vulnerability 'ListAzureResources' not supported by node 'client'\n",
      "INFO: Vulnerability 'AccessDataWithSASToken' not supported by node 'GitHubProject'\n"
     ]
    },
    {
     "name": "stderr",
     "output_type": "stream",
     "text": [
      "Episode 3|Iteration 182|reward:   87.0|last_reward_at:  163|Elapsed Time: 0:00:05||"
     ]
    },
    {
     "name": "stdout",
     "output_type": "stream",
     "text": [
      "INFO: discovered node: Tarpit-AzureStorage\n",
      "INFO: discovered credential: CachedCredential(node='Tarpit-AzureStorage', port='HTTPS', credential='SASTOKEN1')\n",
      "INFO: GOT REWARD: CredScan success: Some secure access token (SAS) was leaked in a reverted git commit\n",
      "INFO: discovered node: Website\n",
      "INFO: GOT REWARD: Web browser history revealed website URL of interest\n"
     ]
    },
    {
     "name": "stderr",
     "output_type": "stream",
     "text": [
      "Episode 3|Iteration 185|reward:   87.0|last_reward_at:  163|Elapsed Time: 0:00:05||"
     ]
    },
    {
     "name": "stdout",
     "output_type": "stream",
     "text": [
      "INFO: Vulnerability 'NavigateWebDirectoryFurther' not supported by node 'client'\n",
      "INFO: discovered node: Website\n",
      "INFO: GOT REWARD: Web browser history revealed website URL of interest\n",
      "INFO: BLOCKED TRAFFIC: source node 'client' is blocking outgoing traffic on port 'SSH-key'\n"
     ]
    },
    {
     "name": "stderr",
     "output_type": "stream",
     "text": [
      "Episode 3|Iteration 187|reward:   87.0|last_reward_at:  163|Elapsed Time: 0:00:05||"
     ]
    },
    {
     "name": "stdout",
     "output_type": "stream",
     "text": [
      "INFO: Vulnerability 'NavigateWebDirectoryFurther' not supported by node 'Website'\n",
      "INFO: BLOCKED TRAFFIC: source node 'client' is blocking outgoing traffic on port 'su'\n"
     ]
    },
    {
     "name": "stderr",
     "output_type": "stream",
     "text": [
      "Episode 3|Iteration 189|reward:   87.0|last_reward_at:  163|Elapsed Time: 0:00:05||"
     ]
    },
    {
     "name": "stdout",
     "output_type": "stream",
     "text": [
      "INFO: Infected node 'AzureResourceManager' from 'client' via HTTPS with credential 'ADPrincipalCreds'\n",
      "INFO: Owned message: FLAG: Shared credentials with database user - Obtained secrets hidden in Azure Managed Resources\n",
      "[TarpitAgent] Deployed tarpit 'Tarpit_AzureResourceManager' connected to 'AzureResourceManager'\n",
      "INFO: discovered node: Tarpit_AzureResourceManager\n"
     ]
    },
    {
     "name": "stderr",
     "output_type": "stream",
     "text": [
      "Episode 3|Iteration 190|reward:  137.0|last_reward_at:  190|Elapsed Time: 0:00:06||"
     ]
    },
    {
     "name": "stdout",
     "output_type": "stream",
     "text": [
      "INFO: Vulnerability 'CredScanGitHistory' not supported by node 'Tarpit-AzureStorage'\n",
      "INFO: BLOCKED TRAFFIC: source node 'Tarpit-AzureStorage' is blocking outgoing traffic on port 'GIT'\n"
     ]
    },
    {
     "name": "stderr",
     "output_type": "stream",
     "text": [
      "Episode 3|Iteration 192|reward:  137.0|last_reward_at:  190|Elapsed Time: 0:00:06||"
     ]
    },
    {
     "name": "stdout",
     "output_type": "stream",
     "text": [
      "INFO: Vulnerability 'ScanPageSource' not supported by node 'Website.Directory'\n",
      "INFO: Vulnerability 'ScanSharepointParentDirectory' not supported by node 'Website.Directory'\n"
     ]
    },
    {
     "name": "stderr",
     "output_type": "stream",
     "text": [
      "Episode 3|Iteration 194|reward:  137.0|last_reward_at:  190|Elapsed Time: 0:00:06||"
     ]
    },
    {
     "name": "stdout",
     "output_type": "stream",
     "text": [
      "INFO: BLOCKED TRAFFIC: source node 'Tarpit-AzureStorage' is blocking outgoing traffic on port 'MySQL'\n",
      "INFO: target node 'Sharepoint' not listening on port 'SSH'\n",
      "INFO: BLOCKED TRAFFIC: source node 'AzureResourceManager' is blocking outgoing traffic on port 'PING'\n"
     ]
    },
    {
     "name": "stderr",
     "output_type": "stream",
     "text": [
      "Episode 3|Iteration 197|reward:  137.0|last_reward_at:  190|Elapsed Time: 0:00:06||"
     ]
    },
    {
     "name": "stdout",
     "output_type": "stream",
     "text": [
      "INFO: discovered node: Website\n",
      "INFO: GOT REWARD: Web browser history revealed website URL of interest\n",
      "INFO: Vulnerability 'ScanPageContent' not supported by node 'AzureResourceManager'\n",
      "INFO: invalid credentials supplied\n"
     ]
    },
    {
     "name": "stderr",
     "output_type": "stream",
     "text": [
      "Episode 3|Iteration 200|reward:  137.0|last_reward_at:  190|Elapsed Time: 0:00:06||\n"
     ]
    },
    {
     "name": "stdout",
     "output_type": "stream",
     "text": [
      "  Episode 3 stopped at t=200 \n",
      "  Breakdown [Reward/NoReward (Success rate)]\n",
      "    explore-local: 1/30 (0.03)\n",
      "    explore-remote: 7/66 (0.10)\n",
      "    explore-connect: 0/73 (0.00)\n",
      "    exploit-local: 0/0 (NaN)\n",
      "    exploit-remote: 0/16 (0.00)\n",
      "    exploit-connect: 2/5 (0.29)\n",
      "  exploit deflected to exploration: 9\n",
      "  ## Episode: 4/5 'Tarpit-60%' ϵ=0.8097, γ=0.015, lr=0.01, replaymemory=10000,\n",
      "batch=512, target_update=10\n",
      "Total Applied Penalties: 5\n",
      "INFO: Resetting the CyberBattle environment\n"
     ]
    },
    {
     "name": "stderr",
     "output_type": "stream",
     "text": [
      "Episode 4|Iteration 0|reward: ------|last_reward_at: ----|Elapsed Time: 0:00:00||"
     ]
    },
    {
     "name": "stdout",
     "output_type": "stream",
     "text": [
      "INFO: Vulnerability 'ScanSharepointParentDirectory' not supported by node 'client'\n",
      "[TarpitAgent] Deployed tarpit 'Tarpit_client' connected to 'client'\n",
      "INFO: discovered node: Tarpit_client\n"
     ]
    },
    {
     "name": "stderr",
     "output_type": "stream",
     "text": [
      "Episode 4|Iteration 1|reward:    0.0|last_reward_at: ----|Elapsed Time: 0:00:00||"
     ]
    },
    {
     "name": "stdout",
     "output_type": "stream",
     "text": [
      "INFO: Vulnerability 'CredScanGitHistory' not supported by node 'client'\n",
      "INFO: Vulnerability 'NavigateWebDirectory' not supported by node 'client'\n"
     ]
    },
    {
     "name": "stderr",
     "output_type": "stream",
     "text": [
      "Episode 4|Iteration 3|reward:    0.0|last_reward_at: ----|Elapsed Time: 0:00:00||"
     ]
    },
    {
     "name": "stdout",
     "output_type": "stream",
     "text": [
      "INFO: Vulnerability 'ListAzureResources' not supported by node 'client'\n",
      "INFO: Vulnerability 'CredScanGitHistory' not supported by node 'client'\n"
     ]
    },
    {
     "name": "stderr",
     "output_type": "stream",
     "text": [
      "Episode 4|Iteration 6|reward:    0.0|last_reward_at: ----|Elapsed Time: 0:00:00||"
     ]
    },
    {
     "name": "stdout",
     "output_type": "stream",
     "text": [
      "INFO: Vulnerability 'CredScanGitHistory' not supported by node 'client'\n",
      "INFO: Vulnerability 'ListAzureResources' not supported by node 'client'\n"
     ]
    },
    {
     "name": "stderr",
     "output_type": "stream",
     "text": [
      "Episode 4|Iteration 8|reward:    0.0|last_reward_at: ----|Elapsed Time: 0:00:00||"
     ]
    },
    {
     "name": "stdout",
     "output_type": "stream",
     "text": [
      "INFO: discovered node: Website\n",
      "INFO: GOT REWARD: Web browser history revealed website URL of interest\n"
     ]
    },
    {
     "name": "stderr",
     "output_type": "stream",
     "text": [
      "Episode 4|Iteration 8|reward:   11.0|last_reward_at:    8|Elapsed Time: 0:00:00||"
     ]
    },
    {
     "name": "stdout",
     "output_type": "stream",
     "text": [
      "INFO: Vulnerability 'ScanPageContent' not supported by node 'client'\n",
      "INFO: Vulnerability 'CredScanGitHistory' not supported by node 'Website'\n"
     ]
    },
    {
     "name": "stderr",
     "output_type": "stream",
     "text": [
      "Episode 4|Iteration 11|reward:   11.0|last_reward_at:    8|Elapsed Time: 0:00:00||"
     ]
    },
    {
     "name": "stdout",
     "output_type": "stream",
     "text": [
      "INFO: Vulnerability 'CredScanGitHistory' not supported by node 'client'\n",
      "INFO: Vulnerability 'AccessDataWithSASToken' not supported by node 'Website'\n"
     ]
    },
    {
     "name": "stderr",
     "output_type": "stream",
     "text": [
      "Episode 4|Iteration 13|reward:   11.0|last_reward_at:    8|Elapsed Time: 0:00:00||"
     ]
    },
    {
     "name": "stdout",
     "output_type": "stream",
     "text": [
      "INFO: discovered node: Website\n",
      "INFO: GOT REWARD: Web browser history revealed website URL of interest\n",
      "INFO: Vulnerability 'CredScanGitHistory' not supported by node 'Website'\n",
      "INFO: Vulnerability 'ScanSharepointParentDirectory' not supported by node 'client'\n"
     ]
    },
    {
     "name": "stderr",
     "output_type": "stream",
     "text": [
      "Episode 4|Iteration 15|reward:   11.0|last_reward_at:    8|Elapsed Time: 0:00:00||"
     ]
    },
    {
     "name": "stdout",
     "output_type": "stream",
     "text": [
      "INFO: discovered node: Website\n",
      "INFO: GOT REWARD: Web browser history revealed website URL of interest\n",
      "INFO: Vulnerability 'AccessDataWithSASToken' not supported by node 'client'\n"
     ]
    },
    {
     "name": "stderr",
     "output_type": "stream",
     "text": [
      "Episode 4|Iteration 18|reward:   11.0|last_reward_at:    8|Elapsed Time: 0:00:00||"
     ]
    },
    {
     "name": "stdout",
     "output_type": "stream",
     "text": [
      "INFO: Vulnerability 'CredScanGitHistory' not supported by node 'client'\n",
      "INFO: discovered node: Website\n",
      "INFO: GOT REWARD: Web browser history revealed website URL of interest\n",
      "INFO: Vulnerability 'ListAzureResources' not supported by node 'Website'\n"
     ]
    },
    {
     "name": "stderr",
     "output_type": "stream",
     "text": [
      "Episode 4|Iteration 20|reward:   11.0|last_reward_at:    8|Elapsed Time: 0:00:00||"
     ]
    },
    {
     "name": "stdout",
     "output_type": "stream",
     "text": [
      "INFO: Vulnerability 'CredScanGitHistory' not supported by node 'Website'\n",
      "INFO: Vulnerability 'ListAzureResources' not supported by node 'Website'\n"
     ]
    },
    {
     "name": "stderr",
     "output_type": "stream",
     "text": [
      "Episode 4|Iteration 23|reward:   11.0|last_reward_at:    8|Elapsed Time: 0:00:00||"
     ]
    },
    {
     "name": "stdout",
     "output_type": "stream",
     "text": [
      "INFO: discovered node: Website\n",
      "INFO: GOT REWARD: Web browser history revealed website URL of interest\n",
      "INFO: Vulnerability 'AccessDataWithSASToken' not supported by node 'Website'\n",
      "INFO: discovered node: Website\n",
      "INFO: GOT REWARD: Web browser history revealed website URL of interest\n"
     ]
    },
    {
     "name": "stderr",
     "output_type": "stream",
     "text": [
      "Episode 4|Iteration 25|reward:   11.0|last_reward_at:    8|Elapsed Time: 0:00:00||"
     ]
    },
    {
     "name": "stdout",
     "output_type": "stream",
     "text": [
      "INFO: discovered node: Website\n",
      "INFO: GOT REWARD: Web browser history revealed website URL of interest\n",
      "INFO: discovered node: Website.Directory\n",
      "INFO: GOT REWARD: Viewing the web page source reveals a URL to a .txt file and directory on the website\n"
     ]
    },
    {
     "name": "stderr",
     "output_type": "stream",
     "text": [
      "Episode 4|Iteration 27|reward:   22.0|last_reward_at:   27|Elapsed Time: 0:00:00||"
     ]
    },
    {
     "name": "stdout",
     "output_type": "stream",
     "text": [
      "INFO: Vulnerability 'NavigateWebDirectoryFurther' not supported by node 'client'\n",
      "INFO: discovered node: Website\n",
      "INFO: GOT REWARD: Web browser history revealed website URL of interest\n",
      "INFO: discovered node: Website\n",
      "INFO: GOT REWARD: Web browser history revealed website URL of interest\n"
     ]
    },
    {
     "name": "stderr",
     "output_type": "stream",
     "text": [
      "Episode 4|Iteration 31|reward:   22.0|last_reward_at:   27|Elapsed Time: 0:00:01||"
     ]
    },
    {
     "name": "stdout",
     "output_type": "stream",
     "text": [
      "INFO: Vulnerability 'NavigateWebDirectory' not supported by node 'client'\n",
      "INFO: discovered node: Website\n",
      "INFO: GOT REWARD: Web browser history revealed website URL of interest\n",
      "INFO: Vulnerability 'ScanPageSource' not supported by node 'Website.Directory'\n",
      "INFO: discovered node: Website\n",
      "INFO: discovered credential: CachedCredential(node='Website', port='MySQL', credential='ReusedMySqlCred-web')\n",
      "INFO: GOT REWARD: Discover browseable web directory: Navigating to parent URL revealed file `readme.txt`with secret data (aflag); and `getting-started.txt` with MYSQL credentials\n"
     ]
    },
    {
     "name": "stderr",
     "output_type": "stream",
     "text": [
      "Episode 4|Iteration 34|reward:   31.0|last_reward_at:   34|Elapsed Time: 0:00:01||"
     ]
    },
    {
     "name": "stdout",
     "output_type": "stream",
     "text": [
      "INFO: BLOCKED TRAFFIC: source node 'client' is blocking outgoing traffic on port 'MySQL'\n",
      "INFO: discovered node: Website.Directory\n",
      "INFO: GOT REWARD: Viewing the web page source reveals a URL to a .txt file and directory on the website\n",
      "INFO: discovered node: Website\n",
      "INFO: GOT REWARD: Web browser history revealed website URL of interest\n"
     ]
    },
    {
     "name": "stderr",
     "output_type": "stream",
     "text": [
      "Episode 4|Iteration 38|reward:   31.0|last_reward_at:   34|Elapsed Time: 0:00:01||"
     ]
    },
    {
     "name": "stdout",
     "output_type": "stream",
     "text": [
      "INFO: discovered node: Website.Directory\n",
      "INFO: GOT REWARD: Viewing the web page source reveals a URL to a .txt file and directory on the website\n",
      "INFO: BLOCKED TRAFFIC: source node 'client' is blocking outgoing traffic on port 'GIT'\n",
      "INFO: BLOCKED TRAFFIC: source node 'client' is blocking outgoing traffic on port 'SSH-key'\n"
     ]
    },
    {
     "name": "stderr",
     "output_type": "stream",
     "text": [
      "Episode 4|Iteration 40|reward:   31.0|last_reward_at:   34|Elapsed Time: 0:00:01||"
     ]
    },
    {
     "name": "stdout",
     "output_type": "stream",
     "text": [
      "INFO: BLOCKED TRAFFIC: source node 'client' is blocking outgoing traffic on port 'su'\n",
      "INFO: invalid credentials supplied\n",
      "INFO: BLOCKED TRAFFIC: source node 'client' is blocking outgoing traffic on port 'MySQL'\n"
     ]
    },
    {
     "name": "stderr",
     "output_type": "stream",
     "text": [
      "Episode 4|Iteration 44|reward:   31.0|last_reward_at:   34|Elapsed Time: 0:00:01||"
     ]
    },
    {
     "name": "stdout",
     "output_type": "stream",
     "text": [
      "INFO: BLOCKED TRAFFIC: source node 'client' is blocking outgoing traffic on port 'MySQL'\n",
      "INFO: discovered node: Website\n",
      "INFO: GOT REWARD: Web browser history revealed website URL of interest\n"
     ]
    },
    {
     "name": "stderr",
     "output_type": "stream",
     "text": [
      "Episode 4|Iteration 46|reward:   31.0|last_reward_at:   34|Elapsed Time: 0:00:01||"
     ]
    },
    {
     "name": "stdout",
     "output_type": "stream",
     "text": [
      "INFO: discovered node: Website\n",
      "INFO: GOT REWARD: Web browser history revealed website URL of interest\n",
      "INFO: Infected node 'Website' from 'client' via SSH with credential 'ReusedMySqlCred-web'\n",
      "INFO: Owned message: FLAG: Login using insecure SSH user/password\n",
      "[TarpitAgent] Deployed tarpit 'Tarpit_Website' connected to 'Website'\n",
      "INFO: discovered node: Tarpit_Website\n"
     ]
    },
    {
     "name": "stderr",
     "output_type": "stream",
     "text": [
      "Episode 4|Iteration 47|reward:  131.0|last_reward_at:   47|Elapsed Time: 0:00:01||"
     ]
    },
    {
     "name": "stdout",
     "output_type": "stream",
     "text": [
      "INFO: Vulnerability 'ScanSharepointParentDirectory' not supported by node 'Website'\n",
      "INFO: Vulnerability 'ScanPageContent' not supported by node 'client'\n",
      "INFO: Vulnerability 'AccessDataWithSASToken' not supported by node 'Website.Directory'\n"
     ]
    },
    {
     "name": "stderr",
     "output_type": "stream",
     "text": [
      "Episode 4|Iteration 51|reward:  131.0|last_reward_at:   47|Elapsed Time: 0:00:01||"
     ]
    },
    {
     "name": "stdout",
     "output_type": "stream",
     "text": [
      "INFO: discovered node: Website\n",
      "INFO: GOT REWARD: Web browser history revealed website URL of interest\n",
      "INFO: discovered node: Website\n",
      "INFO: discovered credential: CachedCredential(node='Website', port='MySQL', credential='ReusedMySqlCred-web')\n",
      "INFO: GOT REWARD: Discover browseable web directory: Navigating to parent URL revealed file `readme.txt`with secret data (aflag); and `getting-started.txt` with MYSQL credentials\n"
     ]
    },
    {
     "name": "stderr",
     "output_type": "stream",
     "text": [
      "Episode 4|Iteration 52|reward:  131.0|last_reward_at:   47|Elapsed Time: 0:00:01||"
     ]
    },
    {
     "name": "stdout",
     "output_type": "stream",
     "text": [
      "INFO: target node 'client' not listening on port 'SSH'\n",
      "INFO: discovered node: Website\n",
      "INFO: GOT REWARD: Web browser history revealed website URL of interest\n",
      "INFO: discovered node: Website[user=monitor]\n",
      "INFO: discovered credential: CachedCredential(node='Website[user=monitor]', port='SSH', credential='monitorBashCreds')\n",
      "INFO: GOT REWARD: FLAG: SSH history revealed credentials for the monitoring user (monitor)\n"
     ]
    },
    {
     "name": "stderr",
     "output_type": "stream",
     "text": [
      "Episode 4|Iteration 55|reward:  145.0|last_reward_at:   55|Elapsed Time: 0:00:01||"
     ]
    },
    {
     "name": "stdout",
     "output_type": "stream",
     "text": [
      "INFO: BLOCKED TRAFFIC: source node 'client' is blocking outgoing traffic on port 'SSH-key'\n",
      "INFO: target node 'Website[user=monitor]' not listening on port 'HTTPS'\n",
      "INFO: Vulnerability 'NavigateWebDirectoryFurther' not supported by node 'Website[user=monitor]'\n"
     ]
    },
    {
     "name": "stderr",
     "output_type": "stream",
     "text": [
      "Episode 4|Iteration 59|reward:  145.0|last_reward_at:   55|Elapsed Time: 0:00:01||"
     ]
    },
    {
     "name": "stdout",
     "output_type": "stream",
     "text": [
      "INFO: Vulnerability 'AccessDataWithSASToken' not supported by node 'client'\n",
      "INFO: target node 'Website[user=monitor]' not listening on port 'HTTPS'\n"
     ]
    },
    {
     "name": "stderr",
     "output_type": "stream",
     "text": [
      "Episode 4|Iteration 61|reward:  145.0|last_reward_at:   55|Elapsed Time: 0:00:01||"
     ]
    },
    {
     "name": "stdout",
     "output_type": "stream",
     "text": [
      "INFO: BLOCKED TRAFFIC: source node 'client' is blocking outgoing traffic on port 'su'\n",
      "INFO: target node 'Website[user=monitor]' not listening on port 'HTTPS'\n",
      "INFO: Vulnerability 'NavigateWebDirectoryFurther' not supported by node 'Website'\n"
     ]
    },
    {
     "name": "stderr",
     "output_type": "stream",
     "text": [
      "Episode 4|Iteration 63|reward:  145.0|last_reward_at:   55|Elapsed Time: 0:00:02||"
     ]
    },
    {
     "name": "stdout",
     "output_type": "stream",
     "text": [
      "INFO: Vulnerability 'ScanPageSource' not supported by node 'Website.Directory'\n",
      "INFO: Vulnerability 'ScanSharepointParentDirectory' not supported by node 'Website[user=monitor]'\n"
     ]
    },
    {
     "name": "stderr",
     "output_type": "stream",
     "text": [
      "Episode 4|Iteration 65|reward:  145.0|last_reward_at:   55|Elapsed Time: 0:00:02||"
     ]
    },
    {
     "name": "stdout",
     "output_type": "stream",
     "text": [
      "INFO: invalid credentials supplied\n",
      "INFO: Vulnerability 'ScanSharepointParentDirectory' not supported by node 'Website.Directory'\n",
      "INFO: BLOCKED TRAFFIC: target node 'Website[user=monitor]' is blocking incoming traffic on port 'SSH'\n"
     ]
    },
    {
     "name": "stderr",
     "output_type": "stream",
     "text": [
      "Episode 4|Iteration 68|reward:  145.0|last_reward_at:   55|Elapsed Time: 0:00:02||"
     ]
    },
    {
     "name": "stdout",
     "output_type": "stream",
     "text": [
      "INFO: Vulnerability 'NavigateWebDirectory' not supported by node 'client'\n",
      "INFO: Vulnerability 'ListAzureResources' not supported by node 'Website[user=monitor]'\n"
     ]
    },
    {
     "name": "stderr",
     "output_type": "stream",
     "text": [
      "Episode 4|Iteration 70|reward:  145.0|last_reward_at:   55|Elapsed Time: 0:00:02||"
     ]
    },
    {
     "name": "stdout",
     "output_type": "stream",
     "text": [
      "INFO: Vulnerability 'NavigateWebDirectory' not supported by node 'client'\n",
      "INFO: discovered node: Website\n",
      "INFO: discovered credential: CachedCredential(node='Website', port='MySQL', credential='ReusedMySqlCred-web')\n",
      "INFO: GOT REWARD: Discover browseable web directory: Navigating to parent URL revealed file `readme.txt`with secret data (aflag); and `getting-started.txt` with MYSQL credentials\n"
     ]
    },
    {
     "name": "stderr",
     "output_type": "stream",
     "text": [
      "Episode 4|Iteration 72|reward:  145.0|last_reward_at:   55|Elapsed Time: 0:00:02||"
     ]
    },
    {
     "name": "stdout",
     "output_type": "stream",
     "text": [
      "INFO: Vulnerability 'CredScanGitHistory' not supported by node 'Website'\n",
      "INFO: Vulnerability 'ScanPageContent' not supported by node 'Website[user=monitor]'\n",
      "INFO: BLOCKED TRAFFIC: source node 'Website' is blocking outgoing traffic on port 'MySQL'\n"
     ]
    },
    {
     "name": "stderr",
     "output_type": "stream",
     "text": [
      "Episode 4|Iteration 75|reward:  145.0|last_reward_at:   55|Elapsed Time: 0:00:02||"
     ]
    },
    {
     "name": "stdout",
     "output_type": "stream",
     "text": [
      "INFO: Vulnerability 'AccessDataWithSASToken' not supported by node 'Website[user=monitor]'\n",
      "INFO: Vulnerability 'ScanSharepointParentDirectory' not supported by node 'Website'\n",
      "INFO: invalid credentials supplied\n"
     ]
    },
    {
     "name": "stderr",
     "output_type": "stream",
     "text": [
      "Episode 4|Iteration 79|reward:  145.0|last_reward_at:   55|Elapsed Time: 0:00:02||"
     ]
    },
    {
     "name": "stdout",
     "output_type": "stream",
     "text": [
      "INFO: Vulnerability 'AccessDataWithSASToken' not supported by node 'Website'\n",
      "INFO: discovered node: Website[user=monitor]\n",
      "INFO: discovered credential: CachedCredential(node='Website[user=monitor]', port='SSH', credential='monitorBashCreds')\n",
      "INFO: GOT REWARD: FLAG: SSH history revealed credentials for the monitoring user (monitor)\n",
      "INFO: discovered node: Website\n",
      "INFO: GOT REWARD: Web browser history revealed website URL of interest\n"
     ]
    },
    {
     "name": "stderr",
     "output_type": "stream",
     "text": [
      "Episode 4|Iteration 82|reward:  145.0|last_reward_at:   55|Elapsed Time: 0:00:02||"
     ]
    },
    {
     "name": "stdout",
     "output_type": "stream",
     "text": [
      "INFO: discovered node: Website\n",
      "INFO: GOT REWARD: Web browser history revealed website URL of interest\n",
      "INFO: BLOCKED TRAFFIC: source node 'Website' is blocking outgoing traffic on port 'SSH-key'\n"
     ]
    },
    {
     "name": "stderr",
     "output_type": "stream",
     "text": [
      "Episode 4|Iteration 84|reward:  145.0|last_reward_at:   55|Elapsed Time: 0:00:02||"
     ]
    },
    {
     "name": "stdout",
     "output_type": "stream",
     "text": [
      "INFO: Vulnerability 'CredScanGitHistory' not supported by node 'client'\n",
      "INFO: BLOCKED TRAFFIC: source node 'client' is blocking outgoing traffic on port 'GIT'\n",
      "INFO: BLOCKED TRAFFIC: source node 'client' is blocking outgoing traffic on port 'su'\n"
     ]
    },
    {
     "name": "stderr",
     "output_type": "stream",
     "text": [
      "Episode 4|Iteration 87|reward:  145.0|last_reward_at:   55|Elapsed Time: 0:00:02||"
     ]
    },
    {
     "name": "stdout",
     "output_type": "stream",
     "text": [
      "INFO: Vulnerability 'AccessDataWithSASToken' not supported by node 'client'\n",
      "INFO: Vulnerability 'ListAzureResources' not supported by node 'client'\n",
      "INFO: Vulnerability 'AccessDataWithSASToken' not supported by node 'Website'\n",
      "INFO: Vulnerability 'AccessDataWithSASToken' not supported by node 'Website[user=monitor]'\n",
      "INFO: BLOCKED TRAFFIC: source node 'client' is blocking outgoing traffic on port 'PING'\n"
     ]
    },
    {
     "name": "stderr",
     "output_type": "stream",
     "text": [
      "Episode 4|Iteration 91|reward:  145.0|last_reward_at:   55|Elapsed Time: 0:00:03||"
     ]
    },
    {
     "name": "stdout",
     "output_type": "stream",
     "text": [
      "INFO: target node 'Website[user=monitor]' not listening on port 'HTTPS'\n",
      "INFO: Vulnerability 'ScanPageSource' not supported by node 'client'\n"
     ]
    },
    {
     "name": "stderr",
     "output_type": "stream",
     "text": [
      "Episode 4|Iteration 94|reward:  145.0|last_reward_at:   55|Elapsed Time: 0:00:03||"
     ]
    },
    {
     "name": "stdout",
     "output_type": "stream",
     "text": [
      "INFO: Vulnerability 'ScanPageContent' not supported by node 'client'\n",
      "INFO: BLOCKED TRAFFIC: source node 'Website' is blocking outgoing traffic on port 'PING'\n",
      "INFO: discovered node: Website\n",
      "INFO: discovered credential: CachedCredential(node='Website', port='MySQL', credential='ReusedMySqlCred-web')\n",
      "INFO: GOT REWARD: Discover browseable web directory: Navigating to parent URL revealed file `readme.txt`with secret data (aflag); and `getting-started.txt` with MYSQL credentials\n"
     ]
    },
    {
     "name": "stderr",
     "output_type": "stream",
     "text": [
      "Episode 4|Iteration 97|reward:  145.0|last_reward_at:   55|Elapsed Time: 0:00:03||"
     ]
    },
    {
     "name": "stdout",
     "output_type": "stream",
     "text": [
      "INFO: BLOCKED TRAFFIC: source node 'Website' is blocking outgoing traffic on port 'PING'\n",
      "INFO: Vulnerability 'NavigateWebDirectory' not supported by node 'Website'\n",
      "INFO: discovered node: Website[user=monitor]\n",
      "INFO: discovered credential: CachedCredential(node='Website[user=monitor]', port='SSH', credential='monitorBashCreds')\n",
      "INFO: GOT REWARD: FLAG: SSH history revealed credentials for the monitoring user (monitor)\n",
      "INFO: Vulnerability 'NavigateWebDirectoryFurther' not supported by node 'Website'\n",
      "INFO: discovered node: Website[user=monitor]\n",
      "INFO: discovered credential: CachedCredential(node='Website[user=monitor]', port='SSH', credential='monitorBashCreds')\n",
      "INFO: GOT REWARD: FLAG: SSH history revealed credentials for the monitoring user (monitor)\n"
     ]
    },
    {
     "name": "stderr",
     "output_type": "stream",
     "text": [
      "Episode 4|Iteration 101|reward:  145.0|last_reward_at:   55|Elapsed Time: 0:00:03||"
     ]
    },
    {
     "name": "stdout",
     "output_type": "stream",
     "text": [
      "INFO: discovered node: Website[user=monitor]\n",
      "INFO: discovered credential: CachedCredential(node='Website[user=monitor]', port='SSH', credential='monitorBashCreds')\n",
      "INFO: GOT REWARD: FLAG: SSH history revealed credentials for the monitoring user (monitor)\n",
      "INFO: Vulnerability 'ScanPageContent' not supported by node 'Website[user=monitor]'\n",
      "INFO: discovered node: Website[user=monitor]\n",
      "INFO: discovered credential: CachedCredential(node='Website[user=monitor]', port='SSH', credential='monitorBashCreds')\n",
      "INFO: GOT REWARD: FLAG: SSH history revealed credentials for the monitoring user (monitor)\n",
      "INFO: Vulnerability 'ScanPageSource' not supported by node 'Website[user=monitor]'\n"
     ]
    },
    {
     "name": "stderr",
     "output_type": "stream",
     "text": [
      "Episode 4|Iteration 105|reward:  145.0|last_reward_at:   55|Elapsed Time: 0:00:03||"
     ]
    },
    {
     "name": "stdout",
     "output_type": "stream",
     "text": [
      "INFO: discovered node: Website\n",
      "INFO: GOT REWARD: Web browser history revealed website URL of interest\n",
      "INFO: invalid credentials supplied\n",
      "INFO: BLOCKED TRAFFIC: source node 'client' is blocking outgoing traffic on port 'PING'\n"
     ]
    },
    {
     "name": "stderr",
     "output_type": "stream",
     "text": [
      "Episode 4|Iteration 109|reward:  145.0|last_reward_at:   55|Elapsed Time: 0:00:03||"
     ]
    },
    {
     "name": "stdout",
     "output_type": "stream",
     "text": [
      "INFO: discovered node: Website\n",
      "INFO: discovered credential: CachedCredential(node='Website', port='MySQL', credential='ReusedMySqlCred-web')\n",
      "INFO: GOT REWARD: Discover browseable web directory: Navigating to parent URL revealed file `readme.txt`with secret data (aflag); and `getting-started.txt` with MYSQL credentials\n",
      "INFO: Vulnerability 'ScanSharepointParentDirectory' not supported by node 'client'\n"
     ]
    },
    {
     "name": "stderr",
     "output_type": "stream",
     "text": [
      "Episode 4|Iteration 110|reward:  145.0|last_reward_at:   55|Elapsed Time: 0:00:03||"
     ]
    },
    {
     "name": "stdout",
     "output_type": "stream",
     "text": [
      "INFO: BLOCKED TRAFFIC: source node 'client' is blocking outgoing traffic on port 'su'\n"
     ]
    },
    {
     "name": "stderr",
     "output_type": "stream",
     "text": [
      "Episode 4|Iteration 112|reward:  145.0|last_reward_at:   55|Elapsed Time: 0:00:03||"
     ]
    },
    {
     "name": "stdout",
     "output_type": "stream",
     "text": [
      "INFO: discovered node: Website\n",
      "INFO: GOT REWARD: Web browser history revealed website URL of interest\n",
      "INFO: BLOCKED TRAFFIC: target node 'Website' is blocking incoming traffic on port 'su'\n"
     ]
    },
    {
     "name": "stderr",
     "output_type": "stream",
     "text": [
      "Episode 4|Iteration 114|reward:  145.0|last_reward_at:   55|Elapsed Time: 0:00:03||"
     ]
    },
    {
     "name": "stdout",
     "output_type": "stream",
     "text": [
      "INFO: Vulnerability 'ListAzureResources' not supported by node 'Website.Directory'\n",
      "INFO: BLOCKED TRAFFIC: source node 'Website' is blocking outgoing traffic on port 'MySQL'\n",
      "INFO: discovered node: Website\n",
      "INFO: discovered credential: CachedCredential(node='Website', port='MySQL', credential='ReusedMySqlCred-web')\n",
      "INFO: GOT REWARD: Discover browseable web directory: Navigating to parent URL revealed file `readme.txt`with secret data (aflag); and `getting-started.txt` with MYSQL credentials\n"
     ]
    },
    {
     "name": "stderr",
     "output_type": "stream",
     "text": [
      "Episode 4|Iteration 117|reward:  145.0|last_reward_at:   55|Elapsed Time: 0:00:03||"
     ]
    },
    {
     "name": "stdout",
     "output_type": "stream",
     "text": [
      "INFO: discovered node: Website[user=monitor]\n",
      "INFO: discovered credential: CachedCredential(node='Website[user=monitor]', port='SSH', credential='monitorBashCreds')\n",
      "INFO: GOT REWARD: FLAG: SSH history revealed credentials for the monitoring user (monitor)\n"
     ]
    },
    {
     "name": "stderr",
     "output_type": "stream",
     "text": [
      "Episode 4|Iteration 117|reward:  145.0|last_reward_at:   55|Elapsed Time: 0:00:03||"
     ]
    },
    {
     "name": "stdout",
     "output_type": "stream",
     "text": [
      "INFO: invalid credentials supplied\n"
     ]
    },
    {
     "name": "stderr",
     "output_type": "stream",
     "text": [
      "Episode 4|Iteration 119|reward:  145.0|last_reward_at:   55|Elapsed Time: 0:00:04||"
     ]
    },
    {
     "name": "stdout",
     "output_type": "stream",
     "text": [
      "INFO: Vulnerability 'NavigateWebDirectoryFurther' not supported by node 'Website[user=monitor]'\n",
      "INFO: invalid credentials supplied\n",
      "INFO: BLOCKED TRAFFIC: source node 'client' is blocking outgoing traffic on port 'SSH-key'\n"
     ]
    },
    {
     "name": "stderr",
     "output_type": "stream",
     "text": [
      "Episode 4|Iteration 122|reward:  145.0|last_reward_at:   55|Elapsed Time: 0:00:04||"
     ]
    },
    {
     "name": "stdout",
     "output_type": "stream",
     "text": [
      "INFO: target node 'client' not listening on port 'SSH'\n",
      "INFO: Vulnerability 'ListAzureResources' not supported by node 'client'\n",
      "INFO: target node 'Website[user=monitor]' not listening on port 'HTTPS'\n"
     ]
    },
    {
     "name": "stderr",
     "output_type": "stream",
     "text": [
      "Episode 4|Iteration 124|reward:  145.0|last_reward_at:   55|Elapsed Time: 0:00:04||"
     ]
    },
    {
     "name": "stdout",
     "output_type": "stream",
     "text": [
      "INFO: target node 'Website[user=monitor]' not listening on port 'HTTPS'\n",
      "INFO: target node 'Website[user=monitor]' not listening on port 'HTTPS'\n"
     ]
    },
    {
     "name": "stderr",
     "output_type": "stream",
     "text": [
      "Episode 4|Iteration 127|reward:  145.0|last_reward_at:   55|Elapsed Time: 0:00:04||"
     ]
    },
    {
     "name": "stdout",
     "output_type": "stream",
     "text": [
      "INFO: discovered node: Website\n",
      "INFO: GOT REWARD: Web browser history revealed website URL of interest\n",
      "INFO: BLOCKED TRAFFIC: source node 'client' is blocking outgoing traffic on port 'SSH-key'\n",
      "INFO: discovered node: Website[user=monitor]\n",
      "INFO: discovered credential: CachedCredential(node='Website[user=monitor]', port='SSH', credential='monitorBashCreds')\n",
      "INFO: GOT REWARD: FLAG: SSH history revealed credentials for the monitoring user (monitor)\n"
     ]
    },
    {
     "name": "stderr",
     "output_type": "stream",
     "text": [
      "Episode 4|Iteration 129|reward:  145.0|last_reward_at:   55|Elapsed Time: 0:00:04||"
     ]
    },
    {
     "name": "stdout",
     "output_type": "stream",
     "text": [
      "INFO: discovered node: Sharepoint\n",
      "INFO: GOT REWARD: Navigating to parent URL revealed file `deprecation-checklist.txt` containinga URL to an external sharepoint website\n"
     ]
    },
    {
     "name": "stderr",
     "output_type": "stream",
     "text": [
      "Episode 4|Iteration 130|reward:  156.0|last_reward_at:  130|Elapsed Time: 0:00:04||"
     ]
    },
    {
     "name": "stdout",
     "output_type": "stream",
     "text": [
      "INFO: Vulnerability 'ListAzureResources' not supported by node 'client'\n",
      "INFO: target node 'Website[user=monitor]' not listening on port 'HTTPS'\n",
      "INFO: BLOCKED TRAFFIC: source node 'client' is blocking outgoing traffic on port 'GIT'\n",
      "INFO: discovered node: Website[user=monitor]\n",
      "INFO: discovered credential: CachedCredential(node='Website[user=monitor]', port='SSH', credential='monitorBashCreds')\n",
      "INFO: GOT REWARD: FLAG: SSH history revealed credentials for the monitoring user (monitor)\n"
     ]
    },
    {
     "name": "stderr",
     "output_type": "stream",
     "text": [
      "Episode 4|Iteration 134|reward:  156.0|last_reward_at:  130|Elapsed Time: 0:00:04||"
     ]
    },
    {
     "name": "stdout",
     "output_type": "stream",
     "text": [
      "INFO: Vulnerability 'NavigateWebDirectoryFurther' not supported by node 'Sharepoint'\n",
      "________________________________________\n",
      "!!!Interacted with Node: Tarpit-AzureStorage\n",
      "________________________________________\n"
     ]
    },
    {
     "name": "stderr",
     "output_type": "stream",
     "text": [
      "Episode 4|Iteration 135|reward:  146.0|last_reward_at:  130|Elapsed Time: 0:00:04||"
     ]
    },
    {
     "name": "stdout",
     "output_type": "stream",
     "text": [
      "INFO: BLOCKED TRAFFIC: source node 'Website' is blocking outgoing traffic on port 'MySQL'\n",
      "INFO: Vulnerability 'ListAzureResources' not supported by node 'client'\n",
      "INFO: Vulnerability 'ScanPageSource' not supported by node 'client'\n",
      "INFO: BLOCKED TRAFFIC: source node 'client' is blocking outgoing traffic on port 'SSH-key'\n"
     ]
    },
    {
     "name": "stderr",
     "output_type": "stream",
     "text": [
      "Episode 4|Iteration 140|reward:  146.0|last_reward_at:  130|Elapsed Time: 0:00:04||"
     ]
    },
    {
     "name": "stdout",
     "output_type": "stream",
     "text": [
      "INFO: Vulnerability 'NavigateWebDirectory' not supported by node 'Website'\n",
      "INFO: discovered node: Website[user=monitor]\n",
      "INFO: discovered credential: CachedCredential(node='Website[user=monitor]', port='SSH', credential='monitorBashCreds')\n",
      "INFO: GOT REWARD: FLAG: SSH history revealed credentials for the monitoring user (monitor)\n"
     ]
    },
    {
     "name": "stderr",
     "output_type": "stream",
     "text": [
      "Episode 4|Iteration 142|reward:  146.0|last_reward_at:  130|Elapsed Time: 0:00:04||"
     ]
    },
    {
     "name": "stdout",
     "output_type": "stream",
     "text": [
      "INFO: Vulnerability 'NavigateWebDirectoryFurther' not supported by node 'client'\n",
      "INFO: Vulnerability 'ListAzureResources' not supported by node 'client'\n",
      "INFO: invalid credentials supplied\n"
     ]
    },
    {
     "name": "stderr",
     "output_type": "stream",
     "text": [
      "Episode 4|Iteration 145|reward:  146.0|last_reward_at:  130|Elapsed Time: 0:00:04||"
     ]
    },
    {
     "name": "stdout",
     "output_type": "stream",
     "text": [
      "INFO: Vulnerability 'ScanPageSource' not supported by node 'Website[user=monitor]'\n",
      "INFO: discovered node: Website[user=monitor]\n",
      "INFO: discovered credential: CachedCredential(node='Website[user=monitor]', port='SSH', credential='monitorBashCreds')\n",
      "INFO: GOT REWARD: FLAG: SSH history revealed credentials for the monitoring user (monitor)\n"
     ]
    },
    {
     "name": "stderr",
     "output_type": "stream",
     "text": [
      "Episode 4|Iteration 146|reward:  146.0|last_reward_at:  130|Elapsed Time: 0:00:05||"
     ]
    },
    {
     "name": "stdout",
     "output_type": "stream",
     "text": [
      "INFO: BLOCKED TRAFFIC: target node 'client' is blocking incoming traffic on port 'su'\n"
     ]
    },
    {
     "name": "stderr",
     "output_type": "stream",
     "text": [
      "Episode 4|Iteration 148|reward:  146.0|last_reward_at:  130|Elapsed Time: 0:00:05||"
     ]
    },
    {
     "name": "stdout",
     "output_type": "stream",
     "text": [
      "INFO: Vulnerability 'NavigateWebDirectoryFurther' not supported by node 'Sharepoint'\n"
     ]
    },
    {
     "name": "stderr",
     "output_type": "stream",
     "text": [
      "Episode 4|Iteration 149|reward:  136.0|last_reward_at:  130|Elapsed Time: 0:00:05||"
     ]
    },
    {
     "name": "stdout",
     "output_type": "stream",
     "text": [
      "________________________________________\n",
      "!!!Interacted with Node: Tarpit-AzureStorage\n",
      "________________________________________\n",
      "INFO: BLOCKED TRAFFIC: source node 'client' is blocking outgoing traffic on port 'GIT'\n",
      "INFO: Vulnerability 'NavigateWebDirectoryFurther' not supported by node 'Website'\n"
     ]
    },
    {
     "name": "stderr",
     "output_type": "stream",
     "text": [
      "Episode 4|Iteration 151|reward:  136.0|last_reward_at:  130|Elapsed Time: 0:00:05||"
     ]
    },
    {
     "name": "stdout",
     "output_type": "stream",
     "text": [
      "INFO: discovered node: Website[user=monitor]\n",
      "INFO: discovered credential: CachedCredential(node='Website[user=monitor]', port='SSH', credential='monitorBashCreds')\n",
      "INFO: GOT REWARD: FLAG: SSH history revealed credentials for the monitoring user (monitor)\n",
      "INFO: Vulnerability 'NavigateWebDirectory' not supported by node 'client'\n",
      "INFO: Vulnerability 'NavigateWebDirectory' not supported by node 'Website'\n"
     ]
    },
    {
     "name": "stderr",
     "output_type": "stream",
     "text": [
      "Episode 4|Iteration 154|reward:  136.0|last_reward_at:  130|Elapsed Time: 0:00:05||"
     ]
    },
    {
     "name": "stdout",
     "output_type": "stream",
     "text": [
      "INFO: target node 'client' not listening on port 'SSH'\n",
      "INFO: invalid credentials supplied\n"
     ]
    },
    {
     "name": "stderr",
     "output_type": "stream",
     "text": [
      "Episode 4|Iteration 157|reward:  136.0|last_reward_at:  130|Elapsed Time: 0:00:05||"
     ]
    },
    {
     "name": "stdout",
     "output_type": "stream",
     "text": [
      "INFO: Vulnerability 'CredScanGitHistory' not supported by node 'Website'\n",
      "INFO: Infected node 'Website[user=monitor]' from 'Website' via su with credential 'monitorBashCreds'\n",
      "INFO: Owned message: FLAG User escalation by stealing credentials from bash history\n",
      "[TarpitAgent] Deployed tarpit 'Tarpit_Website[user=monitor]' connected to 'Website[user=monitor]'\n",
      "INFO: discovered node: Tarpit_Website[user=monitor]\n"
     ]
    },
    {
     "name": "stderr",
     "output_type": "stream",
     "text": [
      "Episode 4|Iteration 158|reward:  236.0|last_reward_at:  158|Elapsed Time: 0:00:05||"
     ]
    },
    {
     "name": "stdout",
     "output_type": "stream",
     "text": [
      "INFO: BLOCKED TRAFFIC: source node 'Website' is blocking outgoing traffic on port 'SSH-key'\n",
      "INFO: target node 'Sharepoint' not listening on port 'SSH'\n",
      "________________________________________\n",
      "!!!Interacted with Node: Tarpit-AzureStorage\n",
      "________________________________________\n"
     ]
    },
    {
     "name": "stderr",
     "output_type": "stream",
     "text": [
      "Episode 4|Iteration 160|reward:  226.0|last_reward_at:  158|Elapsed Time: 0:00:05||"
     ]
    },
    {
     "name": "stdout",
     "output_type": "stream",
     "text": [
      "INFO: Vulnerability 'ScanSharepointParentDirectory' not supported by node 'client'\n",
      "INFO: discovered node: Website\n",
      "INFO: GOT REWARD: Web browser history revealed website URL of interest\n"
     ]
    },
    {
     "name": "stderr",
     "output_type": "stream",
     "text": [
      "Episode 4|Iteration 163|reward:  226.0|last_reward_at:  158|Elapsed Time: 0:00:05||"
     ]
    },
    {
     "name": "stdout",
     "output_type": "stream",
     "text": [
      "INFO: BLOCKED TRAFFIC: target node 'client' is blocking incoming traffic on port 'su'\n",
      "INFO: discovered node: AzureResourceManager[user=monitor]\n",
      "INFO: discovered credential: CachedCredential(node='AzureResourceManager[user=monitor]', port='HTTPS', credential='azuread_user_credentials')\n",
      "INFO: GOT REWARD: SSH: cat ~/azurecreds.txt (running as monitor) revealed Azure user credential!\n"
     ]
    },
    {
     "name": "stderr",
     "output_type": "stream",
     "text": [
      "Episode 4|Iteration 164|reward:  240.0|last_reward_at:  164|Elapsed Time: 0:00:05||"
     ]
    },
    {
     "name": "stdout",
     "output_type": "stream",
     "text": [
      "INFO: Vulnerability 'CredScanGitHistory' not supported by node 'Website[user=monitor]'\n",
      "INFO: discovered node: AzureResourceManager[user=monitor]\n",
      "INFO: discovered credential: CachedCredential(node='AzureResourceManager[user=monitor]', port='HTTPS', credential='azuread_user_credentials')\n",
      "INFO: GOT REWARD: SSH: cat ~/azurecreds.txt (running as monitor) revealed Azure user credential!\n"
     ]
    },
    {
     "name": "stderr",
     "output_type": "stream",
     "text": [
      "Episode 4|Iteration 166|reward:  240.0|last_reward_at:  164|Elapsed Time: 0:00:06||"
     ]
    },
    {
     "name": "stdout",
     "output_type": "stream",
     "text": [
      "INFO: Vulnerability 'CredScanGitHistory' not supported by node 'Sharepoint'\n"
     ]
    },
    {
     "name": "stderr",
     "output_type": "stream",
     "text": [
      "Episode 4|Iteration 167|reward:  230.0|last_reward_at:  164|Elapsed Time: 0:00:06||"
     ]
    },
    {
     "name": "stdout",
     "output_type": "stream",
     "text": [
      "________________________________________\n",
      "!!!Interacted with Node: Tarpit-AzureStorage\n",
      "________________________________________\n",
      "INFO: BLOCKED TRAFFIC: target node 'AzureResourceManager[user=monitor]' is blocking incoming traffic on port 'su'\n",
      "INFO: Vulnerability 'NavigateWebDirectory' not supported by node 'Website'\n"
     ]
    },
    {
     "name": "stderr",
     "output_type": "stream",
     "text": [
      "Episode 4|Iteration 170|reward:  230.0|last_reward_at:  164|Elapsed Time: 0:00:06||"
     ]
    },
    {
     "name": "stdout",
     "output_type": "stream",
     "text": [
      "INFO: BLOCKED TRAFFIC: source node 'Website[user=monitor]' is blocking outgoing traffic on port 'GIT'\n",
      "________________________________________\n",
      "!!!Interacted with Node: Tarpit-AzureStorage\n",
      "________________________________________\n"
     ]
    },
    {
     "name": "stderr",
     "output_type": "stream",
     "text": [
      "Episode 4|Iteration 170|reward:  220.0|last_reward_at:  164|Elapsed Time: 0:00:06||"
     ]
    },
    {
     "name": "stdout",
     "output_type": "stream",
     "text": [
      "INFO: Vulnerability 'ScanPageContent' not supported by node 'client'\n",
      "INFO: discovered node: Sharepoint\n",
      "INFO: GOT REWARD: Navigating to parent URL revealed file `deprecation-checklist.txt` containinga URL to an external sharepoint website\n"
     ]
    },
    {
     "name": "stderr",
     "output_type": "stream",
     "text": [
      "Episode 4|Iteration 172|reward:  220.0|last_reward_at:  164|Elapsed Time: 0:00:06||"
     ]
    },
    {
     "name": "stdout",
     "output_type": "stream",
     "text": [
      "INFO: discovered node: Website\n",
      "INFO: discovered credential: CachedCredential(node='Website', port='MySQL', credential='ReusedMySqlCred-web')\n",
      "INFO: GOT REWARD: Discover browseable web directory: Navigating to parent URL revealed file `readme.txt`with secret data (aflag); and `getting-started.txt` with MYSQL credentials\n",
      "INFO: BLOCKED TRAFFIC: source node 'client' is blocking outgoing traffic on port 'GIT'\n"
     ]
    },
    {
     "name": "stderr",
     "output_type": "stream",
     "text": [
      "Episode 4|Iteration 175|reward:  220.0|last_reward_at:  164|Elapsed Time: 0:00:06||"
     ]
    },
    {
     "name": "stdout",
     "output_type": "stream",
     "text": [
      "INFO: Vulnerability 'ScanSharepointParentDirectory' not supported by node 'Website[user=monitor]'\n",
      "INFO: Vulnerability 'ListAzureResources' not supported by node 'Website.Directory'\n",
      "INFO: Vulnerability 'CredScanGitHistory' not supported by node 'Sharepoint'\n"
     ]
    },
    {
     "name": "stderr",
     "output_type": "stream",
     "text": [
      "Episode 4|Iteration 178|reward:  220.0|last_reward_at:  164|Elapsed Time: 0:00:06||"
     ]
    },
    {
     "name": "stdout",
     "output_type": "stream",
     "text": [
      "INFO: discovered node: Website\n",
      "INFO: GOT REWARD: Web browser history revealed website URL of interest\n"
     ]
    },
    {
     "name": "stderr",
     "output_type": "stream",
     "text": [
      "Episode 4|Iteration 180|reward:  220.0|last_reward_at:  164|Elapsed Time: 0:00:06||"
     ]
    },
    {
     "name": "stdout",
     "output_type": "stream",
     "text": [
      "INFO: BLOCKED TRAFFIC: source node 'Website' is blocking outgoing traffic on port 'MySQL'\n",
      "INFO: BLOCKED TRAFFIC: source node 'client' is blocking outgoing traffic on port 'su'\n"
     ]
    },
    {
     "name": "stderr",
     "output_type": "stream",
     "text": [
      "Episode 4|Iteration 181|reward:  220.0|last_reward_at:  164|Elapsed Time: 0:00:06||"
     ]
    },
    {
     "name": "stdout",
     "output_type": "stream",
     "text": [
      "INFO: Vulnerability 'NavigateWebDirectory' not supported by node 'AzureResourceManager[user=monitor]'\n",
      "INFO: Vulnerability 'ScanPageSource' not supported by node 'AzureResourceManager[user=monitor]'\n",
      "INFO: Vulnerability 'NavigateWebDirectory' not supported by node 'client'\n"
     ]
    },
    {
     "name": "stderr",
     "output_type": "stream",
     "text": [
      "Episode 4|Iteration 185|reward:  220.0|last_reward_at:  164|Elapsed Time: 0:00:06||"
     ]
    },
    {
     "name": "stdout",
     "output_type": "stream",
     "text": [
      "INFO: BLOCKED TRAFFIC: source node 'Website' is blocking outgoing traffic on port 'MySQL'\n",
      "INFO: BLOCKED TRAFFIC: source node 'Website' is blocking outgoing traffic on port 'MySQL'\n",
      "INFO: BLOCKED TRAFFIC: source node 'client' is blocking outgoing traffic on port 'PING'\n"
     ]
    },
    {
     "name": "stderr",
     "output_type": "stream",
     "text": [
      "Episode 4|Iteration 188|reward:  220.0|last_reward_at:  164|Elapsed Time: 0:00:06||"
     ]
    },
    {
     "name": "stdout",
     "output_type": "stream",
     "text": [
      "INFO: BLOCKED TRAFFIC: source node 'client' is blocking outgoing traffic on port 'SSH-key'\n",
      "INFO: Vulnerability 'NavigateWebDirectoryFurther' not supported by node 'Sharepoint'\n"
     ]
    },
    {
     "name": "stderr",
     "output_type": "stream",
     "text": [
      "Episode 4|Iteration 190|reward:  220.0|last_reward_at:  164|Elapsed Time: 0:00:06||"
     ]
    },
    {
     "name": "stdout",
     "output_type": "stream",
     "text": [
      "INFO: discovered node: Website\n",
      "INFO: GOT REWARD: Web browser history revealed website URL of interest\n",
      "INFO: Vulnerability 'ScanSharepointParentDirectory' not supported by node 'AzureResourceManager[user=monitor]'\n",
      "INFO: Infected node 'AzureResourceManager[user=monitor]' from 'client' via HTTPS with credential 'azuread_user_credentials'\n",
      "INFO: Owned message: More secrets stolen when logged as interactive `monitor` user in Azure with `az`\n",
      "[TarpitAgent] Deployed tarpit 'Tarpit_AzureResourceManager[user=monitor]' connected to 'AzureResourceManager[user=monitor]'\n",
      "INFO: discovered node: Tarpit_AzureResourceManager[user=monitor]\n"
     ]
    },
    {
     "name": "stderr",
     "output_type": "stream",
     "text": [
      "Episode 4|Iteration 192|reward:  270.0|last_reward_at:  192|Elapsed Time: 0:00:07||"
     ]
    },
    {
     "name": "stdout",
     "output_type": "stream",
     "text": [
      "INFO: BLOCKED TRAFFIC: source node 'Website[user=monitor]' is blocking outgoing traffic on port 'PING'\n",
      "INFO: target node 'Sharepoint' not listening on port 'SSH'\n"
     ]
    },
    {
     "name": "stderr",
     "output_type": "stream",
     "text": [
      "Episode 4|Iteration 195|reward:  270.0|last_reward_at:  192|Elapsed Time: 0:00:07||"
     ]
    },
    {
     "name": "stdout",
     "output_type": "stream",
     "text": [
      "INFO: target node 'AzureResourceManager[user=monitor]' not listening on port 'SSH'\n",
      "INFO: Vulnerability 'ListAzureResources' not supported by node 'AzureResourceManager[user=monitor]'\n",
      "INFO: Vulnerability 'AccessDataWithSASToken' not supported by node 'Website[user=monitor]'\n"
     ]
    },
    {
     "name": "stderr",
     "output_type": "stream",
     "text": [
      "Episode 4|Iteration 198|reward:  270.0|last_reward_at:  192|Elapsed Time: 0:00:07||"
     ]
    },
    {
     "name": "stdout",
     "output_type": "stream",
     "text": [
      "INFO: BLOCKED TRAFFIC: source node 'client' is blocking outgoing traffic on port 'su'\n",
      "INFO: BLOCKED TRAFFIC: source node 'Website[user=monitor]' is blocking outgoing traffic on port 'su'\n",
      "INFO: target node 'Sharepoint' not listening on port 'SSH'\n"
     ]
    },
    {
     "name": "stderr",
     "output_type": "stream",
     "text": [
      "Episode 4|Iteration 200|reward:  270.0|last_reward_at:  192|Elapsed Time: 0:00:07||\n"
     ]
    },
    {
     "name": "stdout",
     "output_type": "stream",
     "text": [
      "  Episode 4 stopped at t=200 \n",
      "  Breakdown [Reward/NoReward (Success rate)]\n",
      "    explore-local: 3/26 (0.10)\n",
      "    explore-remote: 3/81 (0.04)\n",
      "    explore-connect: 1/56 (0.02)\n",
      "    exploit-local: 0/8 (0.00)\n",
      "    exploit-remote: 0/10 (0.00)\n",
      "    exploit-connect: 2/10 (0.17)\n",
      "  exploit deflected to exploration: 8\n",
      "  ## Episode: 5/5 'Tarpit-60%' ϵ=0.7819, γ=0.015, lr=0.01, replaymemory=10000,\n",
      "batch=512, target_update=10\n",
      "Total Applied Penalties: 5\n",
      "INFO: Resetting the CyberBattle environment\n"
     ]
    },
    {
     "name": "stderr",
     "output_type": "stream",
     "text": [
      "Episode 5|Iteration 0|reward: ------|last_reward_at: ----|Elapsed Time: 0:00:00||"
     ]
    },
    {
     "name": "stdout",
     "output_type": "stream",
     "text": [
      "INFO: Vulnerability 'ListAzureResources' not supported by node 'client'\n",
      "[TarpitAgent] Deployed tarpit 'Tarpit_client' connected to 'client'\n",
      "INFO: discovered node: Tarpit_client\n"
     ]
    },
    {
     "name": "stderr",
     "output_type": "stream",
     "text": [
      "Episode 5|Iteration 1|reward:    0.0|last_reward_at: ----|Elapsed Time: 0:00:00||"
     ]
    },
    {
     "name": "stdout",
     "output_type": "stream",
     "text": [
      "INFO: Vulnerability 'ScanSharepointParentDirectory' not supported by node 'client'\n",
      "INFO: Vulnerability 'ScanSharepointParentDirectory' not supported by node 'client'\n",
      "INFO: Vulnerability 'ScanSharepointParentDirectory' not supported by node 'client'\n",
      "INFO: Vulnerability 'NavigateWebDirectoryFurther' not supported by node 'client'\n"
     ]
    },
    {
     "name": "stderr",
     "output_type": "stream",
     "text": [
      "Episode 5|Iteration 5|reward:    0.0|last_reward_at: ----|Elapsed Time: 0:00:00||"
     ]
    },
    {
     "name": "stdout",
     "output_type": "stream",
     "text": [
      "INFO: discovered node: Website\n",
      "INFO: GOT REWARD: Web browser history revealed website URL of interest\n"
     ]
    },
    {
     "name": "stderr",
     "output_type": "stream",
     "text": [
      "Episode 5|Iteration 6|reward:   11.0|last_reward_at:    6|Elapsed Time: 0:00:00||"
     ]
    },
    {
     "name": "stdout",
     "output_type": "stream",
     "text": [
      "INFO: discovered node: Website\n",
      "INFO: GOT REWARD: Web browser history revealed website URL of interest\n",
      "INFO: Vulnerability 'CredScanGitHistory' not supported by node 'client'\n",
      "INFO: discovered node: Website\n",
      "INFO: GOT REWARD: Web browser history revealed website URL of interest\n",
      "INFO: discovered node: Website.Directory\n",
      "INFO: GOT REWARD: Viewing the web page source reveals a URL to a .txt file and directory on the website\n"
     ]
    },
    {
     "name": "stderr",
     "output_type": "stream",
     "text": [
      "Episode 5|Iteration 10|reward:   22.0|last_reward_at:   10|Elapsed Time: 0:00:00||"
     ]
    },
    {
     "name": "stdout",
     "output_type": "stream",
     "text": [
      "INFO: Vulnerability 'ScanPageContent' not supported by node 'client'\n",
      "INFO: Vulnerability 'CredScanGitHistory' not supported by node 'Website'\n"
     ]
    },
    {
     "name": "stderr",
     "output_type": "stream",
     "text": [
      "Episode 5|Iteration 13|reward:   22.0|last_reward_at:   10|Elapsed Time: 0:00:00||"
     ]
    },
    {
     "name": "stdout",
     "output_type": "stream",
     "text": [
      "INFO: Vulnerability 'ListAzureResources' not supported by node 'Website.Directory'\n",
      "INFO: discovered node: Website\n",
      "INFO: GOT REWARD: Web browser history revealed website URL of interest\n",
      "INFO: Vulnerability 'ListAzureResources' not supported by node 'client'\n"
     ]
    },
    {
     "name": "stderr",
     "output_type": "stream",
     "text": [
      "Episode 5|Iteration 15|reward:   22.0|last_reward_at:   10|Elapsed Time: 0:00:00||"
     ]
    },
    {
     "name": "stdout",
     "output_type": "stream",
     "text": [
      "INFO: Vulnerability 'NavigateWebDirectoryFurther' not supported by node 'client'\n",
      "INFO: Vulnerability 'ScanPageContent' not supported by node 'client'\n",
      "INFO: Vulnerability 'NavigateWebDirectoryFurther' not supported by node 'Website'\n",
      "INFO: Vulnerability 'NavigateWebDirectoryFurther' not supported by node 'Website'\n"
     ]
    },
    {
     "name": "stderr",
     "output_type": "stream",
     "text": [
      "Episode 5|Iteration 19|reward:   22.0|last_reward_at:   10|Elapsed Time: 0:00:00||"
     ]
    },
    {
     "name": "stdout",
     "output_type": "stream",
     "text": [
      "INFO: Vulnerability 'AccessDataWithSASToken' not supported by node 'client'\n",
      "INFO: Vulnerability 'ScanPageSource' not supported by node 'client'\n",
      "INFO: discovered node: Website\n",
      "INFO: GOT REWARD: Web browser history revealed website URL of interest\n"
     ]
    },
    {
     "name": "stderr",
     "output_type": "stream",
     "text": [
      "Episode 5|Iteration 23|reward:   22.0|last_reward_at:   10|Elapsed Time: 0:00:00||"
     ]
    },
    {
     "name": "stdout",
     "output_type": "stream",
     "text": [
      "INFO: discovered node: Website\n",
      "INFO: discovered credential: CachedCredential(node='Website', port='MySQL', credential='ReusedMySqlCred-web')\n",
      "INFO: GOT REWARD: Discover browseable web directory: Navigating to parent URL revealed file `readme.txt`with secret data (aflag); and `getting-started.txt` with MYSQL credentials\n"
     ]
    },
    {
     "name": "stderr",
     "output_type": "stream",
     "text": [
      "Episode 5|Iteration 23|reward:   31.0|last_reward_at:   23|Elapsed Time: 0:00:00||"
     ]
    },
    {
     "name": "stdout",
     "output_type": "stream",
     "text": [
      "INFO: Vulnerability 'ScanSharepointParentDirectory' not supported by node 'Website'\n",
      "INFO: discovered node: Website\n",
      "INFO: discovered credential: CachedCredential(node='Website', port='MySQL', credential='ReusedMySqlCred-web')\n",
      "INFO: GOT REWARD: Discover browseable web directory: Navigating to parent URL revealed file `readme.txt`with secret data (aflag); and `getting-started.txt` with MYSQL credentials\n"
     ]
    },
    {
     "name": "stderr",
     "output_type": "stream",
     "text": [
      "Episode 5|Iteration 26|reward:   31.0|last_reward_at:   23|Elapsed Time: 0:00:00||"
     ]
    },
    {
     "name": "stdout",
     "output_type": "stream",
     "text": [
      "INFO: discovered node: Website\n",
      "INFO: GOT REWARD: Web browser history revealed website URL of interest\n",
      "INFO: discovered node: Website\n",
      "INFO: GOT REWARD: Web browser history revealed website URL of interest\n"
     ]
    },
    {
     "name": "stderr",
     "output_type": "stream",
     "text": [
      "Episode 5|Iteration 28|reward:   31.0|last_reward_at:   23|Elapsed Time: 0:00:00||"
     ]
    },
    {
     "name": "stdout",
     "output_type": "stream",
     "text": [
      "INFO: Vulnerability 'AccessDataWithSASToken' not supported by node 'Website'\n",
      "INFO: Vulnerability 'NavigateWebDirectoryFurther' not supported by node 'Website'\n",
      "INFO: target node 'client' not listening on port 'SSH'\n"
     ]
    },
    {
     "name": "stderr",
     "output_type": "stream",
     "text": [
      "Episode 5|Iteration 30|reward:   31.0|last_reward_at:   23|Elapsed Time: 0:00:00||"
     ]
    },
    {
     "name": "stdout",
     "output_type": "stream",
     "text": [
      "INFO: invalid credentials supplied\n",
      "INFO: target node 'client' not listening on port 'SSH'\n",
      "INFO: Vulnerability 'ScanSharepointParentDirectory' not supported by node 'client'\n",
      "INFO: Vulnerability 'NavigateWebDirectoryFurther' not supported by node 'Website'\n",
      "INFO: Vulnerability 'NavigateWebDirectoryFurther' not supported by node 'client'\n"
     ]
    },
    {
     "name": "stderr",
     "output_type": "stream",
     "text": [
      "Episode 5|Iteration 35|reward:   31.0|last_reward_at:   23|Elapsed Time: 0:00:01||"
     ]
    },
    {
     "name": "stdout",
     "output_type": "stream",
     "text": [
      "INFO: BLOCKED TRAFFIC: source node 'client' is blocking outgoing traffic on port 'PING'\n",
      "INFO: invalid credentials supplied\n"
     ]
    },
    {
     "name": "stderr",
     "output_type": "stream",
     "text": [
      "Episode 5|Iteration 38|reward:   31.0|last_reward_at:   23|Elapsed Time: 0:00:01||"
     ]
    },
    {
     "name": "stdout",
     "output_type": "stream",
     "text": [
      "INFO: Vulnerability 'NavigateWebDirectory' not supported by node 'Website'\n",
      "INFO: invalid credentials supplied\n",
      "INFO: invalid credentials supplied\n"
     ]
    },
    {
     "name": "stderr",
     "output_type": "stream",
     "text": [
      "Episode 5|Iteration 41|reward:   31.0|last_reward_at:   23|Elapsed Time: 0:00:01||"
     ]
    },
    {
     "name": "stdout",
     "output_type": "stream",
     "text": [
      "INFO: Vulnerability 'ScanPageContent' not supported by node 'Website.Directory'\n",
      "INFO: invalid credentials supplied\n",
      "INFO: discovered node: Website\n",
      "INFO: GOT REWARD: Web browser history revealed website URL of interest\n"
     ]
    },
    {
     "name": "stderr",
     "output_type": "stream",
     "text": [
      "Episode 5|Iteration 44|reward:   31.0|last_reward_at:   23|Elapsed Time: 0:00:01||"
     ]
    },
    {
     "name": "stdout",
     "output_type": "stream",
     "text": [
      "INFO: discovered node: Website\n",
      "INFO: GOT REWARD: Web browser history revealed website URL of interest\n",
      "INFO: BLOCKED TRAFFIC: source node 'client' is blocking outgoing traffic on port 'PING'\n",
      "INFO: target node 'client' not listening on port 'HTTPS'\n",
      "INFO: Vulnerability 'ListAzureResources' not supported by node 'Website.Directory'\n",
      "INFO: discovered node: Website\n",
      "INFO: GOT REWARD: Web browser history revealed website URL of interest\n"
     ]
    },
    {
     "name": "stderr",
     "output_type": "stream",
     "text": [
      "Episode 5|Iteration 48|reward:   31.0|last_reward_at:   23|Elapsed Time: 0:00:01||"
     ]
    },
    {
     "name": "stdout",
     "output_type": "stream",
     "text": [
      "INFO: BLOCKED TRAFFIC: source node 'client' is blocking outgoing traffic on port 'MySQL'\n",
      "INFO: discovered node: GitHubProject\n",
      "INFO: GOT REWARD: WEBSITE page content has a link to github -> Github project discovered!\n"
     ]
    },
    {
     "name": "stderr",
     "output_type": "stream",
     "text": [
      "Episode 5|Iteration 50|reward:   42.0|last_reward_at:   50|Elapsed Time: 0:00:01||"
     ]
    },
    {
     "name": "stdout",
     "output_type": "stream",
     "text": [
      "INFO: Vulnerability 'NavigateWebDirectory' not supported by node 'GitHubProject'\n",
      "INFO: Vulnerability 'ScanSharepointParentDirectory' not supported by node 'Website.Directory'\n",
      "INFO: Vulnerability 'ScanSharepointParentDirectory' not supported by node 'Website'\n"
     ]
    },
    {
     "name": "stderr",
     "output_type": "stream",
     "text": [
      "Episode 5|Iteration 54|reward:   42.0|last_reward_at:   50|Elapsed Time: 0:00:01||"
     ]
    },
    {
     "name": "stdout",
     "output_type": "stream",
     "text": [
      "INFO: invalid credentials supplied\n",
      "INFO: target node 'GitHubProject' not listening on port 'HTTPS'\n",
      "INFO: discovered node: Sharepoint\n",
      "INFO: GOT REWARD: Navigating to parent URL revealed file `deprecation-checklist.txt` containinga URL to an external sharepoint website\n"
     ]
    },
    {
     "name": "stderr",
     "output_type": "stream",
     "text": [
      "Episode 5|Iteration 56|reward:   53.0|last_reward_at:   56|Elapsed Time: 0:00:01||"
     ]
    },
    {
     "name": "stdout",
     "output_type": "stream",
     "text": [
      "INFO: invalid credentials supplied\n",
      "INFO: invalid credentials supplied\n",
      "INFO: BLOCKED TRAFFIC: source node 'client' is blocking outgoing traffic on port 'GIT'\n",
      "INFO: BLOCKED TRAFFIC: source node 'client' is blocking outgoing traffic on port 'MySQL'\n"
     ]
    },
    {
     "name": "stderr",
     "output_type": "stream",
     "text": [
      "Episode 5|Iteration 61|reward:   53.0|last_reward_at:   56|Elapsed Time: 0:00:01||"
     ]
    },
    {
     "name": "stdout",
     "output_type": "stream",
     "text": [
      "INFO: BLOCKED TRAFFIC: source node 'client' is blocking outgoing traffic on port 'PING'\n",
      "INFO: BLOCKED TRAFFIC: source node 'client' is blocking outgoing traffic on port 'MySQL'\n"
     ]
    },
    {
     "name": "stderr",
     "output_type": "stream",
     "text": [
      "Episode 5|Iteration 62|reward:   43.0|last_reward_at:   56|Elapsed Time: 0:00:01||"
     ]
    },
    {
     "name": "stdout",
     "output_type": "stream",
     "text": [
      "________________________________________\n",
      "!!!Interacted with Node: Tarpit-AzureStorage\n",
      "________________________________________\n",
      "INFO: Vulnerability 'ListAzureResources' not supported by node 'Sharepoint'\n",
      "________________________________________\n",
      "!!!Interacted with Node: Tarpit-AzureStorage\n",
      "________________________________________\n"
     ]
    },
    {
     "name": "stderr",
     "output_type": "stream",
     "text": [
      "Episode 5|Iteration 63|reward:   33.0|last_reward_at:   56|Elapsed Time: 0:00:01||"
     ]
    },
    {
     "name": "stdout",
     "output_type": "stream",
     "text": [
      "INFO: Vulnerability 'NavigateWebDirectory' not supported by node 'GitHubProject'\n",
      "INFO: target node 'GitHubProject' not listening on port 'SSH'\n",
      "INFO: discovered node: Sharepoint\n",
      "INFO: GOT REWARD: Navigating to parent URL revealed file `deprecation-checklist.txt` containinga URL to an external sharepoint website\n",
      "INFO: BLOCKED TRAFFIC: source node 'client' is blocking outgoing traffic on port 'GIT'\n",
      "INFO: Vulnerability 'NavigateWebDirectory' not supported by node 'GitHubProject'\n"
     ]
    },
    {
     "name": "stderr",
     "output_type": "stream",
     "text": [
      "Episode 5|Iteration 68|reward:   33.0|last_reward_at:   56|Elapsed Time: 0:00:01||"
     ]
    },
    {
     "name": "stdout",
     "output_type": "stream",
     "text": [
      "INFO: BLOCKED TRAFFIC: source node 'client' is blocking outgoing traffic on port 'SSH-key'\n",
      "INFO: Vulnerability 'NavigateWebDirectory' not supported by node 'Sharepoint'\n",
      "________________________________________\n",
      "!!!Interacted with Node: Tarpit-AzureStorage\n",
      "________________________________________\n"
     ]
    },
    {
     "name": "stderr",
     "output_type": "stream",
     "text": [
      "Episode 5|Iteration 70|reward:   23.0|last_reward_at:   56|Elapsed Time: 0:00:01||"
     ]
    },
    {
     "name": "stdout",
     "output_type": "stream",
     "text": [
      "INFO: Vulnerability 'CredScanGitHistory' not supported by node 'Sharepoint'\n",
      "________________________________________\n",
      "!!!Interacted with Node: Tarpit-AzureStorage\n",
      "________________________________________\n"
     ]
    },
    {
     "name": "stderr",
     "output_type": "stream",
     "text": [
      "Episode 5|Iteration 71|reward:   13.0|last_reward_at:   56|Elapsed Time: 0:00:01||"
     ]
    },
    {
     "name": "stdout",
     "output_type": "stream",
     "text": [
      "INFO: Vulnerability 'NavigateWebDirectory' not supported by node 'Sharepoint'\n",
      "________________________________________\n",
      "!!!Interacted with Node: Tarpit-AzureStorage\n",
      "________________________________________\n"
     ]
    },
    {
     "name": "stderr",
     "output_type": "stream",
     "text": [
      "Episode 5|Iteration 72|reward:    3.0|last_reward_at:   56|Elapsed Time: 0:00:01||"
     ]
    },
    {
     "name": "stdout",
     "output_type": "stream",
     "text": [
      "INFO: Vulnerability 'AccessDataWithSASToken' not supported by node 'GitHubProject'\n",
      "INFO: target node 'Website.Directory' not listening on port 'SSH'\n",
      "INFO: Vulnerability 'NavigateWebDirectoryFurther' not supported by node 'client'\n"
     ]
    },
    {
     "name": "stderr",
     "output_type": "stream",
     "text": [
      "Episode 5|Iteration 76|reward:    3.0|last_reward_at:   56|Elapsed Time: 0:00:01||"
     ]
    },
    {
     "name": "stdout",
     "output_type": "stream",
     "text": [
      "INFO: discovered node: Sharepoint\n",
      "INFO: GOT REWARD: Navigating to parent URL revealed file `deprecation-checklist.txt` containinga URL to an external sharepoint website\n",
      "INFO: target node 'Website.Directory' not listening on port 'SSH'\n",
      "INFO: discovered node: Website\n",
      "INFO: GOT REWARD: Web browser history revealed website URL of interest\n"
     ]
    },
    {
     "name": "stderr",
     "output_type": "stream",
     "text": [
      "Episode 5|Iteration 79|reward:    3.0|last_reward_at:   56|Elapsed Time: 0:00:02||"
     ]
    },
    {
     "name": "stdout",
     "output_type": "stream",
     "text": [
      "INFO: BLOCKED TRAFFIC: source node 'client' is blocking outgoing traffic on port 'SSH-key'\n",
      "INFO: discovered node: Website\n",
      "INFO: GOT REWARD: Web browser history revealed website URL of interest\n",
      "INFO: target node 'Website.Directory' not listening on port 'SSH'\n"
     ]
    },
    {
     "name": "stderr",
     "output_type": "stream",
     "text": [
      "Episode 5|Iteration 82|reward:    3.0|last_reward_at:   56|Elapsed Time: 0:00:02||"
     ]
    },
    {
     "name": "stdout",
     "output_type": "stream",
     "text": [
      "INFO: BLOCKED TRAFFIC: source node 'client' is blocking outgoing traffic on port 'su'\n",
      "INFO: BLOCKED TRAFFIC: source node 'client' is blocking outgoing traffic on port 'PING'\n",
      "INFO: Vulnerability 'NavigateWebDirectory' not supported by node 'Sharepoint'\n",
      "INFO: discovered node: Sharepoint\n",
      "INFO: GOT REWARD: Navigating to parent URL revealed file `deprecation-checklist.txt` containinga URL to an external sharepoint website\n",
      "INFO: BLOCKED TRAFFIC: source node 'client' is blocking outgoing traffic on port 'PING'\n"
     ]
    },
    {
     "name": "stderr",
     "output_type": "stream",
     "text": [
      "Episode 5|Iteration 87|reward:    3.0|last_reward_at:   56|Elapsed Time: 0:00:02||"
     ]
    },
    {
     "name": "stdout",
     "output_type": "stream",
     "text": [
      "INFO: discovered node: Website\n",
      "INFO: GOT REWARD: Web browser history revealed website URL of interest\n",
      "INFO: discovered node: GitHubProject\n",
      "INFO: GOT REWARD: WEBSITE page content has a link to github -> Github project discovered!\n",
      "INFO: invalid credentials supplied\n",
      "INFO: Vulnerability 'AccessDataWithSASToken' not supported by node 'Sharepoint'\n",
      "INFO: invalid credentials supplied\n"
     ]
    },
    {
     "name": "stderr",
     "output_type": "stream",
     "text": [
      "Episode 5|Iteration 91|reward:    3.0|last_reward_at:   56|Elapsed Time: 0:00:02||"
     ]
    },
    {
     "name": "stdout",
     "output_type": "stream",
     "text": [
      "INFO: discovered node: Website\n",
      "INFO: GOT REWARD: Web browser history revealed website URL of interest\n",
      "INFO: target node 'client' not listening on port 'HTTPS'\n",
      "INFO: target node 'Website.Directory' not listening on port 'SSH'\n",
      "INFO: discovered node: Website\n",
      "INFO: GOT REWARD: Web browser history revealed website URL of interest\n",
      "INFO: Vulnerability 'ScanPageContent' not supported by node 'Sharepoint'\n"
     ]
    },
    {
     "name": "stderr",
     "output_type": "stream",
     "text": [
      "Episode 5|Iteration 96|reward:    3.0|last_reward_at:   56|Elapsed Time: 0:00:02||"
     ]
    },
    {
     "name": "stdout",
     "output_type": "stream",
     "text": [
      "INFO: discovered node: Website\n",
      "INFO: GOT REWARD: Web browser history revealed website URL of interest\n",
      "INFO: invalid credentials supplied\n",
      "INFO: discovered node: Website\n",
      "INFO: GOT REWARD: Web browser history revealed website URL of interest\n",
      "INFO: BLOCKED TRAFFIC: source node 'client' is blocking outgoing traffic on port 'su'\n",
      "INFO: Vulnerability 'CredScanGitHistory' not supported by node 'client'\n"
     ]
    },
    {
     "name": "stderr",
     "output_type": "stream",
     "text": [
      "Episode 5|Iteration 101|reward:    3.0|last_reward_at:   56|Elapsed Time: 0:00:02||"
     ]
    },
    {
     "name": "stdout",
     "output_type": "stream",
     "text": [
      "INFO: target node 'GitHubProject' not listening on port 'SSH'\n",
      "INFO: Vulnerability 'NavigateWebDirectoryFurther' not supported by node 'Sharepoint'\n",
      "INFO: invalid credentials supplied\n",
      "INFO: Vulnerability 'ScanSharepointParentDirectory' not supported by node 'Website.Directory'\n",
      "INFO: Vulnerability 'ScanSharepointParentDirectory' not supported by node 'Website.Directory'\n"
     ]
    },
    {
     "name": "stderr",
     "output_type": "stream",
     "text": [
      "Episode 5|Iteration 107|reward:    3.0|last_reward_at:   56|Elapsed Time: 0:00:02||"
     ]
    },
    {
     "name": "stdout",
     "output_type": "stream",
     "text": [
      "INFO: discovered node: Website\n",
      "INFO: GOT REWARD: Web browser history revealed website URL of interest\n",
      "INFO: invalid credentials supplied\n",
      "INFO: Vulnerability 'NavigateWebDirectory' not supported by node 'client'\n",
      "INFO: Vulnerability 'ScanPageContent' not supported by node 'Website.Directory'\n",
      "INFO: invalid credentials supplied\n"
     ]
    },
    {
     "name": "stderr",
     "output_type": "stream",
     "text": [
      "Episode 5|Iteration 111|reward:    3.0|last_reward_at:   56|Elapsed Time: 0:00:02||"
     ]
    },
    {
     "name": "stdout",
     "output_type": "stream",
     "text": [
      "INFO: Vulnerability 'AccessDataWithSASToken' not supported by node 'client'\n",
      "INFO: BLOCKED TRAFFIC: source node 'client' is blocking outgoing traffic on port 'su'\n",
      "INFO: Vulnerability 'ScanPageContent' not supported by node 'Sharepoint'\n",
      "INFO: BLOCKED TRAFFIC: source node 'client' is blocking outgoing traffic on port 'PING'\n",
      "INFO: Vulnerability 'ScanSharepointParentDirectory' not supported by node 'GitHubProject'\n"
     ]
    },
    {
     "name": "stderr",
     "output_type": "stream",
     "text": [
      "Episode 5|Iteration 117|reward:    3.0|last_reward_at:   56|Elapsed Time: 0:00:02||"
     ]
    },
    {
     "name": "stdout",
     "output_type": "stream",
     "text": [
      "INFO: Vulnerability 'NavigateWebDirectory' not supported by node 'GitHubProject'\n",
      "INFO: discovered node: AzureResourceManager\n",
      "INFO: discovered credential: CachedCredential(node='AzureResourceManager', port='HTTPS', credential='ADPrincipalCreds')\n",
      "INFO: GOT REWARD: Navigating to the Sharepoint site revealed  AD Service Principal Credentials\n"
     ]
    },
    {
     "name": "stderr",
     "output_type": "stream",
     "text": [
      "Episode 5|Iteration 118|reward:   17.0|last_reward_at:  118|Elapsed Time: 0:00:02||"
     ]
    },
    {
     "name": "stdout",
     "output_type": "stream",
     "text": [
      "INFO: Vulnerability 'AccessDataWithSASToken' not supported by node 'GitHubProject'\n",
      "INFO: Vulnerability 'ScanSharepointParentDirectory' not supported by node 'AzureResourceManager'\n",
      "INFO: discovered node: Website\n",
      "INFO: GOT REWARD: Web browser history revealed website URL of interest\n"
     ]
    },
    {
     "name": "stderr",
     "output_type": "stream",
     "text": [
      "Episode 5|Iteration 122|reward:   17.0|last_reward_at:  118|Elapsed Time: 0:00:02||"
     ]
    },
    {
     "name": "stdout",
     "output_type": "stream",
     "text": [
      "INFO: Vulnerability 'ScanSharepointParentDirectory' not supported by node 'GitHubProject'\n",
      "INFO: Vulnerability 'NavigateWebDirectory' not supported by node 'AzureResourceManager'\n",
      "INFO: target node 'Website.Directory' not listening on port 'SSH'\n"
     ]
    },
    {
     "name": "stderr",
     "output_type": "stream",
     "text": [
      "Episode 5|Iteration 125|reward:   17.0|last_reward_at:  118|Elapsed Time: 0:00:02||"
     ]
    },
    {
     "name": "stdout",
     "output_type": "stream",
     "text": [
      "INFO: BLOCKED TRAFFIC: source node 'client' is blocking outgoing traffic on port 'su'\n",
      "INFO: Vulnerability 'NavigateWebDirectory' not supported by node 'AzureResourceManager'\n",
      "INFO: Vulnerability 'NavigateWebDirectory' not supported by node 'AzureResourceManager'\n",
      "INFO: Vulnerability 'ScanSharepointParentDirectory' not supported by node 'Website.Directory'\n",
      "INFO: Vulnerability 'ListAzureResources' not supported by node 'Sharepoint'\n"
     ]
    },
    {
     "name": "stderr",
     "output_type": "stream",
     "text": [
      "Episode 5|Iteration 130|reward:   17.0|last_reward_at:  118|Elapsed Time: 0:00:03||"
     ]
    },
    {
     "name": "stdout",
     "output_type": "stream",
     "text": [
      "INFO: discovered node: GitHubProject\n",
      "INFO: GOT REWARD: WEBSITE page content has a link to github -> Github project discovered!\n",
      "INFO: BLOCKED TRAFFIC: source node 'client' is blocking outgoing traffic on port 'SSH-key'\n",
      "INFO: BLOCKED TRAFFIC: source node 'client' is blocking outgoing traffic on port 'SSH-key'\n",
      "INFO: BLOCKED TRAFFIC: source node 'client' is blocking outgoing traffic on port 'GIT'\n",
      "INFO: Vulnerability 'ScanSharepointParentDirectory' not supported by node 'AzureResourceManager'\n"
     ]
    },
    {
     "name": "stderr",
     "output_type": "stream",
     "text": [
      "Episode 5|Iteration 134|reward:   17.0|last_reward_at:  118|Elapsed Time: 0:00:03||"
     ]
    },
    {
     "name": "stdout",
     "output_type": "stream",
     "text": [
      "INFO: target node 'AzureResourceManager' not listening on port 'SSH'\n",
      "INFO: Vulnerability 'ScanSharepointParentDirectory' not supported by node 'AzureResourceManager'\n",
      "INFO: Vulnerability 'ScanSharepointParentDirectory' not supported by node 'Website'\n",
      "INFO: Vulnerability 'ScanSharepointParentDirectory' not supported by node 'client'\n",
      "INFO: BLOCKED TRAFFIC: source node 'client' is blocking outgoing traffic on port 'MySQL'\n"
     ]
    },
    {
     "name": "stderr",
     "output_type": "stream",
     "text": [
      "Episode 5|Iteration 139|reward:   17.0|last_reward_at:  118|Elapsed Time: 0:00:04||"
     ]
    },
    {
     "name": "stdout",
     "output_type": "stream",
     "text": [
      "INFO: Vulnerability 'ScanSharepointParentDirectory' not supported by node 'Website'\n",
      "INFO: Vulnerability 'NavigateWebDirectory' not supported by node 'Website'\n",
      "INFO: BLOCKED TRAFFIC: source node 'client' is blocking outgoing traffic on port 'MySQL'\n",
      "INFO: discovered node: Website\n",
      "INFO: GOT REWARD: Web browser history revealed website URL of interest\n",
      "INFO: Vulnerability 'NavigateWebDirectoryFurther' not supported by node 'client'\n"
     ]
    },
    {
     "name": "stderr",
     "output_type": "stream",
     "text": [
      "Episode 5|Iteration 145|reward:   17.0|last_reward_at:  118|Elapsed Time: 0:00:04||"
     ]
    },
    {
     "name": "stdout",
     "output_type": "stream",
     "text": [
      "INFO: discovered node: Website\n",
      "INFO: GOT REWARD: Web browser history revealed website URL of interest\n",
      "INFO: BLOCKED TRAFFIC: source node 'client' is blocking outgoing traffic on port 'SSH-key'\n",
      "INFO: discovered node: Website\n",
      "INFO: GOT REWARD: Web browser history revealed website URL of interest\n",
      "INFO: BLOCKED TRAFFIC: source node 'client' is blocking outgoing traffic on port 'GIT'\n",
      "INFO: BLOCKED TRAFFIC: source node 'client' is blocking outgoing traffic on port 'su'\n"
     ]
    },
    {
     "name": "stderr",
     "output_type": "stream",
     "text": [
      "Episode 5|Iteration 150|reward:   17.0|last_reward_at:  118|Elapsed Time: 0:00:04||"
     ]
    },
    {
     "name": "stdout",
     "output_type": "stream",
     "text": [
      "INFO: BLOCKED TRAFFIC: source node 'client' is blocking outgoing traffic on port 'su'\n",
      "INFO: BLOCKED TRAFFIC: source node 'client' is blocking outgoing traffic on port 'SSH-key'\n",
      "INFO: Vulnerability 'ScanSharepointParentDirectory' not supported by node 'GitHubProject'\n",
      "INFO: BLOCKED TRAFFIC: source node 'client' is blocking outgoing traffic on port 'GIT'\n",
      "INFO: invalid credentials supplied\n"
     ]
    },
    {
     "name": "stderr",
     "output_type": "stream",
     "text": [
      "Episode 5|Iteration 154|reward:   17.0|last_reward_at:  118|Elapsed Time: 0:00:04||"
     ]
    },
    {
     "name": "stdout",
     "output_type": "stream",
     "text": [
      "INFO: invalid credentials supplied\n",
      "INFO: BLOCKED TRAFFIC: source node 'client' is blocking outgoing traffic on port 'SSH-key'\n",
      "INFO: Infected node 'AzureResourceManager' from 'client' via HTTPS with credential 'ADPrincipalCreds'\n",
      "INFO: Owned message: FLAG: Shared credentials with database user - Obtained secrets hidden in Azure Managed Resources\n",
      "[TarpitAgent] Deployed tarpit 'Tarpit_AzureResourceManager' connected to 'AzureResourceManager'\n",
      "INFO: discovered node: Tarpit_AzureResourceManager\n"
     ]
    },
    {
     "name": "stderr",
     "output_type": "stream",
     "text": [
      "Episode 5|Iteration 157|reward:   67.0|last_reward_at:  157|Elapsed Time: 0:00:05||"
     ]
    },
    {
     "name": "stdout",
     "output_type": "stream",
     "text": [
      "INFO: invalid credentials supplied\n",
      "INFO: target node 'GitHubProject' not listening on port 'HTTPS'\n"
     ]
    },
    {
     "name": "stderr",
     "output_type": "stream",
     "text": [
      "Episode 5|Iteration 160|reward:   67.0|last_reward_at:  157|Elapsed Time: 0:00:05||"
     ]
    },
    {
     "name": "stdout",
     "output_type": "stream",
     "text": [
      "INFO: Vulnerability 'ScanPageSource' not supported by node 'GitHubProject'\n",
      "INFO: Vulnerability 'NavigateWebDirectory' not supported by node 'AzureResourceManager'\n",
      "INFO: discovered node: Website\n",
      "INFO: GOT REWARD: Web browser history revealed website URL of interest\n"
     ]
    },
    {
     "name": "stderr",
     "output_type": "stream",
     "text": [
      "Episode 5|Iteration 163|reward:   67.0|last_reward_at:  157|Elapsed Time: 0:00:05||"
     ]
    },
    {
     "name": "stdout",
     "output_type": "stream",
     "text": [
      "INFO: discovered node: Website\n",
      "INFO: GOT REWARD: Web browser history revealed website URL of interest\n",
      "INFO: Vulnerability 'ListAzureResources' not supported by node 'Sharepoint'\n",
      "INFO: Vulnerability 'NavigateWebDirectoryFurther' not supported by node 'GitHubProject'\n",
      "INFO: Vulnerability 'ScanSharepointParentDirectory' not supported by node 'GitHubProject'\n",
      "INFO: Vulnerability 'AccessDataWithSASToken' not supported by node 'client'\n"
     ]
    },
    {
     "name": "stderr",
     "output_type": "stream",
     "text": [
      "Episode 5|Iteration 167|reward:   67.0|last_reward_at:  157|Elapsed Time: 0:00:05||"
     ]
    },
    {
     "name": "stdout",
     "output_type": "stream",
     "text": [
      "INFO: Vulnerability 'NavigateWebDirectoryFurther' not supported by node 'GitHubProject'\n",
      "INFO: target node 'GitHubProject' not listening on port 'HTTPS'\n"
     ]
    },
    {
     "name": "stderr",
     "output_type": "stream",
     "text": [
      "Episode 5|Iteration 170|reward:   67.0|last_reward_at:  157|Elapsed Time: 0:00:05||"
     ]
    },
    {
     "name": "stdout",
     "output_type": "stream",
     "text": [
      "INFO: Vulnerability 'NavigateWebDirectory' not supported by node 'Sharepoint'\n",
      "INFO: target node 'client' not listening on port 'HTTPS'\n",
      "INFO: BLOCKED TRAFFIC: source node 'AzureResourceManager' is blocking outgoing traffic on port 'su'\n"
     ]
    },
    {
     "name": "stderr",
     "output_type": "stream",
     "text": [
      "Episode 5|Iteration 173|reward:   67.0|last_reward_at:  157|Elapsed Time: 0:00:05||"
     ]
    },
    {
     "name": "stdout",
     "output_type": "stream",
     "text": [
      "INFO: BLOCKED TRAFFIC: source node 'AzureResourceManager' is blocking outgoing traffic on port 'GIT'\n",
      "INFO: Vulnerability 'ScanSharepointParentDirectory' not supported by node 'client'\n",
      "INFO: BLOCKED TRAFFIC: source node 'client' is blocking outgoing traffic on port 'PING'\n",
      "INFO: invalid credentials supplied\n",
      "INFO: invalid credentials supplied\n"
     ]
    },
    {
     "name": "stderr",
     "output_type": "stream",
     "text": [
      "Episode 5|Iteration 177|reward:   67.0|last_reward_at:  157|Elapsed Time: 0:00:05||"
     ]
    },
    {
     "name": "stdout",
     "output_type": "stream",
     "text": [
      "INFO: Vulnerability 'ListAzureResources' not supported by node 'client'\n",
      "INFO: Vulnerability 'ScanSharepointParentDirectory' not supported by node 'Website'\n"
     ]
    },
    {
     "name": "stderr",
     "output_type": "stream",
     "text": [
      "Episode 5|Iteration 180|reward:   67.0|last_reward_at:  157|Elapsed Time: 0:00:05||"
     ]
    },
    {
     "name": "stdout",
     "output_type": "stream",
     "text": [
      "INFO: BLOCKED TRAFFIC: source node 'AzureResourceManager' is blocking outgoing traffic on port 'PING'\n",
      "INFO: invalid credentials supplied\n",
      "INFO: BLOCKED TRAFFIC: source node 'client' is blocking outgoing traffic on port 'GIT'\n"
     ]
    },
    {
     "name": "stderr",
     "output_type": "stream",
     "text": [
      "Episode 5|Iteration 183|reward:   67.0|last_reward_at:  157|Elapsed Time: 0:00:05||"
     ]
    },
    {
     "name": "stdout",
     "output_type": "stream",
     "text": [
      "INFO: BLOCKED TRAFFIC: source node 'AzureResourceManager' is blocking outgoing traffic on port 'PING'\n",
      "INFO: invalid credentials supplied\n",
      "INFO: BLOCKED TRAFFIC: source node 'client' is blocking outgoing traffic on port 'su'\n",
      "INFO: Vulnerability 'CredScanGitHistory' not supported by node 'Website.Directory'\n",
      "INFO: Vulnerability 'ScanSharepointParentDirectory' not supported by node 'AzureResourceManager'\n"
     ]
    },
    {
     "name": "stderr",
     "output_type": "stream",
     "text": [
      "Episode 5|Iteration 187|reward:   67.0|last_reward_at:  157|Elapsed Time: 0:00:05||"
     ]
    },
    {
     "name": "stdout",
     "output_type": "stream",
     "text": [
      "INFO: BLOCKED TRAFFIC: source node 'client' is blocking outgoing traffic on port 'su'\n",
      "INFO: invalid credentials supplied\n",
      "INFO: BLOCKED TRAFFIC: source node 'client' is blocking outgoing traffic on port 'GIT'\n",
      "INFO: BLOCKED TRAFFIC: source node 'AzureResourceManager' is blocking outgoing traffic on port 'PING'\n",
      "INFO: target node 'client' not listening on port 'SSH'\n"
     ]
    },
    {
     "name": "stderr",
     "output_type": "stream",
     "text": [
      "Episode 5|Iteration 192|reward:   67.0|last_reward_at:  157|Elapsed Time: 0:00:05||"
     ]
    },
    {
     "name": "stdout",
     "output_type": "stream",
     "text": [
      "INFO: Vulnerability 'NavigateWebDirectoryFurther' not supported by node 'client'\n",
      "INFO: discovered node: Website.Directory\n",
      "INFO: GOT REWARD: Viewing the web page source reveals a URL to a .txt file and directory on the website\n",
      "INFO: Vulnerability 'NavigateWebDirectory' not supported by node 'Sharepoint'\n",
      "INFO: target node 'GitHubProject' not listening on port 'SSH'\n",
      "INFO: Vulnerability 'ScanPageContent' not supported by node 'GitHubProject'\n"
     ]
    },
    {
     "name": "stderr",
     "output_type": "stream",
     "text": [
      "Episode 5|Iteration 198|reward:   67.0|last_reward_at:  157|Elapsed Time: 0:00:06||"
     ]
    },
    {
     "name": "stdout",
     "output_type": "stream",
     "text": [
      "INFO: Vulnerability 'NavigateWebDirectoryFurther' not supported by node 'GitHubProject'\n",
      "INFO: BLOCKED TRAFFIC: source node 'AzureResourceManager' is blocking outgoing traffic on port 'GIT'\n",
      "INFO: BLOCKED TRAFFIC: source node 'client' is blocking outgoing traffic on port 'PING'\n"
     ]
    },
    {
     "name": "stderr",
     "output_type": "stream",
     "text": [
      "Episode 5|Iteration 200|reward:   67.0|last_reward_at:  157|Elapsed Time: 0:00:06||\n"
     ]
    },
    {
     "name": "stdout",
     "output_type": "stream",
     "text": [
      "  Episode 5 stopped at t=200 \n",
      "  Breakdown [Reward/NoReward (Success rate)]\n",
      "    explore-local: 1/23 (0.04)\n",
      "    explore-remote: 1/64 (0.02)\n",
      "    explore-connect: 0/60 (0.00)\n",
      "    exploit-local: 0/0 (NaN)\n",
      "    exploit-remote: 4/25 (0.14)\n",
      "    exploit-connect: 1/21 (0.05)\n",
      "  exploit deflected to exploration: 7\n",
      "simulation ended\n"
     ]
    }
   ],
   "source": [
    "# Tarpit Agent\n",
    "# CTF Environment\n",
    "env = env_ctf_tarpitting_60\n",
    "ep = w.EnvironmentBounds.of_identifiers(maximum_node_count=maximum_node_count, maximum_total_credentials=maximum_total_credentials, identifiers=env.identifiers)\n",
    "\n",
    "tarpit60_ctf_dql = learner.epsilon_greedy_search(\n",
    "    cyberbattle_gym_env=env,\n",
    "    environment_properties=ep,\n",
    "    learner=dqla.DeepQLearnerPolicy(\n",
    "        ep=ep,\n",
    "        gamma=0.015,\n",
    "        replay_memory_size=10000,\n",
    "        target_update=10,\n",
    "        batch_size=512,\n",
    "        # torch default learning rate is 1e-2\n",
    "        # a large value helps converge in less episodes\n",
    "        learning_rate=0.01,\n",
    "    ),\n",
    "    episode_count=training_episode_count,\n",
    "    iteration_count=iteration_count,\n",
    "    epsilon=0.90,\n",
    "    epsilon_exponential_decay=5000,\n",
    "    epsilon_minimum=0.10,\n",
    "    verbosity=Verbosity.Quiet,\n",
    "    render=False,\n",
    "    plot_episodes_length=False,\n",
    "    title=\"Tarpit-60%\",\n",
    ")"
   ]
  },
  {
   "cell_type": "markdown",
   "id": "378bb4c1-9e1c-40cc-88d2-fadc582bca63",
   "metadata": {},
   "source": [
    "## Evaluation"
   ]
  },
  {
   "cell_type": "code",
   "execution_count": 11,
   "id": "6d0053a9-d824-441b-8ac9-633344bceed5",
   "metadata": {},
   "outputs": [
    {
     "data": {
      "image/png": "[encoded data removed]",
      "text/plain": [
       "<Figure size 1000x800 with 1 Axes>"
      ]
     },
     "metadata": {},
     "output_type": "display_data"
    }
   ],
   "source": [
    "#all_runs = [baseline_ctf_dql,tarpit20_ctf_dql,tarpit40_ctf_dql,tarpit60_ctf_dql]\n",
    "all_runs = [baseline_ctf_dql,tarpit60_ctf_dql]\n",
    "\n",
    "themodel = dqla.CyberBattleStateActionModel(ep)\n",
    "p.plot_averaged_cummulative_rewards(\n",
    "    all_runs=all_runs,\n",
    "    title=f\"ToyCTF-Environment with Tarpitting Agent\"\n",
    ")\n"
   ]
  },
  {
   "cell_type": "markdown",
   "id": "7d344ece-a8f9-4d9c-a357-e64e1d55520d",
   "metadata": {
    "jp-MarkdownHeadingCollapsed": true
   },
   "source": [
    "# 4. Environment - Chain+Tarpit"
   ]
  },
  {
   "cell_type": "code",
   "execution_count": null,
   "id": "b664a546-c2de-4adf-a66b-b45bca2a29f0",
   "metadata": {
    "scrolled": true
   },
   "outputs": [],
   "source": [
    "# Tarpit Agent\n",
    "# Chain Environment\n",
    "env = env_chain_tarpitting_20\n",
    "ep = w.EnvironmentBounds.of_identifiers(maximum_node_count=maximum_node_count, maximum_total_credentials=maximum_total_credentials, identifiers=env.identifiers)\n",
    "\n",
    "tarpit20_chain_dql = learner.epsilon_greedy_search(\n",
    "    cyberbattle_gym_env=env,\n",
    "    environment_properties=ep,\n",
    "    learner=dqla.DeepQLearnerPolicy(\n",
    "        ep=ep,\n",
    "        gamma=0.015,\n",
    "        replay_memory_size=10000,\n",
    "        target_update=10,\n",
    "        batch_size=512,\n",
    "        # torch default learning rate is 1e-2\n",
    "        # a large value helps converge in less episodes\n",
    "        learning_rate=0.01,\n",
    "    ),\n",
    "    episode_count=training_episode_count,\n",
    "    iteration_count=iteration_count,\n",
    "    epsilon=0.90,\n",
    "    epsilon_exponential_decay=5000,\n",
    "    epsilon_minimum=0.10,\n",
    "    verbosity=Verbosity.Quiet,\n",
    "    render=False,\n",
    "    plot_episodes_length=False,\n",
    "    title=\"Tarpit-20%\",\n",
    ")"
   ]
  },
  {
   "cell_type": "code",
   "execution_count": null,
   "id": "9f668c4b-ca42-494e-b4fa-3d30d0ecdf3a",
   "metadata": {
    "scrolled": true
   },
   "outputs": [],
   "source": [
    "# Tarpit Agent\n",
    "# Chain Environment\n",
    "env = env_chain_tarpitting_40\n",
    "ep = w.EnvironmentBounds.of_identifiers(maximum_node_count=maximum_node_count, maximum_total_credentials=maximum_total_credentials, identifiers=env.identifiers)\n",
    "\n",
    "tarpit40_chain_dql = learner.epsilon_greedy_search(\n",
    "    cyberbattle_gym_env=env,\n",
    "    environment_properties=ep,\n",
    "    learner=dqla.DeepQLearnerPolicy(\n",
    "        ep=ep,\n",
    "        gamma=0.015,\n",
    "        replay_memory_size=10000,\n",
    "        target_update=10,\n",
    "        batch_size=512,\n",
    "        # torch default learning rate is 1e-2\n",
    "        # a large value helps converge in less episodes\n",
    "        learning_rate=0.01,\n",
    "    ),\n",
    "    episode_count=training_episode_count,\n",
    "    iteration_count=iteration_count,\n",
    "    epsilon=0.90,\n",
    "    epsilon_exponential_decay=5000,\n",
    "    epsilon_minimum=0.10,\n",
    "    verbosity=Verbosity.Quiet,\n",
    "    render=False,\n",
    "    plot_episodes_length=False,\n",
    "    title=\"Tarpit-40%\",\n",
    ")"
   ]
  },
  {
   "cell_type": "code",
   "execution_count": null,
   "id": "d673b828-763b-4cf2-a5ce-8acbac34cce8",
   "metadata": {
    "scrolled": true
   },
   "outputs": [],
   "source": [
    "# Tarpit Agent\n",
    "# Chain Environment\n",
    "env = env_chain_tarpitting_60\n",
    "ep = w.EnvironmentBounds.of_identifiers(maximum_node_count=maximum_node_count, maximum_total_credentials=maximum_total_credentials, identifiers=env.identifiers)\n",
    "\n",
    "tarpit60_chain_dql = learner.epsilon_greedy_search(\n",
    "    cyberbattle_gym_env=env,\n",
    "    environment_properties=ep,\n",
    "    learner=dqla.DeepQLearnerPolicy(\n",
    "        ep=ep,\n",
    "        gamma=0.015,\n",
    "        replay_memory_size=10000,\n",
    "        target_update=10,\n",
    "        batch_size=512,\n",
    "        # torch default learning rate is 1e-2\n",
    "        # a large value helps converge in less episodes\n",
    "        learning_rate=0.01,\n",
    "    ),\n",
    "    episode_count=training_episode_count,\n",
    "    iteration_count=iteration_count,\n",
    "    epsilon=0.90,\n",
    "    epsilon_exponential_decay=5000,\n",
    "    epsilon_minimum=0.10,\n",
    "    verbosity=Verbosity.Quiet,\n",
    "    render=False,\n",
    "    plot_episodes_length=False,\n",
    "    title=\"Tarpit-60%\",\n",
    ")"
   ]
  },
  {
   "cell_type": "code",
   "execution_count": null,
   "id": "f35076d5-3e2e-4ab8-9e4c-8b8556170d48",
   "metadata": {},
   "outputs": [],
   "source": [
    "all_runs = [baseline_chain_dql,tarpit20_chain_dql, tarpit40_chain_dql,tarpit60_chain_dql]\n",
    "\n",
    "themodel = dqla.CyberBattleStateActionModel(ep)\n",
    "p.plot_averaged_cummulative_rewards(\n",
    "    all_runs=all_runs,\n",
    "    title=f\"Chain-Environment with Tarpitting Agent\"\n",
    ")\n",
    "\n"
   ]
  },
  {
   "cell_type": "code",
   "execution_count": null,
   "id": "73f32f1b-7722-4781-8896-296650828682",
   "metadata": {},
   "outputs": [],
   "source": []
  }
 ],
 "metadata": {
  "kernelspec": {
   "display_name": "Python 3 (ipykernel)",
   "language": "python",
   "name": "python3"
  },
  "language_info": {
   "codemirror_mode": {
    "name": "ipython",
    "version": 3
   },
   "file_extension": ".py",
   "mimetype": "text/x-python",
   "name": "python",
   "nbconvert_exporter": "python",
   "pygments_lexer": "ipython3",
   "version": "3.9.21"
  }
 },
 "nbformat": 4,
 "nbformat_minor": 5
}
